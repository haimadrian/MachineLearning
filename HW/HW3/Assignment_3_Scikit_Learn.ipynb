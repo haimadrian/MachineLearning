{
 "cells": [
  {
   "cell_type": "markdown",
   "metadata": {
    "deletable": false,
    "editable": false,
    "id": "bS_jjGoz0mSk",
    "nbgrader": {
     "cell_type": "markdown",
     "checksum": "723de1195d0c73953fb8deca7629a8a6",
     "grade": false,
     "grade_id": "cell-05103fdb36c70d48",
     "locked": true,
     "schema_version": 3,
     "solution": false,
     "task": false
    }
   },
   "source": [
    "<a id=\"home\"></a>\n",
    "#  Assignment 3 - Scikit Learn\n",
    "\n",
    "| Section | Section-name | points | \n",
    "| :- | :- |  :- | \n",
    "| (i) | [intro](#intro) | \n",
    "| (ii) | [Materials to review](#review_materials) | |\n",
    "| (iii) | [General instructions](#gen_instructions) | |\n",
    "| 1 |  [Import packages](#Imports) | |\n",
    "| 2 | [Student info](#student_info) | 0.5 |\n",
    "| 3 |  [Preprocessing](#preprocessing) | 14 | \n",
    "| 4 | [Model Implementation](#model_implement) | 3 |\n",
    "| 5 | [Model Evaluation](#evaluation) | 2 |\n",
    "| 6 | [Hyper-parameter-tuning](#gridsearch) | 5 |\n",
    "\n",
    "<hr>\n",
    "\n",
    "| Total | points | \n",
    "| :- | :- |  \n",
    "| Assignment Points | 15 |\n",
    "| Points in assignment | 25 |\n",
    "| Max Points you can get | 20 |"
   ]
  },
  {
   "cell_type": "markdown",
   "metadata": {
    "deletable": false,
    "editable": false,
    "nbgrader": {
     "cell_type": "markdown",
     "checksum": "4e99321d06fa9e1925fe07eca16f7448",
     "grade": false,
     "grade_id": "cell-0e2036bf12806e47",
     "locked": true,
     "schema_version": 3,
     "solution": false,
     "task": false
    }
   },
   "source": [
    "<a id=\"intro\"></a>\n",
    "### (i)  Intro\n",
    "This assignment has ... parts. Follow the instructions in each section.<br/>\n",
    "You have a lot of options to choose from, and to it is achievable.\n",
    "\n",
    "In the following assignment you will be implementing and tested on the methodologies, algorithms and Python modules you leaned on the last few classes.\n",
    "\n",
    "In this assignment you will: \n",
    "1. Handle, clean, de-duplicate, scale, handle missing values and pre-process data\n",
    "2. Implement, experiment, train and evaluate various classification machine-learning models\n",
    "3. Apply various techniques like: hyperparameters sweeping, K-fold Cross Validation, and more\n",
    "\n",
    "The assignment is seperated to sections, each section is annotated with the max points you can get, and each sub task is annotated with its max points. "
   ]
  },
  {
   "cell_type": "markdown",
   "metadata": {
    "deletable": false,
    "editable": false,
    "nbgrader": {
     "cell_type": "markdown",
     "checksum": "2cfc42ce3670dfeb2c45972eb3ea14de",
     "grade": false,
     "grade_id": "cell-9acd4fbb53ae7bac",
     "locked": true,
     "schema_version": 3,
     "solution": false,
     "task": false
    }
   },
   "source": [
    "[Go to the beginning of the assignment](#home)\n",
    "<a id=\"review_materials\"></a>\n",
    "### (ii) Materials to review for this assignment\n",
    "<h4>From Moodle:</h4> \n",
    "<h5><u>Review the notebooks regarding the following python topics</u>:</h5>\n",
    "<div class=\"alert alert-info\">\n",
    "&#x2714; <b>Data Cleansing</b> (tutorial 5 notebook)<br/>\n",
    "&#x2714; <b>sklearn (Scikit learn) part 1</b> (tutorial 6 notebook)<br/>\n",
    "&#x2714; <b>Feature Engineering, sklearn (Scikit learn) part 2</b> (tutorial 7 notebook)<br/>\n",
    "</div> \n",
    "<h5><u>Review the presentations regarding the following topics</u>:</h5>\n",
    "<div class=\"alert alert-info\">\n",
    "&#x2714; <b>(brief review) Statistical intro. and scaling</b> (lecture 2 presentation)<br/>\n",
    "&#x2714; <b>(brief review) The KNN algorithm</b> (lecture 2 presentation)<br/>\n",
    "&#x2714; <b>(brief review) Decision Trees (the ID3 algorithm)</b> (lecture 3 presentation)<br/>\n",
    "&#x2714; <b>(brief review) Naive Bayes and model evaluation</b> (lecture 4 and tutorial 4 presentations)<br/>\n",
    "&#x2714; <b>(brief review) Dive into machine learning flow</b> (lecture 5 and tutorial 5 presentations)<br/>\n",
    "&#x2714; <b>(brief review) Dimensionality Reduction</b> (lecture 7 (1st) presentation)<br/>\n",
    "&#x2714; <b>(optional brief review) Feature Engineering</b> (lecture 8 (2nd) presentation (1st part))<br/>\n",
    "</div>"
   ]
  },
  {
   "cell_type": "markdown",
   "metadata": {
    "deletable": false,
    "editable": false,
    "id": "_Qv0VC-64cD0",
    "nbgrader": {
     "cell_type": "markdown",
     "checksum": "286509f8f45c68199260e0161406a7f3",
     "grade": false,
     "grade_id": "cell-28a99db6b5b77221",
     "locked": true,
     "schema_version": 3,
     "solution": false,
     "task": false
    }
   },
   "source": [
    "[Go to the beginning of the assignment](#home)\n",
    "<a id=\"gen_instructions\"></a>\n",
    "### (iii) General assignment instructions\n",
    "#### General Notes:\n",
    "* There may be more than one different way to answer a question or complete an exercise. \n",
    "* Some skeleton code has been implemented for you.\n",
    "* Different tasks will be detailed by comments or text. \n",
    "  * Places make sure you put your own code after `# YOUR CODE HERE` \n",
    "  * Remove only `raise NotImplementedError()` exception (no other line).\n",
    "\n",
    "For further reference and resources, it's advised to check out the [Scikit-Learn documentation](https://scikit-learn.org/stable/user_guide.html).\n",
    "\n",
    "And if you get stuck, try searching for a question in the following format: <br/>\n",
    "\"how to do XYZ with Scikit-Learn\", where XYZ is the function you want to leverage from Scikit-Learn.\n",
    "\n",
    "Since we'll be working with data, we'll import Scikit-Learn's counterparts, NumPy and pandas.\n",
    "\n",
    "Good luck :-)<br/>\n",
    "Let's get started ... "
   ]
  },
  {
   "cell_type": "markdown",
   "metadata": {
    "deletable": false,
    "editable": false,
    "nbgrader": {
     "cell_type": "markdown",
     "checksum": "e13be065888168b0593f6b95cb9b9f68",
     "grade": false,
     "grade_id": "cell-cd085e1cb6fa821b",
     "locked": true,
     "schema_version": 3,
     "solution": false,
     "task": false
    }
   },
   "source": [
    "#### Working on the assignment, todo and not todo:\n",
    "<b><u>Todo</u></b>:<br />\n",
    "<div class=\"alert alert-success\">\n",
    "<ul>\n",
    "<li>&#x2714; Use <b> Jupyter Notebook </b>.</li>\n",
    "<li>&#x2714; <b> Work by yourself</b> and submit your own assignment, <b>no pairing</b> to other students</li>\n",
    "<li>&#x2714; Test and save your assignment - <b>submit the last tested and saved version</b></li>\n",
    "<li>&#x2714; Work on the <b>original notebook</b> of the assignment</li>\n",
    "<li>&#x2714; Run the code cells by their original order</li>\n",
    "<li>&#x2714; submit <b>only</b> the <b>notebook (Assignment_3_Scikit_Learn.ipynb)</b> file (no name changing)</li></ul>\n",
    "</div>\n",
    "<b><u>Not todo</u></b>:<br />\n",
    "<div class=\"alert alert-danger\">\n",
    "<ul>\n",
    "<li>&#x2718; <b>do NOT use Google Colaboratory</b></li>\n",
    "<li>&#x2718; do <b>NOT</b> submit an <b>empty assignment</b></li>\n",
    "<li>&#x2718; do <b>NOT submit extra files</b>, <u>unless you're asked to do so</u></li>\n",
    "<li>&#x2718; <b>Do NOT submit a .py/.txt/.rar/.zip (or any non (.ipynb) file)</b> <u>version for the notebook</u> of the assignment</li>\n",
    "<li>&#x2718; <b>do NOT change</b> the notebook file name</li>\n",
    "</ul>\n",
    "</div>"
   ]
  },
  {
   "cell_type": "markdown",
   "metadata": {
    "deletable": false,
    "editable": false,
    "id": "1DTBB9-ZFfPa",
    "nbgrader": {
     "cell_type": "markdown",
     "checksum": "c80ad4629bb0fda593614603b3a41874",
     "grade": false,
     "grade_id": "cell-53125b34f27a7493",
     "locked": true,
     "schema_version": 3,
     "solution": false,
     "task": false
    }
   },
   "source": [
    "<b>Your implementations are performed in the 'Answer code cell's as following</b>:<br/>\n",
    "<div class=\"alert alert-success\">\n",
    "&#x2714; Your code starts one line after the '<code># YOUR CODE HERE</code>' remark<br/>\n",
    "&#x2714; Implemented code<br/>\n",
    "&#x2714; returned expected value<br/><br/>\n",
    "<b><u>Your code should look like this</u><b>:</div>\n",
    "<code># 5. function_name (your solution)\n",
    "# ====>>> YOUR ACTIONS: IMPLEMENT & RUN \n",
    "\n",
    "def method_to_implement():\n",
    "    # YOUR CODE HERE\n",
    "    your implemented code ...\n",
    "</code>"
   ]
  },
  {
   "cell_type": "markdown",
   "metadata": {
    "deletable": false,
    "editable": false,
    "id": "Z0bpFCUsFfcW",
    "nbgrader": {
     "cell_type": "markdown",
     "checksum": "9ac25e36a2c332c1a86c3e9c0e5e3db8",
     "grade": false,
     "grade_id": "cell-99f48de2579ab432",
     "locked": true,
     "schema_version": 3,
     "solution": false,
     "task": false
    }
   },
   "source": [
    "[Go to the beginning of the assignment](#home)\n",
    "<a id=\"Imports\"></a>\n",
    "### 1. import modules (packages)\n",
    "This step is necessary in order to use external modules (packages). <br/>\n",
    "<div class=\"alert alert-success\">\n",
    "&#x2714; Any module or package imported in the following code cell are permitted\n",
    "</div>\n",
    "<div class=\"alert alert-danger\">\n",
    "&#x2718; Any other modules or packages are ILLEGAL\n",
    "</div>\n",
    "\n",
    "##### 1. IMPORT MODULES - Run the following code cell:"
   ]
  },
  {
   "cell_type": "code",
   "execution_count": 224,
   "metadata": {
    "deletable": false,
    "editable": false,
    "id": "5101NCYt4vDz",
    "nbgrader": {
     "cell_type": "code",
     "checksum": "e7ee5b2c57cc76ffec03a5160df61b69",
     "grade": false,
     "grade_id": "run_import_packages",
     "locked": true,
     "schema_version": 3,
     "solution": false,
     "task": false
    }
   },
   "outputs": [],
   "source": [
    "# 1. IMPORT MODULES \n",
    "# ====>>> YOUR ACTIONS: RUN ONLY\n",
    "\n",
    "# DO NOT DELETE\n",
    "import sys                       # for testing use only\n",
    "import os                        # for testing use only\n",
    "from datetime import datetime    # for testing use only\n",
    "import random                    # for testing use only\n",
    "import hashlib                   # for testing use only\n",
    "import operator\n",
    "# --------------------------------------\n",
    "import math \n",
    "import statistics\n",
    "\n",
    "import pandas as pd\n",
    "import numpy as np\n",
    "np.random.seed(42)\n",
    "# --------------------------------------\n",
    "import sklearn\n",
    "from sklearn.preprocessing import MinMaxScaler\n",
    "from sklearn.model_selection import train_test_split, cross_val_score, GridSearchCV \n",
    "from sklearn.metrics import accuracy_score, f1_score, confusion_matrix\n",
    "from sklearn.tree import DecisionTreeClassifier\n",
    "from sklearn.naive_bayes import GaussianNB\n",
    "from sklearn.neighbors import KNeighborsClassifier\n",
    "# --------------------------------------\n",
    "from IPython.core.interactiveshell import InteractiveShell\n",
    "InteractiveShell.ast_node_interactivity = \"all\"\n",
    "pd.pandas.set_option('display.max_columns', None)\n",
    "pd.set_option('display.float_format', lambda x: '%.3f' % x)\n",
    "# --------------------------------------\n",
    "import warnings\n",
    "from sklearn.exceptions import ConvergenceWarning\n",
    "warnings.simplefilter(action='ignore', category=FutureWarning)\n",
    "warnings.simplefilter(\"ignore\", category=ConvergenceWarning)\n",
    "# --------------------------------------"
   ]
  },
  {
   "cell_type": "markdown",
   "metadata": {
    "deletable": false,
    "editable": false,
    "nbgrader": {
     "cell_type": "markdown",
     "checksum": "da644e03d5506c876418f731694df718",
     "grade": false,
     "grade_id": "cell-7a4dc775f66b1bde",
     "locked": true,
     "schema_version": 3,
     "solution": false,
     "task": false
    }
   },
   "source": [
    "[Go to the beginning of the assignment](#home)\n",
    "<a id=\"student_info\"></a>\n",
    "### 2. Student information\n",
    "##### methods to implement:\n",
    "* my_name\n",
    "* my_id"
   ]
  },
  {
   "cell_type": "markdown",
   "metadata": {
    "deletable": false,
    "editable": false,
    "id": "ywdmpphrFwrV",
    "nbgrader": {
     "cell_type": "markdown",
     "checksum": "2f7323db152974953752b3666840d85f",
     "grade": false,
     "grade_id": "cell-621efb1dce6c207d",
     "locked": true,
     "schema_version": 3,
     "solution": false,
     "task": false
    }
   },
   "source": [
    "#### 2.a. Function: my_name\n",
    "<a id=\"myName\"></a>\n",
    "Implement the function to return your full name (as a string), for example:<br/>\n",
    "<code>    return 'John Smith'</code>\n",
    "##### Implement and Run the following code cell:"
   ]
  },
  {
   "cell_type": "code",
   "execution_count": 225,
   "metadata": {
    "deletable": false,
    "id": "xyb89QPFF9uT",
    "nbgrader": {
     "cell_type": "code",
     "checksum": "ba388a0260ca1794f6f8063464d76354",
     "grade": false,
     "grade_id": "solution2a-my_name",
     "locked": false,
     "schema_version": 3,
     "solution": true,
     "task": false
    }
   },
   "outputs": [],
   "source": [
    "# 2.a. my_name (your solution)\n",
    "# ====>>> YOUR ACTIONS: IMPLEMENT & RUN \n",
    "\n",
    "def my_name():\n",
    "    # YOUR CODE HERE\n",
    "    return 'Haim Adrian'"
   ]
  },
  {
   "cell_type": "markdown",
   "metadata": {
    "deletable": false,
    "editable": false,
    "nbgrader": {
     "cell_type": "markdown",
     "checksum": "421645c085f705510cb80886fd3c6232",
     "grade": false,
     "grade_id": "cell-be305415d74d8bf7",
     "locked": true,
     "schema_version": 3,
     "solution": false,
     "task": false
    }
   },
   "source": [
    "##### 2.a.  my_name - OPTIONAL SELF TEST -  Implement and Run the following code cell (IF NEEDED):"
   ]
  },
  {
   "cell_type": "code",
   "execution_count": 226,
   "metadata": {
    "deletable": false,
    "id": "lTwELc_0GAsD",
    "nbgrader": {
     "cell_type": "code",
     "checksum": "9c776a260336e36ceebdd732b59489ff",
     "grade": false,
     "grade_id": "self_test2a-my_name",
     "locked": false,
     "schema_version": 3,
     "solution": true,
     "task": false
    }
   },
   "outputs": [
    {
     "name": "stdout",
     "output_type": "stream",
     "text": [
      "Haim Adrian\n"
     ]
    }
   ],
   "source": [
    "# 2.a. my_name (optional self testing)\n",
    "# ====>>> YOUR ACTIONS: (optional) IMPLEMENT & RUN \n",
    "\n",
    "student_name = my_name()\n",
    "print(student_name)\n",
    "# --- add additional code to check your code if needed:\n",
    "# YOUR CODE HERE\n",
    "\n"
   ]
  },
  {
   "cell_type": "markdown",
   "metadata": {
    "deletable": false,
    "editable": false,
    "id": "0iNcCThYGEH-",
    "nbgrader": {
     "cell_type": "markdown",
     "checksum": "606bb4c3b031ad49c4ac7da7ac5d76fd",
     "grade": false,
     "grade_id": "cell-e0597a0cbcf72c55",
     "locked": true,
     "schema_version": 3,
     "solution": false,
     "task": false
    }
   },
   "source": [
    "#### 2.b. Function: my_id\n",
    "<a id=\"myName\"></a>\n",
    "Implement the function to return your ID number (as an integer number).<br/>\n",
    "Note: the **id number should be equal to the one in Moodle**, for example:<br/>\n",
    "<code>    return 132468579</code>\n",
    "##### Implement and Run the following code cell:"
   ]
  },
  {
   "cell_type": "code",
   "execution_count": 227,
   "metadata": {
    "deletable": false,
    "id": "4Nwi1CiSGHBx",
    "nbgrader": {
     "cell_type": "code",
     "checksum": "0a38288ac17882ef161105b5fec131e3",
     "grade": false,
     "grade_id": "solution2b-my_id",
     "locked": false,
     "schema_version": 3,
     "solution": true,
     "task": false
    }
   },
   "outputs": [],
   "source": [
    "# 2.b. my_id (your solution)\n",
    "# ====>>> YOUR ACTIONS: IMPLEMENT & RUN \n",
    "\n",
    "def my_id():\n",
    "    # YOUR CODE HERE\n",
    "    return 123456789"
   ]
  },
  {
   "cell_type": "markdown",
   "metadata": {
    "deletable": false,
    "editable": false,
    "nbgrader": {
     "cell_type": "markdown",
     "checksum": "4cd24353cc86a575198ba46c0e500774",
     "grade": false,
     "grade_id": "cell-87df396df9ba6bae",
     "locked": true,
     "schema_version": 3,
     "solution": false,
     "task": false
    }
   },
   "source": [
    "##### 2.b. my_id - OPTIONAL SELF TEST - Implement & Run the following code cell (IF NEEDED):"
   ]
  },
  {
   "cell_type": "code",
   "execution_count": 228,
   "metadata": {
    "deletable": false,
    "id": "Fm-kbP8sGJ9-",
    "nbgrader": {
     "cell_type": "code",
     "checksum": "08b9cf8dfe9ea95a8f95e86e6c30b7d7",
     "grade": false,
     "grade_id": "self_test2b-my_id",
     "locked": false,
     "schema_version": 3,
     "solution": true,
     "task": false
    }
   },
   "outputs": [
    {
     "name": "stdout",
     "output_type": "stream",
     "text": [
      "123456789\n"
     ]
    }
   ],
   "source": [
    "# 2.b. my_id (optional self testing)\n",
    "# ====>>> YOUR ACTIONS: (optional) IMPLEMENT & RUN \n",
    "\n",
    "student_id = my_id()\n",
    "print(student_id)\n",
    "# --- add additional code to check your code if needed:\n",
    "# YOUR CODE HERE\n",
    "\n"
   ]
  },
  {
   "cell_type": "markdown",
   "metadata": {
    "deletable": false,
    "editable": false,
    "nbgrader": {
     "cell_type": "markdown",
     "checksum": "9c5619908f20770f75db99fbe8e4363d",
     "grade": false,
     "grade_id": "cell-75eca5a84829e0e5",
     "locked": true,
     "schema_version": 3,
     "solution": false,
     "task": false
    }
   },
   "source": [
    "##### 2.b.  my_id - OPTIONAL SELF TEST -  Implement and Run the following code cell (IF NEEDED):"
   ]
  },
  {
   "cell_type": "code",
   "execution_count": 229,
   "metadata": {
    "colab": {
     "base_uri": "https://localhost:8080/",
     "height": 264
    },
    "deletable": false,
    "editable": false,
    "id": "C9EqAvpLGMkV",
    "nbgrader": {
     "cell_type": "code",
     "checksum": "168027006417d488dd33e26c38432f86",
     "grade": true,
     "grade_id": "test2-1_student_info",
     "locked": true,
     "points": 0.5,
     "schema_version": 3,
     "solution": false,
     "task": false
    },
    "outputId": "a8e3cb50-93d1-406d-f83f-122741f3754c"
   },
   "outputs": [
    {
     "name": "stdout",
     "output_type": "stream",
     "text": [
      "2. 'my_name' and 'my_id' - Test 1 (name: test2-1_student_info, points: 0.5)\n",
      "\n",
      "Good Job!\n",
      "You've passed the test for the implementation of 'my_name' and 'my_id'  :-)\n",
      "\n",
      "Output dataframe:\n",
      "-----------------\n"
     ]
    },
    {
     "data": {
      "text/html": [
       "<div>\n",
       "<style scoped>\n",
       "    .dataframe tbody tr th:only-of-type {\n",
       "        vertical-align: middle;\n",
       "    }\n",
       "\n",
       "    .dataframe tbody tr th {\n",
       "        vertical-align: top;\n",
       "    }\n",
       "\n",
       "    .dataframe thead th {\n",
       "        text-align: right;\n",
       "    }\n",
       "</style>\n",
       "<table border=\"1\" class=\"dataframe\">\n",
       "  <thead>\n",
       "    <tr style=\"text-align: right;\">\n",
       "      <th></th>\n",
       "      <th>value</th>\n",
       "      <th>type</th>\n",
       "      <th>date_time</th>\n",
       "    </tr>\n",
       "  </thead>\n",
       "  <tbody>\n",
       "    <tr>\n",
       "      <th>student_name</th>\n",
       "      <td>Haim Adrian</td>\n",
       "      <td>&lt;class 'str'&gt;</td>\n",
       "      <td>2021-12-13 01:39:15</td>\n",
       "    </tr>\n",
       "    <tr>\n",
       "      <th>student_id</th>\n",
       "      <td>123456789</td>\n",
       "      <td>&lt;class 'int'&gt;</td>\n",
       "      <td>2021-12-13 01:39:15</td>\n",
       "    </tr>\n",
       "  </tbody>\n",
       "</table>\n",
       "</div>"
      ],
      "text/plain": [
       "                    value           type            date_time\n",
       "student_name  Haim Adrian  <class 'str'>  2021-12-13 01:39:15\n",
       "student_id      123456789  <class 'int'>  2021-12-13 01:39:15"
      ]
     },
     "execution_count": 229,
     "metadata": {},
     "output_type": "execute_result"
    }
   ],
   "source": [
    "# 2. my_name, my_id (graded test)\n",
    "# ====>>> YOUR ACTIONS: RUN ONLY\n",
    "\n",
    "print (\"2. 'my_name' and 'my_id' - Test 1 (name: test2-1_student_info, points: 0.5)\")\n",
    "\n",
    "# dataframe for output:\n",
    "dt1 = datetime.now()\n",
    "try:\n",
    "    student_name, student_id = my_name(), my_id()\n",
    "except Exception as e:\n",
    "    print ('You probably have a syntax or implementation error,  \\nerror Message:',str(e), '\\nTry fixing your code')\n",
    "    raise\n",
    "\n",
    "assert type(student_name) is str or type(student_id) is int, \"name is not a string or id is not an integer\"\n",
    "\n",
    "s_datetime =  [dt1.strftime('%Y-%m-%d %H:%M:%S'), datetime.now().strftime('%Y-%m-%d %H:%M:%S')]\n",
    "df_output = pd.DataFrame({'value': [student_name, student_id], 'type': [type(student_name), type(student_id)], 'date_time': s_datetime},index=['student_name','student_id'])\n",
    "\n",
    "print (\"\\nGood Job!\\nYou've passed the test for the implementation of 'my_name' and 'my_id'  :-)\")\n",
    "\n",
    "print ('\\nOutput dataframe:')\n",
    "print ('-----------------')\n",
    "df_output"
   ]
  },
  {
   "cell_type": "markdown",
   "metadata": {
    "deletable": false,
    "editable": false,
    "nbgrader": {
     "cell_type": "markdown",
     "checksum": "81b2e82cf05f751eeb94558e12a1dfa0",
     "grade": false,
     "grade_id": "cell-23e7ccafa1d97180",
     "locked": true,
     "schema_version": 3,
     "solution": false,
     "task": false
    }
   },
   "source": [
    "[Go to the beginning of the assignment](#home)\n",
    "<a id=\"preprocessing\"></a>\n",
    "### 3. Preprocessing\n",
    "\n",
    "#### **14 points **\n",
    "\n",
    "In this section, you will implement various pre-processing techniques on the \"Loan Risk Factor\" dataset.<br/>\n",
    "<b><u>It will include the following</u></b>:\n",
    "* 3.pre About Dataset - (review only - description of the dataset)\n",
    "* 3.a. Load dataset                 (run only)\n",
    "* 3.b. Duplicate removal            (1 point)\n",
    "* 3.c. Decouple Dataset             (1 point)\n",
    "* 3.d. Train Test Split             (1 point)\n",
    "* 3.e. Missing Values Handling      (2 points)\n",
    "* 3.f. Outlier Removal              (2 points)\n",
    "* 3.g. Scaling                      (2 points)\n",
    "* 3.h. Check Correlation            (2.5 points)\n",
    "* 3.i. Categorical Columns Handling (2.5 points)"
   ]
  },
  {
   "cell_type": "markdown",
   "metadata": {
    "deletable": false,
    "editable": false,
    "id": "YtQpeBJK5c9R",
    "nbgrader": {
     "cell_type": "markdown",
     "checksum": "5b52978b06f2ec1343f5c713685b7ce8",
     "grade": false,
     "grade_id": "cell-0c404e074cb0654a",
     "locked": true,
     "schema_version": 3,
     "solution": false,
     "task": false
    }
   },
   "source": [
    "#### 3.pre. About Dataset\n",
    "In this section of the assignment you will get familiar with a dataset named \"Loan Risk Factor\" documenting banks' clients asking for a loan.<br/>\n",
    "Each row in the dataset represents a person who takes a credit by a bank.<br/>\n",
    "Each person is classified as **good** or **bad** credit risks according to the following set of attributes:    \n",
    "1. **age** (numeric)\n",
    "2. **sex** (text: male, female)\n",
    "3. **job** (numeric: 0 - unskilled and non-resident, 1 - unskilled and resident, 2 - skilled, 3 - highly skilled)\n",
    "4. **housing** (text: own, rent, or free)\n",
    "5. **years** (numeric, in years)\n",
    "5. **saving_account** (text - little, moderate, quite rich, rich)\n",
    "6. **checking_account** (numeric, in DM - Deutsch Mark)\n",
    "7. **credit_amount** (numeric, in DM)\n",
    "8. **duration** (numeric, in month)\n",
    "9. **purpose** (text: car, furniture/equipment, radio/TV, domestic appliances, repairs, education, business, vacation/others)\n",
    "10. **risk** (target) - (0 - risk, 1 - no risk)"
   ]
  },
  {
   "cell_type": "markdown",
   "metadata": {
    "deletable": false,
    "editable": false,
    "id": "zJT3rnY_6rBz",
    "nbgrader": {
     "cell_type": "markdown",
     "checksum": "ecdf6ad41bb33ff7de73324c3ab111f1",
     "grade": false,
     "grade_id": "cell-350b5e428d404c64",
     "locked": true,
     "schema_version": 3,
     "solution": false,
     "task": false
    }
   },
   "source": [
    "##### 3.a. Load dataset - Run the following (2) code cells:"
   ]
  },
  {
   "cell_type": "code",
   "execution_count": 230,
   "metadata": {
    "colab": {
     "base_uri": "https://localhost:8080/",
     "height": 359
    },
    "deletable": false,
    "editable": false,
    "id": "tDlXUpjL8aCE",
    "nbgrader": {
     "cell_type": "code",
     "checksum": "6fbc67653468cd4ea50fe891bb99d2b5",
     "grade": false,
     "grade_id": "cell-c4125e909f712b1b",
     "locked": true,
     "schema_version": 3,
     "solution": false,
     "task": false
    },
    "outputId": "4f18bc52-ae17-40dd-d72f-bf87df938d72"
   },
   "outputs": [
    {
     "data": {
      "text/html": [
       "<div>\n",
       "<style scoped>\n",
       "    .dataframe tbody tr th:only-of-type {\n",
       "        vertical-align: middle;\n",
       "    }\n",
       "\n",
       "    .dataframe tbody tr th {\n",
       "        vertical-align: top;\n",
       "    }\n",
       "\n",
       "    .dataframe thead th {\n",
       "        text-align: right;\n",
       "    }\n",
       "</style>\n",
       "<table border=\"1\" class=\"dataframe\">\n",
       "  <thead>\n",
       "    <tr style=\"text-align: right;\">\n",
       "      <th></th>\n",
       "      <th>age</th>\n",
       "      <th>sex</th>\n",
       "      <th>job</th>\n",
       "      <th>housing</th>\n",
       "      <th>years</th>\n",
       "      <th>saving_account</th>\n",
       "      <th>checking_account</th>\n",
       "      <th>credit_amount</th>\n",
       "      <th>duration</th>\n",
       "      <th>purpose</th>\n",
       "      <th>risk</th>\n",
       "    </tr>\n",
       "  </thead>\n",
       "  <tbody>\n",
       "    <tr>\n",
       "      <th>0</th>\n",
       "      <td>26</td>\n",
       "      <td>male</td>\n",
       "      <td>2</td>\n",
       "      <td>own</td>\n",
       "      <td>1.000</td>\n",
       "      <td>little</td>\n",
       "      <td>rich</td>\n",
       "      <td>1330</td>\n",
       "      <td>12.000</td>\n",
       "      <td>car</td>\n",
       "      <td>1.000</td>\n",
       "    </tr>\n",
       "    <tr>\n",
       "      <th>1</th>\n",
       "      <td>43</td>\n",
       "      <td>male</td>\n",
       "      <td>2</td>\n",
       "      <td>own</td>\n",
       "      <td>2.000</td>\n",
       "      <td>NaN</td>\n",
       "      <td>NaN</td>\n",
       "      <td>2197</td>\n",
       "      <td>24.000</td>\n",
       "      <td>car</td>\n",
       "      <td>1.000</td>\n",
       "    </tr>\n",
       "    <tr>\n",
       "      <th>2</th>\n",
       "      <td>28</td>\n",
       "      <td>female</td>\n",
       "      <td>2</td>\n",
       "      <td>rent</td>\n",
       "      <td>1.250</td>\n",
       "      <td>little</td>\n",
       "      <td>little</td>\n",
       "      <td>1403</td>\n",
       "      <td>15.000</td>\n",
       "      <td>car</td>\n",
       "      <td>1.000</td>\n",
       "    </tr>\n",
       "    <tr>\n",
       "      <th>3</th>\n",
       "      <td>25</td>\n",
       "      <td>male</td>\n",
       "      <td>0</td>\n",
       "      <td>own</td>\n",
       "      <td>1.500</td>\n",
       "      <td>little</td>\n",
       "      <td>little</td>\n",
       "      <td>2473</td>\n",
       "      <td>18.000</td>\n",
       "      <td>furniture/equipment</td>\n",
       "      <td>0.000</td>\n",
       "    </tr>\n",
       "    <tr>\n",
       "      <th>4</th>\n",
       "      <td>29</td>\n",
       "      <td>male</td>\n",
       "      <td>2</td>\n",
       "      <td>rent</td>\n",
       "      <td>0.500</td>\n",
       "      <td>little</td>\n",
       "      <td>NaN</td>\n",
       "      <td>2108</td>\n",
       "      <td>6.000</td>\n",
       "      <td>radio/TV</td>\n",
       "      <td>NaN</td>\n",
       "    </tr>\n",
       "  </tbody>\n",
       "</table>\n",
       "</div>"
      ],
      "text/plain": [
       "   age     sex  job housing  years saving_account checking_account  \\\n",
       "0   26    male    2     own  1.000         little             rich   \n",
       "1   43    male    2     own  2.000            NaN              NaN   \n",
       "2   28  female    2    rent  1.250         little           little   \n",
       "3   25    male    0     own  1.500         little           little   \n",
       "4   29    male    2    rent  0.500         little              NaN   \n",
       "\n",
       "   credit_amount  duration              purpose  risk  \n",
       "0           1330    12.000                  car 1.000  \n",
       "1           2197    24.000                  car 1.000  \n",
       "2           1403    15.000                  car 1.000  \n",
       "3           2473    18.000  furniture/equipment 0.000  \n",
       "4           2108     6.000             radio/TV   NaN  "
      ]
     },
     "execution_count": 230,
     "metadata": {},
     "output_type": "execute_result"
    }
   ],
   "source": [
    "# 3.a. LOAD DATASET \n",
    "# ====>>> YOUR ACTIONS: RUN ONLY\n",
    "file_name_csv = '.' + os.sep + 'data' + os.sep + 'loans_risk_factor_dups.csv'\n",
    "load_csv = lambda file_name: pd.read_csv(file_name)\n",
    "risk_factor_df = load_csv(file_name_csv)\n",
    "risk_factor_df.head()"
   ]
  },
  {
   "cell_type": "markdown",
   "metadata": {
    "deletable": false,
    "editable": false,
    "id": "zwJqkz5d68th",
    "nbgrader": {
     "cell_type": "markdown",
     "checksum": "2ac71729c3a299ccb76e1ce30a8d62d7",
     "grade": false,
     "grade_id": "cell-6aaa28d70e6e073b",
     "locked": true,
     "schema_version": 3,
     "solution": false,
     "task": false
    }
   },
   "source": [
    "#### 3.b. Duplicate Removal - **1 Point**\n",
    "\n",
    "<u>method name</u>: <b>remove_duplicates</b><br/>\n",
    "\n",
    "<pre>\n",
    "Complete the following function to delete duplicated rows and return the dataframe after deletion.\n",
    "\n",
    "------------\n",
    "input parameters:\n",
    "- risk_factor_df - \"loan risk factor\" dataframe\n",
    "------------\n",
    "The return statement should look like the following:\n",
    "return risk_factor_df\n",
    "</pre>"
   ]
  },
  {
   "cell_type": "markdown",
   "metadata": {
    "deletable": false,
    "editable": false,
    "nbgrader": {
     "cell_type": "markdown",
     "checksum": "9d41beebbc2665cb78bf068b36574ec4",
     "grade": false,
     "grade_id": "cell-a6535e7e4df80014",
     "locked": true,
     "schema_version": 3,
     "solution": false,
     "task": false
    }
   },
   "source": [
    "#### 3.b. Duplicate Removal - Implement and Run the following code cell:"
   ]
  },
  {
   "cell_type": "code",
   "execution_count": 231,
   "metadata": {
    "deletable": false,
    "id": "YFC2ry818-yG",
    "nbgrader": {
     "cell_type": "code",
     "checksum": "489eb96145af40b09009e3933a599e57",
     "grade": false,
     "grade_id": "solution3b-remove_duplicates",
     "locked": false,
     "schema_version": 3,
     "solution": true,
     "task": false
    }
   },
   "outputs": [],
   "source": [
    "# 3.b. remove_duplicates (your solution)\n",
    "# ====>>> YOUR ACTIONS: IMPLEMENT & RUN\n",
    "\n",
    "def remove_duplicates(risk_factor_df):\n",
    "    # YOUR CODE HERE\n",
    "    return risk_factor_df.drop_duplicates()"
   ]
  },
  {
   "cell_type": "markdown",
   "metadata": {
    "deletable": false,
    "editable": false,
    "nbgrader": {
     "cell_type": "markdown",
     "checksum": "e04a3e070ab942dd8672d5d5f95600a5",
     "grade": false,
     "grade_id": "cell-f43ef656eb27b06f",
     "locked": true,
     "schema_version": 3,
     "solution": false,
     "task": false
    }
   },
   "source": [
    "##### 3.b. remove_duplicates - OPTIONAL SELF TEST - Implement & Run the following code cell (IF NEEDED):"
   ]
  },
  {
   "cell_type": "code",
   "execution_count": 233,
   "metadata": {
    "deletable": false,
    "nbgrader": {
     "cell_type": "code",
     "checksum": "3b33732ff27017914676617d0eaa83fc",
     "grade": false,
     "grade_id": "self_test3b-remove_duplicates",
     "locked": false,
     "schema_version": 3,
     "solution": true,
     "task": false
    }
   },
   "outputs": [
    {
     "data": {
      "text/html": [
       "<div>\n",
       "<style scoped>\n",
       "    .dataframe tbody tr th:only-of-type {\n",
       "        vertical-align: middle;\n",
       "    }\n",
       "\n",
       "    .dataframe tbody tr th {\n",
       "        vertical-align: top;\n",
       "    }\n",
       "\n",
       "    .dataframe thead th {\n",
       "        text-align: right;\n",
       "    }\n",
       "</style>\n",
       "<table border=\"1\" class=\"dataframe\">\n",
       "  <thead>\n",
       "    <tr style=\"text-align: right;\">\n",
       "      <th></th>\n",
       "      <th>age</th>\n",
       "      <th>sex</th>\n",
       "      <th>job</th>\n",
       "      <th>housing</th>\n",
       "      <th>years</th>\n",
       "      <th>saving_account</th>\n",
       "      <th>checking_account</th>\n",
       "      <th>credit_amount</th>\n",
       "      <th>duration</th>\n",
       "      <th>purpose</th>\n",
       "      <th>risk</th>\n",
       "    </tr>\n",
       "  </thead>\n",
       "  <tbody>\n",
       "    <tr>\n",
       "      <th>0</th>\n",
       "      <td>26</td>\n",
       "      <td>male</td>\n",
       "      <td>2</td>\n",
       "      <td>own</td>\n",
       "      <td>1.000</td>\n",
       "      <td>little</td>\n",
       "      <td>rich</td>\n",
       "      <td>1330</td>\n",
       "      <td>12.000</td>\n",
       "      <td>car</td>\n",
       "      <td>1.000</td>\n",
       "    </tr>\n",
       "    <tr>\n",
       "      <th>1</th>\n",
       "      <td>43</td>\n",
       "      <td>male</td>\n",
       "      <td>2</td>\n",
       "      <td>own</td>\n",
       "      <td>2.000</td>\n",
       "      <td>NaN</td>\n",
       "      <td>NaN</td>\n",
       "      <td>2197</td>\n",
       "      <td>24.000</td>\n",
       "      <td>car</td>\n",
       "      <td>1.000</td>\n",
       "    </tr>\n",
       "    <tr>\n",
       "      <th>2</th>\n",
       "      <td>28</td>\n",
       "      <td>female</td>\n",
       "      <td>2</td>\n",
       "      <td>rent</td>\n",
       "      <td>1.250</td>\n",
       "      <td>little</td>\n",
       "      <td>little</td>\n",
       "      <td>1403</td>\n",
       "      <td>15.000</td>\n",
       "      <td>car</td>\n",
       "      <td>1.000</td>\n",
       "    </tr>\n",
       "    <tr>\n",
       "      <th>3</th>\n",
       "      <td>25</td>\n",
       "      <td>male</td>\n",
       "      <td>0</td>\n",
       "      <td>own</td>\n",
       "      <td>1.500</td>\n",
       "      <td>little</td>\n",
       "      <td>little</td>\n",
       "      <td>2473</td>\n",
       "      <td>18.000</td>\n",
       "      <td>furniture/equipment</td>\n",
       "      <td>0.000</td>\n",
       "    </tr>\n",
       "    <tr>\n",
       "      <th>4</th>\n",
       "      <td>29</td>\n",
       "      <td>male</td>\n",
       "      <td>2</td>\n",
       "      <td>rent</td>\n",
       "      <td>0.500</td>\n",
       "      <td>little</td>\n",
       "      <td>NaN</td>\n",
       "      <td>2108</td>\n",
       "      <td>6.000</td>\n",
       "      <td>radio/TV</td>\n",
       "      <td>NaN</td>\n",
       "    </tr>\n",
       "  </tbody>\n",
       "</table>\n",
       "</div>"
      ],
      "text/plain": [
       "   age     sex  job housing  years saving_account checking_account  \\\n",
       "0   26    male    2     own  1.000         little             rich   \n",
       "1   43    male    2     own  2.000            NaN              NaN   \n",
       "2   28  female    2    rent  1.250         little           little   \n",
       "3   25    male    0     own  1.500         little           little   \n",
       "4   29    male    2    rent  0.500         little              NaN   \n",
       "\n",
       "   credit_amount  duration              purpose  risk  \n",
       "0           1330    12.000                  car 1.000  \n",
       "1           2197    24.000                  car 1.000  \n",
       "2           1403    15.000                  car 1.000  \n",
       "3           2473    18.000  furniture/equipment 0.000  \n",
       "4           2108     6.000             radio/TV   NaN  "
      ]
     },
     "execution_count": 233,
     "metadata": {},
     "output_type": "execute_result"
    },
    {
     "name": "stdout",
     "output_type": "stream",
     "text": [
      "Before remove: (1590, 11)\n",
      "After remove: (551, 11)\n"
     ]
    }
   ],
   "source": [
    "# 3.b. remove_duplicates (optional self testing)\n",
    "# ====>>> YOUR ACTIONS: (optional) IMPLEMENT & RUN \n",
    "file_name_csv = '.' + os.sep + 'data' + os.sep + 'loans_risk_factor_dups.csv'\n",
    "risk_factor_df = load_csv(file_name_csv)\n",
    "risk_factor_df_no_dups = remove_duplicates(risk_factor_df)\n",
    "risk_factor_df_no_dups.head()\n",
    "# --- add additional code to check your code if needed:\n",
    "# YOUR CODE HERE\n",
    "print('Before remove:', risk_factor_df.shape)\n",
    "print('After remove:', risk_factor_df_no_dups.shape)\n"
   ]
  },
  {
   "cell_type": "markdown",
   "metadata": {
    "deletable": false,
    "editable": false,
    "nbgrader": {
     "cell_type": "markdown",
     "checksum": "bd2fa06c3a3068456c77f5b7ff1369ef",
     "grade": false,
     "grade_id": "cell-488084cc905328f7",
     "locked": true,
     "schema_version": 3,
     "solution": false,
     "task": false
    }
   },
   "source": [
    "##### 3.b. remove_duplicates - GRADED TESTS - Run the following (2) code cells:"
   ]
  },
  {
   "cell_type": "code",
   "execution_count": 234,
   "metadata": {
    "deletable": false,
    "editable": false,
    "nbgrader": {
     "cell_type": "code",
     "checksum": "1bc3707bc6bbe3f43896660100733ec0",
     "grade": true,
     "grade_id": "test3b_1-remove_duplicates",
     "locked": true,
     "points": 0.1,
     "schema_version": 3,
     "solution": false,
     "task": false
    }
   },
   "outputs": [
    {
     "name": "stdout",
     "output_type": "stream",
     "text": [
      "3.b.'remove_duplicates' - Test 1 (name: test3b_1-remove_duplicates, points: 0.1) - Sanity\n"
     ]
    },
    {
     "data": {
      "text/html": [
       "<div>\n",
       "<style scoped>\n",
       "    .dataframe tbody tr th:only-of-type {\n",
       "        vertical-align: middle;\n",
       "    }\n",
       "\n",
       "    .dataframe tbody tr th {\n",
       "        vertical-align: top;\n",
       "    }\n",
       "\n",
       "    .dataframe thead th {\n",
       "        text-align: right;\n",
       "    }\n",
       "</style>\n",
       "<table border=\"1\" class=\"dataframe\">\n",
       "  <thead>\n",
       "    <tr style=\"text-align: right;\">\n",
       "      <th></th>\n",
       "      <th>age</th>\n",
       "      <th>sex</th>\n",
       "      <th>job</th>\n",
       "      <th>housing</th>\n",
       "      <th>years</th>\n",
       "      <th>saving_account</th>\n",
       "      <th>checking_account</th>\n",
       "      <th>credit_amount</th>\n",
       "      <th>duration</th>\n",
       "      <th>purpose</th>\n",
       "      <th>risk</th>\n",
       "    </tr>\n",
       "  </thead>\n",
       "  <tbody>\n",
       "    <tr>\n",
       "      <th>0</th>\n",
       "      <td>26</td>\n",
       "      <td>male</td>\n",
       "      <td>2</td>\n",
       "      <td>own</td>\n",
       "      <td>1.000</td>\n",
       "      <td>little</td>\n",
       "      <td>rich</td>\n",
       "      <td>1330</td>\n",
       "      <td>12.000</td>\n",
       "      <td>car</td>\n",
       "      <td>1.000</td>\n",
       "    </tr>\n",
       "    <tr>\n",
       "      <th>1</th>\n",
       "      <td>43</td>\n",
       "      <td>male</td>\n",
       "      <td>2</td>\n",
       "      <td>own</td>\n",
       "      <td>2.000</td>\n",
       "      <td>NaN</td>\n",
       "      <td>NaN</td>\n",
       "      <td>2197</td>\n",
       "      <td>24.000</td>\n",
       "      <td>car</td>\n",
       "      <td>1.000</td>\n",
       "    </tr>\n",
       "  </tbody>\n",
       "</table>\n",
       "</div>"
      ],
      "text/plain": [
       "   age   sex  job housing  years saving_account checking_account  \\\n",
       "0   26  male    2     own  1.000         little             rich   \n",
       "1   43  male    2     own  2.000            NaN              NaN   \n",
       "\n",
       "   credit_amount  duration purpose  risk  \n",
       "0           1330    12.000     car 1.000  \n",
       "1           2197    24.000     car 1.000  "
      ]
     },
     "execution_count": 234,
     "metadata": {},
     "output_type": "execute_result"
    },
    {
     "name": "stdout",
     "output_type": "stream",
     "text": [
      "Good Job!\n",
      "You've passed the 1st test for the 'remove_duplicates' function implementation :-)\n"
     ]
    }
   ],
   "source": [
    "# 3.b. remove_duplicates (graded test)\n",
    "# ====>>> YOUR ACTIONS: RUN ONLY\n",
    "\n",
    "print (\"3.b.'remove_duplicates' - Test 1 (name: test3b_1-remove_duplicates, points: 0.1) - Sanity\")\n",
    "\n",
    "file_name_csv = '.' + os.sep + 'data' + os.sep + 'loans_risk_factor_dups.csv'\n",
    "risk_factor_df = load_csv(file_name_csv)\n",
    "\n",
    "try:\n",
    "    risk_factor_df_no_dups = remove_duplicates(risk_factor_df)\n",
    "    risk_factor_df_no_dups.head(2)\n",
    "except Exception as e:\n",
    "    print ('You probably have a syntax or implementation error,  \\nerror Message:',str(e), '\\nTry fixing your code')\n",
    "    raise\n",
    "    \n",
    "print (\"Good Job!\\nYou've passed the 1st test for the 'remove_duplicates' function implementation :-)\")    "
   ]
  },
  {
   "cell_type": "code",
   "execution_count": 235,
   "metadata": {
    "deletable": false,
    "editable": false,
    "nbgrader": {
     "cell_type": "code",
     "checksum": "52850c128eb279a1b15395a363b9b73f",
     "grade": true,
     "grade_id": "test3b_2-remove_duplicates",
     "locked": true,
     "points": 0.4,
     "schema_version": 3,
     "solution": false,
     "task": false
    }
   },
   "outputs": [
    {
     "name": "stdout",
     "output_type": "stream",
     "text": [
      "3.b.'remove_duplicates' - Test 2 (name: test3b_2-remove_duplicates, points: 0.4)\n",
      "Good Job!\n",
      "You've passed the 2nd test for the 'remove_duplicates' function implementation :-)\n"
     ]
    }
   ],
   "source": [
    "# 3.b. remove_duplicates (graded test)\n",
    "# ====>>> YOUR ACTIONS: RUN ONLY\n",
    "\n",
    "print (\"3.b.'remove_duplicates' - Test 2 (name: test3b_2-remove_duplicates, points: 0.4)\")\n",
    "\n",
    "file_name_csv = '.' + os.sep + 'data' + os.sep + 'loans_risk_factor_dups.csv'\n",
    "risk_factor_df = load_csv(file_name_csv)\n",
    "\n",
    "try:    \n",
    "    risk_factor_df_no_dups = remove_duplicates(risk_factor_df)\n",
    "except Exception as e:\n",
    "    print ('You probably have a syntax or implementation error,  \\nerror Message:',str(e), '\\nTry fixing your code')\n",
    "    raise\n",
    "\n",
    "assert (551, 11) == risk_factor_df_no_dups.shape, \"Wrong shape for feature vector dataframe after 'remove_duplicates'\"\n",
    "\n",
    "print (\"Good Job!\\nYou've passed the 2nd test for the 'remove_duplicates' function implementation :-)\")    "
   ]
  },
  {
   "cell_type": "code",
   "execution_count": 236,
   "metadata": {
    "deletable": false,
    "editable": false,
    "nbgrader": {
     "cell_type": "code",
     "checksum": "d922697b23ab71fed20028b268503cef",
     "grade": true,
     "grade_id": "test3b_3-remove_duplicates",
     "locked": true,
     "points": 0.5,
     "schema_version": 3,
     "solution": false,
     "task": false
    }
   },
   "outputs": [
    {
     "name": "stdout",
     "output_type": "stream",
     "text": [
      "3.b.'remove_duplicates' - Test 3 (name: test3b_3-remove_duplicates, points: 0.5)\n",
      "Good Job!\n",
      "You've passed the 3rd test for the 'remove_duplicates' function implementation :-)\n"
     ]
    }
   ],
   "source": [
    "# 3.b. remove_duplicates (graded test)\n",
    "# ====>>> YOUR ACTIONS: RUN ONLY\n",
    "\n",
    "print (\"3.b.'remove_duplicates' - Test 3 (name: test3b_3-remove_duplicates, points: 0.5)\")\n",
    "\n",
    "file_name_csv = '.' + os.sep + 'data' + os.sep + 'loans_risk_factor_dups.csv'\n",
    "risk_factor_df = load_csv(file_name_csv)\n",
    "\n",
    "try:    \n",
    "    risk_factor_df_no_dups = remove_duplicates(risk_factor_df)\n",
    "except Exception as e:\n",
    "    print ('You probably have a syntax or implementation error,  \\nerror Message:',str(e), '\\nTry fixing your code')\n",
    "    raise\n",
    "\n",
    "assert 0 == risk_factor_df_no_dups.duplicated().sum(), \"not all duplications where removed\"\n",
    "\n",
    "print (\"Good Job!\\nYou've passed the 3rd test for the 'remove_duplicates' function implementation :-)\")    "
   ]
  },
  {
   "cell_type": "markdown",
   "metadata": {
    "deletable": false,
    "editable": false,
    "id": "KSfCwFAEFFAl",
    "nbgrader": {
     "cell_type": "markdown",
     "checksum": "14a4f006bc21854b36ffc3ed19277664",
     "grade": false,
     "grade_id": "cell-67e34444db02d8cc",
     "locked": true,
     "schema_version": 3,
     "solution": false,
     "task": false
    }
   },
   "source": [
    "#### 3.c. Decouple Dataset - **1 Point**\n",
    "\n",
    "<u>method name</u>: <b>decouple_data</b><br/>\n",
    "\n",
    "<hr>\n",
    "\n",
    "<u>dependency</u>: <br/>\n",
    "* <b>remove_duplicates</b></br> \n",
    "\n",
    "<hr>\n",
    "\n",
    "<pre>\n",
    "Complete the following function to return the\n",
    " feature vectors DataFrame (X) and a series containing the labels (y).\n",
    "\n",
    "------------\n",
    "input parameters:\n",
    "- risk_factor_df - \"loan risk factor\" dataframe\n",
    "------------\n",
    "The return statement should look like the following:\n",
    "return X, y\n",
    "</pre>  \n"
   ]
  },
  {
   "cell_type": "markdown",
   "metadata": {
    "deletable": false,
    "editable": false,
    "nbgrader": {
     "cell_type": "markdown",
     "checksum": "0db7f51a84dca0b82086cc97e7d83696",
     "grade": false,
     "grade_id": "cell-c46f636742945855",
     "locked": true,
     "schema_version": 3,
     "solution": false,
     "task": false
    }
   },
   "source": [
    "#### 3.c. Decouple Dataset - Implement and Run the following code cell:"
   ]
  },
  {
   "cell_type": "code",
   "execution_count": 237,
   "metadata": {
    "deletable": false,
    "id": "I_qQBmJ9nuO2",
    "nbgrader": {
     "cell_type": "code",
     "checksum": "df03793727e0e4f543c44b9ef71a208f",
     "grade": false,
     "grade_id": "solution3c-remove_duplicates",
     "locked": false,
     "schema_version": 3,
     "solution": true,
     "task": false
    }
   },
   "outputs": [],
   "source": [
    "# 3.c. remove_duplicates (your solution)\n",
    "# ====>>> YOUR ACTIONS: IMPLEMENT & RUN\n",
    "\n",
    "def decouple_data(risk_factor_df):\n",
    "    # YOUR CODE HERE\n",
    "    target_name = 'risk'\n",
    "    y = risk_factor_df[target_name]\n",
    "    X = risk_factor_df.drop([target_name], axis=1)\n",
    "    return X, y\n",
    "    "
   ]
  },
  {
   "cell_type": "markdown",
   "metadata": {
    "deletable": false,
    "editable": false,
    "nbgrader": {
     "cell_type": "markdown",
     "checksum": "6d790bb63e26aa142156dd8deb7fab95",
     "grade": false,
     "grade_id": "cell-1410b46dd110c2bc",
     "locked": true,
     "schema_version": 3,
     "solution": false,
     "task": false
    }
   },
   "source": [
    "##### 3.c. remove_duplicates - OPTIONAL SELF TEST - Implement & Run the following code cell (IF NEEDED):"
   ]
  },
  {
   "cell_type": "code",
   "execution_count": 238,
   "metadata": {
    "colab": {
     "base_uri": "https://localhost:8080/"
    },
    "deletable": false,
    "id": "-FYdleyJnuZg",
    "nbgrader": {
     "cell_type": "code",
     "checksum": "5ed48b845571f6e52077a6be549c8883",
     "grade": false,
     "grade_id": "self_test3c-remove_duplicates",
     "locked": false,
     "schema_version": 3,
     "solution": true,
     "task": false
    },
    "outputId": "24c16290-7c16-454a-e291-a4f847361c3d"
   },
   "outputs": [
    {
     "name": "stdout",
     "output_type": "stream",
     "text": [
      "X shape: (551, 10)\n",
      "y shape: (551,)\n"
     ]
    }
   ],
   "source": [
    "# 3.c. remove_duplicates (optional self testing)\n",
    "# ====>>> YOUR ACTIONS: (optional) IMPLEMENT & RUN \n",
    "file_name_csv = '.' + os.sep + 'data' + os.sep + 'loans_risk_factor_dups.csv'\n",
    "risk_factor_df = load_csv(file_name_csv)\n",
    "df_no_dups = remove_duplicates(risk_factor_df)\n",
    "X, y = decouple_data(df_no_dups)\n",
    "# --- add additional code to check your code if needed:\n",
    "# YOUR CODE HERE\n",
    "print('X shape:', X.shape)\n",
    "print('y shape:', y.shape)\n"
   ]
  },
  {
   "cell_type": "markdown",
   "metadata": {
    "deletable": false,
    "editable": false,
    "nbgrader": {
     "cell_type": "markdown",
     "checksum": "faf5523d5978603a406c3c20c252df93",
     "grade": false,
     "grade_id": "cell-978863e60a66d94c",
     "locked": true,
     "schema_version": 3,
     "solution": false,
     "task": false
    }
   },
   "source": [
    "##### 3.c. decouple_data - GRADED TESTS - Run the following (2) code cells:"
   ]
  },
  {
   "cell_type": "code",
   "execution_count": 239,
   "metadata": {
    "deletable": false,
    "editable": false,
    "nbgrader": {
     "cell_type": "code",
     "checksum": "68a44ad8adce8879cce030f9d8d2c299",
     "grade": true,
     "grade_id": "test3c_1-decouple_data",
     "locked": true,
     "points": 0.2,
     "schema_version": 3,
     "solution": false,
     "task": false
    }
   },
   "outputs": [
    {
     "name": "stdout",
     "output_type": "stream",
     "text": [
      "3.c.'decouple_data' - Test 1 (name: test3c_1-decouple_data, points: 0.2) - Sanity\n"
     ]
    },
    {
     "data": {
      "text/html": [
       "<div>\n",
       "<style scoped>\n",
       "    .dataframe tbody tr th:only-of-type {\n",
       "        vertical-align: middle;\n",
       "    }\n",
       "\n",
       "    .dataframe tbody tr th {\n",
       "        vertical-align: top;\n",
       "    }\n",
       "\n",
       "    .dataframe thead th {\n",
       "        text-align: right;\n",
       "    }\n",
       "</style>\n",
       "<table border=\"1\" class=\"dataframe\">\n",
       "  <thead>\n",
       "    <tr style=\"text-align: right;\">\n",
       "      <th></th>\n",
       "      <th>age</th>\n",
       "      <th>sex</th>\n",
       "      <th>job</th>\n",
       "      <th>housing</th>\n",
       "      <th>years</th>\n",
       "      <th>saving_account</th>\n",
       "      <th>checking_account</th>\n",
       "      <th>credit_amount</th>\n",
       "      <th>duration</th>\n",
       "      <th>purpose</th>\n",
       "    </tr>\n",
       "  </thead>\n",
       "  <tbody>\n",
       "    <tr>\n",
       "      <th>0</th>\n",
       "      <td>26</td>\n",
       "      <td>male</td>\n",
       "      <td>2</td>\n",
       "      <td>own</td>\n",
       "      <td>1.000</td>\n",
       "      <td>little</td>\n",
       "      <td>rich</td>\n",
       "      <td>1330</td>\n",
       "      <td>12.000</td>\n",
       "      <td>car</td>\n",
       "    </tr>\n",
       "    <tr>\n",
       "      <th>1</th>\n",
       "      <td>43</td>\n",
       "      <td>male</td>\n",
       "      <td>2</td>\n",
       "      <td>own</td>\n",
       "      <td>2.000</td>\n",
       "      <td>NaN</td>\n",
       "      <td>NaN</td>\n",
       "      <td>2197</td>\n",
       "      <td>24.000</td>\n",
       "      <td>car</td>\n",
       "    </tr>\n",
       "    <tr>\n",
       "      <th>2</th>\n",
       "      <td>28</td>\n",
       "      <td>female</td>\n",
       "      <td>2</td>\n",
       "      <td>rent</td>\n",
       "      <td>1.250</td>\n",
       "      <td>little</td>\n",
       "      <td>little</td>\n",
       "      <td>1403</td>\n",
       "      <td>15.000</td>\n",
       "      <td>car</td>\n",
       "    </tr>\n",
       "  </tbody>\n",
       "</table>\n",
       "</div>"
      ],
      "text/plain": [
       "   age     sex  job housing  years saving_account checking_account  \\\n",
       "0   26    male    2     own  1.000         little             rich   \n",
       "1   43    male    2     own  2.000            NaN              NaN   \n",
       "2   28  female    2    rent  1.250         little           little   \n",
       "\n",
       "   credit_amount  duration purpose  \n",
       "0           1330    12.000     car  \n",
       "1           2197    24.000     car  \n",
       "2           1403    15.000     car  "
      ]
     },
     "execution_count": 239,
     "metadata": {},
     "output_type": "execute_result"
    },
    {
     "data": {
      "text/plain": [
       "0   1.000\n",
       "1   1.000\n",
       "2   1.000\n",
       "Name: risk, dtype: float64"
      ]
     },
     "execution_count": 239,
     "metadata": {},
     "output_type": "execute_result"
    },
    {
     "name": "stdout",
     "output_type": "stream",
     "text": [
      "Good Job!\n",
      "You've passed the 1st test for the 'decouple_data' function implementation :-)\n"
     ]
    }
   ],
   "source": [
    "# 3.c. decouple_data (graded test)\n",
    "# ====>>> YOUR ACTIONS: RUN ONLY\n",
    "\n",
    "print (\"3.c.'decouple_data' - Test 1 (name: test3c_1-decouple_data, points: 0.2) - Sanity\")\n",
    "\n",
    "file_name_csv = '.' + os.sep + 'data' + os.sep + 'loans_risk_factor_dups.csv'\n",
    "risk_factor_df = load_csv(file_name_csv)\n",
    "\n",
    "try:\n",
    "    df_no_dups = remove_duplicates(risk_factor_df)\n",
    "    X, y = decouple_data(df_no_dups)\n",
    "    X.head(3)\n",
    "    y.head(3)\n",
    "except Exception as e:\n",
    "    print ('You probably have a syntax or implementation error,  \\nerror Message:',str(e), '\\nTry fixing your code')\n",
    "    raise\n",
    "\n",
    "print (\"Good Job!\\nYou've passed the 1st test for the 'decouple_data' function implementation :-)\")    "
   ]
  },
  {
   "cell_type": "code",
   "execution_count": 240,
   "metadata": {
    "deletable": false,
    "editable": false,
    "nbgrader": {
     "cell_type": "code",
     "checksum": "748462b698e8c64e6a66ca59e6342f6c",
     "grade": true,
     "grade_id": "test3c_2-decouple_data",
     "locked": true,
     "points": 0.4,
     "schema_version": 3,
     "solution": false,
     "task": false
    }
   },
   "outputs": [
    {
     "name": "stdout",
     "output_type": "stream",
     "text": [
      "3.c.'decouple_data' - Test 2 (name: test3c_2-decouple_data, points: 0.4)\n",
      "Good Job!\n",
      "You've passed the 2nd test for the 'decouple_data' function implementation :-)\n"
     ]
    }
   ],
   "source": [
    "# 3.c. decouple_data (graded test)\n",
    "# ====>>> YOUR ACTIONS: RUN ONLY\n",
    "\n",
    "print (\"3.c.'decouple_data' - Test 2 (name: test3c_2-decouple_data, points: 0.4)\")\n",
    "\n",
    "file_name_csv = '.' + os.sep + 'data' + os.sep + 'loans_risk_factor_dups.csv'\n",
    "risk_factor_df = load_csv(file_name_csv)\n",
    "\n",
    "try:\n",
    "    df_no_dups = remove_duplicates(risk_factor_df)\n",
    "    X, y = decouple_data(df_no_dups)\n",
    "except Exception as e:\n",
    "    print ('You probably have a syntax or implementation error,  \\nerror Message:',str(e), '\\nTry fixing your code')\n",
    "    raise\n",
    "\n",
    "assert (551, 10) == X.shape and 551 == y.shape[0], \"Wrong shape for feature vector dataframe or target series frame after 'decouple_data'\"\n",
    "\n",
    "print (\"Good Job!\\nYou've passed the 2nd test for the 'decouple_data' function implementation :-)\")    "
   ]
  },
  {
   "cell_type": "code",
   "execution_count": 241,
   "metadata": {
    "deletable": false,
    "editable": false,
    "nbgrader": {
     "cell_type": "code",
     "checksum": "e0ac59874820c92564f0670d06596417",
     "grade": true,
     "grade_id": "test3c_3-decouple_data",
     "locked": true,
     "points": 0.4,
     "schema_version": 3,
     "solution": false,
     "task": false
    }
   },
   "outputs": [
    {
     "name": "stdout",
     "output_type": "stream",
     "text": [
      "3.c.'decouple_data' - Test 3 (name: test3c_3-decouple_data, points: 0.4)\n",
      "Good Job!\n",
      "You've passed the 3rd test for the 'decouple_data' function implementation :-)\n"
     ]
    }
   ],
   "source": [
    "# 3.c. decouple_data (graded test)\n",
    "# ====>>> YOUR ACTIONS: RUN ONLY\n",
    "\n",
    "print (\"3.c.'decouple_data' - Test 3 (name: test3c_3-decouple_data, points: 0.4)\")\n",
    "\n",
    "file_name_csv = '.' + os.sep + 'data' + os.sep + 'loans_risk_factor_dups.csv'\n",
    "risk_factor_df = load_csv(file_name_csv)\n",
    "\n",
    "try:\n",
    "    df_no_dups = remove_duplicates(risk_factor_df)\n",
    "    X, y = decouple_data(df_no_dups)\n",
    "except Exception as e:\n",
    "    print ('You probably have a syntax or implementation error,  \\nerror Message:',str(e), '\\nTry fixing your code')\n",
    "    raise\n",
    "\n",
    "np.testing.assert_array_equal(X.index, y.index, 'X dataframe and y series should have the same index')\n",
    "\n",
    "print (\"Good Job!\\nYou've passed the 3rd test for the 'decouple_data' function implementation :-)\")    "
   ]
  },
  {
   "cell_type": "markdown",
   "metadata": {
    "deletable": false,
    "editable": false,
    "id": "7t5UUDmknzPr",
    "nbgrader": {
     "cell_type": "markdown",
     "checksum": "fae44390ac1c8323d2086fa69c51329c",
     "grade": false,
     "grade_id": "cell-24e9571792e1d0c2",
     "locked": true,
     "schema_version": 3,
     "solution": false,
     "task": false
    }
   },
   "source": [
    "#### 3.d. Train Test Split - **1 Point**\n",
    "\n",
    "<u>method name</u>: <b>split_data</b><br/>\n",
    "\n",
    "<hr>\n",
    "\n",
    "<u>dependency</u>: <br/>\n",
    "* <b>remove_duplicates</b></br> \n",
    "* <b>decouple_data</b></br> \n",
    "\n",
    "<hr>\n",
    "\n",
    "<pre>\n",
    "Complete the following function to split the data to train and test while allocating \n",
    "20% to the test set with the random state 42 and the flag shuffle=False\n",
    "\n",
    "------------\n",
    "input parameters:\n",
    "- X - \"loan risk factor\" dataset's feature vectors\n",
    "- y - \"loan risk factor\" dataset's labels\n",
    "------------\n",
    "The return statement should look like the following:\n",
    "return X_train, X_test, y_train, y_test\n",
    "</pre>  "
   ]
  },
  {
   "cell_type": "markdown",
   "metadata": {
    "deletable": false,
    "editable": false,
    "nbgrader": {
     "cell_type": "markdown",
     "checksum": "467a85a62e5a6ff24208edb5662de8c2",
     "grade": false,
     "grade_id": "cell-498990b4f323b2e3",
     "locked": true,
     "schema_version": 3,
     "solution": false,
     "task": false
    }
   },
   "source": [
    "#### 3.d. Train Test Split - Implement and Run the following code cell:"
   ]
  },
  {
   "cell_type": "code",
   "execution_count": 242,
   "metadata": {
    "deletable": false,
    "id": "wPInlGuTn6f_",
    "nbgrader": {
     "cell_type": "code",
     "checksum": "9fce5b86a86b11846c68e668b097e261",
     "grade": false,
     "grade_id": "solution3d-split_data",
     "locked": false,
     "schema_version": 3,
     "solution": true,
     "task": false
    }
   },
   "outputs": [],
   "source": [
    "# 3.d. split_data (your solution)\n",
    "# ====>>> YOUR ACTIONS: IMPLEMENT & RUN\n",
    "\n",
    "def split_data(X, y):\n",
    "    # YOUR CODE HERE\n",
    "    return train_test_split(X, y, random_state=42, test_size=0.2, shuffle=False)\n"
   ]
  },
  {
   "cell_type": "markdown",
   "metadata": {
    "deletable": false,
    "editable": false,
    "nbgrader": {
     "cell_type": "markdown",
     "checksum": "a88217884c151a738b1aaa6212634489",
     "grade": false,
     "grade_id": "cell-c9aef7e71552699b",
     "locked": true,
     "schema_version": 3,
     "solution": false,
     "task": false
    }
   },
   "source": [
    "##### 3.d. split_data - OPTIONAL SELF TEST - Implement & Run the following code cell (IF NEEDED):"
   ]
  },
  {
   "cell_type": "code",
   "execution_count": 243,
   "metadata": {
    "colab": {
     "base_uri": "https://localhost:8080/"
    },
    "deletable": false,
    "id": "eEBy_YamoCOS",
    "nbgrader": {
     "cell_type": "code",
     "checksum": "b4ce1ea62b1830aa51d7854122484fa4",
     "grade": false,
     "grade_id": "self_test3d-split_data",
     "locked": false,
     "schema_version": 3,
     "solution": true,
     "task": false
    },
    "outputId": "c9b85f2e-bc83-4ea6-ad24-02b69c9fd1d0"
   },
   "outputs": [],
   "source": [
    "# 3.d. split_data (optional self testing)\n",
    "# ====>>> YOUR ACTIONS: (optional) IMPLEMENT & RUN \n",
    "file_name_csv = '.' + os.sep + 'data' + os.sep + 'loans_risk_factor_dups.csv'\n",
    "risk_factor_df = load_csv(file_name_csv)\n",
    "df_no_dups = remove_duplicates(risk_factor_df)\n",
    "X, y = decouple_data(df_no_dups)\n",
    "X_train, X_test, y_train, y_test = split_data(X, y)\n",
    "# --- add additional code to check your code if needed:\n",
    "# YOUR CODE HERE\n"
   ]
  },
  {
   "cell_type": "markdown",
   "metadata": {
    "deletable": false,
    "editable": false,
    "nbgrader": {
     "cell_type": "markdown",
     "checksum": "537f927c2ffe149feb99c42a912b76f8",
     "grade": false,
     "grade_id": "cell-ea66b5bb495511db",
     "locked": true,
     "schema_version": 3,
     "solution": false,
     "task": false
    }
   },
   "source": [
    "##### 3.d. split_data - GRADED TESTS - Run the following (2) code cells:"
   ]
  },
  {
   "cell_type": "code",
   "execution_count": 244,
   "metadata": {
    "deletable": false,
    "editable": false,
    "nbgrader": {
     "cell_type": "code",
     "checksum": "583cac5fea11e11a233a080b927fd585",
     "grade": true,
     "grade_id": "test3d_1-split_data",
     "locked": true,
     "points": 0.2,
     "schema_version": 3,
     "solution": false,
     "task": false
    }
   },
   "outputs": [
    {
     "name": "stdout",
     "output_type": "stream",
     "text": [
      "3.d.'decouple_data' - Test 1 (name: test3d_1-split_data, points: 0.2) - Sanity\n"
     ]
    },
    {
     "data": {
      "text/html": [
       "<div>\n",
       "<style scoped>\n",
       "    .dataframe tbody tr th:only-of-type {\n",
       "        vertical-align: middle;\n",
       "    }\n",
       "\n",
       "    .dataframe tbody tr th {\n",
       "        vertical-align: top;\n",
       "    }\n",
       "\n",
       "    .dataframe thead th {\n",
       "        text-align: right;\n",
       "    }\n",
       "</style>\n",
       "<table border=\"1\" class=\"dataframe\">\n",
       "  <thead>\n",
       "    <tr style=\"text-align: right;\">\n",
       "      <th></th>\n",
       "      <th>age</th>\n",
       "      <th>sex</th>\n",
       "      <th>job</th>\n",
       "      <th>housing</th>\n",
       "      <th>years</th>\n",
       "      <th>saving_account</th>\n",
       "      <th>checking_account</th>\n",
       "      <th>credit_amount</th>\n",
       "      <th>duration</th>\n",
       "      <th>purpose</th>\n",
       "    </tr>\n",
       "  </thead>\n",
       "  <tbody>\n",
       "    <tr>\n",
       "      <th>0</th>\n",
       "      <td>26</td>\n",
       "      <td>male</td>\n",
       "      <td>2</td>\n",
       "      <td>own</td>\n",
       "      <td>1.000</td>\n",
       "      <td>little</td>\n",
       "      <td>rich</td>\n",
       "      <td>1330</td>\n",
       "      <td>12.000</td>\n",
       "      <td>car</td>\n",
       "    </tr>\n",
       "    <tr>\n",
       "      <th>1</th>\n",
       "      <td>43</td>\n",
       "      <td>male</td>\n",
       "      <td>2</td>\n",
       "      <td>own</td>\n",
       "      <td>2.000</td>\n",
       "      <td>NaN</td>\n",
       "      <td>NaN</td>\n",
       "      <td>2197</td>\n",
       "      <td>24.000</td>\n",
       "      <td>car</td>\n",
       "    </tr>\n",
       "  </tbody>\n",
       "</table>\n",
       "</div>"
      ],
      "text/plain": [
       "   age   sex  job housing  years saving_account checking_account  \\\n",
       "0   26  male    2     own  1.000         little             rich   \n",
       "1   43  male    2     own  2.000            NaN              NaN   \n",
       "\n",
       "   credit_amount  duration purpose  \n",
       "0           1330    12.000     car  \n",
       "1           2197    24.000     car  "
      ]
     },
     "execution_count": 244,
     "metadata": {},
     "output_type": "execute_result"
    },
    {
     "data": {
      "text/plain": [
       "0   1.000\n",
       "1   1.000\n",
       "Name: risk, dtype: float64"
      ]
     },
     "execution_count": 244,
     "metadata": {},
     "output_type": "execute_result"
    },
    {
     "data": {
      "text/html": [
       "<div>\n",
       "<style scoped>\n",
       "    .dataframe tbody tr th:only-of-type {\n",
       "        vertical-align: middle;\n",
       "    }\n",
       "\n",
       "    .dataframe tbody tr th {\n",
       "        vertical-align: top;\n",
       "    }\n",
       "\n",
       "    .dataframe thead th {\n",
       "        text-align: right;\n",
       "    }\n",
       "</style>\n",
       "<table border=\"1\" class=\"dataframe\">\n",
       "  <thead>\n",
       "    <tr style=\"text-align: right;\">\n",
       "      <th></th>\n",
       "      <th>age</th>\n",
       "      <th>sex</th>\n",
       "      <th>job</th>\n",
       "      <th>housing</th>\n",
       "      <th>years</th>\n",
       "      <th>saving_account</th>\n",
       "      <th>checking_account</th>\n",
       "      <th>credit_amount</th>\n",
       "      <th>duration</th>\n",
       "      <th>purpose</th>\n",
       "    </tr>\n",
       "  </thead>\n",
       "  <tbody>\n",
       "    <tr>\n",
       "      <th>825</th>\n",
       "      <td>60</td>\n",
       "      <td>male</td>\n",
       "      <td>1</td>\n",
       "      <td>own</td>\n",
       "      <td>2.000</td>\n",
       "      <td>little</td>\n",
       "      <td>little</td>\n",
       "      <td>1199</td>\n",
       "      <td>24.000</td>\n",
       "      <td>car</td>\n",
       "    </tr>\n",
       "    <tr>\n",
       "      <th>831</th>\n",
       "      <td>36</td>\n",
       "      <td>female</td>\n",
       "      <td>2</td>\n",
       "      <td>own</td>\n",
       "      <td>1.500</td>\n",
       "      <td>little</td>\n",
       "      <td>NaN</td>\n",
       "      <td>1028</td>\n",
       "      <td>18.000</td>\n",
       "      <td>car</td>\n",
       "    </tr>\n",
       "  </tbody>\n",
       "</table>\n",
       "</div>"
      ],
      "text/plain": [
       "     age     sex  job housing  years saving_account checking_account  \\\n",
       "825   60    male    1     own  2.000         little           little   \n",
       "831   36  female    2     own  1.500         little              NaN   \n",
       "\n",
       "     credit_amount  duration purpose  \n",
       "825           1199    24.000     car  \n",
       "831           1028    18.000     car  "
      ]
     },
     "execution_count": 244,
     "metadata": {},
     "output_type": "execute_result"
    },
    {
     "data": {
      "text/plain": [
       "825   0.000\n",
       "831   1.000\n",
       "Name: risk, dtype: float64"
      ]
     },
     "execution_count": 244,
     "metadata": {},
     "output_type": "execute_result"
    },
    {
     "name": "stdout",
     "output_type": "stream",
     "text": [
      "Good Job!\n",
      "You've passed the 1st test for the 'split_data' function implementation :-)\n"
     ]
    }
   ],
   "source": [
    "# 3.d. split_data (graded test)\n",
    "# ====>>> YOUR ACTIONS: RUN ONLY\n",
    "\n",
    "print (\"3.d.'decouple_data' - Test 1 (name: test3d_1-split_data, points: 0.2) - Sanity\")\n",
    "\n",
    "file_name_csv = '.' + os.sep + 'data' + os.sep + 'loans_risk_factor_dups.csv'\n",
    "risk_factor_df = load_csv(file_name_csv)\n",
    "\n",
    "try:    \n",
    "    df_no_dups = remove_duplicates(risk_factor_df)\n",
    "    X, y = decouple_data(df_no_dups)\n",
    "    X_train, X_test, y_train, y_test = split_data(X, y)\n",
    "    X_train.head(2)\n",
    "    y_train.head(2)\n",
    "    X_test.head(2)\n",
    "    y_test.head(2)\n",
    "except Exception as e:\n",
    "    print ('You probably have a syntax or implementation error,  \\nerror Message:',str(e), '\\nTry fixing your code')\n",
    "    raise\n",
    "\n",
    "print (\"Good Job!\\nYou've passed the 1st test for the 'split_data' function implementation :-)\")    "
   ]
  },
  {
   "cell_type": "code",
   "execution_count": 245,
   "metadata": {
    "deletable": false,
    "editable": false,
    "nbgrader": {
     "cell_type": "code",
     "checksum": "9b719725b9b92c7146d17d718a736bc5",
     "grade": true,
     "grade_id": "test3d_2-split_data",
     "locked": true,
     "points": 0.4,
     "schema_version": 3,
     "solution": false,
     "task": false
    }
   },
   "outputs": [
    {
     "name": "stdout",
     "output_type": "stream",
     "text": [
      "3.d.'split_data' - Test 2 (name: test3d_2-split_data, points: 0.4)\n",
      "Good Job!\n",
      "You've passed the 2nd test for the 'split_data' function implementation :-)\n"
     ]
    }
   ],
   "source": [
    "# 3.d. split_data (graded test)\n",
    "# ====>>> YOUR ACTIONS: RUN ONLY\n",
    "\n",
    "print (\"3.d.'split_data' - Test 2 (name: test3d_2-split_data, points: 0.4)\")\n",
    "\n",
    "file_name_csv = '.' + os.sep + 'data' + os.sep + 'loans_risk_factor_dups.csv'\n",
    "risk_factor_df = load_csv(file_name_csv)\n",
    "\n",
    "try:    \n",
    "    df_no_dups = remove_duplicates(risk_factor_df)\n",
    "    X, y = decouple_data(df_no_dups)\n",
    "    X_train, X_test, y_train, y_test = split_data(X, y)\n",
    "except Exception as e:\n",
    "    print ('You probably have a syntax or implementation error,  \\nerror Message:',str(e), '\\nTry fixing your code')\n",
    "    raise\n",
    "    \n",
    "assert (440, 10) == X_train.shape and (111,10) == X_test.shape, \"Wrong shape for feature vectors dataframe X_train or X_test after 'split_data'\"\n",
    "assert 440 == y_train.shape[0] and 111 == y_test.shape[0], \"Wrong shape for target series y_train or y_test after 'split_data'\"\n",
    "\n",
    "print (\"Good Job!\\nYou've passed the 2nd test for the 'split_data' function implementation :-)\")    "
   ]
  },
  {
   "cell_type": "code",
   "execution_count": 246,
   "metadata": {
    "deletable": false,
    "editable": false,
    "nbgrader": {
     "cell_type": "code",
     "checksum": "68082c6c65445cfcbbbc5b06a65f52b8",
     "grade": true,
     "grade_id": "test3d_3-split_data",
     "locked": true,
     "points": 0.4,
     "schema_version": 3,
     "solution": false,
     "task": false
    }
   },
   "outputs": [
    {
     "name": "stdout",
     "output_type": "stream",
     "text": [
      "3.d.'split_data' - Test 3 (name: test3d_3-split_data, points: 0.4)\n",
      "Good Job!\n",
      "You've passed the 3rd test for the 'split_data' function implementation :-)\n"
     ]
    }
   ],
   "source": [
    "# 3.d. split_data (graded test)\n",
    "# ====>>> YOUR ACTIONS: RUN ONLY\n",
    "\n",
    "print (\"3.d.'split_data' - Test 3 (name: test3d_3-split_data, points: 0.4)\")\n",
    "\n",
    "file_name_csv = '.' + os.sep + 'data' + os.sep + 'loans_risk_factor_dups.csv'\n",
    "risk_factor_df = load_csv(file_name_csv)\n",
    "\n",
    "try:    \n",
    "    df_no_dups = remove_duplicates(risk_factor_df)\n",
    "    X, y = decouple_data(df_no_dups)\n",
    "    X_train, X_test, y_train, y_test = split_data(X, y)\n",
    "except Exception as e:\n",
    "    print ('You probably have a syntax or implementation error,  \\nerror Message:',str(e), '\\nTry fixing your code')\n",
    "    raise\n",
    "\n",
    "np.testing.assert_array_compare(operator.__ne__, X_train.iloc[:10].index, X_test.iloc[:10].index, \"X_train and X_test dataframes should not have the same index after 'split_data'\")\n",
    "\n",
    "np.testing.assert_array_equal(X_train.index, y_train.index, \"X_train dataframe and y_train series should have the same index after 'split_data'\")    \n",
    "np.testing.assert_array_equal(X_test.index, y_test.index, \"X_test dataframe and y_test series should have the same index after 'split_data'\")    \n",
    "\n",
    "print (\"Good Job!\\nYou've passed the 3rd test for the 'split_data' function implementation :-)\")    "
   ]
  },
  {
   "cell_type": "markdown",
   "metadata": {
    "deletable": false,
    "editable": false,
    "id": "WJnpEOZ29I2p",
    "nbgrader": {
     "cell_type": "markdown",
     "checksum": "1da968ce3e91c75d194ea0c2e56c6fa4",
     "grade": false,
     "grade_id": "cell-5b609c65be9ac696",
     "locked": true,
     "schema_version": 3,
     "solution": false,
     "task": false
    }
   },
   "source": [
    "#### 3.e. Missing Values Handling - **2 Points**\n",
    "\n",
    "<u>method name</u>: <b>handle_missing_values</b><br/>\n",
    "\n",
    "<hr>\n",
    "\n",
    "<u>dependency</u>: <br/>\n",
    "* <b>remove_duplicates</b></br> \n",
    "* <b>decouple_data</b></br> \n",
    "* <b>split_data</b></br> \n",
    "\n",
    "<hr>\n",
    "\n",
    "<pre>\n",
    "Complete the following function to handle missing values in the dataset as follows (in this order):    \n",
    "1. Replace missing values in \"saving_account\" and \"checking_account\" columns \n",
    "  with the most frequent values in these columns\n",
    "2. Replace missing values in \"credit_amount\" with the median\n",
    "3. Replace missing values in \"years\" with the average\n",
    "3. Replace missing values in \"duration\" with the average\n",
    "4. Delete Rows with missing values in \"risk\" column\n",
    "5. Return the datasets after implementing these steps\n",
    "\n",
    "*make sure to handle the missing values in test set based on the train set's statistics*\n",
    "\n",
    "------------\n",
    "input parameters:\n",
    "- X_train - \"loan risk factor\" train dataset's feature vectors\n",
    "- X_test - \"loan risk factor\" test dataset's feature vectors\n",
    "- y_train - \"loan risk factor\" train dataset's labels\n",
    "- y_test - \"loan risk factor\" test dataset's labels\n",
    "------------\n",
    "The return statement should look like the following:\n",
    "return X_train, X_test, y_train, y_test\n",
    "</pre>  \n"
   ]
  },
  {
   "cell_type": "markdown",
   "metadata": {
    "deletable": false,
    "editable": false,
    "nbgrader": {
     "cell_type": "markdown",
     "checksum": "ed134e183f3d26e4c7672f6ce772fe3a",
     "grade": false,
     "grade_id": "cell-003ed2569642280f",
     "locked": true,
     "schema_version": 3,
     "solution": false,
     "task": false
    }
   },
   "source": [
    "#### 3.e. Missing Values Handling - Implement and Run the following code cell:"
   ]
  },
  {
   "cell_type": "code",
   "execution_count": 247,
   "metadata": {
    "deletable": false,
    "id": "eBn3CsSKAFgJ",
    "nbgrader": {
     "cell_type": "code",
     "checksum": "45eb4844a6012b748934b2eedb3e8d01",
     "grade": false,
     "grade_id": "solution3e-handle_missing_values",
     "locked": false,
     "schema_version": 3,
     "solution": true,
     "task": false
    }
   },
   "outputs": [],
   "source": [
    "# 3.e. handle_missing_values (your solution)\n",
    "# ====>>> YOUR ACTIONS: IMPLEMENT & RUN\n",
    "\n",
    "def handle_missing_values(X_train, X_test, y_train, y_test):\n",
    "    # YOUR CODE HERE\n",
    "    # There might be several most frequent vals. In any case, pick the first one.\n",
    "    # Prepare a dictionary mapping each column name to the value to fill instead of NaNs\n",
    "    default_vals_for_nans = {\n",
    "        'saving_account': X_train.saving_account.mode().iloc[0],  # 1\n",
    "        'checking_account': X_train.checking_account.mode().iloc[0],  # 1\n",
    "        'credit_amount': X_train.credit_amount.median(),  # 2\n",
    "        'years': X_train.years.mean(),  # 3\n",
    "        'duration': X_train.duration.mean()  # 3\n",
    "    }\n",
    "    \n",
    "    # 4. First drop so we will not do redundant fillings\n",
    "    # Get the indices with na in target, so we will drop them from y's and X's. \n",
    "    # Use this and not dropna(), because dropna() does not return removed indices..\n",
    "    indices_with_na_in_y_train = y_train[y_train.isna()].index\n",
    "    indices_with_na_in_y_test = y_test[y_test.isna()].index\n",
    "    \n",
    "    X_train_clean = X_train.drop(index=indices_with_na_in_y_train)\n",
    "    y_train_clean = y_train.drop(index=indices_with_na_in_y_train)\n",
    "    X_test_clean = X_test.drop(index=indices_with_na_in_y_test)\n",
    "    y_test_clean = y_test.drop(index=indices_with_na_in_y_test)\n",
    "    \n",
    "    # Now that we have already removed redundant rows, fill-in nans\n",
    "    for df in [X_train_clean, X_test_clean]:\n",
    "        df.fillna(default_vals_for_nans, inplace=True)\n",
    "    \n",
    "    return X_train_clean, X_test_clean, y_train_clean, y_test_clean\n",
    "    "
   ]
  },
  {
   "cell_type": "markdown",
   "metadata": {
    "deletable": false,
    "editable": false,
    "nbgrader": {
     "cell_type": "markdown",
     "checksum": "a3577be47eb93a09dd22598ce9a3a0e9",
     "grade": false,
     "grade_id": "cell-46e66de3e71efd79",
     "locked": true,
     "schema_version": 3,
     "solution": false,
     "task": false
    }
   },
   "source": [
    "##### 3.e. handle_missing_values - OPTIONAL SELF TEST - Implement & Run the following code cell (IF NEEDED):"
   ]
  },
  {
   "cell_type": "code",
   "execution_count": 248,
   "metadata": {
    "colab": {
     "base_uri": "https://localhost:8080/"
    },
    "deletable": false,
    "id": "w4cyCYpouHwq",
    "nbgrader": {
     "cell_type": "code",
     "checksum": "d063e70ff46700d3325c963b634e04e5",
     "grade": false,
     "grade_id": "self_test3e-handle_missing_values",
     "locked": false,
     "schema_version": 3,
     "solution": true,
     "task": false
    },
    "outputId": "f7a90a26-473c-4ae5-f5e2-768458077c62"
   },
   "outputs": [
    {
     "name": "stdout",
     "output_type": "stream",
     "text": [
      "Shape of X_train before cleansing: (440, 10) and after: (432, 10)\n",
      "Shape of X_test before cleansing: (111, 10) and after: (111, 10)\n",
      "Shape of y_train before cleansing: (440,) and after: (432,)\n",
      "Shape of y_test before cleansing: (111,) and after: (111,)\n"
     ]
    }
   ],
   "source": [
    "# 3.e. handle_missing_values (optional self testing)\n",
    "# ====>>> YOUR ACTIONS: (optional) IMPLEMENT & RUN \n",
    "file_name_csv = '.' + os.sep + 'data' + os.sep + 'loans_risk_factor_dups.csv'\n",
    "risk_factor_df = load_csv(file_name_csv)\n",
    "df_no_dups = remove_duplicates(risk_factor_df)\n",
    "X, y = decouple_data(df_no_dups)\n",
    "X_train_with_missing, X_test_with_missing, y_train_with_missing, y_test_with_missing = split_data(X, y)\n",
    "X_train, X_test, y_train, y_test = handle_missing_values(X_train_with_missing, X_test_with_missing, y_train_with_missing, y_test_with_missing)\n",
    "# --- add additional code to check your code if needed:\n",
    "# YOUR CODE HERE\n",
    "print(f'Shape of X_train before cleansing: {X_train_with_missing.shape} and after: {X_train.shape}')\n",
    "print(f'Shape of X_test before cleansing: {X_test_with_missing.shape} and after: {X_test.shape}')\n",
    "print(f'Shape of y_train before cleansing: {y_train_with_missing.shape} and after: {y_train.shape}')\n",
    "print(f'Shape of y_test before cleansing: {y_test_with_missing.shape} and after: {y_test.shape}')"
   ]
  },
  {
   "cell_type": "markdown",
   "metadata": {
    "deletable": false,
    "editable": false,
    "nbgrader": {
     "cell_type": "markdown",
     "checksum": "a30187c433d25c3473672ed8e46cd164",
     "grade": false,
     "grade_id": "cell-71fbb9fe191f8461",
     "locked": true,
     "schema_version": 3,
     "solution": false,
     "task": false
    }
   },
   "source": [
    "##### 3.e. handle_missing_values - GRADED TESTS - Run the following (2) code cells:"
   ]
  },
  {
   "cell_type": "code",
   "execution_count": 249,
   "metadata": {
    "deletable": false,
    "editable": false,
    "nbgrader": {
     "cell_type": "code",
     "checksum": "2053d187068b811bdb51148f92243257",
     "grade": true,
     "grade_id": "test3e_1-handle_missing_values",
     "locked": true,
     "points": 0.2,
     "schema_version": 3,
     "solution": false,
     "task": false
    }
   },
   "outputs": [
    {
     "name": "stdout",
     "output_type": "stream",
     "text": [
      "3.e.'handle_missing_values' - Test 1 (name: test3e_1-handle_missing_values, points: 0.2) - Sanity\n",
      "Good Job!\n",
      "You've passed the 1st test for the 'handle_missing_values' function implementation :-)\n"
     ]
    }
   ],
   "source": [
    "# 3.e. handle_missing_values (graded test)\n",
    "# ====>>> YOUR ACTIONS: RUN ONLY\n",
    "\n",
    "print (\"3.e.'handle_missing_values' - Test 1 (name: test3e_1-handle_missing_values, points: 0.2) - Sanity\")\n",
    "\n",
    "file_name_csv = '.' + os.sep + 'data' + os.sep + 'loans_risk_factor_dups.csv'\n",
    "risk_factor_df = load_csv(file_name_csv)\n",
    "\n",
    "try:    \n",
    "    df_no_dups = remove_duplicates(risk_factor_df)\n",
    "    X, y = decouple_data(df_no_dups)\n",
    "    X_train_with_missing, X_test_with_missing, y_train_with_missing, y_test_with_missing = split_data(X, y)\n",
    "    X_train, X_test, y_train, y_test = handle_missing_values(X_train_with_missing, X_test_with_missing, y_train_with_missing, y_test_with_missing)\n",
    "except Exception as e:\n",
    "    print ('You probably have a syntax or implementation error,  \\nerror Message:',str(e), '\\nTry fixing your code')\n",
    "    raise\n",
    "\n",
    "print (\"Good Job!\\nYou've passed the 1st test for the 'handle_missing_values' function implementation :-)\")    "
   ]
  },
  {
   "cell_type": "code",
   "execution_count": 250,
   "metadata": {
    "deletable": false,
    "editable": false,
    "nbgrader": {
     "cell_type": "code",
     "checksum": "a10aa9b8c6bed9dea613addd50df3a61",
     "grade": true,
     "grade_id": "test3e_2-handle_missing_values",
     "locked": true,
     "points": 0.6,
     "schema_version": 3,
     "solution": false,
     "task": false
    }
   },
   "outputs": [
    {
     "name": "stdout",
     "output_type": "stream",
     "text": [
      "3.e.'handle_missing_values' - Test 2 (name: test3e_2-handle_missing_values, points: 0.6)\n",
      "Good Job!\n",
      "You've passed the 2nd test for the 'handle_missing_values' function implementation :-)\n"
     ]
    }
   ],
   "source": [
    "# 3.e. handle_missing_values (graded test)\n",
    "# ====>>> YOUR ACTIONS: RUN ONLY\n",
    "\n",
    "print (\"3.e.'handle_missing_values' - Test 2 (name: test3e_2-handle_missing_values, points: 0.6)\")\n",
    "\n",
    "file_name_csv = '.' + os.sep + 'data' + os.sep + 'loans_risk_factor_dups.csv'\n",
    "risk_factor_df = load_csv(file_name_csv)\n",
    "\n",
    "try:    \n",
    "    df_no_dups = remove_duplicates(risk_factor_df)\n",
    "    X, y = decouple_data(df_no_dups)\n",
    "    X_train_with_missing, X_test_with_missing, y_train_with_missing, y_test_with_missing = split_data(X, y)\n",
    "    X_train, X_test, y_train, y_test = handle_missing_values(X_train_with_missing, X_test_with_missing, y_train_with_missing, y_test_with_missing)\n",
    "except Exception as e:\n",
    "    print ('You probably have a syntax or implementation error,  \\nerror Message:',str(e), '\\nTry fixing your code')\n",
    "    raise\n",
    "\n",
    "assert (432, 10) == X_train.shape and (111,10) == X_test.shape, \"Wrong shape for feature vectors dataframe X_train or X_test after 'handle_missing_values'\"\n",
    "assert 432 == y_train.shape[0] and 111 == y_test.shape[0], \"Wrong shape for target series y_train or y_test after 'handle_missing_values'\"\n",
    "\n",
    "print (\"Good Job!\\nYou've passed the 2nd test for the 'handle_missing_values' function implementation :-)\")    "
   ]
  },
  {
   "cell_type": "code",
   "execution_count": 251,
   "metadata": {
    "deletable": false,
    "editable": false,
    "nbgrader": {
     "cell_type": "code",
     "checksum": "8ab213db55506bfdec15eab5e7dceb25",
     "grade": true,
     "grade_id": "test3e_3-handle_missing_values",
     "locked": true,
     "points": 0.6,
     "schema_version": 3,
     "solution": false,
     "task": false
    }
   },
   "outputs": [
    {
     "name": "stdout",
     "output_type": "stream",
     "text": [
      "3.e.'handle_missing_values' - Test 3 (name: test3e_3-handle_missing_values, points: 0.6)\n",
      "Good Job!\n",
      "You've passed the 3rd test for the 'handle_missing_values' function implementation :-)\n"
     ]
    }
   ],
   "source": [
    "# 3.e. handle_missing_values (graded test)\n",
    "# ====>>> YOUR ACTIONS: RUN ONLY\n",
    "\n",
    "print (\"3.e.'handle_missing_values' - Test 3 (name: test3e_3-handle_missing_values, points: 0.6)\")\n",
    "\n",
    "file_name_csv = '.' + os.sep + 'data' + os.sep + 'loans_risk_factor_dups.csv'\n",
    "risk_factor_df = load_csv(file_name_csv)\n",
    "\n",
    "try:    \n",
    "    df_no_dups = remove_duplicates(risk_factor_df)\n",
    "    X, y = decouple_data(df_no_dups)\n",
    "    X_train_with_missing, X_test_with_missing, y_train_with_missing, y_test_with_missing = split_data(X, y)\n",
    "    X_train, X_test, y_train, y_test = handle_missing_values(X_train_with_missing, X_test_with_missing, y_train_with_missing, y_test_with_missing)\n",
    "except Exception as e:\n",
    "    print ('You probably have a syntax or implementation error,  \\nerror Message:',str(e), '\\nTry fixing your code')\n",
    "    raise\n",
    "\n",
    "np.testing.assert_array_equal(X_train.index, y_train.index, \"X_train dataframe and y_train series should have the same index after 'handle_missing_values'\")    \n",
    "\n",
    "print (\"Good Job!\\nYou've passed the 3rd test for the 'handle_missing_values' function implementation :-)\")    "
   ]
  },
  {
   "cell_type": "code",
   "execution_count": 252,
   "metadata": {
    "deletable": false,
    "editable": false,
    "nbgrader": {
     "cell_type": "code",
     "checksum": "c3f1e72ca18bfb5a1045cc5a8cd30cd1",
     "grade": true,
     "grade_id": "test3e_4-handle_missing_values",
     "locked": true,
     "points": 0.6,
     "schema_version": 3,
     "solution": false,
     "task": false
    }
   },
   "outputs": [
    {
     "name": "stdout",
     "output_type": "stream",
     "text": [
      "3.e.'handle_missing_values' - Test 4 (name: test3e_4-handle_missing_values, points: 0.6)\n",
      "Good Job!\n",
      "You've passed the 4th test for the 'handle_missing_values' function implementation :-)\n"
     ]
    }
   ],
   "source": [
    "# 3.e. handle_missing_values (graded test)\n",
    "# ====>>> YOUR ACTIONS: RUN ONLY\n",
    "\n",
    "print (\"3.e.'handle_missing_values' - Test 4 (name: test3e_4-handle_missing_values, points: 0.6)\")\n",
    "\n",
    "file_name_csv = '.' + os.sep + 'data' + os.sep + 'loans_risk_factor_dups.csv'\n",
    "risk_factor_df = load_csv(file_name_csv)\n",
    "\n",
    "try:    \n",
    "    df_no_dups = remove_duplicates(risk_factor_df)\n",
    "    X, y = decouple_data(df_no_dups)\n",
    "    X_train_with_missing, X_test_with_missing, y_train_with_missing, y_test_with_missing = split_data(X, y)\n",
    "    X_train, X_test, y_train, y_test = handle_missing_values(X_train_with_missing, X_test_with_missing, y_train_with_missing, y_test_with_missing)\n",
    "except Exception as e:\n",
    "    print ('You probably have a syntax or implementation error,  \\nerror Message:',str(e), '\\nTry fixing your code')\n",
    "    raise\n",
    "\n",
    "np.testing.assert_array_equal(X_test.index, y_test.index, \"X_test dataframe and y_test series should have the same index after 'handle_missing_values'\")  \n",
    "\n",
    "print (\"Good Job!\\nYou've passed the 4th test for the 'handle_missing_values' function implementation :-)\")    "
   ]
  },
  {
   "cell_type": "markdown",
   "metadata": {
    "deletable": false,
    "editable": false,
    "id": "WHuBYESFAZiO",
    "nbgrader": {
     "cell_type": "markdown",
     "checksum": "716490ba172dd29b44c24b7780225ef9",
     "grade": false,
     "grade_id": "cell-f6f6b6d7b8a4e95a",
     "locked": true,
     "schema_version": 3,
     "solution": false,
     "task": false
    }
   },
   "source": [
    "#### 3.f. Outlier Removal - **2 Points**\n",
    "\n",
    "<u>method name</u>: <b>remove_outliers</b><br/>\n",
    "\n",
    "<hr>\n",
    "\n",
    "<u>dependency</u>: <br/>\n",
    "* <b>decouple_data</b></br> \n",
    "* <b>split_data</b></br> \n",
    "\n",
    "<hr>\n",
    "\n",
    "<pre>\n",
    "Complete the following function to delete outliers in **'age', 'years' \n",
    "  'credit_amount' and 'duration'** columns using the \n",
    "  IQR (Interquartile Range Rule) we learned in class and return processed datasets\n",
    "<b>make sure to remove the outliers in test set based on the train set's statistics</b>\n",
    " - note we assume the data set used here has no duplications and no missing values\n",
    " \n",
    "------------\n",
    "input parameters:\n",
    "- X_train - \"loan risk factor\" train dataset's feature vectors\n",
    "- X_test - \"loan risk factor\" test dataset's feature vectors\n",
    "- y_train - \"loan risk factor\" train dataset's labels\n",
    "- y_test - \"loan risk factor\" test dataset's labels\n",
    "------------\n",
    "The return statement should look like the following:\n",
    "return X_train, X_test\n",
    "</pre>  "
   ]
  },
  {
   "cell_type": "markdown",
   "metadata": {
    "deletable": false,
    "editable": false,
    "nbgrader": {
     "cell_type": "markdown",
     "checksum": "e033a5736dbbee0e3dfd4830a4678872",
     "grade": false,
     "grade_id": "cell-f397cc1c5ae699c6",
     "locked": true,
     "schema_version": 3,
     "solution": false,
     "task": false
    }
   },
   "source": [
    "#### 3.f. Outlier Removal - Implement and Run the following code cell:"
   ]
  },
  {
   "cell_type": "code",
   "execution_count": 253,
   "metadata": {
    "deletable": false,
    "id": "W6LAg6MeA5vB",
    "nbgrader": {
     "cell_type": "code",
     "checksum": "bc9ac5dba64c41b3df2bbfa4df4ad4dc",
     "grade": false,
     "grade_id": "solution3f-remove_outliers",
     "locked": false,
     "schema_version": 3,
     "solution": true,
     "task": false
    }
   },
   "outputs": [],
   "source": [
    "# 3.f. remove_outliers (your solution)\n",
    "# ====>>> YOUR ACTIONS: IMPLEMENT & RUN\n",
    "\n",
    "def remove_outliers(X_train, X_test, y_train, y_test):\n",
    "    # YOUR CODE HERE\n",
    "    def drop_outliers(X, y):\n",
    "        # First create a boolean data frame where cells are marked as outliers based on the IQR condition.\n",
    "        # Second, get a boolean series telling if any of the columns in the boolean data frame was true.\n",
    "        # Eventually, we end up with the indices of all outliers, ready to drop them.\n",
    "        outliers_index = X[((X < (Q1 - IQR_range)) | (X > (Q3 + IQR_range))).any(axis=1)].index\n",
    "        X = X.drop(index=outliers_index)\n",
    "        y = y.drop(index=outliers_index)\n",
    "        return X, y\n",
    "    \n",
    "    # Gather the columns we need to remove outliers based on, so we can use DataFrame's batch operations\n",
    "    columns = ['age', 'years', 'credit_amount', 'duration']\n",
    "    df_train = X_train[columns]\n",
    "    df_test = X_test[columns]\n",
    "    \n",
    "    # Define IQR params based on train data. This will be used by our inner method\n",
    "    Q1 = df_train.quantile(0.25)\n",
    "    Q3 = df_train.quantile(0.75)\n",
    "    IQR = Q3 - Q1\n",
    "    IQR_range = 1.5 * IQR\n",
    "\n",
    "    # Perform outliers removal based on stats from X_train.\n",
    "    X_train, y_train = drop_outliers(X_train, y_train)\n",
    "    X_test, y_test = drop_outliers(X_test, y_test)\n",
    "    \n",
    "    return X_train, X_test, y_train, y_test\n",
    "    "
   ]
  },
  {
   "cell_type": "markdown",
   "metadata": {
    "deletable": false,
    "editable": false,
    "nbgrader": {
     "cell_type": "markdown",
     "checksum": "bd3c953defa89559486715b9a1a9a930",
     "grade": false,
     "grade_id": "cell-744f75cbbb27ba8e",
     "locked": true,
     "schema_version": 3,
     "solution": false,
     "task": false
    }
   },
   "source": [
    "##### 3.f. remove_outliers- OPTIONAL SELF TEST - Implement & Run the following code cell (IF NEEDED):"
   ]
  },
  {
   "cell_type": "code",
   "execution_count": 254,
   "metadata": {
    "colab": {
     "base_uri": "https://localhost:8080/"
    },
    "deletable": false,
    "id": "8xSTnROTxFse",
    "nbgrader": {
     "cell_type": "code",
     "checksum": "acd11200458eebeb7741d3dacfe09b1f",
     "grade": false,
     "grade_id": "self_test3f-remove_outliers",
     "locked": false,
     "schema_version": 3,
     "solution": true,
     "task": false
    },
    "outputId": "b9a473cd-102d-406a-fc98-0a2e4b9d568d"
   },
   "outputs": [
    {
     "name": "stdout",
     "output_type": "stream",
     "text": [
      "Shape of X_train before cleansing: (440, 10) and after: (331, 10)\n",
      "Shape of X_test before cleansing: (111, 10) and after: (82, 10)\n",
      "Shape of y_train before cleansing: (440,) and after: (331,)\n",
      "Shape of y_test before cleansing: (111,) and after: (82,)\n"
     ]
    }
   ],
   "source": [
    "# 3.f. remove_outliers (optional self testing)\n",
    "# ====>>> YOUR ACTIONS: (optional) IMPLEMENT & RUN \n",
    "file_name_csv = '.' + os.sep + 'data' + os.sep + 'loans_risk_factor_nodups_no_missing.csv'\n",
    "risk_factor_df = load_csv(file_name_csv)\n",
    "X, y = decouple_data(risk_factor_df)\n",
    "X_train_with_outliers, X_test_with_outliers, y_train_with_outliers, y_test_with_outliers = split_data(X, y)\n",
    "X_train, X_test, y_train, y_test = remove_outliers(X_train_with_outliers, X_test_with_outliers, y_train_with_outliers, y_test_with_outliers)\n",
    "\n",
    "# --- add additional code to check your code if needed:\n",
    "# YOUR CODE HERE\n",
    "print(f'Shape of X_train before cleansing: {X_train_with_missing.shape} and after: {X_train.shape}')\n",
    "print(f'Shape of X_test before cleansing: {X_test_with_missing.shape} and after: {X_test.shape}')\n",
    "print(f'Shape of y_train before cleansing: {y_train_with_missing.shape} and after: {y_train.shape}')\n",
    "print(f'Shape of y_test before cleansing: {y_test_with_missing.shape} and after: {y_test.shape}')\n"
   ]
  },
  {
   "cell_type": "markdown",
   "metadata": {
    "deletable": false,
    "editable": false,
    "nbgrader": {
     "cell_type": "markdown",
     "checksum": "8569aaa6dfa27ba06d830f02f541a684",
     "grade": false,
     "grade_id": "cell-17448f131917f554",
     "locked": true,
     "schema_version": 3,
     "solution": false,
     "task": false
    }
   },
   "source": [
    "##### 3.f. remove_outliers - GRADED TESTS - Run the following (2) code cells:"
   ]
  },
  {
   "cell_type": "code",
   "execution_count": 255,
   "metadata": {
    "deletable": false,
    "editable": false,
    "nbgrader": {
     "cell_type": "code",
     "checksum": "e55739c4b0f49e7b4934f87b461dcc11",
     "grade": true,
     "grade_id": "test3f_1-remove_outliers",
     "locked": true,
     "points": 0.2,
     "schema_version": 3,
     "solution": false,
     "task": false
    }
   },
   "outputs": [
    {
     "name": "stdout",
     "output_type": "stream",
     "text": [
      "3.f.'remove_outliers' - Test 1 (name: test3f_1-remove_outliers, points: 0.2) - Sanity\n",
      "Good Job!\n",
      "You've passed the 1st test for the 'remove_outliers' function implementation :-)\n"
     ]
    }
   ],
   "source": [
    "# 3.f. remove_outliers (graded test)\n",
    "# ====>>> YOUR ACTIONS: RUN ONLY\n",
    "\n",
    "print (\"3.f.'remove_outliers' - Test 1 (name: test3f_1-remove_outliers, points: 0.2) - Sanity\")\n",
    "\n",
    "file_name_csv = '.' + os.sep + 'data' + os.sep + 'loans_risk_factor_nodups_no_missing.csv'\n",
    "\n",
    "try:    \n",
    "    risk_factor_df = load_csv(file_name_csv)\n",
    "    X, y = decouple_data(risk_factor_df)\n",
    "    X_train_with_outliers, X_test_with_outliers, y_train_with_outliers, y_test_with_outliers = split_data(X, y)\n",
    "    X_train, X_test, y_train, y_test = remove_outliers(X_train_with_outliers, X_test_with_outliers, y_train_with_outliers, y_test_with_outliers)\n",
    "except Exception as e:\n",
    "    print ('You probably have a syntax or implementation error,  \\nerror Message:',str(e), '\\nTry fixing your code')\n",
    "    raise\n",
    "\n",
    "print (\"Good Job!\\nYou've passed the 1st test for the 'remove_outliers' function implementation :-)\")    "
   ]
  },
  {
   "cell_type": "code",
   "execution_count": 256,
   "metadata": {
    "deletable": false,
    "editable": false,
    "nbgrader": {
     "cell_type": "code",
     "checksum": "652aa0bf5e8f70c79442cfafca716e9f",
     "grade": true,
     "grade_id": "test3f_2-remove_outliers",
     "locked": true,
     "points": 0.6,
     "schema_version": 3,
     "solution": false,
     "task": false
    }
   },
   "outputs": [
    {
     "name": "stdout",
     "output_type": "stream",
     "text": [
      "3.f.'remove_outliers' - Test 2 (name: test3f_2-remove_outliers, points: 0.6)\n",
      "Good Job!\n",
      "You've passed the 2nd test for the 'remove_outliers' function implementation :-)\n"
     ]
    }
   ],
   "source": [
    "# 3.f. remove_outliers (graded test)\n",
    "# ====>>> YOUR ACTIONS: RUN ONLY\n",
    "\n",
    "print (\"3.f.'remove_outliers' - Test 2 (name: test3f_2-remove_outliers, points: 0.6)\")\n",
    "\n",
    "file_name_csv = '.' + os.sep + 'data' + os.sep + 'loans_risk_factor_nodups_no_missing.csv'\n",
    "\n",
    "try:    \n",
    "    risk_factor_df = load_csv(file_name_csv)\n",
    "    X, y = decouple_data(risk_factor_df)\n",
    "    X_train_with_outliers, X_test_with_outliers, y_train_with_outliers, y_test_with_outliers = split_data(X, y)\n",
    "    X_train, X_test, y_train, y_test = remove_outliers(X_train_with_outliers, X_test_with_outliers, y_train_with_outliers, y_test_with_outliers)\n",
    "except Exception as e:\n",
    "    print ('You probably have a syntax or implementation error,  \\nerror Message:',str(e), '\\nTry fixing your code')\n",
    "    raise\n",
    "\n",
    "assert (331, 10) == X_train.shape and (82,10) == X_test.shape, \"Wrong shape for feature vectors dataframe X_train or X_test after 'remove_outliers'\"\n",
    "    \n",
    "print (\"Good Job!\\nYou've passed the 2nd test for the 'remove_outliers' function implementation :-)\")    "
   ]
  },
  {
   "cell_type": "code",
   "execution_count": 257,
   "metadata": {
    "deletable": false,
    "editable": false,
    "nbgrader": {
     "cell_type": "code",
     "checksum": "ca76816d91ed7e3b9f0d102d2bafc377",
     "grade": true,
     "grade_id": "test3f_3-remove_outliers",
     "locked": true,
     "points": 0.6,
     "schema_version": 3,
     "solution": false,
     "task": false
    }
   },
   "outputs": [
    {
     "name": "stdout",
     "output_type": "stream",
     "text": [
      "3.f.'remove_outliers' - Test 3 (name: test3f_3-remove_outliers, points: 0.6)\n",
      "Good Job!\n",
      "You've passed the 3rd test for the 'remove_outliers' function implementation :-)\n"
     ]
    }
   ],
   "source": [
    "# 3.f. remove_outliers (graded test)\n",
    "# ====>>> YOUR ACTIONS: RUN ONLY\n",
    "\n",
    "print (\"3.f.'remove_outliers' - Test 3 (name: test3f_3-remove_outliers, points: 0.6)\")\n",
    "\n",
    "file_name_csv = '.' + os.sep + 'data' + os.sep + 'loans_risk_factor_nodups_no_missing.csv'\n",
    "\n",
    "try:    \n",
    "    risk_factor_df = load_csv(file_name_csv)\n",
    "    X, y = decouple_data(risk_factor_df)\n",
    "    X_train_with_outliers, X_test_with_outliers, y_train_with_outliers, y_test_with_outliers = split_data(X, y)\n",
    "    X_train, X_test, y_train, y_test = remove_outliers(X_train_with_outliers, X_test_with_outliers, y_train_with_outliers, y_test_with_outliers)\n",
    "except Exception as e:\n",
    "    print ('You probably have a syntax or implementation error,  \\nerror Message:',str(e), '\\nTry fixing your code')\n",
    "    raise\n",
    "\n",
    "assert 331 == y_train.shape[0] and 82 == y_test.shape[0], \"Wrong shape for target series y_train or y_test after 'remove_outliers'\"\n",
    "    \n",
    "print (\"Good Job!\\nYou've passed the 3rd test for the 'remove_outliers' function implementation :-)\")    "
   ]
  },
  {
   "cell_type": "code",
   "execution_count": 258,
   "metadata": {
    "deletable": false,
    "editable": false,
    "nbgrader": {
     "cell_type": "code",
     "checksum": "338ae15926422a615ef67d8ba1aaf980",
     "grade": true,
     "grade_id": "cell-359fb05da96eda79",
     "locked": true,
     "points": 0.6,
     "schema_version": 3,
     "solution": false,
     "task": false
    }
   },
   "outputs": [
    {
     "name": "stdout",
     "output_type": "stream",
     "text": [
      "3.f.'remove_outliers' - Test 4 (name: test3f_4-remove_outliers, points: 0.6)\n",
      "Good Job!\n",
      "You've passed the 4th test for the 'remove_outliers' function implementation :-)\n"
     ]
    }
   ],
   "source": [
    "# 3.f. remove_outliers (graded test)\n",
    "# ====>>> YOUR ACTIONS: RUN ONLY\n",
    "\n",
    "print (\"3.f.'remove_outliers' - Test 4 (name: test3f_4-remove_outliers, points: 0.6)\")\n",
    "\n",
    "file_name_csv = '.' + os.sep + 'data' + os.sep + 'loans_risk_factor_nodups_no_missing.csv'\n",
    "\n",
    "try:    \n",
    "    risk_factor_df = load_csv(file_name_csv)\n",
    "    X, y = decouple_data(risk_factor_df)\n",
    "    X_train_with_outliers, X_test_with_outliers, y_train_with_outliers, y_test_with_outliers = split_data(X, y)\n",
    "    X_train, X_test, y_train, y_test = remove_outliers(X_train_with_outliers, X_test_with_outliers, y_train_with_outliers, y_test_with_outliers)\n",
    "except Exception as e:\n",
    "    print ('You probably have a syntax or implementation error,  \\nerror Message:',str(e), '\\nTry fixing your code')\n",
    "    raise\n",
    "\n",
    "\n",
    "\n",
    "np.testing.assert_array_compare(operator.__ne__, X_train.iloc[:10].index, X_test.iloc[:10].index, \"X_train and X_test dataframes should not have the same index after 'split_data'\")\n",
    "\n",
    "np.testing.assert_array_equal(X_train.index, y_train.index, \"X_train dataframe and y_train series should have the same index after 'split_data'\")    \n",
    "np.testing.assert_array_equal(X_test.index, y_test.index, \"X_test dataframe and y_test series should have the same index after 'split_data'\")    \n",
    "    \n",
    "print (\"Good Job!\\nYou've passed the 4th test for the 'remove_outliers' function implementation :-)\")    "
   ]
  },
  {
   "cell_type": "markdown",
   "metadata": {
    "deletable": false,
    "editable": false,
    "id": "ww5zfz3YBBlW",
    "nbgrader": {
     "cell_type": "markdown",
     "checksum": "ac891e1dcefdeb39da980af6da9a30f1",
     "grade": false,
     "grade_id": "cell-37a766ad4688eaaf",
     "locked": true,
     "schema_version": 3,
     "solution": false,
     "task": false
    }
   },
   "source": [
    "#### 3.g. Scaling - **2 Points**\n",
    "\n",
    "<u>method name</u>: <b>scale_data</b><br/>\n",
    "\n",
    "<hr>\n",
    "\n",
    "<u>dependency</u>: <br/>\n",
    "* <b>decouple_data</b></br> \n",
    "* <b>split_data</b></br> \n",
    "\n",
    "<hr>\n",
    "\n",
    "<pre>\n",
    "Complete the following function to scale **'age', 'years', 'credit_amount' and \n",
    "  'duration'** columns to be in the range [0, 1] using Sklearn MinMaxScaler  \n",
    "  learned in class and return scaled datasets\n",
    "  - use the feature_range parameter to set a range of the scale feature_range=(new_min,new_max)\n",
    "  \n",
    "\n",
    "*make sure to scale the data in test set based on the train set's statistics*\n",
    "\n",
    "------------\n",
    "input parameters:\n",
    "- X_train - \"loan risk factor\" train dataset's feature vectors\n",
    "- X_test - \"loan risk factor\" test dataset's feature vectors\n",
    "------------\n",
    "The return statement should look like the following:\n",
    "return X_train, X_test\n",
    "</pre>  "
   ]
  },
  {
   "cell_type": "markdown",
   "metadata": {
    "deletable": false,
    "editable": false,
    "nbgrader": {
     "cell_type": "markdown",
     "checksum": "b666280bb0b20aa0a1424308a9d238c3",
     "grade": false,
     "grade_id": "cell-35e1648e42ebf9b0",
     "locked": true,
     "schema_version": 3,
     "solution": false,
     "task": false
    }
   },
   "source": [
    "#### 3.g. Scaling - Implement and Run the following code cell:"
   ]
  },
  {
   "cell_type": "code",
   "execution_count": 259,
   "metadata": {
    "deletable": false,
    "id": "L0ux0pkwBmBh",
    "nbgrader": {
     "cell_type": "code",
     "checksum": "3ddeb40aac2a30d9e1b2cd9e82af7af4",
     "grade": false,
     "grade_id": "solution3g-scale_data",
     "locked": false,
     "schema_version": 3,
     "solution": true,
     "task": false
    }
   },
   "outputs": [],
   "source": [
    "# 3.g. scale_data (your solution)\n",
    "# ====>>> YOUR ACTIONS: IMPLEMENT & RUN\n",
    "\n",
    "def scale_data(X_train, X_test):\n",
    "    # YOUR CODE HERE\n",
    "    # Gather the columns we need to remove outliers based on, so we can use DataFrame's batch operations\n",
    "    columns = ['age', 'years', 'credit_amount', 'duration']\n",
    "    df_train = X_train[columns]\n",
    "    df_test = X_test[columns]\n",
    "    \n",
    "    # Scale dataframe with the desired columns\n",
    "    minmax_scaler = MinMaxScaler(feature_range=(0, 1))\n",
    "    X_train_minmax = pd.DataFrame(minmax_scaler.fit_transform(df_train), columns=df_train.columns, index=df_train.index)\n",
    "    X_test_minmax = pd.DataFrame(minmax_scaler.transform(df_test), columns=df_test.columns, index=df_test.index)\n",
    "    \n",
    "    # Replace the columns with those we have just scaled\n",
    "    # Use the '**' operator to unpack the dictionary of columns into keyword arguments in function call. \n",
    "    # So, instead of having to write the column names manually like this:\n",
    "    # X_train = X_train.assign(age=X_train_minmax.age, years=X_train_minmax.years, credit_amount=X_train_minmax.credit_amount, duration=X_train_minmax.duration)\n",
    "    # Just rely on the columns in X_train_minmax, generically.\n",
    "    X_train = X_train.assign(**X_train_minmax.to_dict(orient='series'))\n",
    "    X_test = X_test.assign(**X_test_minmax.to_dict(orient='series'))\n",
    "    \n",
    "    return X_train, X_test\n",
    "    "
   ]
  },
  {
   "cell_type": "markdown",
   "metadata": {
    "deletable": false,
    "editable": false,
    "nbgrader": {
     "cell_type": "markdown",
     "checksum": "19bb88836b0120b608787891df22dec5",
     "grade": false,
     "grade_id": "cell-5002db5f8c3eaea7",
     "locked": true,
     "schema_version": 3,
     "solution": false,
     "task": false
    }
   },
   "source": [
    "##### 3.g. scale_data- OPTIONAL SELF TEST - Implement & Run the following code cell (IF NEEDED):"
   ]
  },
  {
   "cell_type": "code",
   "execution_count": 260,
   "metadata": {
    "colab": {
     "base_uri": "https://localhost:8080/"
    },
    "deletable": false,
    "id": "vU3U9nve1Od3",
    "nbgrader": {
     "cell_type": "code",
     "checksum": "8e01288f47ff4edb2d4919ad7c69663d",
     "grade": false,
     "grade_id": "self_test3g-scale_data",
     "locked": false,
     "schema_version": 3,
     "solution": true,
     "task": false
    },
    "outputId": "cca34a7e-a81b-4e71-983d-c22a406dd1a7"
   },
   "outputs": [
    {
     "name": "stdout",
     "output_type": "stream",
     "text": [
      "Before (Train):\n"
     ]
    },
    {
     "data": {
      "text/html": [
       "<div>\n",
       "<style scoped>\n",
       "    .dataframe tbody tr th:only-of-type {\n",
       "        vertical-align: middle;\n",
       "    }\n",
       "\n",
       "    .dataframe tbody tr th {\n",
       "        vertical-align: top;\n",
       "    }\n",
       "\n",
       "    .dataframe thead th {\n",
       "        text-align: right;\n",
       "    }\n",
       "</style>\n",
       "<table border=\"1\" class=\"dataframe\">\n",
       "  <thead>\n",
       "    <tr style=\"text-align: right;\">\n",
       "      <th></th>\n",
       "      <th>age</th>\n",
       "      <th>sex</th>\n",
       "      <th>job</th>\n",
       "      <th>housing</th>\n",
       "      <th>years</th>\n",
       "      <th>saving_account</th>\n",
       "      <th>checking_account</th>\n",
       "      <th>credit_amount</th>\n",
       "      <th>duration</th>\n",
       "      <th>purpose</th>\n",
       "    </tr>\n",
       "  </thead>\n",
       "  <tbody>\n",
       "    <tr>\n",
       "      <th>0</th>\n",
       "      <td>20</td>\n",
       "      <td>female</td>\n",
       "      <td>1</td>\n",
       "      <td>rent</td>\n",
       "      <td>2.000</td>\n",
       "      <td>little</td>\n",
       "      <td>moderate</td>\n",
       "      <td>2718</td>\n",
       "      <td>24.000</td>\n",
       "      <td>car</td>\n",
       "    </tr>\n",
       "    <tr>\n",
       "      <th>1</th>\n",
       "      <td>22</td>\n",
       "      <td>male</td>\n",
       "      <td>2</td>\n",
       "      <td>own</td>\n",
       "      <td>1.000</td>\n",
       "      <td>rich</td>\n",
       "      <td>moderate</td>\n",
       "      <td>1007</td>\n",
       "      <td>12.000</td>\n",
       "      <td>car</td>\n",
       "    </tr>\n",
       "    <tr>\n",
       "      <th>2</th>\n",
       "      <td>36</td>\n",
       "      <td>male</td>\n",
       "      <td>2</td>\n",
       "      <td>own</td>\n",
       "      <td>3.000</td>\n",
       "      <td>little</td>\n",
       "      <td>little</td>\n",
       "      <td>6304</td>\n",
       "      <td>36.000</td>\n",
       "      <td>business</td>\n",
       "    </tr>\n",
       "  </tbody>\n",
       "</table>\n",
       "</div>"
      ],
      "text/plain": [
       "   age     sex  job housing  years saving_account checking_account  \\\n",
       "0   20  female    1    rent  2.000         little         moderate   \n",
       "1   22    male    2     own  1.000           rich         moderate   \n",
       "2   36    male    2     own  3.000         little           little   \n",
       "\n",
       "   credit_amount  duration   purpose  \n",
       "0           2718    24.000       car  \n",
       "1           1007    12.000       car  \n",
       "2           6304    36.000  business  "
      ]
     },
     "execution_count": 260,
     "metadata": {},
     "output_type": "execute_result"
    },
    {
     "name": "stdout",
     "output_type": "stream",
     "text": [
      "After (Train):\n"
     ]
    },
    {
     "data": {
      "text/html": [
       "<div>\n",
       "<style scoped>\n",
       "    .dataframe tbody tr th:only-of-type {\n",
       "        vertical-align: middle;\n",
       "    }\n",
       "\n",
       "    .dataframe tbody tr th {\n",
       "        vertical-align: top;\n",
       "    }\n",
       "\n",
       "    .dataframe thead th {\n",
       "        text-align: right;\n",
       "    }\n",
       "</style>\n",
       "<table border=\"1\" class=\"dataframe\">\n",
       "  <thead>\n",
       "    <tr style=\"text-align: right;\">\n",
       "      <th></th>\n",
       "      <th>age</th>\n",
       "      <th>sex</th>\n",
       "      <th>job</th>\n",
       "      <th>housing</th>\n",
       "      <th>years</th>\n",
       "      <th>saving_account</th>\n",
       "      <th>checking_account</th>\n",
       "      <th>credit_amount</th>\n",
       "      <th>duration</th>\n",
       "      <th>purpose</th>\n",
       "    </tr>\n",
       "  </thead>\n",
       "  <tbody>\n",
       "    <tr>\n",
       "      <th>0</th>\n",
       "      <td>0.022</td>\n",
       "      <td>female</td>\n",
       "      <td>1</td>\n",
       "      <td>rent</td>\n",
       "      <td>0.455</td>\n",
       "      <td>little</td>\n",
       "      <td>moderate</td>\n",
       "      <td>0.279</td>\n",
       "      <td>0.455</td>\n",
       "      <td>car</td>\n",
       "    </tr>\n",
       "    <tr>\n",
       "      <th>1</th>\n",
       "      <td>0.067</td>\n",
       "      <td>male</td>\n",
       "      <td>2</td>\n",
       "      <td>own</td>\n",
       "      <td>0.182</td>\n",
       "      <td>rich</td>\n",
       "      <td>moderate</td>\n",
       "      <td>0.083</td>\n",
       "      <td>0.182</td>\n",
       "      <td>car</td>\n",
       "    </tr>\n",
       "    <tr>\n",
       "      <th>2</th>\n",
       "      <td>0.378</td>\n",
       "      <td>male</td>\n",
       "      <td>2</td>\n",
       "      <td>own</td>\n",
       "      <td>0.727</td>\n",
       "      <td>little</td>\n",
       "      <td>little</td>\n",
       "      <td>0.688</td>\n",
       "      <td>0.727</td>\n",
       "      <td>business</td>\n",
       "    </tr>\n",
       "  </tbody>\n",
       "</table>\n",
       "</div>"
      ],
      "text/plain": [
       "    age     sex  job housing  years saving_account checking_account  \\\n",
       "0 0.022  female    1    rent  0.455         little         moderate   \n",
       "1 0.067    male    2     own  0.182           rich         moderate   \n",
       "2 0.378    male    2     own  0.727         little           little   \n",
       "\n",
       "   credit_amount  duration   purpose  \n",
       "0          0.279     0.455       car  \n",
       "1          0.083     0.182       car  \n",
       "2          0.688     0.727  business  "
      ]
     },
     "execution_count": 260,
     "metadata": {},
     "output_type": "execute_result"
    },
    {
     "name": "stdout",
     "output_type": "stream",
     "text": [
      "Before (Test):\n"
     ]
    },
    {
     "data": {
      "text/html": [
       "<div>\n",
       "<style scoped>\n",
       "    .dataframe tbody tr th:only-of-type {\n",
       "        vertical-align: middle;\n",
       "    }\n",
       "\n",
       "    .dataframe tbody tr th {\n",
       "        vertical-align: top;\n",
       "    }\n",
       "\n",
       "    .dataframe thead th {\n",
       "        text-align: right;\n",
       "    }\n",
       "</style>\n",
       "<table border=\"1\" class=\"dataframe\">\n",
       "  <thead>\n",
       "    <tr style=\"text-align: right;\">\n",
       "      <th></th>\n",
       "      <th>age</th>\n",
       "      <th>sex</th>\n",
       "      <th>job</th>\n",
       "      <th>housing</th>\n",
       "      <th>years</th>\n",
       "      <th>saving_account</th>\n",
       "      <th>checking_account</th>\n",
       "      <th>credit_amount</th>\n",
       "      <th>duration</th>\n",
       "      <th>purpose</th>\n",
       "    </tr>\n",
       "  </thead>\n",
       "  <tbody>\n",
       "    <tr>\n",
       "      <th>305</th>\n",
       "      <td>49</td>\n",
       "      <td>male</td>\n",
       "      <td>1</td>\n",
       "      <td>own</td>\n",
       "      <td>1.000</td>\n",
       "      <td>little</td>\n",
       "      <td>little</td>\n",
       "      <td>2096</td>\n",
       "      <td>12.000</td>\n",
       "      <td>education</td>\n",
       "    </tr>\n",
       "    <tr>\n",
       "      <th>306</th>\n",
       "      <td>30</td>\n",
       "      <td>male</td>\n",
       "      <td>2</td>\n",
       "      <td>own</td>\n",
       "      <td>1.000</td>\n",
       "      <td>little</td>\n",
       "      <td>moderate</td>\n",
       "      <td>639</td>\n",
       "      <td>12.000</td>\n",
       "      <td>repairs</td>\n",
       "    </tr>\n",
       "    <tr>\n",
       "      <th>307</th>\n",
       "      <td>54</td>\n",
       "      <td>male</td>\n",
       "      <td>2</td>\n",
       "      <td>own</td>\n",
       "      <td>4.000</td>\n",
       "      <td>little</td>\n",
       "      <td>little</td>\n",
       "      <td>3051</td>\n",
       "      <td>48.000</td>\n",
       "      <td>domestic appliances</td>\n",
       "    </tr>\n",
       "  </tbody>\n",
       "</table>\n",
       "</div>"
      ],
      "text/plain": [
       "     age   sex  job housing  years saving_account checking_account  \\\n",
       "305   49  male    1     own  1.000         little           little   \n",
       "306   30  male    2     own  1.000         little         moderate   \n",
       "307   54  male    2     own  4.000         little           little   \n",
       "\n",
       "     credit_amount  duration              purpose  \n",
       "305           2096    12.000            education  \n",
       "306            639    12.000              repairs  \n",
       "307           3051    48.000  domestic appliances  "
      ]
     },
     "execution_count": 260,
     "metadata": {},
     "output_type": "execute_result"
    },
    {
     "name": "stdout",
     "output_type": "stream",
     "text": [
      "After (Test):\n"
     ]
    },
    {
     "data": {
      "text/html": [
       "<div>\n",
       "<style scoped>\n",
       "    .dataframe tbody tr th:only-of-type {\n",
       "        vertical-align: middle;\n",
       "    }\n",
       "\n",
       "    .dataframe tbody tr th {\n",
       "        vertical-align: top;\n",
       "    }\n",
       "\n",
       "    .dataframe thead th {\n",
       "        text-align: right;\n",
       "    }\n",
       "</style>\n",
       "<table border=\"1\" class=\"dataframe\">\n",
       "  <thead>\n",
       "    <tr style=\"text-align: right;\">\n",
       "      <th></th>\n",
       "      <th>age</th>\n",
       "      <th>sex</th>\n",
       "      <th>job</th>\n",
       "      <th>housing</th>\n",
       "      <th>years</th>\n",
       "      <th>saving_account</th>\n",
       "      <th>checking_account</th>\n",
       "      <th>credit_amount</th>\n",
       "      <th>duration</th>\n",
       "      <th>purpose</th>\n",
       "    </tr>\n",
       "  </thead>\n",
       "  <tbody>\n",
       "    <tr>\n",
       "      <th>305</th>\n",
       "      <td>0.667</td>\n",
       "      <td>male</td>\n",
       "      <td>1</td>\n",
       "      <td>own</td>\n",
       "      <td>0.182</td>\n",
       "      <td>little</td>\n",
       "      <td>little</td>\n",
       "      <td>0.208</td>\n",
       "      <td>0.182</td>\n",
       "      <td>education</td>\n",
       "    </tr>\n",
       "    <tr>\n",
       "      <th>306</th>\n",
       "      <td>0.244</td>\n",
       "      <td>male</td>\n",
       "      <td>2</td>\n",
       "      <td>own</td>\n",
       "      <td>0.182</td>\n",
       "      <td>little</td>\n",
       "      <td>moderate</td>\n",
       "      <td>0.041</td>\n",
       "      <td>0.182</td>\n",
       "      <td>repairs</td>\n",
       "    </tr>\n",
       "    <tr>\n",
       "      <th>307</th>\n",
       "      <td>0.778</td>\n",
       "      <td>male</td>\n",
       "      <td>2</td>\n",
       "      <td>own</td>\n",
       "      <td>1.000</td>\n",
       "      <td>little</td>\n",
       "      <td>little</td>\n",
       "      <td>0.317</td>\n",
       "      <td>1.000</td>\n",
       "      <td>domestic appliances</td>\n",
       "    </tr>\n",
       "  </tbody>\n",
       "</table>\n",
       "</div>"
      ],
      "text/plain": [
       "      age   sex  job housing  years saving_account checking_account  \\\n",
       "305 0.667  male    1     own  0.182         little           little   \n",
       "306 0.244  male    2     own  0.182         little         moderate   \n",
       "307 0.778  male    2     own  1.000         little           little   \n",
       "\n",
       "     credit_amount  duration              purpose  \n",
       "305          0.208     0.182            education  \n",
       "306          0.041     0.182              repairs  \n",
       "307          0.317     1.000  domestic appliances  "
      ]
     },
     "execution_count": 260,
     "metadata": {},
     "output_type": "execute_result"
    }
   ],
   "source": [
    "# 3.g. scale_data (optional self testing)\n",
    "# ====>>> YOUR ACTIONS: (optional) IMPLEMENT & RUN \n",
    "file_name_csv = '.' + os.sep + 'data' + os.sep + 'loans_risk_factor_cleansed.csv'\n",
    "risk_factor_df = load_csv(file_name_csv)\n",
    "X, y = decouple_data(risk_factor_df)\n",
    "X_train, X_test, y_train, y_test = split_data(X, y)\n",
    "X_train_scaled, X_test_scaled = scale_data(X_train, X_test)\n",
    "# --- add additional code to check your code if needed:\n",
    "# YOUR CODE HERE\n",
    "print('Before (Train):')\n",
    "X_train.head(3)\n",
    "print('After (Train):')\n",
    "X_train_scaled.head(3)\n",
    "print('Before (Test):')\n",
    "X_test.head(3)\n",
    "print('After (Test):')\n",
    "X_test_scaled.head(3)\n"
   ]
  },
  {
   "cell_type": "markdown",
   "metadata": {
    "deletable": false,
    "editable": false,
    "nbgrader": {
     "cell_type": "markdown",
     "checksum": "8e8be95e1b2355f2e4a04d19fe30c425",
     "grade": false,
     "grade_id": "cell-1053e03db75029d5",
     "locked": true,
     "schema_version": 3,
     "solution": false,
     "task": false
    }
   },
   "source": [
    "##### 3.g. scale_data - GRADED TESTS - Run the following (2) code cells:"
   ]
  },
  {
   "cell_type": "code",
   "execution_count": 261,
   "metadata": {
    "deletable": false,
    "editable": false,
    "nbgrader": {
     "cell_type": "code",
     "checksum": "946dcf56a6159f5e9959063023ecbe3e",
     "grade": true,
     "grade_id": "test3g_1-scale_data",
     "locked": true,
     "points": 0.2,
     "schema_version": 3,
     "solution": false,
     "task": false
    }
   },
   "outputs": [
    {
     "name": "stdout",
     "output_type": "stream",
     "text": [
      "3.g.'scale_data' - Test 1 (name: test3g_1-scale_data, points: 0.2) - Sanity\n",
      "Good Job!\n",
      "You've passed the 1st test for the 'scale_data' function implementation :-)\n"
     ]
    }
   ],
   "source": [
    "# 3.g. scale_data (graded test)\n",
    "# ====>>> YOUR ACTIONS: RUN ONLY\n",
    "\n",
    "print (\"3.g.'scale_data' - Test 1 (name: test3g_1-scale_data, points: 0.2) - Sanity\")\n",
    "\n",
    "file_name_csv = '.' + os.sep + 'data' + os.sep + 'loans_risk_factor_cleansed.csv'\n",
    "\n",
    "try:    \n",
    "    risk_factor_df = load_csv(file_name_csv)\n",
    "    X, y = decouple_data(risk_factor_df)\n",
    "    X_train, X_test, y_train, y_test = split_data(X, y)\n",
    "    X_train_scaled, X_test_scaled = scale_data(X_train, X_test)\n",
    "except Exception as e:\n",
    "    print ('You probably have a syntax or implementation error,  \\nerror Message:',str(e), '\\nTry fixing your code')\n",
    "    raise\n",
    "\n",
    "print (\"Good Job!\\nYou've passed the 1st test for the 'scale_data' function implementation :-)\")    "
   ]
  },
  {
   "cell_type": "code",
   "execution_count": 262,
   "metadata": {
    "deletable": false,
    "editable": false,
    "nbgrader": {
     "cell_type": "code",
     "checksum": "49b3589847373cd0b38c3ae887f8cd29",
     "grade": true,
     "grade_id": "test3g_2-scale_data",
     "locked": true,
     "points": 0.5,
     "schema_version": 3,
     "solution": false,
     "task": false
    }
   },
   "outputs": [
    {
     "name": "stdout",
     "output_type": "stream",
     "text": [
      "3.g.'scale_data' - Test 2 (name: test3g_2-scale_data, points: 0.5)\n",
      "Good Job!\n",
      "You've passed the 2nd test for the 'scale_data' function implementation :-)\n"
     ]
    }
   ],
   "source": [
    "# 3.g. scale_data (graded test)\n",
    "# ====>>> YOUR ACTIONS: RUN ONLY\n",
    "\n",
    "print (\"3.g.'scale_data' - Test 2 (name: test3g_2-scale_data, points: 0.5)\")\n",
    "\n",
    "file_name_csv = '.' + os.sep + 'data' + os.sep + 'loans_risk_factor_cleansed.csv'\n",
    "\n",
    "try:    \n",
    "    risk_factor_df = load_csv(file_name_csv)\n",
    "    X, y = decouple_data(risk_factor_df)\n",
    "    X_train, X_test, y_train, y_test = split_data(X, y)\n",
    "    X_train_scaled, X_test_scaled = scale_data(X_train, X_test)\n",
    "except Exception as e:\n",
    "    print ('You probably have a syntax or implementation error,  \\nerror Message:',str(e), '\\nTry fixing your code')\n",
    "    raise\n",
    "    \n",
    "assert (305, 10) == X_train_scaled.shape and (77,10) == X_test_scaled.shape, \"Wrong shape for feature vectors dataframe X_train_scaled or X_test_scaled after 'scale_data'\"\n",
    "assert 305 == y_train.shape[0] and 77 == y_test.shape[0], \"Wrong shape for target series y_train_no_outliers or y_test_no_outliers after 'scale_data'\"    \n",
    "\n",
    "print (\"Good Job!\\nYou've passed the 2nd test for the 'scale_data' function implementation :-)\")    "
   ]
  },
  {
   "cell_type": "code",
   "execution_count": 263,
   "metadata": {
    "deletable": false,
    "editable": false,
    "nbgrader": {
     "cell_type": "code",
     "checksum": "bb2d38a202c9be87778a65d56ae4dd37",
     "grade": true,
     "grade_id": "test3g_3-scale_data",
     "locked": true,
     "points": 0.6,
     "schema_version": 3,
     "solution": false,
     "task": false
    }
   },
   "outputs": [
    {
     "name": "stdout",
     "output_type": "stream",
     "text": [
      "3.g.'scale_data' - Test 3 (name: test3g_3-scale_data, points: 0.6)\n",
      "Good Job!\n",
      "You've passed the 3rd test for the 'scale_data' function implementation :-)\n"
     ]
    }
   ],
   "source": [
    "# 3.g. scale_data (graded test)\n",
    "# ====>>> YOUR ACTIONS: RUN ONLY\n",
    "\n",
    "print (\"3.g.'scale_data' - Test 3 (name: test3g_3-scale_data, points: 0.6)\")\n",
    "\n",
    "file_name_csv = '.' + os.sep + 'data' + os.sep + 'loans_risk_factor_cleansed.csv'\n",
    "\n",
    "try:    \n",
    "    risk_factor_df = load_csv(file_name_csv)\n",
    "    X, y = decouple_data(risk_factor_df)\n",
    "    X_train, X_test, y_train, y_test = split_data(X, y)\n",
    "    X_train_scaled, X_test_scaled = scale_data(X_train, X_test)\n",
    "except Exception as e:\n",
    "    print ('You probably have a syntax or implementation error,  \\nerror Message:',str(e), '\\nTry fixing your code')\n",
    "    raise\n",
    "\n",
    "for col in ['age', 'years', 'credit_amount', 'duration']:\n",
    "    assert X_train_scaled[col].between(-0.001, 1.001).all(), \"Wrong scale for feature vectors dataframe X_train_scaled after 'scale_data', must be in the range [0, 1]\"\n",
    "\n",
    "print (\"Good Job!\\nYou've passed the 3rd test for the 'scale_data' function implementation :-)\")    "
   ]
  },
  {
   "cell_type": "code",
   "execution_count": 264,
   "metadata": {
    "deletable": false,
    "editable": false,
    "nbgrader": {
     "cell_type": "code",
     "checksum": "79cb80f51fb32d0f48efd337eca86629",
     "grade": true,
     "grade_id": "test3g_4-scale_data",
     "locked": true,
     "points": 0.7,
     "schema_version": 3,
     "solution": false,
     "task": false
    }
   },
   "outputs": [
    {
     "name": "stdout",
     "output_type": "stream",
     "text": [
      "3.g.'scale_data' - Test 4 (name: test3g_4-scale_data, points: 0.7)\n",
      "Good Job!\n",
      "You've passed the 4th test for the 'scale_data' function implementation :-)\n"
     ]
    }
   ],
   "source": [
    "# 3.g. scale_data (graded test)\n",
    "# ====>>> YOUR ACTIONS: RUN ONLY\n",
    "\n",
    "print (\"3.g.'scale_data' - Test 4 (name: test3g_4-scale_data, points: 0.7)\")\n",
    "\n",
    "file_name_csv = '.' + os.sep + 'data' + os.sep + 'loans_risk_factor_cleansed.csv'\n",
    "\n",
    "try:    \n",
    "    risk_factor_df = load_csv(file_name_csv)\n",
    "    X, y = decouple_data(risk_factor_df)\n",
    "    X_train, X_test, y_train, y_test = split_data(X, y)\n",
    "    X_train_scaled, X_test_scaled = scale_data(X_train, X_test)\n",
    "except Exception as e:\n",
    "    print ('You probably have a syntax or implementation error,  \\nerror Message:',str(e), '\\nTry fixing your code')\n",
    "    raise\n",
    "\n",
    "for col in ['age', 'years', 'credit_amount', 'duration']:    \n",
    "    assert X_test_scaled[col].between(-0.1, 1.1).all(), \"Wrong scale for feature vectors dataframe X_test_scaled after 'scale_data', must be in the range [0, 1]\"  \n",
    "\n",
    "print (\"Good Job!\\nYou've passed the 4th test for the 'scale_data' function implementation :-)\")    "
   ]
  },
  {
   "cell_type": "markdown",
   "metadata": {
    "deletable": false,
    "editable": false,
    "id": "JpwIbB4JDhG-",
    "nbgrader": {
     "cell_type": "markdown",
     "checksum": "03d4ad729ec8400fbe55f9fdac69ae47",
     "grade": false,
     "grade_id": "cell-6873fc97f39037de",
     "locked": true,
     "schema_version": 3,
     "solution": false,
     "task": false
    }
   },
   "source": [
    "#### 3.h. Remove Correlated - **2.5 Points**\n",
    "\n",
    "<u>method name</u>: <b>remove_correlated</b><br/>\n",
    "\n",
    "<hr>\n",
    "\n",
    "<u>dependency</u>: <br/>\n",
    "* <b>decouple_data</b></br> \n",
    "* <b>split_data</b></br> \n",
    "\n",
    "<hr>\n",
    "\n",
    "Complete the following function to make sure there are no correlated columns <br/>\n",
    "  (**absolute value of correlation > 0.95**) using pandas <br/>\n",
    "  https://pandas.pydata.org/docs/reference/api/pandas.DataFrame.corr.html - if so,<br/>\n",
    "  make sure only one of the correlated columns stay and return dataframe<br/>\n",
    "\n",
    "Make sure removing the last correlated columns,<br/>\n",
    " for example: in case there are 3 columns **X, Y, Z** and **X, Z**<br/>\n",
    "  are correlated - remove **Z** column.<br/>\n",
    "\n",
    "*make sure to remove correlated columns in test set based on the train set's statistics*<br/>\n",
    "\n",
    "------------<br/>\n",
    "input parameters:<br/>\n",
    "- X_train - \"loan risk factor\" train dataset's feature vectors<br/>\n",
    "- X_test - \"loan risk factor\" test dataset's feature vectors<br/>\n",
    "------------<br/>\n",
    "The return statement should look like the following:<br/>\n",
    "return X_train, X_test<br/>\n",
    "\n"
   ]
  },
  {
   "cell_type": "markdown",
   "metadata": {
    "deletable": false,
    "editable": false,
    "nbgrader": {
     "cell_type": "markdown",
     "checksum": "2562bcb07a2a2643d350aaba88993529",
     "grade": false,
     "grade_id": "cell-e5d07c8adbf74fd9",
     "locked": true,
     "schema_version": 3,
     "solution": false,
     "task": false
    }
   },
   "source": [
    "#### 3.h. Remove Correlated - Implement and Run the following code cell:"
   ]
  },
  {
   "cell_type": "code",
   "execution_count": 265,
   "metadata": {
    "deletable": false,
    "id": "G19agM2dEpGk",
    "nbgrader": {
     "cell_type": "code",
     "checksum": "572a4e9c8df88f69ea50419a44506c5f",
     "grade": false,
     "grade_id": "solution3g-remove_correlated",
     "locked": false,
     "schema_version": 3,
     "solution": true,
     "task": false
    }
   },
   "outputs": [],
   "source": [
    "# 3.h. remove_correlated (your solution)\n",
    "# ====>>> YOUR ACTIONS: IMPLEMENT & RUN\n",
    "\n",
    "def remove_correlated(X_train, X_test):\n",
    "    # YOUR CODE HERE\n",
    "    # Create correlation matrix\n",
    "    df_correlation = X_train.corr().abs()\n",
    "    \n",
    "    # Construct a lower trinagular matrix out of the correlation matrix, to avoid of having the same feature pair twice.\n",
    "    # T T T T\n",
    "    # F T T T\n",
    "    # F F T T\n",
    "    # F F F T\n",
    "    mask = np.triu(np.ones(df_correlation.shape)).astype(bool)\n",
    "\n",
    "    # Select lower triangle of the correlation matrix\n",
    "    # Mask contains False at the bottom triangular of the matrix, and True otherwise. Hence use ~ to switch between False and True.\n",
    "    # This way we can keep each correlation once, and not twice (x1 with x2, and x2 with x1. Same features counted twice)\n",
    "    lower = df_correlation.where(~mask)\n",
    "\n",
    "    # Find features with correlation greater than 0.95\n",
    "    # correlated_indices contains pairs, representing coordinate of cell with correlation greater than 0.95. We'll need the higher index\n",
    "    # of each pair, which represents the column we are about to drop.\n",
    "    thresh = 0.95\n",
    "    correlated_indices = np.argwhere(lower[lower > thresh].notnull().values).tolist()\n",
    "    correlated_features = [lower.columns[max(x)] for x in correlated_indices]\n",
    "\n",
    "    # Drop features \n",
    "    X_train = X_train.drop(correlated_features, axis=1)\n",
    "    X_test = X_test.drop(correlated_features, axis=1)\n",
    "    \n",
    "    return X_train, X_test\n",
    "    "
   ]
  },
  {
   "cell_type": "markdown",
   "metadata": {
    "deletable": false,
    "editable": false,
    "nbgrader": {
     "cell_type": "markdown",
     "checksum": "818ac26686295f7a666e17a52eeebb56",
     "grade": false,
     "grade_id": "cell-399715a19913da6b",
     "locked": true,
     "schema_version": 3,
     "solution": false,
     "task": false
    }
   },
   "source": [
    "##### 3.h. remove_correlated - OPTIONAL SELF TEST - Implement & Run the following code cell (IF NEEDED):"
   ]
  },
  {
   "cell_type": "code",
   "execution_count": 266,
   "metadata": {
    "colab": {
     "base_uri": "https://localhost:8080/"
    },
    "deletable": false,
    "id": "eBW9OV9RCMXk",
    "nbgrader": {
     "cell_type": "code",
     "checksum": "2555ba99f6f6afdb5f61703d61c6b152",
     "grade": false,
     "grade_id": "self_test3h-remove_correlated",
     "locked": false,
     "schema_version": 3,
     "solution": true,
     "task": false
    },
    "outputId": "f3878d70-ad14-47d2-e52d-dc2b9a8570fe"
   },
   "outputs": [
    {
     "name": "stdout",
     "output_type": "stream",
     "text": [
      "Before (Train):\n"
     ]
    },
    {
     "data": {
      "text/html": [
       "<div>\n",
       "<style scoped>\n",
       "    .dataframe tbody tr th:only-of-type {\n",
       "        vertical-align: middle;\n",
       "    }\n",
       "\n",
       "    .dataframe tbody tr th {\n",
       "        vertical-align: top;\n",
       "    }\n",
       "\n",
       "    .dataframe thead th {\n",
       "        text-align: right;\n",
       "    }\n",
       "</style>\n",
       "<table border=\"1\" class=\"dataframe\">\n",
       "  <thead>\n",
       "    <tr style=\"text-align: right;\">\n",
       "      <th></th>\n",
       "      <th>age</th>\n",
       "      <th>sex</th>\n",
       "      <th>job</th>\n",
       "      <th>housing</th>\n",
       "      <th>years</th>\n",
       "      <th>saving_account</th>\n",
       "      <th>checking_account</th>\n",
       "      <th>credit_amount</th>\n",
       "      <th>duration</th>\n",
       "      <th>purpose</th>\n",
       "    </tr>\n",
       "  </thead>\n",
       "  <tbody>\n",
       "    <tr>\n",
       "      <th>0</th>\n",
       "      <td>-0.492</td>\n",
       "      <td>female</td>\n",
       "      <td>2</td>\n",
       "      <td>own</td>\n",
       "      <td>-0.770</td>\n",
       "      <td>little</td>\n",
       "      <td>little</td>\n",
       "      <td>-0.299</td>\n",
       "      <td>-0.770</td>\n",
       "      <td>radio/TV</td>\n",
       "    </tr>\n",
       "    <tr>\n",
       "      <th>1</th>\n",
       "      <td>-1.088</td>\n",
       "      <td>female</td>\n",
       "      <td>2</td>\n",
       "      <td>rent</td>\n",
       "      <td>-1.047</td>\n",
       "      <td>little</td>\n",
       "      <td>little</td>\n",
       "      <td>-0.786</td>\n",
       "      <td>-1.047</td>\n",
       "      <td>domestic appliances</td>\n",
       "    </tr>\n",
       "    <tr>\n",
       "      <th>2</th>\n",
       "      <td>-0.492</td>\n",
       "      <td>male</td>\n",
       "      <td>1</td>\n",
       "      <td>own</td>\n",
       "      <td>0.341</td>\n",
       "      <td>little</td>\n",
       "      <td>moderate</td>\n",
       "      <td>-0.215</td>\n",
       "      <td>0.341</td>\n",
       "      <td>furniture/equipment</td>\n",
       "    </tr>\n",
       "  </tbody>\n",
       "</table>\n",
       "</div>"
      ],
      "text/plain": [
       "     age     sex  job housing  years saving_account checking_account  \\\n",
       "0 -0.492  female    2     own -0.770         little           little   \n",
       "1 -1.088  female    2    rent -1.047         little           little   \n",
       "2 -0.492    male    1     own  0.341         little         moderate   \n",
       "\n",
       "   credit_amount  duration              purpose  \n",
       "0         -0.299    -0.770             radio/TV  \n",
       "1         -0.786    -1.047  domestic appliances  \n",
       "2         -0.215     0.341  furniture/equipment  "
      ]
     },
     "execution_count": 266,
     "metadata": {},
     "output_type": "execute_result"
    },
    {
     "name": "stdout",
     "output_type": "stream",
     "text": [
      "After (Train):\n"
     ]
    },
    {
     "data": {
      "text/html": [
       "<div>\n",
       "<style scoped>\n",
       "    .dataframe tbody tr th:only-of-type {\n",
       "        vertical-align: middle;\n",
       "    }\n",
       "\n",
       "    .dataframe tbody tr th {\n",
       "        vertical-align: top;\n",
       "    }\n",
       "\n",
       "    .dataframe thead th {\n",
       "        text-align: right;\n",
       "    }\n",
       "</style>\n",
       "<table border=\"1\" class=\"dataframe\">\n",
       "  <thead>\n",
       "    <tr style=\"text-align: right;\">\n",
       "      <th></th>\n",
       "      <th>age</th>\n",
       "      <th>sex</th>\n",
       "      <th>job</th>\n",
       "      <th>housing</th>\n",
       "      <th>years</th>\n",
       "      <th>saving_account</th>\n",
       "      <th>checking_account</th>\n",
       "      <th>credit_amount</th>\n",
       "      <th>purpose</th>\n",
       "    </tr>\n",
       "  </thead>\n",
       "  <tbody>\n",
       "    <tr>\n",
       "      <th>0</th>\n",
       "      <td>-0.492</td>\n",
       "      <td>female</td>\n",
       "      <td>2</td>\n",
       "      <td>own</td>\n",
       "      <td>-0.770</td>\n",
       "      <td>little</td>\n",
       "      <td>little</td>\n",
       "      <td>-0.299</td>\n",
       "      <td>radio/TV</td>\n",
       "    </tr>\n",
       "    <tr>\n",
       "      <th>1</th>\n",
       "      <td>-1.088</td>\n",
       "      <td>female</td>\n",
       "      <td>2</td>\n",
       "      <td>rent</td>\n",
       "      <td>-1.047</td>\n",
       "      <td>little</td>\n",
       "      <td>little</td>\n",
       "      <td>-0.786</td>\n",
       "      <td>domestic appliances</td>\n",
       "    </tr>\n",
       "    <tr>\n",
       "      <th>2</th>\n",
       "      <td>-0.492</td>\n",
       "      <td>male</td>\n",
       "      <td>1</td>\n",
       "      <td>own</td>\n",
       "      <td>0.341</td>\n",
       "      <td>little</td>\n",
       "      <td>moderate</td>\n",
       "      <td>-0.215</td>\n",
       "      <td>furniture/equipment</td>\n",
       "    </tr>\n",
       "  </tbody>\n",
       "</table>\n",
       "</div>"
      ],
      "text/plain": [
       "     age     sex  job housing  years saving_account checking_account  \\\n",
       "0 -0.492  female    2     own -0.770         little           little   \n",
       "1 -1.088  female    2    rent -1.047         little           little   \n",
       "2 -0.492    male    1     own  0.341         little         moderate   \n",
       "\n",
       "   credit_amount              purpose  \n",
       "0         -0.299             radio/TV  \n",
       "1         -0.786  domestic appliances  \n",
       "2         -0.215  furniture/equipment  "
      ]
     },
     "execution_count": 266,
     "metadata": {},
     "output_type": "execute_result"
    },
    {
     "name": "stdout",
     "output_type": "stream",
     "text": [
      "Before (Test):\n"
     ]
    },
    {
     "data": {
      "text/html": [
       "<div>\n",
       "<style scoped>\n",
       "    .dataframe tbody tr th:only-of-type {\n",
       "        vertical-align: middle;\n",
       "    }\n",
       "\n",
       "    .dataframe tbody tr th {\n",
       "        vertical-align: top;\n",
       "    }\n",
       "\n",
       "    .dataframe thead th {\n",
       "        text-align: right;\n",
       "    }\n",
       "</style>\n",
       "<table border=\"1\" class=\"dataframe\">\n",
       "  <thead>\n",
       "    <tr style=\"text-align: right;\">\n",
       "      <th></th>\n",
       "      <th>age</th>\n",
       "      <th>sex</th>\n",
       "      <th>job</th>\n",
       "      <th>housing</th>\n",
       "      <th>years</th>\n",
       "      <th>saving_account</th>\n",
       "      <th>checking_account</th>\n",
       "      <th>credit_amount</th>\n",
       "      <th>duration</th>\n",
       "      <th>purpose</th>\n",
       "    </tr>\n",
       "  </thead>\n",
       "  <tbody>\n",
       "    <tr>\n",
       "      <th>389</th>\n",
       "      <td>-0.293</td>\n",
       "      <td>female</td>\n",
       "      <td>2</td>\n",
       "      <td>own</td>\n",
       "      <td>2.561</td>\n",
       "      <td>little</td>\n",
       "      <td>little</td>\n",
       "      <td>2.090</td>\n",
       "      <td>2.561</td>\n",
       "      <td>radio/TV</td>\n",
       "    </tr>\n",
       "    <tr>\n",
       "      <th>390</th>\n",
       "      <td>-0.989</td>\n",
       "      <td>male</td>\n",
       "      <td>2</td>\n",
       "      <td>rent</td>\n",
       "      <td>0.896</td>\n",
       "      <td>moderate</td>\n",
       "      <td>little</td>\n",
       "      <td>1.793</td>\n",
       "      <td>0.896</td>\n",
       "      <td>car</td>\n",
       "    </tr>\n",
       "    <tr>\n",
       "      <th>391</th>\n",
       "      <td>-0.293</td>\n",
       "      <td>male</td>\n",
       "      <td>2</td>\n",
       "      <td>own</td>\n",
       "      <td>-1.325</td>\n",
       "      <td>moderate</td>\n",
       "      <td>moderate</td>\n",
       "      <td>-0.675</td>\n",
       "      <td>-1.325</td>\n",
       "      <td>business</td>\n",
       "    </tr>\n",
       "  </tbody>\n",
       "</table>\n",
       "</div>"
      ],
      "text/plain": [
       "       age     sex  job housing  years saving_account checking_account  \\\n",
       "389 -0.293  female    2     own  2.561         little           little   \n",
       "390 -0.989    male    2    rent  0.896       moderate           little   \n",
       "391 -0.293    male    2     own -1.325       moderate         moderate   \n",
       "\n",
       "     credit_amount  duration   purpose  \n",
       "389          2.090     2.561  radio/TV  \n",
       "390          1.793     0.896       car  \n",
       "391         -0.675    -1.325  business  "
      ]
     },
     "execution_count": 266,
     "metadata": {},
     "output_type": "execute_result"
    },
    {
     "name": "stdout",
     "output_type": "stream",
     "text": [
      "After (Test):\n"
     ]
    },
    {
     "data": {
      "text/html": [
       "<div>\n",
       "<style scoped>\n",
       "    .dataframe tbody tr th:only-of-type {\n",
       "        vertical-align: middle;\n",
       "    }\n",
       "\n",
       "    .dataframe tbody tr th {\n",
       "        vertical-align: top;\n",
       "    }\n",
       "\n",
       "    .dataframe thead th {\n",
       "        text-align: right;\n",
       "    }\n",
       "</style>\n",
       "<table border=\"1\" class=\"dataframe\">\n",
       "  <thead>\n",
       "    <tr style=\"text-align: right;\">\n",
       "      <th></th>\n",
       "      <th>age</th>\n",
       "      <th>sex</th>\n",
       "      <th>job</th>\n",
       "      <th>housing</th>\n",
       "      <th>years</th>\n",
       "      <th>saving_account</th>\n",
       "      <th>checking_account</th>\n",
       "      <th>credit_amount</th>\n",
       "      <th>purpose</th>\n",
       "    </tr>\n",
       "  </thead>\n",
       "  <tbody>\n",
       "    <tr>\n",
       "      <th>389</th>\n",
       "      <td>-0.293</td>\n",
       "      <td>female</td>\n",
       "      <td>2</td>\n",
       "      <td>own</td>\n",
       "      <td>2.561</td>\n",
       "      <td>little</td>\n",
       "      <td>little</td>\n",
       "      <td>2.090</td>\n",
       "      <td>radio/TV</td>\n",
       "    </tr>\n",
       "    <tr>\n",
       "      <th>390</th>\n",
       "      <td>-0.989</td>\n",
       "      <td>male</td>\n",
       "      <td>2</td>\n",
       "      <td>rent</td>\n",
       "      <td>0.896</td>\n",
       "      <td>moderate</td>\n",
       "      <td>little</td>\n",
       "      <td>1.793</td>\n",
       "      <td>car</td>\n",
       "    </tr>\n",
       "    <tr>\n",
       "      <th>391</th>\n",
       "      <td>-0.293</td>\n",
       "      <td>male</td>\n",
       "      <td>2</td>\n",
       "      <td>own</td>\n",
       "      <td>-1.325</td>\n",
       "      <td>moderate</td>\n",
       "      <td>moderate</td>\n",
       "      <td>-0.675</td>\n",
       "      <td>business</td>\n",
       "    </tr>\n",
       "  </tbody>\n",
       "</table>\n",
       "</div>"
      ],
      "text/plain": [
       "       age     sex  job housing  years saving_account checking_account  \\\n",
       "389 -0.293  female    2     own  2.561         little           little   \n",
       "390 -0.989    male    2    rent  0.896       moderate           little   \n",
       "391 -0.293    male    2     own -1.325       moderate         moderate   \n",
       "\n",
       "     credit_amount   purpose  \n",
       "389          2.090  radio/TV  \n",
       "390          1.793       car  \n",
       "391         -0.675  business  "
      ]
     },
     "execution_count": 266,
     "metadata": {},
     "output_type": "execute_result"
    }
   ],
   "source": [
    "# 3.h. remove_correlated (optional self testing)\n",
    "# ====>>> YOUR ACTIONS: (optional) IMPLEMENT & RUN \n",
    "file_name_csv = '.' + os.sep + 'data' + os.sep + 'loans_risk_factor_cleansed_scaled_1.csv'\n",
    "risk_factor_df = load_csv(file_name_csv)\n",
    "X, y = decouple_data(risk_factor_df)\n",
    "X_train, X_test, y_train, y_test = split_data(X, y)\n",
    "X_train_indep, X_test_indep = remove_correlated(X_train, X_test)\n",
    "# --- add additional code to check your code if needed:\n",
    "# YOUR CODE HERE\n",
    "print('Before (Train):')\n",
    "X_train.head(3)\n",
    "print('After (Train):')\n",
    "X_train_indep.head(3)\n",
    "print('Before (Test):')\n",
    "X_test.head(3)\n",
    "print('After (Test):')\n",
    "X_test_indep.head(3)\n"
   ]
  },
  {
   "cell_type": "markdown",
   "metadata": {
    "deletable": false,
    "editable": false,
    "nbgrader": {
     "cell_type": "markdown",
     "checksum": "971d3a91b439c63268bc1a034a5789ea",
     "grade": false,
     "grade_id": "cell-0eb839aabc706316",
     "locked": true,
     "schema_version": 3,
     "solution": false,
     "task": false
    }
   },
   "source": [
    "##### 3.h. remove_correlated - GRADED TESTS - Run the following (2) code cells:"
   ]
  },
  {
   "cell_type": "code",
   "execution_count": 267,
   "metadata": {
    "deletable": false,
    "editable": false,
    "nbgrader": {
     "cell_type": "code",
     "checksum": "8551a41414630a38b153189442a1e8b9",
     "grade": true,
     "grade_id": "test3h_1-remove_correlated",
     "locked": true,
     "points": 0.1,
     "schema_version": 3,
     "solution": false,
     "task": false
    }
   },
   "outputs": [
    {
     "name": "stdout",
     "output_type": "stream",
     "text": [
      "3.h.'remove_correlated' - Test 1 (name: test3h_1-remove_correlated, points: 0.1) - Sanity\n",
      "Good Job!\n",
      "You've passed the 1st test for the 'remove_correlated' function implementation :-)\n"
     ]
    }
   ],
   "source": [
    "# 3.h. remove_correlated (graded test)\n",
    "# ====>>> YOUR ACTIONS: RUN ONLY\n",
    "\n",
    "print (\"3.h.'remove_correlated' - Test 1 (name: test3h_1-remove_correlated, points: 0.1) - Sanity\")\n",
    "\n",
    "file_name_csv = '.' + os.sep + 'data' + os.sep + 'loans_risk_factor_cleansed_scaled_1.csv'\n",
    "\n",
    "try:    \n",
    "    risk_factor_df = load_csv(file_name_csv)\n",
    "    X, y = decouple_data(risk_factor_df)\n",
    "    X_train, X_test, y_train, y_test = split_data(X, y)\n",
    "    X_train_indep, X_test_indep = remove_correlated(X_train, X_test)\n",
    "except Exception as e:\n",
    "    print ('You probably have a syntax or implementation error,  \\nerror Message:',str(e), '\\nTry fixing your code')\n",
    "    raise\n",
    "\n",
    "print (\"Good Job!\\nYou've passed the 1st test for the 'remove_correlated' function implementation :-)\")    "
   ]
  },
  {
   "cell_type": "code",
   "execution_count": 268,
   "metadata": {
    "deletable": false,
    "editable": false,
    "nbgrader": {
     "cell_type": "code",
     "checksum": "ef098bf0d67548e11aa863e6a527d6fb",
     "grade": true,
     "grade_id": "test3h_2-remove_correlated",
     "locked": true,
     "points": 1.2,
     "schema_version": 3,
     "solution": false,
     "task": false
    }
   },
   "outputs": [
    {
     "name": "stdout",
     "output_type": "stream",
     "text": [
      "3.h.'remove_correlated' - Test 2 (name: test3h_2-remove_correlated, points: 1.2)\n",
      "Good Job!\n",
      "You've passed the 2nd test for the 'remove_correlated' function implementation :-)\n"
     ]
    }
   ],
   "source": [
    "# 3.h. remove_correlated (graded test)\n",
    "# ====>>> YOUR ACTIONS: RUN ONLY\n",
    "\n",
    "print (\"3.h.'remove_correlated' - Test 2 (name: test3h_2-remove_correlated, points: 1.2)\")\n",
    "\n",
    "file_name_csv = '.' + os.sep + 'data' + os.sep + 'loans_risk_factor_cleansed_scaled_1.csv'\n",
    "\n",
    "try:    \n",
    "    risk_factor_df = load_csv(file_name_csv)\n",
    "    X, y = decouple_data(risk_factor_df)\n",
    "    X_train, X_test, y_train, y_test = split_data(X, y)\n",
    "    X_train_indep, X_test_indep = remove_correlated(X_train, X_test)\n",
    "except Exception as e:\n",
    "    print ('You probably have a syntax or implementation error,  \\nerror Message:',str(e), '\\nTry fixing your code')\n",
    "    raise\n",
    "\n",
    "assert (389, 9) == X_train_indep.shape and (98,9) == X_test_indep.shape, \"Wrong shape for feature vectors dataframe X_train_indep or X_test_indep after 'remove_correlated'\"\n",
    "\n",
    "print (\"Good Job!\\nYou've passed the 2nd test for the 'remove_correlated' function implementation :-)\")    "
   ]
  },
  {
   "cell_type": "code",
   "execution_count": 269,
   "metadata": {
    "deletable": false,
    "editable": false,
    "nbgrader": {
     "cell_type": "code",
     "checksum": "c21eab160d8336ed50c109b6c68884d0",
     "grade": true,
     "grade_id": "test3h_3-remove_correlated",
     "locked": true,
     "points": 1.2,
     "schema_version": 3,
     "solution": false,
     "task": false
    }
   },
   "outputs": [
    {
     "name": "stdout",
     "output_type": "stream",
     "text": [
      "3.h.'remove_correlated' - Test 3 (name: test3h_3-remove_correlated, points:1.2)\n",
      "Good Job!\n",
      "You've passed the 3rd test for the 'remove_correlated' function implementation :-)\n"
     ]
    }
   ],
   "source": [
    "# 3.h. remove_correlated (graded test)\n",
    "# ====>>> YOUR ACTIONS: RUN ONLY\n",
    "\n",
    "print (\"3.h.'remove_correlated' - Test 3 (name: test3h_3-remove_correlated, points:1.2)\")\n",
    "\n",
    "file_name_csv = '.' + os.sep + 'data' + os.sep + 'loans_risk_factor_cleansed_scaled_1.csv'\n",
    "\n",
    "try:    \n",
    "    risk_factor_df = load_csv(file_name_csv)\n",
    "    X, y = decouple_data(risk_factor_df)\n",
    "    X_train, X_test, y_train, y_test = split_data(X, y)\n",
    "    X_train_indep, X_test_indep = remove_correlated(X_train, X_test)\n",
    "except Exception as e:\n",
    "    print ('You probably have a syntax or implementation error,  \\nerror Message:',str(e), '\\nTry fixing your code')\n",
    "    raise\n",
    "\n",
    "\n",
    "assert 'years' in X_train_indep.columns and 'years' in X_test_indep.columns, \"Wrong set of columns in feature vectors dataframe 'X_train_indep' or 'X_test_indep' after 'remove_correlated'\"\n",
    "\n",
    "print (\"Good Job!\\nYou've passed the 3rd test for the 'remove_correlated' function implementation :-)\")    "
   ]
  },
  {
   "cell_type": "markdown",
   "metadata": {
    "deletable": false,
    "editable": false,
    "id": "O-3yOqG2B5VU",
    "jp-MarkdownHeadingCollapsed": true,
    "nbgrader": {
     "cell_type": "markdown",
     "checksum": "94837669ec12599858fe83dcd4ba1a94",
     "grade": false,
     "grade_id": "cell-cf1cb99bdc67ef0f",
     "locked": true,
     "schema_version": 3,
     "solution": false,
     "task": false
    },
    "tags": []
   },
   "source": [
    "#### 3.i. Categorical Columns Handling - **2.5 Points**\n",
    "\n",
    "\n",
    "<u>method name</u>: <b>handle_categorical_columns</b><br/>\n",
    "\n",
    "<hr>\n",
    "\n",
    "<u>dependency</u>: <br/>\n",
    "* <b>decouple_data</b></br> \n",
    "* <b>split_data</b></br> \n",
    "\n",
    "<hr>\n",
    "\n",
    "<pre>\n",
    "Complete the following function to transform categorical columns\n",
    " as a one-hot numerical columns (using pd.get_dummies) and return dataframe\n",
    "\n",
    "*make sure to transform the categorized columns in test set based on the train set's transformation*\n",
    "------------\n",
    "input parameters:\n",
    "- X_train - \"loan risk factor\" train dataset's feature vectors\n",
    "- X_test - \"loan risk factor\" test dataset's feature vectors\n",
    "------------\n",
    "The return statement should look like the following:\n",
    "return X_train, X_test\n",
    "</pre>  "
   ]
  },
  {
   "cell_type": "markdown",
   "metadata": {
    "deletable": false,
    "editable": false,
    "nbgrader": {
     "cell_type": "markdown",
     "checksum": "7e2da2de9353317c736b2579b516f1fb",
     "grade": false,
     "grade_id": "cell-82aead4106ba55ad",
     "locked": true,
     "schema_version": 3,
     "solution": false,
     "task": false
    }
   },
   "source": [
    "#### 3.i. Categorical Columns Handling - Implement and Run the following code cell:"
   ]
  },
  {
   "cell_type": "code",
   "execution_count": 270,
   "metadata": {
    "deletable": false,
    "id": "Mkv_hwvECid-",
    "nbgrader": {
     "cell_type": "code",
     "checksum": "9f29eeb1ca02dd4e153628e51825619b",
     "grade": false,
     "grade_id": "solution3g-handle_categ_cols",
     "locked": false,
     "schema_version": 3,
     "solution": true,
     "task": false
    }
   },
   "outputs": [],
   "source": [
    "# 3.i. handle_categorical_columns (your solution)\n",
    "# ====>>> YOUR ACTIONS: IMPLEMENT & RUN\n",
    "\n",
    "def handle_categorical_columns(X_train, X_test):\n",
    "    # YOUR CODE HERE\n",
    "    prefix = ['is', 'is_housing', 'saving_account', 'checking_account', 'purpose']\n",
    "    X_train = pd.get_dummies(X_train, prefix=prefix)\n",
    "    X_test = pd.get_dummies(X_test, prefix=prefix)\n",
    "    return X_train, X_test\n",
    "    "
   ]
  },
  {
   "cell_type": "markdown",
   "metadata": {
    "deletable": false,
    "editable": false,
    "nbgrader": {
     "cell_type": "markdown",
     "checksum": "36b47a86e043531aedf2fbe52f8d6f84",
     "grade": false,
     "grade_id": "cell-bbd19b7ad0083277",
     "locked": true,
     "schema_version": 3,
     "solution": false,
     "task": false
    }
   },
   "source": [
    "##### 3.i. handle_categorical_columns - OPTIONAL SELF TEST - Implement & Run the following code cell (IF NEEDED):"
   ]
  },
  {
   "cell_type": "code",
   "execution_count": 271,
   "metadata": {
    "colab": {
     "base_uri": "https://localhost:8080/"
    },
    "deletable": false,
    "id": "hqneXb5q2Slo",
    "nbgrader": {
     "cell_type": "code",
     "checksum": "3e6c55c4942cb3513725f63ea04c8550",
     "grade": false,
     "grade_id": "self_test3i-handle_categ_cols",
     "locked": false,
     "schema_version": 3,
     "solution": true,
     "task": false
    },
    "outputId": "d4a5c0a8-a727-4468-e560-98d6d8a78a8b"
   },
   "outputs": [
    {
     "data": {
      "text/html": [
       "<div>\n",
       "<style scoped>\n",
       "    .dataframe tbody tr th:only-of-type {\n",
       "        vertical-align: middle;\n",
       "    }\n",
       "\n",
       "    .dataframe tbody tr th {\n",
       "        vertical-align: top;\n",
       "    }\n",
       "\n",
       "    .dataframe thead th {\n",
       "        text-align: right;\n",
       "    }\n",
       "</style>\n",
       "<table border=\"1\" class=\"dataframe\">\n",
       "  <thead>\n",
       "    <tr style=\"text-align: right;\">\n",
       "      <th></th>\n",
       "      <th>age</th>\n",
       "      <th>sex</th>\n",
       "      <th>job</th>\n",
       "      <th>housing</th>\n",
       "      <th>years</th>\n",
       "      <th>saving_account</th>\n",
       "      <th>checking_account</th>\n",
       "      <th>credit_amount</th>\n",
       "      <th>duration</th>\n",
       "      <th>purpose</th>\n",
       "    </tr>\n",
       "  </thead>\n",
       "  <tbody>\n",
       "    <tr>\n",
       "      <th>0</th>\n",
       "      <td>-0.492</td>\n",
       "      <td>female</td>\n",
       "      <td>2</td>\n",
       "      <td>own</td>\n",
       "      <td>-0.770</td>\n",
       "      <td>little</td>\n",
       "      <td>little</td>\n",
       "      <td>-0.299</td>\n",
       "      <td>-0.770</td>\n",
       "      <td>radio/TV</td>\n",
       "    </tr>\n",
       "    <tr>\n",
       "      <th>1</th>\n",
       "      <td>-1.088</td>\n",
       "      <td>female</td>\n",
       "      <td>2</td>\n",
       "      <td>rent</td>\n",
       "      <td>-1.047</td>\n",
       "      <td>little</td>\n",
       "      <td>little</td>\n",
       "      <td>-0.786</td>\n",
       "      <td>-1.047</td>\n",
       "      <td>domestic appliances</td>\n",
       "    </tr>\n",
       "    <tr>\n",
       "      <th>2</th>\n",
       "      <td>-0.492</td>\n",
       "      <td>male</td>\n",
       "      <td>1</td>\n",
       "      <td>own</td>\n",
       "      <td>0.341</td>\n",
       "      <td>little</td>\n",
       "      <td>moderate</td>\n",
       "      <td>-0.215</td>\n",
       "      <td>0.341</td>\n",
       "      <td>furniture/equipment</td>\n",
       "    </tr>\n",
       "    <tr>\n",
       "      <th>3</th>\n",
       "      <td>-0.691</td>\n",
       "      <td>female</td>\n",
       "      <td>0</td>\n",
       "      <td>own</td>\n",
       "      <td>-0.215</td>\n",
       "      <td>little</td>\n",
       "      <td>little</td>\n",
       "      <td>-1.039</td>\n",
       "      <td>-0.215</td>\n",
       "      <td>education</td>\n",
       "    </tr>\n",
       "    <tr>\n",
       "      <th>4</th>\n",
       "      <td>-0.194</td>\n",
       "      <td>male</td>\n",
       "      <td>2</td>\n",
       "      <td>own</td>\n",
       "      <td>-0.770</td>\n",
       "      <td>little</td>\n",
       "      <td>moderate</td>\n",
       "      <td>1.736</td>\n",
       "      <td>-0.770</td>\n",
       "      <td>car</td>\n",
       "    </tr>\n",
       "  </tbody>\n",
       "</table>\n",
       "</div>"
      ],
      "text/plain": [
       "     age     sex  job housing  years saving_account checking_account  \\\n",
       "0 -0.492  female    2     own -0.770         little           little   \n",
       "1 -1.088  female    2    rent -1.047         little           little   \n",
       "2 -0.492    male    1     own  0.341         little         moderate   \n",
       "3 -0.691  female    0     own -0.215         little           little   \n",
       "4 -0.194    male    2     own -0.770         little         moderate   \n",
       "\n",
       "   credit_amount  duration              purpose  \n",
       "0         -0.299    -0.770             radio/TV  \n",
       "1         -0.786    -1.047  domestic appliances  \n",
       "2         -0.215     0.341  furniture/equipment  \n",
       "3         -1.039    -0.215            education  \n",
       "4          1.736    -0.770                  car  "
      ]
     },
     "execution_count": 271,
     "metadata": {},
     "output_type": "execute_result"
    },
    {
     "data": {
      "text/html": [
       "<div>\n",
       "<style scoped>\n",
       "    .dataframe tbody tr th:only-of-type {\n",
       "        vertical-align: middle;\n",
       "    }\n",
       "\n",
       "    .dataframe tbody tr th {\n",
       "        vertical-align: top;\n",
       "    }\n",
       "\n",
       "    .dataframe thead th {\n",
       "        text-align: right;\n",
       "    }\n",
       "</style>\n",
       "<table border=\"1\" class=\"dataframe\">\n",
       "  <thead>\n",
       "    <tr style=\"text-align: right;\">\n",
       "      <th></th>\n",
       "      <th>age</th>\n",
       "      <th>sex</th>\n",
       "      <th>job</th>\n",
       "      <th>housing</th>\n",
       "      <th>years</th>\n",
       "      <th>saving_account</th>\n",
       "      <th>checking_account</th>\n",
       "      <th>credit_amount</th>\n",
       "      <th>duration</th>\n",
       "      <th>purpose</th>\n",
       "    </tr>\n",
       "  </thead>\n",
       "  <tbody>\n",
       "    <tr>\n",
       "      <th>389</th>\n",
       "      <td>-0.293</td>\n",
       "      <td>female</td>\n",
       "      <td>2</td>\n",
       "      <td>own</td>\n",
       "      <td>2.561</td>\n",
       "      <td>little</td>\n",
       "      <td>little</td>\n",
       "      <td>2.090</td>\n",
       "      <td>2.561</td>\n",
       "      <td>radio/TV</td>\n",
       "    </tr>\n",
       "    <tr>\n",
       "      <th>390</th>\n",
       "      <td>-0.989</td>\n",
       "      <td>male</td>\n",
       "      <td>2</td>\n",
       "      <td>rent</td>\n",
       "      <td>0.896</td>\n",
       "      <td>moderate</td>\n",
       "      <td>little</td>\n",
       "      <td>1.793</td>\n",
       "      <td>0.896</td>\n",
       "      <td>car</td>\n",
       "    </tr>\n",
       "    <tr>\n",
       "      <th>391</th>\n",
       "      <td>-0.293</td>\n",
       "      <td>male</td>\n",
       "      <td>2</td>\n",
       "      <td>own</td>\n",
       "      <td>-1.325</td>\n",
       "      <td>moderate</td>\n",
       "      <td>moderate</td>\n",
       "      <td>-0.675</td>\n",
       "      <td>-1.325</td>\n",
       "      <td>business</td>\n",
       "    </tr>\n",
       "    <tr>\n",
       "      <th>392</th>\n",
       "      <td>-0.492</td>\n",
       "      <td>male</td>\n",
       "      <td>2</td>\n",
       "      <td>own</td>\n",
       "      <td>1.451</td>\n",
       "      <td>little</td>\n",
       "      <td>little</td>\n",
       "      <td>2.157</td>\n",
       "      <td>1.451</td>\n",
       "      <td>education</td>\n",
       "    </tr>\n",
       "    <tr>\n",
       "      <th>393</th>\n",
       "      <td>0.204</td>\n",
       "      <td>male</td>\n",
       "      <td>2</td>\n",
       "      <td>own</td>\n",
       "      <td>1.451</td>\n",
       "      <td>little</td>\n",
       "      <td>little</td>\n",
       "      <td>1.854</td>\n",
       "      <td>1.451</td>\n",
       "      <td>business</td>\n",
       "    </tr>\n",
       "  </tbody>\n",
       "</table>\n",
       "</div>"
      ],
      "text/plain": [
       "       age     sex  job housing  years saving_account checking_account  \\\n",
       "389 -0.293  female    2     own  2.561         little           little   \n",
       "390 -0.989    male    2    rent  0.896       moderate           little   \n",
       "391 -0.293    male    2     own -1.325       moderate         moderate   \n",
       "392 -0.492    male    2     own  1.451         little           little   \n",
       "393  0.204    male    2     own  1.451         little           little   \n",
       "\n",
       "     credit_amount  duration    purpose  \n",
       "389          2.090     2.561   radio/TV  \n",
       "390          1.793     0.896        car  \n",
       "391         -0.675    -1.325   business  \n",
       "392          2.157     1.451  education  \n",
       "393          1.854     1.451   business  "
      ]
     },
     "execution_count": 271,
     "metadata": {},
     "output_type": "execute_result"
    },
    {
     "data": {
      "text/html": [
       "<div>\n",
       "<style scoped>\n",
       "    .dataframe tbody tr th:only-of-type {\n",
       "        vertical-align: middle;\n",
       "    }\n",
       "\n",
       "    .dataframe tbody tr th {\n",
       "        vertical-align: top;\n",
       "    }\n",
       "\n",
       "    .dataframe thead th {\n",
       "        text-align: right;\n",
       "    }\n",
       "</style>\n",
       "<table border=\"1\" class=\"dataframe\">\n",
       "  <thead>\n",
       "    <tr style=\"text-align: right;\">\n",
       "      <th></th>\n",
       "      <th>age</th>\n",
       "      <th>job</th>\n",
       "      <th>years</th>\n",
       "      <th>credit_amount</th>\n",
       "      <th>duration</th>\n",
       "      <th>is_female</th>\n",
       "      <th>is_male</th>\n",
       "      <th>is_housing_free</th>\n",
       "      <th>is_housing_own</th>\n",
       "      <th>is_housing_rent</th>\n",
       "      <th>saving_account_little</th>\n",
       "      <th>saving_account_moderate</th>\n",
       "      <th>saving_account_quite rich</th>\n",
       "      <th>saving_account_rich</th>\n",
       "      <th>checking_account_little</th>\n",
       "      <th>checking_account_moderate</th>\n",
       "      <th>checking_account_rich</th>\n",
       "      <th>purpose_business</th>\n",
       "      <th>purpose_car</th>\n",
       "      <th>purpose_domestic appliances</th>\n",
       "      <th>purpose_education</th>\n",
       "      <th>purpose_furniture/equipment</th>\n",
       "      <th>purpose_radio/TV</th>\n",
       "      <th>purpose_repairs</th>\n",
       "      <th>purpose_vacation/others</th>\n",
       "    </tr>\n",
       "  </thead>\n",
       "  <tbody>\n",
       "    <tr>\n",
       "      <th>0</th>\n",
       "      <td>-0.492</td>\n",
       "      <td>2</td>\n",
       "      <td>-0.770</td>\n",
       "      <td>-0.299</td>\n",
       "      <td>-0.770</td>\n",
       "      <td>1</td>\n",
       "      <td>0</td>\n",
       "      <td>0</td>\n",
       "      <td>1</td>\n",
       "      <td>0</td>\n",
       "      <td>1</td>\n",
       "      <td>0</td>\n",
       "      <td>0</td>\n",
       "      <td>0</td>\n",
       "      <td>1</td>\n",
       "      <td>0</td>\n",
       "      <td>0</td>\n",
       "      <td>0</td>\n",
       "      <td>0</td>\n",
       "      <td>0</td>\n",
       "      <td>0</td>\n",
       "      <td>0</td>\n",
       "      <td>1</td>\n",
       "      <td>0</td>\n",
       "      <td>0</td>\n",
       "    </tr>\n",
       "    <tr>\n",
       "      <th>1</th>\n",
       "      <td>-1.088</td>\n",
       "      <td>2</td>\n",
       "      <td>-1.047</td>\n",
       "      <td>-0.786</td>\n",
       "      <td>-1.047</td>\n",
       "      <td>1</td>\n",
       "      <td>0</td>\n",
       "      <td>0</td>\n",
       "      <td>0</td>\n",
       "      <td>1</td>\n",
       "      <td>1</td>\n",
       "      <td>0</td>\n",
       "      <td>0</td>\n",
       "      <td>0</td>\n",
       "      <td>1</td>\n",
       "      <td>0</td>\n",
       "      <td>0</td>\n",
       "      <td>0</td>\n",
       "      <td>0</td>\n",
       "      <td>1</td>\n",
       "      <td>0</td>\n",
       "      <td>0</td>\n",
       "      <td>0</td>\n",
       "      <td>0</td>\n",
       "      <td>0</td>\n",
       "    </tr>\n",
       "    <tr>\n",
       "      <th>2</th>\n",
       "      <td>-0.492</td>\n",
       "      <td>1</td>\n",
       "      <td>0.341</td>\n",
       "      <td>-0.215</td>\n",
       "      <td>0.341</td>\n",
       "      <td>0</td>\n",
       "      <td>1</td>\n",
       "      <td>0</td>\n",
       "      <td>1</td>\n",
       "      <td>0</td>\n",
       "      <td>1</td>\n",
       "      <td>0</td>\n",
       "      <td>0</td>\n",
       "      <td>0</td>\n",
       "      <td>0</td>\n",
       "      <td>1</td>\n",
       "      <td>0</td>\n",
       "      <td>0</td>\n",
       "      <td>0</td>\n",
       "      <td>0</td>\n",
       "      <td>0</td>\n",
       "      <td>1</td>\n",
       "      <td>0</td>\n",
       "      <td>0</td>\n",
       "      <td>0</td>\n",
       "    </tr>\n",
       "    <tr>\n",
       "      <th>3</th>\n",
       "      <td>-0.691</td>\n",
       "      <td>0</td>\n",
       "      <td>-0.215</td>\n",
       "      <td>-1.039</td>\n",
       "      <td>-0.215</td>\n",
       "      <td>1</td>\n",
       "      <td>0</td>\n",
       "      <td>0</td>\n",
       "      <td>1</td>\n",
       "      <td>0</td>\n",
       "      <td>1</td>\n",
       "      <td>0</td>\n",
       "      <td>0</td>\n",
       "      <td>0</td>\n",
       "      <td>1</td>\n",
       "      <td>0</td>\n",
       "      <td>0</td>\n",
       "      <td>0</td>\n",
       "      <td>0</td>\n",
       "      <td>0</td>\n",
       "      <td>1</td>\n",
       "      <td>0</td>\n",
       "      <td>0</td>\n",
       "      <td>0</td>\n",
       "      <td>0</td>\n",
       "    </tr>\n",
       "    <tr>\n",
       "      <th>4</th>\n",
       "      <td>-0.194</td>\n",
       "      <td>2</td>\n",
       "      <td>-0.770</td>\n",
       "      <td>1.736</td>\n",
       "      <td>-0.770</td>\n",
       "      <td>0</td>\n",
       "      <td>1</td>\n",
       "      <td>0</td>\n",
       "      <td>1</td>\n",
       "      <td>0</td>\n",
       "      <td>1</td>\n",
       "      <td>0</td>\n",
       "      <td>0</td>\n",
       "      <td>0</td>\n",
       "      <td>0</td>\n",
       "      <td>1</td>\n",
       "      <td>0</td>\n",
       "      <td>0</td>\n",
       "      <td>1</td>\n",
       "      <td>0</td>\n",
       "      <td>0</td>\n",
       "      <td>0</td>\n",
       "      <td>0</td>\n",
       "      <td>0</td>\n",
       "      <td>0</td>\n",
       "    </tr>\n",
       "  </tbody>\n",
       "</table>\n",
       "</div>"
      ],
      "text/plain": [
       "     age  job  years  credit_amount  duration  is_female  is_male  \\\n",
       "0 -0.492    2 -0.770         -0.299    -0.770          1        0   \n",
       "1 -1.088    2 -1.047         -0.786    -1.047          1        0   \n",
       "2 -0.492    1  0.341         -0.215     0.341          0        1   \n",
       "3 -0.691    0 -0.215         -1.039    -0.215          1        0   \n",
       "4 -0.194    2 -0.770          1.736    -0.770          0        1   \n",
       "\n",
       "   is_housing_free  is_housing_own  is_housing_rent  saving_account_little  \\\n",
       "0                0               1                0                      1   \n",
       "1                0               0                1                      1   \n",
       "2                0               1                0                      1   \n",
       "3                0               1                0                      1   \n",
       "4                0               1                0                      1   \n",
       "\n",
       "   saving_account_moderate  saving_account_quite rich  saving_account_rich  \\\n",
       "0                        0                          0                    0   \n",
       "1                        0                          0                    0   \n",
       "2                        0                          0                    0   \n",
       "3                        0                          0                    0   \n",
       "4                        0                          0                    0   \n",
       "\n",
       "   checking_account_little  checking_account_moderate  checking_account_rich  \\\n",
       "0                        1                          0                      0   \n",
       "1                        1                          0                      0   \n",
       "2                        0                          1                      0   \n",
       "3                        1                          0                      0   \n",
       "4                        0                          1                      0   \n",
       "\n",
       "   purpose_business  purpose_car  purpose_domestic appliances  \\\n",
       "0                 0            0                            0   \n",
       "1                 0            0                            1   \n",
       "2                 0            0                            0   \n",
       "3                 0            0                            0   \n",
       "4                 0            1                            0   \n",
       "\n",
       "   purpose_education  purpose_furniture/equipment  purpose_radio/TV  \\\n",
       "0                  0                            0                 1   \n",
       "1                  0                            0                 0   \n",
       "2                  0                            1                 0   \n",
       "3                  1                            0                 0   \n",
       "4                  0                            0                 0   \n",
       "\n",
       "   purpose_repairs  purpose_vacation/others  \n",
       "0                0                        0  \n",
       "1                0                        0  \n",
       "2                0                        0  \n",
       "3                0                        0  \n",
       "4                0                        0  "
      ]
     },
     "execution_count": 271,
     "metadata": {},
     "output_type": "execute_result"
    },
    {
     "data": {
      "text/html": [
       "<div>\n",
       "<style scoped>\n",
       "    .dataframe tbody tr th:only-of-type {\n",
       "        vertical-align: middle;\n",
       "    }\n",
       "\n",
       "    .dataframe tbody tr th {\n",
       "        vertical-align: top;\n",
       "    }\n",
       "\n",
       "    .dataframe thead th {\n",
       "        text-align: right;\n",
       "    }\n",
       "</style>\n",
       "<table border=\"1\" class=\"dataframe\">\n",
       "  <thead>\n",
       "    <tr style=\"text-align: right;\">\n",
       "      <th></th>\n",
       "      <th>age</th>\n",
       "      <th>job</th>\n",
       "      <th>years</th>\n",
       "      <th>credit_amount</th>\n",
       "      <th>duration</th>\n",
       "      <th>is_female</th>\n",
       "      <th>is_male</th>\n",
       "      <th>is_housing_free</th>\n",
       "      <th>is_housing_own</th>\n",
       "      <th>is_housing_rent</th>\n",
       "      <th>saving_account_little</th>\n",
       "      <th>saving_account_moderate</th>\n",
       "      <th>saving_account_quite rich</th>\n",
       "      <th>saving_account_rich</th>\n",
       "      <th>checking_account_little</th>\n",
       "      <th>checking_account_moderate</th>\n",
       "      <th>checking_account_rich</th>\n",
       "      <th>purpose_business</th>\n",
       "      <th>purpose_car</th>\n",
       "      <th>purpose_domestic appliances</th>\n",
       "      <th>purpose_education</th>\n",
       "      <th>purpose_furniture/equipment</th>\n",
       "      <th>purpose_radio/TV</th>\n",
       "      <th>purpose_repairs</th>\n",
       "      <th>purpose_vacation/others</th>\n",
       "    </tr>\n",
       "  </thead>\n",
       "  <tbody>\n",
       "    <tr>\n",
       "      <th>389</th>\n",
       "      <td>-0.293</td>\n",
       "      <td>2</td>\n",
       "      <td>2.561</td>\n",
       "      <td>2.090</td>\n",
       "      <td>2.561</td>\n",
       "      <td>1</td>\n",
       "      <td>0</td>\n",
       "      <td>0</td>\n",
       "      <td>1</td>\n",
       "      <td>0</td>\n",
       "      <td>1</td>\n",
       "      <td>0</td>\n",
       "      <td>0</td>\n",
       "      <td>0</td>\n",
       "      <td>1</td>\n",
       "      <td>0</td>\n",
       "      <td>0</td>\n",
       "      <td>0</td>\n",
       "      <td>0</td>\n",
       "      <td>0</td>\n",
       "      <td>0</td>\n",
       "      <td>0</td>\n",
       "      <td>1</td>\n",
       "      <td>0</td>\n",
       "      <td>0</td>\n",
       "    </tr>\n",
       "    <tr>\n",
       "      <th>390</th>\n",
       "      <td>-0.989</td>\n",
       "      <td>2</td>\n",
       "      <td>0.896</td>\n",
       "      <td>1.793</td>\n",
       "      <td>0.896</td>\n",
       "      <td>0</td>\n",
       "      <td>1</td>\n",
       "      <td>0</td>\n",
       "      <td>0</td>\n",
       "      <td>1</td>\n",
       "      <td>0</td>\n",
       "      <td>1</td>\n",
       "      <td>0</td>\n",
       "      <td>0</td>\n",
       "      <td>1</td>\n",
       "      <td>0</td>\n",
       "      <td>0</td>\n",
       "      <td>0</td>\n",
       "      <td>1</td>\n",
       "      <td>0</td>\n",
       "      <td>0</td>\n",
       "      <td>0</td>\n",
       "      <td>0</td>\n",
       "      <td>0</td>\n",
       "      <td>0</td>\n",
       "    </tr>\n",
       "    <tr>\n",
       "      <th>391</th>\n",
       "      <td>-0.293</td>\n",
       "      <td>2</td>\n",
       "      <td>-1.325</td>\n",
       "      <td>-0.675</td>\n",
       "      <td>-1.325</td>\n",
       "      <td>0</td>\n",
       "      <td>1</td>\n",
       "      <td>0</td>\n",
       "      <td>1</td>\n",
       "      <td>0</td>\n",
       "      <td>0</td>\n",
       "      <td>1</td>\n",
       "      <td>0</td>\n",
       "      <td>0</td>\n",
       "      <td>0</td>\n",
       "      <td>1</td>\n",
       "      <td>0</td>\n",
       "      <td>1</td>\n",
       "      <td>0</td>\n",
       "      <td>0</td>\n",
       "      <td>0</td>\n",
       "      <td>0</td>\n",
       "      <td>0</td>\n",
       "      <td>0</td>\n",
       "      <td>0</td>\n",
       "    </tr>\n",
       "    <tr>\n",
       "      <th>392</th>\n",
       "      <td>-0.492</td>\n",
       "      <td>2</td>\n",
       "      <td>1.451</td>\n",
       "      <td>2.157</td>\n",
       "      <td>1.451</td>\n",
       "      <td>0</td>\n",
       "      <td>1</td>\n",
       "      <td>0</td>\n",
       "      <td>1</td>\n",
       "      <td>0</td>\n",
       "      <td>1</td>\n",
       "      <td>0</td>\n",
       "      <td>0</td>\n",
       "      <td>0</td>\n",
       "      <td>1</td>\n",
       "      <td>0</td>\n",
       "      <td>0</td>\n",
       "      <td>0</td>\n",
       "      <td>0</td>\n",
       "      <td>0</td>\n",
       "      <td>1</td>\n",
       "      <td>0</td>\n",
       "      <td>0</td>\n",
       "      <td>0</td>\n",
       "      <td>0</td>\n",
       "    </tr>\n",
       "    <tr>\n",
       "      <th>393</th>\n",
       "      <td>0.204</td>\n",
       "      <td>2</td>\n",
       "      <td>1.451</td>\n",
       "      <td>1.854</td>\n",
       "      <td>1.451</td>\n",
       "      <td>0</td>\n",
       "      <td>1</td>\n",
       "      <td>0</td>\n",
       "      <td>1</td>\n",
       "      <td>0</td>\n",
       "      <td>1</td>\n",
       "      <td>0</td>\n",
       "      <td>0</td>\n",
       "      <td>0</td>\n",
       "      <td>1</td>\n",
       "      <td>0</td>\n",
       "      <td>0</td>\n",
       "      <td>1</td>\n",
       "      <td>0</td>\n",
       "      <td>0</td>\n",
       "      <td>0</td>\n",
       "      <td>0</td>\n",
       "      <td>0</td>\n",
       "      <td>0</td>\n",
       "      <td>0</td>\n",
       "    </tr>\n",
       "  </tbody>\n",
       "</table>\n",
       "</div>"
      ],
      "text/plain": [
       "       age  job  years  credit_amount  duration  is_female  is_male  \\\n",
       "389 -0.293    2  2.561          2.090     2.561          1        0   \n",
       "390 -0.989    2  0.896          1.793     0.896          0        1   \n",
       "391 -0.293    2 -1.325         -0.675    -1.325          0        1   \n",
       "392 -0.492    2  1.451          2.157     1.451          0        1   \n",
       "393  0.204    2  1.451          1.854     1.451          0        1   \n",
       "\n",
       "     is_housing_free  is_housing_own  is_housing_rent  saving_account_little  \\\n",
       "389                0               1                0                      1   \n",
       "390                0               0                1                      0   \n",
       "391                0               1                0                      0   \n",
       "392                0               1                0                      1   \n",
       "393                0               1                0                      1   \n",
       "\n",
       "     saving_account_moderate  saving_account_quite rich  saving_account_rich  \\\n",
       "389                        0                          0                    0   \n",
       "390                        1                          0                    0   \n",
       "391                        1                          0                    0   \n",
       "392                        0                          0                    0   \n",
       "393                        0                          0                    0   \n",
       "\n",
       "     checking_account_little  checking_account_moderate  \\\n",
       "389                        1                          0   \n",
       "390                        1                          0   \n",
       "391                        0                          1   \n",
       "392                        1                          0   \n",
       "393                        1                          0   \n",
       "\n",
       "     checking_account_rich  purpose_business  purpose_car  \\\n",
       "389                      0                 0            0   \n",
       "390                      0                 0            1   \n",
       "391                      0                 1            0   \n",
       "392                      0                 0            0   \n",
       "393                      0                 1            0   \n",
       "\n",
       "     purpose_domestic appliances  purpose_education  \\\n",
       "389                            0                  0   \n",
       "390                            0                  0   \n",
       "391                            0                  0   \n",
       "392                            0                  1   \n",
       "393                            0                  0   \n",
       "\n",
       "     purpose_furniture/equipment  purpose_radio/TV  purpose_repairs  \\\n",
       "389                            0                 1                0   \n",
       "390                            0                 0                0   \n",
       "391                            0                 0                0   \n",
       "392                            0                 0                0   \n",
       "393                            0                 0                0   \n",
       "\n",
       "     purpose_vacation/others  \n",
       "389                        0  \n",
       "390                        0  \n",
       "391                        0  \n",
       "392                        0  \n",
       "393                        0  "
      ]
     },
     "execution_count": 271,
     "metadata": {},
     "output_type": "execute_result"
    }
   ],
   "source": [
    "# 3.i. handle_categorical_columns (optional self testing)\n",
    "# ====>>> YOUR ACTIONS: (optional) IMPLEMENT & RUN \n",
    "file_name_csv = '.' + os.sep + 'data' + os.sep + 'loans_risk_factor_cleansed_scaled_1.csv'\n",
    "risk_factor_df = load_csv(file_name_csv)\n",
    "X, y = decouple_data(risk_factor_df)\n",
    "X_train, X_test, y_train, y_test = split_data(X, y)\n",
    "X_train_to_numeric, X_test_to_numeric = handle_categorical_columns(X_train, X_test)\n",
    "# --- add additional code to check your code if needed:\n",
    "# YOUR CODE HERE\n",
    "X_train.head()\n",
    "X_test.head()\n",
    "X_train_to_numeric.head()\n",
    "X_test_to_numeric.head()\n"
   ]
  },
  {
   "cell_type": "markdown",
   "metadata": {
    "deletable": false,
    "editable": false,
    "nbgrader": {
     "cell_type": "markdown",
     "checksum": "c0352199d843efdfb845559a0880f15a",
     "grade": false,
     "grade_id": "cell-6fedd02f655d3516",
     "locked": true,
     "schema_version": 3,
     "solution": false,
     "task": false
    }
   },
   "source": [
    "##### 3.i. handle_categorical_columns - GRADED TESTS - Run the following (2) code cells:"
   ]
  },
  {
   "cell_type": "code",
   "execution_count": 272,
   "metadata": {
    "deletable": false,
    "editable": false,
    "nbgrader": {
     "cell_type": "code",
     "checksum": "0d54aa1834734aceef1d4483d775ba11",
     "grade": true,
     "grade_id": "test3i_1-handle_categ_cols",
     "locked": true,
     "points": 0.2,
     "schema_version": 3,
     "solution": false,
     "task": false
    }
   },
   "outputs": [
    {
     "name": "stdout",
     "output_type": "stream",
     "text": [
      "3.i.'handle_categorical_columns' - Test 1 (name: test3i_1-handle_categ_cols, points: 0.1) - Sanity\n",
      "Good Job!\n",
      "You've passed the 1st test for the 'handle_categorical_columns' function implementation :-)\n"
     ]
    }
   ],
   "source": [
    "# 3.i. handle_categorical_columns (graded test)\n",
    "# ====>>> YOUR ACTIONS: RUN ONLY\n",
    "\n",
    "print (\"3.i.'handle_categorical_columns' - Test 1 (name: test3i_1-handle_categ_cols, points: 0.1) - Sanity\")\n",
    "\n",
    "file_name_csv = '.' + os.sep + 'data' + os.sep + 'loans_risk_factor_cleansed_scaled_1.csv'\n",
    "\n",
    "try:    \n",
    "    risk_factor_df = load_csv(file_name_csv)\n",
    "    X, y = decouple_data(risk_factor_df)\n",
    "    X_train, X_test, y_train, y_test = split_data(X, y)\n",
    "    X_train_to_numeric, X_test_to_numeric = handle_categorical_columns(X_train, X_test)\n",
    "except Exception as e:\n",
    "    print ('You probably have a syntax or implementation error,  \\nerror Message:',str(e), '\\nTry fixing your code')\n",
    "    raise\n",
    "\n",
    "print (\"Good Job!\\nYou've passed the 1st test for the 'handle_categorical_columns' function implementation :-)\")    "
   ]
  },
  {
   "cell_type": "code",
   "execution_count": 273,
   "metadata": {
    "deletable": false,
    "editable": false,
    "nbgrader": {
     "cell_type": "code",
     "checksum": "ab777844f39b1a2a9fb00f940cc0a6d3",
     "grade": true,
     "grade_id": "test3i_2-handle_categ_cols",
     "locked": true,
     "points": 1.1,
     "schema_version": 3,
     "solution": false,
     "task": false
    }
   },
   "outputs": [
    {
     "name": "stdout",
     "output_type": "stream",
     "text": [
      "3.i.'handle_categorical_columns' - Test 2 (name: test3i_2-handle_categ_cols, points: 0.7)\n",
      "Good Job!\n",
      "You've passed the 2nd test for the 'handle_categorical_columns' function implementation :-)\n"
     ]
    }
   ],
   "source": [
    "# 3.i. handle_categorical_columns (graded test)\n",
    "# ====>>> YOUR ACTIONS: RUN ONLY\n",
    "\n",
    "print (\"3.i.'handle_categorical_columns' - Test 2 (name: test3i_2-handle_categ_cols, points: 0.7)\")\n",
    "\n",
    "file_name_csv = '.' + os.sep + 'data' + os.sep + 'loans_risk_factor_cleansed_scaled_1.csv'\n",
    "\n",
    "try:    \n",
    "    risk_factor_df = load_csv(file_name_csv)\n",
    "    X, y = decouple_data(risk_factor_df)\n",
    "    X_train, X_test, y_train, y_test = split_data(X, y)\n",
    "    X_train_to_numeric, X_test_to_numeric = handle_categorical_columns(X_train, X_test)\n",
    "except Exception as e:\n",
    "    print ('You probably have a syntax or implementation error,  \\nerror Message:',str(e), '\\nTry fixing your code')\n",
    "    raise\n",
    "    \n",
    "assert (389, 25) == X_train_to_numeric.shape, \"Wrong shape for feature vectors dataframe X_train_to_numeric or X_test_to_numeric after 'handle_categorical_columns'\"\n",
    "    \n",
    "print (\"Good Job!\\nYou've passed the 2nd test for the 'handle_categorical_columns' function implementation :-)\")    "
   ]
  },
  {
   "cell_type": "code",
   "execution_count": 274,
   "metadata": {
    "deletable": false,
    "editable": false,
    "nbgrader": {
     "cell_type": "code",
     "checksum": "3c7d8492f4acb9bff1002157562703d7",
     "grade": true,
     "grade_id": "test3i_3-handle_categ_cols",
     "locked": true,
     "points": 1.2,
     "schema_version": 3,
     "solution": false,
     "task": false
    }
   },
   "outputs": [
    {
     "name": "stdout",
     "output_type": "stream",
     "text": [
      "3.i.'handle_categorical_columns' - Test 3 (name: test3i_3-handle_categ_cols, points: 0.7)\n",
      "Good Job!\n",
      "You've passed the 3rd test for the 'handle_categorical_columns' function implementation :-)\n"
     ]
    }
   ],
   "source": [
    "# 3.i. handle_categorical_columns (graded test)\n",
    "# ====>>> YOUR ACTIONS: RUN ONLY\n",
    "\n",
    "print (\"3.i.'handle_categorical_columns' - Test 3 (name: test3i_3-handle_categ_cols, points: 0.7)\")\n",
    "\n",
    "file_name_csv = '.' + os.sep + 'data' + os.sep + 'loans_risk_factor_cleansed_scaled_1.csv'\n",
    "\n",
    "try:    \n",
    "    risk_factor_df = load_csv(file_name_csv)\n",
    "    X, y = decouple_data(risk_factor_df)\n",
    "    X_train, X_test, y_train, y_test = split_data(X, y)\n",
    "    X_train_to_numeric, X_test_to_numeric = handle_categorical_columns(X_train, X_test)\n",
    "except Exception as e:\n",
    "    print ('You probably have a syntax or implementation error,  \\nerror Message:',str(e), '\\nTry fixing your code')\n",
    "    raise\n",
    "\n",
    "assert (98, 25) == X_test_to_numeric.shape, \"Wrong shape for feature vectors dataframe X_train_to_numeric or X_test_to_numeric after 'handle_categorical_columns'\"\n",
    "    \n",
    "print (\"Good Job!\\nYou've passed the 3rd test for the 'handle_categorical_columns' function implementation :-)\")    "
   ]
  },
  {
   "cell_type": "markdown",
   "metadata": {
    "deletable": false,
    "editable": false,
    "id": "ks8Qd7GEG62h",
    "nbgrader": {
     "cell_type": "markdown",
     "checksum": "b974bd0d7d6618e00eacd17385eb3765",
     "grade": false,
     "grade_id": "cell-cabf591a29105bf3",
     "locked": true,
     "schema_version": 3,
     "solution": false,
     "task": false
    }
   },
   "source": [
    "[Go to the beginning of the assignment](#home)\n",
    "<a id=\"model_implement\"></a>\n",
    "###  4. Model Implementation \n",
    "#### **3 Points**\n",
    "\n",
    "Your goal in this section is to build a machine learning model on all of the columns except the target column `risk` to predict `risk` binary label.\n",
    "\n",
    "In essence, the `risk` column is our **target variable** (also called `y` or `labels`) and the rest of the other columns are our independent variables (also called `data` or `X`).\n",
    "\n",
    "And since our target variable is one thing or another (risk or no-risk), we know our problem is a classification problem (classifying whether something is one thing or another).\n",
    "\n",
    "<hr>\n",
    "\n",
    "<b><u>This section includes the following</u></b>:\n",
    "* 4.a. Build KNN model             (1 point)\n",
    "* 4.b. Build Naive Bayes model     (1 point)\n",
    "* 4.c. Build Decision Tree model   (1 point)"
   ]
  },
  {
   "cell_type": "markdown",
   "metadata": {
    "deletable": false,
    "editable": false,
    "id": "MwKSIMi_HxtY",
    "nbgrader": {
     "cell_type": "markdown",
     "checksum": "acdac2b17bc49ec1168fb917a00786b2",
     "grade": false,
     "grade_id": "cell-1a690a651bdbb8c7",
     "locked": true,
     "schema_version": 3,
     "solution": false,
     "task": false
    }
   },
   "source": [
    "#### 4.a. Train KNN **- 1 Point**\n",
    "\n",
    "<u>method name</u>: <b>train_knn</b><br/>\n",
    "\n",
    "<hr>\n",
    "\n",
    "<u>dependency</u>: <br/>\n",
    "* <b>decouple_data</b></br> \n",
    "* <b>split_data</b></br> \n",
    "\n",
    "<hr>\n",
    "\n",
    "<pre>\n",
    "Complete the following function as follows:    \n",
    "1. Create a KNN classifer instance using 3 neighbours (leave other parameters as default)\n",
    "2. Train the model using the function parameters \"**X_train**\"\n",
    " (the train feature vectors) and \"**y_train**\" (the train ground-truth labels)\n",
    "3. Return the trained model\n",
    "\n",
    "------------\n",
    "input parameters:\n",
    "- X_train - \"loan risk factor\" train set feature vectors\n",
    "- y_train - \"loan risk factor\" train set labels\n",
    "------------\n",
    "The return statement should look like the following:\n",
    "return clf\n",
    "</pre>     \n"
   ]
  },
  {
   "cell_type": "markdown",
   "metadata": {
    "deletable": false,
    "editable": false,
    "nbgrader": {
     "cell_type": "markdown",
     "checksum": "d09d313ca4e3c09a6873f26b22eff596",
     "grade": false,
     "grade_id": "cell-0e5249fee912c392",
     "locked": true,
     "schema_version": 3,
     "solution": false,
     "task": false
    }
   },
   "source": [
    "#### 4.a. Train KNN - Implement and Run the following code cell:"
   ]
  },
  {
   "cell_type": "code",
   "execution_count": 275,
   "metadata": {
    "deletable": false,
    "id": "jNFp1dedJB-j",
    "nbgrader": {
     "cell_type": "code",
     "checksum": "4e775c65d753cdaa521ab90456441c51",
     "grade": false,
     "grade_id": "solution4a-train_knn",
     "locked": false,
     "schema_version": 3,
     "solution": true,
     "task": false
    }
   },
   "outputs": [],
   "source": [
    "# 4.a. train_knn (your solution)\n",
    "# ====>>> YOUR ACTIONS: IMPLEMENT & RUN\n",
    "\n",
    "def train_knn(X_train, y_train):\n",
    "    # YOUR CODE HERE\n",
    "    return KNeighborsClassifier(n_neighbors=3).fit(X_train, y_train)\n",
    "    "
   ]
  },
  {
   "cell_type": "markdown",
   "metadata": {
    "deletable": false,
    "editable": false,
    "nbgrader": {
     "cell_type": "markdown",
     "checksum": "241d632a4472037838f6c9f733eb985e",
     "grade": false,
     "grade_id": "cell-8538bb9147969c19",
     "locked": true,
     "schema_version": 3,
     "solution": false,
     "task": false
    }
   },
   "source": [
    "##### 4.a. train_knn  - OPTIONAL SELF TEST - Implement & Run the following code cell (IF NEEDED):"
   ]
  },
  {
   "cell_type": "code",
   "execution_count": 276,
   "metadata": {
    "deletable": false,
    "id": "4Bs2lmriSAaQ",
    "nbgrader": {
     "cell_type": "code",
     "checksum": "37b64dd71202468880ae67e303caafb9",
     "grade": false,
     "grade_id": "self_test4a-train_knn",
     "locked": false,
     "schema_version": 3,
     "solution": true,
     "task": false
    }
   },
   "outputs": [],
   "source": [
    "# 4.a. train_knn (optional self testing)\n",
    "# ====>>> YOUR ACTIONS: (optional) IMPLEMENT & RUN \n",
    "file_name_preprocessed = '.' + os.sep + 'data' + os.sep + 'loans_preprocessed_1.csv'\n",
    "risk_factor_df = load_csv(file_name_preprocessed)\n",
    "X, y = decouple_data(risk_factor_df)\n",
    "X_train, X_test, y_train, y_test = split_data(X, y)\n",
    "knn_clf = train_knn(X_train, y_train)\n",
    "# --- add additional code to check your code if needed:\n",
    "# YOUR CODE HERE\n"
   ]
  },
  {
   "cell_type": "markdown",
   "metadata": {
    "deletable": false,
    "editable": false,
    "nbgrader": {
     "cell_type": "markdown",
     "checksum": "21e6fed9eddf7370ea1d2097f1d736c2",
     "grade": false,
     "grade_id": "cell-e89c329c64303b6f",
     "locked": true,
     "schema_version": 3,
     "solution": false,
     "task": false
    }
   },
   "source": [
    "##### 4.a. train_knn - GRADED TESTS - Run the following (2) code cells:"
   ]
  },
  {
   "cell_type": "code",
   "execution_count": 277,
   "metadata": {
    "deletable": false,
    "editable": false,
    "nbgrader": {
     "cell_type": "code",
     "checksum": "2276996f3fa19d66526aee12dab16ff9",
     "grade": true,
     "grade_id": "test4a_1-train_knn",
     "locked": true,
     "points": 0.1,
     "schema_version": 3,
     "solution": false,
     "task": false
    }
   },
   "outputs": [
    {
     "name": "stdout",
     "output_type": "stream",
     "text": [
      "4.a.'train_knn' - Test 1 (name: test4a_1-train_knn, points: 0.1) - Sanity\n",
      "Good Job!\n",
      "You've passed the 1st test for the 'train_knn' function implementation :-)\n"
     ]
    }
   ],
   "source": [
    "# 4.a. train_knn (graded test)\n",
    "# ====>>> YOUR ACTIONS: RUN ONLY\n",
    "\n",
    "print (\"4.a.'train_knn' - Test 1 (name: test4a_1-train_knn, points: 0.1) - Sanity\")\n",
    "\n",
    "file_name_preprocessed = '.' + os.sep + 'data' + os.sep + 'loans_preprocessed_1.csv'\n",
    "\n",
    "try:\n",
    "    risk_factor_df = load_csv(file_name_preprocessed)\n",
    "    X, y = decouple_data(risk_factor_df)\n",
    "    X_train, X_test, y_train, y_test = split_data(X, y)\n",
    "\n",
    "    knn_clf = train_knn(X_train, y_train)\n",
    "except Exception as e:\n",
    "    print ('You probably have a syntax or implementation error,  \\nerror Message:',str(e), '\\nTry fixing your code')\n",
    "    raise\n",
    "\n",
    "print (\"Good Job!\\nYou've passed the 1st test for the 'train_knn' function implementation :-)\")    "
   ]
  },
  {
   "cell_type": "code",
   "execution_count": 278,
   "metadata": {
    "deletable": false,
    "editable": false,
    "nbgrader": {
     "cell_type": "code",
     "checksum": "d379cd3c6f503f0f93906994621496d4",
     "grade": true,
     "grade_id": "test4a_2-train_knn",
     "locked": true,
     "points": 0.4,
     "schema_version": 3,
     "solution": false,
     "task": false
    }
   },
   "outputs": [
    {
     "name": "stdout",
     "output_type": "stream",
     "text": [
      "4.a.'train_knn' - Test 2 (name: test4a_2-train_knn, points: 0.4)\n",
      "Good Job!\n",
      "You've passed the 1st test for the 'train_knn' function implementation :-)\n"
     ]
    }
   ],
   "source": [
    "# 4.a. train_knn (graded test)\n",
    "# ====>>> YOUR ACTIONS: RUN ONLY\n",
    "\n",
    "print (\"4.a.'train_knn' - Test 2 (name: test4a_2-train_knn, points: 0.4)\")\n",
    "\n",
    "file_name_preprocessed = '.' + os.sep + 'data' + os.sep + 'loans_preprocessed_1.csv'\n",
    "\n",
    "try:\n",
    "    risk_factor_df = load_csv(file_name_preprocessed)\n",
    "    X, y = decouple_data(risk_factor_df)\n",
    "    X_train, X_test, y_train, y_test = split_data(X, y)\n",
    "\n",
    "    knn_clf = train_knn(X_train, y_train)\n",
    "except Exception as e:\n",
    "    print ('You probably have a syntax or implementation error,  \\nerror Message:',str(e), '\\nTry fixing your code')\n",
    "    raise\n",
    "\n",
    "assert isinstance(knn_clf, KNeighborsClassifier), \"Returned trained KNN model must be of type 'KNeighborsClassifier' after invoking the function 'train_knn'\"\n",
    "\n",
    "print (\"Good Job!\\nYou've passed the 1st test for the 'train_knn' function implementation :-)\")    "
   ]
  },
  {
   "cell_type": "code",
   "execution_count": 279,
   "metadata": {
    "deletable": false,
    "editable": false,
    "nbgrader": {
     "cell_type": "code",
     "checksum": "ef7bea72798ff7bad5b58abad3248569",
     "grade": true,
     "grade_id": "test4a_3-train_knn",
     "locked": true,
     "points": 0.5,
     "schema_version": 3,
     "solution": false,
     "task": false
    }
   },
   "outputs": [
    {
     "name": "stdout",
     "output_type": "stream",
     "text": [
      "4.a.'train_knn' - Test 3 (name: test4a_3-train_knn, points: 0.5)\n",
      "Good Job!\n",
      "You've passed the 1st test for the 'train_knn' function implementation :-)\n"
     ]
    }
   ],
   "source": [
    "# 4.a. train_knn (graded test)\n",
    "# ====>>> YOUR ACTIONS: RUN ONLY\n",
    "\n",
    "print (\"4.a.'train_knn' - Test 3 (name: test4a_3-train_knn, points: 0.5)\")\n",
    "\n",
    "file_name_preprocessed = '.' + os.sep + 'data' + os.sep + 'loans_preprocessed_1.csv'\n",
    "\n",
    "try:\n",
    "    risk_factor_df = load_csv(file_name_preprocessed)\n",
    "    X, y = decouple_data(risk_factor_df)\n",
    "    X_train, X_test, y_train, y_test = split_data(X, y)\n",
    "\n",
    "    knn_clf = train_knn(X_train, y_train)\n",
    "except Exception as e:\n",
    "    print ('You probably have a syntax or implementation error,  \\nerror Message:',str(e), '\\nTry fixing your code')\n",
    "    raise\n",
    "\n",
    "assert 3==knn_clf.n_neighbors, \"number of neighbors should be 3\"\n",
    "\n",
    "print (\"Good Job!\\nYou've passed the 1st test for the 'train_knn' function implementation :-)\")    \n"
   ]
  },
  {
   "cell_type": "markdown",
   "metadata": {
    "deletable": false,
    "editable": false,
    "id": "xyblWjo7P-qE",
    "nbgrader": {
     "cell_type": "markdown",
     "checksum": "7b334b67f991eb2ea660c6b04470370e",
     "grade": false,
     "grade_id": "cell-6b980eaf90c455ed",
     "locked": true,
     "schema_version": 3,
     "solution": false,
     "task": false
    }
   },
   "source": [
    "#### 4.b. Train Naive Bayes **- 1 Point**\n",
    "\n",
    "<u>method name</u>: <b>train_naive_bayes</b><br/>\n",
    "\n",
    "<hr>\n",
    "\n",
    "<u>dependency</u>: <br/>\n",
    "* <b>decouple_data</b></br> \n",
    "* <b>split_data</b></br> \n",
    "\n",
    "<hr>\n",
    "\n",
    "<pre>\n",
    "Complete the following function as follows:    \n",
    "1. Create a Naive Bayes classifer instance (leave all parameters as default)\n",
    "2. Train the model using the function parameters \"**X_train**\"\n",
    " (the train feature vectors) and \"**y_train**\" (the train ground-truth labels)\n",
    "3. Return the trained model\n",
    "\n",
    "------------\n",
    "input parameters:\n",
    "- X_train - \"loan risk factor\" train set feature vectors\n",
    "- y_train - \"loan risk factor\" train set labels\n",
    "------------\n",
    "The return statement should look like the following:\n",
    "return clf\n",
    "</pre>    \n"
   ]
  },
  {
   "cell_type": "markdown",
   "metadata": {
    "deletable": false,
    "editable": false,
    "nbgrader": {
     "cell_type": "markdown",
     "checksum": "7620773875671ec95d03548f09c1d34e",
     "grade": false,
     "grade_id": "cell-78ede01768e2254e",
     "locked": true,
     "schema_version": 3,
     "solution": false,
     "task": false
    }
   },
   "source": [
    "#### 4.b. Train Naive Bayes - Implement and Run the following code cell:"
   ]
  },
  {
   "cell_type": "code",
   "execution_count": 280,
   "metadata": {
    "deletable": false,
    "id": "ytXrRC6GQgwQ",
    "nbgrader": {
     "cell_type": "code",
     "checksum": "807d747d74aaf0f2f84a5502180e7120",
     "grade": false,
     "grade_id": "solution4b-train_naive_bayes",
     "locked": false,
     "schema_version": 3,
     "solution": true,
     "task": false
    }
   },
   "outputs": [],
   "source": [
    "# 4.b. train_naive_bayes (your solution)\n",
    "# ====>>> YOUR ACTIONS: IMPLEMENT & RUN\n",
    "\n",
    "def train_naive_bayes(X_train, y_train):\n",
    "    # YOUR CODE HERE\n",
    "    return GaussianNB().fit(X_train, y_train)\n",
    "    "
   ]
  },
  {
   "cell_type": "markdown",
   "metadata": {
    "deletable": false,
    "editable": false,
    "nbgrader": {
     "cell_type": "markdown",
     "checksum": "3e7e0d76dbc458ec87ddfd609e29b3ce",
     "grade": false,
     "grade_id": "cell-6eed934a3ac28937",
     "locked": true,
     "schema_version": 3,
     "solution": false,
     "task": false
    }
   },
   "source": [
    "##### 4.b. train_naive_bayes  - OPTIONAL SELF TEST - Implement & Run the following code cell (IF NEEDED):"
   ]
  },
  {
   "cell_type": "code",
   "execution_count": 284,
   "metadata": {
    "deletable": false,
    "id": "7eKgMOeKSQws",
    "nbgrader": {
     "cell_type": "code",
     "checksum": "ce1eb522d5b1d0903d30e6b5e1035d16",
     "grade": false,
     "grade_id": "self_test4b-train_naive_bayes",
     "locked": false,
     "schema_version": 3,
     "solution": true,
     "task": false
    }
   },
   "outputs": [
    {
     "data": {
      "text/plain": [
       "GaussianNB()"
      ]
     },
     "execution_count": 284,
     "metadata": {},
     "output_type": "execute_result"
    }
   ],
   "source": [
    "# 4.b. train_naive_bayes (optional self testing)\n",
    "# ====>>> YOUR ACTIONS: (optional) IMPLEMENT & RUN \n",
    "file_name_preprocessed = '.' + os.sep + 'data' + os.sep + 'loans_preprocessed_1.csv'\n",
    "risk_factor_df = load_csv(file_name_preprocessed)\n",
    "X, y = decouple_data(risk_factor_df)\n",
    "X_train, X_test, y_train, y_test = split_data(X, y)\n",
    "nb_clf = train_naive_bayes(X_train, y_train)\n",
    "# --- add additional code to check your code if needed:\n",
    "# YOUR CODE HERE\n",
    "train_naive_bayes(X_train, y_train)\n"
   ]
  },
  {
   "cell_type": "markdown",
   "metadata": {
    "deletable": false,
    "editable": false,
    "nbgrader": {
     "cell_type": "markdown",
     "checksum": "f069f0ddc8cd8b5148cccef730a58cc4",
     "grade": false,
     "grade_id": "cell-8e8eac7754f2b573",
     "locked": true,
     "schema_version": 3,
     "solution": false,
     "task": false
    }
   },
   "source": [
    "##### 4.b. train_naive_bayes - GRADED TESTS - Run the following (2) code cells:"
   ]
  },
  {
   "cell_type": "code",
   "execution_count": 285,
   "metadata": {
    "deletable": false,
    "editable": false,
    "nbgrader": {
     "cell_type": "code",
     "checksum": "dea50de61a326b4301033a0d3eabf158",
     "grade": true,
     "grade_id": "test4b_1-train_naive_bayes",
     "locked": true,
     "points": 0.2,
     "schema_version": 3,
     "solution": false,
     "task": false
    }
   },
   "outputs": [
    {
     "name": "stdout",
     "output_type": "stream",
     "text": [
      "4.b.'train_naive_bayes' - Test 1 (name: test4b_1-train_naive_bayes, points: 0.2) - Sanity\n",
      "Good Job!\n",
      "You've passed the 1st test for the 'train_naive_bayes' function implementation :-)\n"
     ]
    }
   ],
   "source": [
    "# 4.b. train_naive_bayes (graded test)\n",
    "# ====>>> YOUR ACTIONS: RUN ONLY\n",
    "\n",
    "print (\"4.b.'train_naive_bayes' - Test 1 (name: test4b_1-train_naive_bayes, points: 0.2) - Sanity\")\n",
    "\n",
    "file_name_preprocessed = '.' + os.sep + 'data' + os.sep + 'loans_preprocessed_1.csv'\n",
    "\n",
    "try:\n",
    "    risk_factor_df = load_csv(file_name_preprocessed)\n",
    "    X, y = decouple_data(risk_factor_df)\n",
    "    X_train, X_test, y_train, y_test = split_data(X, y)\n",
    "    \n",
    "    nb_clf = train_naive_bayes(X_train, y_train)\n",
    "except Exception as e:\n",
    "    print ('You probably have a syntax or implementation error,  \\nerror Message:',str(e), '\\nTry fixing your code')\n",
    "    raise\n",
    "\n",
    "print (\"Good Job!\\nYou've passed the 1st test for the 'train_naive_bayes' function implementation :-)\")    "
   ]
  },
  {
   "cell_type": "code",
   "execution_count": 286,
   "metadata": {
    "deletable": false,
    "editable": false,
    "nbgrader": {
     "cell_type": "code",
     "checksum": "83343d9ae3b40ecab6575ee9ac68c7d3",
     "grade": true,
     "grade_id": "test4b_2-train_naive_bayes",
     "locked": true,
     "points": 0.8,
     "schema_version": 3,
     "solution": false,
     "task": false
    }
   },
   "outputs": [
    {
     "name": "stdout",
     "output_type": "stream",
     "text": [
      "4.b.'train_naive_bayes' - Test 2 (name: test4b_2-train_naive_bayes, points: 0.8)\n",
      "Good Job!\n",
      "You've passed the 2nd test for the 'train_naive_bayes' function implementation :-)\n"
     ]
    }
   ],
   "source": [
    "# 4.b. train_naive_bayes (graded test)\n",
    "# ====>>> YOUR ACTIONS: RUN ONLY\n",
    "\n",
    "print (\"4.b.'train_naive_bayes' - Test 2 (name: test4b_2-train_naive_bayes, points: 0.8)\")\n",
    "\n",
    "file_name_preprocessed = '.' + os.sep + 'data' + os.sep + 'loans_preprocessed_1.csv'\n",
    "\n",
    "try:\n",
    "    risk_factor_df = load_csv(file_name_preprocessed)\n",
    "    X, y = decouple_data(risk_factor_df)\n",
    "    X_train, X_test, y_train, y_test = split_data(X, y)\n",
    "    \n",
    "    nb_clf = train_naive_bayes(X_train, y_train)\n",
    "except Exception as e:\n",
    "    print ('You probably have a syntax or implementation error,  \\nerror Message:',str(e), '\\nTry fixing your code')\n",
    "    raise\n",
    "\n",
    "assert isinstance(nb_clf, GaussianNB), \"Returned trained Naive Bayes model must be of type 'GaussianNB' after invoking the function 'train_naive_bayes'\"\n",
    "    \n",
    "print (\"Good Job!\\nYou've passed the 2nd test for the 'train_naive_bayes' function implementation :-)\")    "
   ]
  },
  {
   "cell_type": "markdown",
   "metadata": {
    "deletable": false,
    "editable": false,
    "id": "uVRqFya6Qkix",
    "nbgrader": {
     "cell_type": "markdown",
     "checksum": "9fd64d7f2e2e4d6cc5623a1b60c5d81d",
     "grade": false,
     "grade_id": "cell-c08f06436a280b45",
     "locked": true,
     "schema_version": 3,
     "solution": false,
     "task": false
    }
   },
   "source": [
    "#### 4.c. Train Decision Tree **- 1 Point**\n",
    "\n",
    "<u>method name</u>: <b>train_decision_tree</b><br/>\n",
    "\n",
    "<hr>\n",
    "\n",
    "<u>dependency</u>: <br/>\n",
    "* <b>decouple_data</b></br> \n",
    "* <b>split_data</b></br> \n",
    "\n",
    "<hr>\n",
    "\n",
    "<pre>\n",
    "Complete the following function as follows:    \n",
    "1. Create a Decision Tree classifer instance with \"**max_depth**\" param **3** and \n",
    "\"**min_samples_split**\" param as **20** (leave all other parameters as default)\n",
    "2. Train the model using the function parameters \"**X_train**\"\n",
    " (the train feature vectors) and \"**y_train**\" (the train ground-truth labels)\n",
    "3. Return the trained model\n",
    "\n",
    "------------\n",
    "input parameters:\n",
    "- X_train - \"loan risk factor\" train set feature vectors\n",
    "- y_train - \"loan risk factor\" train set labels\n",
    "------------\n",
    "The return statement should look like the following:\n",
    "return clf\n",
    "</pre> "
   ]
  },
  {
   "cell_type": "markdown",
   "metadata": {
    "deletable": false,
    "editable": false,
    "nbgrader": {
     "cell_type": "markdown",
     "checksum": "548c0ac3aedff89c949a9b88e9603114",
     "grade": false,
     "grade_id": "cell-3ffae2be93025d1e",
     "locked": true,
     "schema_version": 3,
     "solution": false,
     "task": false
    }
   },
   "source": [
    "#### 4.c. Train Decision Tree - Implement and Run the following code cell:"
   ]
  },
  {
   "cell_type": "code",
   "execution_count": 287,
   "metadata": {
    "deletable": false,
    "id": "rvMNbSwDRGLe",
    "nbgrader": {
     "cell_type": "code",
     "checksum": "65e1ad6f64f76277b1b5454ee6eda76f",
     "grade": false,
     "grade_id": "solution4c-train_decision_tree",
     "locked": false,
     "schema_version": 3,
     "solution": true,
     "task": false
    }
   },
   "outputs": [],
   "source": [
    "# 4.c. train_naive_bayes (your solution)\n",
    "# ====>>> YOUR ACTIONS: IMPLEMENT & RUN\n",
    "\n",
    "def train_decision_tree(X_train, y_train):\n",
    "    # YOUR CODE HERE\n",
    "    return DecisionTreeClassifier(max_depth=3, min_samples_split=20).fit(X_train, y_train)\n",
    "    "
   ]
  },
  {
   "cell_type": "markdown",
   "metadata": {
    "deletable": false,
    "editable": false,
    "nbgrader": {
     "cell_type": "markdown",
     "checksum": "c420e294b096e25754309e9c6d3f8df8",
     "grade": false,
     "grade_id": "cell-abb443f4435ff71f",
     "locked": true,
     "schema_version": 3,
     "solution": false,
     "task": false
    }
   },
   "source": [
    "##### 4.c. train_decision_tree - OPTIONAL SELF TEST - Implement & Run the following code cell (IF NEEDED):"
   ]
  },
  {
   "cell_type": "code",
   "execution_count": 288,
   "metadata": {
    "deletable": false,
    "id": "c9dkw_L-SX5i",
    "nbgrader": {
     "cell_type": "code",
     "checksum": "cf664be4003c4cd8e31b19d572a128d4",
     "grade": false,
     "grade_id": "self_test4c-train_decision_tree",
     "locked": false,
     "schema_version": 3,
     "solution": true,
     "task": false
    }
   },
   "outputs": [
    {
     "data": {
      "text/plain": [
       "DecisionTreeClassifier(max_depth=3, min_samples_split=20)"
      ]
     },
     "execution_count": 288,
     "metadata": {},
     "output_type": "execute_result"
    }
   ],
   "source": [
    "# 4.c. train_decision_tree (optional self testing)\n",
    "# ====>>> YOUR ACTIONS: (optional) IMPLEMENT & RUN \n",
    "file_name_preprocessed = '.' + os.sep + 'data' + os.sep + 'loans_preprocessed_1.csv'\n",
    "risk_factor_df = load_csv(file_name_preprocessed)\n",
    "X, y = decouple_data(risk_factor_df)\n",
    "X_train, X_test, y_train, y_test = split_data(X, y)\n",
    "dt_clf = train_decision_tree(X_train, y_train)\n",
    "\n",
    "# --- add additional code to check your code if needed:\n",
    "# YOUR CODE HERE\n",
    "train_decision_tree(X_train, y_train)"
   ]
  },
  {
   "cell_type": "markdown",
   "metadata": {
    "deletable": false,
    "editable": false,
    "nbgrader": {
     "cell_type": "markdown",
     "checksum": "92841fb5e3d8b37c780e61cccc1e71a0",
     "grade": false,
     "grade_id": "cell-0a8d960dac59f885",
     "locked": true,
     "schema_version": 3,
     "solution": false,
     "task": false
    }
   },
   "source": [
    "##### 4.c. train_decision_tree - GRADED TESTS - Run the following (2) code cells:"
   ]
  },
  {
   "cell_type": "code",
   "execution_count": 289,
   "metadata": {
    "deletable": false,
    "editable": false,
    "nbgrader": {
     "cell_type": "code",
     "checksum": "4e4d9bac9f9463a70b51471b85770590",
     "grade": true,
     "grade_id": "test4c_1-train_decision_tree",
     "locked": true,
     "points": 0.1,
     "schema_version": 3,
     "solution": false,
     "task": false
    }
   },
   "outputs": [
    {
     "name": "stdout",
     "output_type": "stream",
     "text": [
      "4.c.'train_decision_tree' - Test 1 (name: test4c_1-train_decision_tree, points: 0.1) - Sanity\n",
      "Good Job!\n",
      "You've passed the 1st test for the 'train_decision_tree' function implementation :-)\n"
     ]
    }
   ],
   "source": [
    "# 4.c. train_decision_tree (graded test)\n",
    "# ====>>> YOUR ACTIONS: RUN ONLY\n",
    "\n",
    "print (\"4.c.'train_decision_tree' - Test 1 (name: test4c_1-train_decision_tree, points: 0.1) - Sanity\")\n",
    "\n",
    "file_name_preprocessed = '.' + os.sep + 'data' + os.sep + 'loans_preprocessed_1.csv'\n",
    "\n",
    "try:\n",
    "    risk_factor_df = load_csv(file_name_preprocessed)\n",
    "    X, y = decouple_data(risk_factor_df)\n",
    "    X_train, X_test, y_train, y_test = split_data(X, y)\n",
    "    \n",
    "    dt_clf = train_decision_tree(X_train, y_train)\n",
    "except Exception as e:\n",
    "    print ('You probably have a syntax or implementation error,  \\nerror Message:',str(e), '\\nTry fixing your code')\n",
    "    raise\n",
    "\n",
    "print (\"Good Job!\\nYou've passed the 1st test for the 'train_decision_tree' function implementation :-)\")    "
   ]
  },
  {
   "cell_type": "code",
   "execution_count": 290,
   "metadata": {
    "deletable": false,
    "editable": false,
    "nbgrader": {
     "cell_type": "code",
     "checksum": "227c0be101ecd5d3583bf6780db7e322",
     "grade": true,
     "grade_id": "test4c_2-train_decision_tree",
     "locked": true,
     "points": 0.4,
     "schema_version": 3,
     "solution": false,
     "task": false
    }
   },
   "outputs": [
    {
     "name": "stdout",
     "output_type": "stream",
     "text": [
      "4.c.'train_decision_tree' - Test 2 (name: test4c_2-train_decision_tree, points: 0.4)\n",
      "Good Job!\n",
      "You've passed the 2nd test for the 'train_decision_tree' function implementation :-)\n"
     ]
    }
   ],
   "source": [
    "# 4.c. train_decision_tree (graded test)\n",
    "# ====>>> YOUR ACTIONS: RUN ONLY\n",
    "\n",
    "print (\"4.c.'train_decision_tree' - Test 2 (name: test4c_2-train_decision_tree, points: 0.4)\")\n",
    "\n",
    "file_name_preprocessed = '.' + os.sep + 'data' + os.sep + 'loans_preprocessed_1.csv'\n",
    "\n",
    "try:\n",
    "    risk_factor_df = load_csv(file_name_preprocessed)\n",
    "    X, y = decouple_data(risk_factor_df)\n",
    "    X_train, X_test, y_train, y_test = split_data(X, y)\n",
    "    \n",
    "    dt_clf = train_decision_tree(X_train, y_train)\n",
    "except Exception as e:\n",
    "    print ('You probably have a syntax or implementation error,  \\nerror Message:',str(e), '\\nTry fixing your code')\n",
    "    raise\n",
    "\n",
    "assert isinstance(dt_clf, DecisionTreeClassifier), \"Returned trained Decision Tree model must be of type 'DecisionTreeClassifier' after invoking the function 'train_decision_tree'\"\n",
    "\n",
    "print (\"Good Job!\\nYou've passed the 2nd test for the 'train_decision_tree' function implementation :-)\")    "
   ]
  },
  {
   "cell_type": "code",
   "execution_count": 291,
   "metadata": {
    "deletable": false,
    "editable": false,
    "nbgrader": {
     "cell_type": "code",
     "checksum": "179e3aade347a258b93d783f817c9fd7",
     "grade": true,
     "grade_id": "test4c_3-train_decision_tree",
     "locked": true,
     "points": 0.5,
     "schema_version": 3,
     "solution": false,
     "task": false
    }
   },
   "outputs": [
    {
     "name": "stdout",
     "output_type": "stream",
     "text": [
      "4.c.'train_decision_tree' - Test 3 (name: test4c_3-train_decision_tree, points: 0.5)\n",
      "Good Job!\n",
      "You've passed the 3rd test for the 'train_decision_tree' function implementation :-)\n"
     ]
    }
   ],
   "source": [
    "# 4.c. train_decision_tree (graded test)\n",
    "# ====>>> YOUR ACTIONS: RUN ONLY\n",
    "\n",
    "print (\"4.c.'train_decision_tree' - Test 3 (name: test4c_3-train_decision_tree, points: 0.5)\")\n",
    "\n",
    "file_name_csv = '.' + os.sep + 'data' + os.sep + 'loans_preprocessed_1.csv'\n",
    "\n",
    "try:\n",
    "    risk_factor_df = load_csv(file_name_preprocessed)\n",
    "    X, y = decouple_data(risk_factor_df)\n",
    "    X_train, X_test, y_train, y_test = split_data(X, y)\n",
    "    \n",
    "    dt_clf = train_decision_tree(X_train, y_train)\n",
    "except Exception as e:\n",
    "    print ('You probably have a syntax or implementation error,  \\nerror Message:',str(e), '\\nTry fixing your code')\n",
    "    raise\n",
    "\n",
    "assert 3==dt_clf.max_depth and 20==dt_clf.min_samples_split, \"wrong parameters set for 'train_decision_tree'\"\n",
    "\n",
    "print (\"Good Job!\\nYou've passed the 3rd test for the 'train_decision_tree' function implementation :-)\")    "
   ]
  },
  {
   "cell_type": "markdown",
   "metadata": {
    "deletable": false,
    "editable": false,
    "id": "vFENVjO-RLBC",
    "nbgrader": {
     "cell_type": "markdown",
     "checksum": "b1ff82b293b760d9b3c5295fe8f3dd3e",
     "grade": false,
     "grade_id": "cell-796a17eff52424d6",
     "locked": true,
     "schema_version": 3,
     "solution": false,
     "task": false
    }
   },
   "source": [
    "[Go to the beginning of the assignment](#home)\n",
    "<a id=\"evaluation\"></a>\n",
    "### 5. Model Evaluation - **2 Points**\n",
    "Model Evaluation is an integral part of the model development process. It helps to find the best model that represents our data and how well the chosen model will work in the future.\n",
    "\n",
    "Your goal in this section is to evaluate your trained model using few evaluation methods learned in class on your test set\n",
    "\n",
    "<hr>\n",
    "\n",
    "<b><u>This section includes the following</u></b>:\n",
    "* 5.a. Accuracy                  (1 point)\n",
    "* 5.b. cross validation accuracy (1 point)"
   ]
  },
  {
   "cell_type": "markdown",
   "metadata": {
    "deletable": false,
    "editable": false,
    "id": "QFViSMtnSCEj",
    "nbgrader": {
     "cell_type": "markdown",
     "checksum": "c9652b8e572d15c72e6825191adca791",
     "grade": false,
     "grade_id": "cell-ac796eb97c4545e0",
     "locked": true,
     "schema_version": 3,
     "solution": false,
     "task": false
    }
   },
   "source": [
    "#### 5.a. Accuracy - **1 Point**\n",
    "\n",
    "<u>method name</u>: <b>evaluate_accuracy</b><br/>\n",
    "\n",
    "<hr>\n",
    "\n",
    "<u>dependency</u>: <br/>\n",
    "* <b>decouple_data</b></br> \n",
    "* <b>split_data</b></br> \n",
    "\n",
    "<hr>\n",
    "\n",
    "<pre>\n",
    "Complete the following function to calculate the accuracy score and return it\n",
    "\n",
    "------------\n",
    "input parameters:\n",
    "- clf - Trained classifier\n",
    "- X_test - Test set to evaluate the trained model on\n",
    "- y_test - Test ground-truth labels to compare to predicted labels\n",
    "------------\n",
    "The return statement should look like the following:\n",
    "return accuracy\n",
    "</pre> \n"
   ]
  },
  {
   "cell_type": "markdown",
   "metadata": {},
   "source": [
    "#### 5.a. Accuracy  - Implement and Run the following code cell:"
   ]
  },
  {
   "cell_type": "code",
   "execution_count": 292,
   "metadata": {
    "deletable": false,
    "id": "i_v6I3pxThbx",
    "nbgrader": {
     "cell_type": "code",
     "checksum": "63815651b39ad5534e0de9394e3d5355",
     "grade": false,
     "grade_id": "solution5a-evaluate_accuracy",
     "locked": false,
     "schema_version": 3,
     "solution": true,
     "task": false
    }
   },
   "outputs": [],
   "source": [
    "# 5.a. evaluate_accuracy (your solution)\n",
    "# ====>>> YOUR ACTIONS: IMPLEMENT & RUN\n",
    "\n",
    "def evaluate_accuracy(clf, X_test, y_test):\n",
    "    # YOUR CODE HERE\n",
    "    # Predict with the test data and return accuracy score\n",
    "    y_pred = clf.predict(X_test)\n",
    "    return accuracy_score(y_true=y_test, y_pred=y_pred)"
   ]
  },
  {
   "cell_type": "markdown",
   "metadata": {
    "deletable": false,
    "editable": false,
    "nbgrader": {
     "cell_type": "markdown",
     "checksum": "ec78069bc56b40948b7e0b6896f5ad39",
     "grade": false,
     "grade_id": "cell-04b459426c895a8b",
     "locked": true,
     "schema_version": 3,
     "solution": false,
     "task": false
    }
   },
   "source": [
    "##### 5.a. evaluate_accuracy - OPTIONAL SELF TEST - Implement & Run the following code cell (IF NEEDED):"
   ]
  },
  {
   "cell_type": "code",
   "execution_count": 293,
   "metadata": {
    "deletable": false,
    "id": "Kd9Y-LA6TnHV",
    "nbgrader": {
     "cell_type": "code",
     "checksum": "ea51b303c524bc89fc1b9cce862f93ee",
     "grade": false,
     "grade_id": "self_test5a-evaluate_accuracy",
     "locked": false,
     "schema_version": 3,
     "solution": true,
     "task": false
    }
   },
   "outputs": [
    {
     "data": {
      "text/plain": [
       "0.5510204081632653"
      ]
     },
     "execution_count": 293,
     "metadata": {},
     "output_type": "execute_result"
    }
   ],
   "source": [
    "# 5.a. evaluate_accuracy (optional self testing)\n",
    "# ====>>> YOUR ACTIONS: (optional) IMPLEMENT & RUN \n",
    "file_name_preprocessed = '.' + os.sep + 'data' + os.sep + 'loans_preprocessed_1.csv'\n",
    "risk_factor_df = load_csv(file_name_preprocessed)\n",
    "X, y = decouple_data(risk_factor_df)\n",
    "X_train, X_test, y_train, y_test = split_data(X, y)\n",
    "evaluate_accuracy(knn_clf, X_test, y_test)\n",
    "\n",
    "# --- add additional code to check your code if needed:\n",
    "# YOUR CODE HERE\n"
   ]
  },
  {
   "cell_type": "markdown",
   "metadata": {
    "deletable": false,
    "editable": false,
    "nbgrader": {
     "cell_type": "markdown",
     "checksum": "97a1ab3f018d93adf0aff7e1af9c1cb3",
     "grade": false,
     "grade_id": "cell-e10dfe5549393d19",
     "locked": true,
     "schema_version": 3,
     "solution": false,
     "task": false
    }
   },
   "source": [
    "##### 5.a. evaluate_accuracy - GRADED TESTS - Run the following (2) code cells:"
   ]
  },
  {
   "cell_type": "code",
   "execution_count": 294,
   "metadata": {
    "colab": {
     "base_uri": "https://localhost:8080/"
    },
    "deletable": false,
    "editable": false,
    "id": "pd6tTHcWT5cX",
    "nbgrader": {
     "cell_type": "code",
     "checksum": "1442007d84279008ff08eefbed72c800",
     "grade": true,
     "grade_id": "test5a_1-evaluate_accuracy",
     "locked": true,
     "points": 0.2,
     "schema_version": 3,
     "solution": false,
     "task": false
    },
    "outputId": "f0458030-4a93-4f96-d605-8b91dee441ce"
   },
   "outputs": [
    {
     "name": "stdout",
     "output_type": "stream",
     "text": [
      "5.a.'evaluate_accuracy' - Test 1 (name: test5a_1-evaluate_accuracy, points: 0.1) - Sanity\n",
      "Good Job!\n",
      "You've passed the 1st test for the 'evaluate_accuracy' function implementation :-)\n"
     ]
    }
   ],
   "source": [
    "# 5.a. evaluate_accuracy (graded test)\n",
    "# ====>>> YOUR ACTIONS: RUN ONLY\n",
    "\n",
    "print (\"5.a.'evaluate_accuracy' - Test 1 (name: test5a_1-evaluate_accuracy, points: 0.1) - Sanity\")\n",
    "\n",
    "file_name_preprocessed = '.' + os.sep + 'data' + os.sep + 'loans_preprocessed_1.csv'\n",
    "\n",
    "try:\n",
    "    risk_factor_df = load_csv(file_name_preprocessed)\n",
    "    X, y = decouple_data(risk_factor_df)\n",
    "    X_train, X_test, y_train, y_test = split_data(X, y)\n",
    "    \n",
    "    knn_acc_score = evaluate_accuracy(knn_clf, X_test, y_test)\n",
    "    nb_acc_score = evaluate_accuracy(nb_clf, X_test, y_test)\n",
    "    dt_acc_score = evaluate_accuracy(dt_clf, X_test, y_test)\n",
    "except Exception as e:\n",
    "    print ('You probably have a syntax or implementation error,  \\nerror Message:',str(e), '\\nTry fixing your code')\n",
    "    raise\n",
    "\n",
    "print (\"Good Job!\\nYou've passed the 1st test for the 'evaluate_accuracy' function implementation :-)\")    "
   ]
  },
  {
   "cell_type": "code",
   "execution_count": 295,
   "metadata": {
    "deletable": false,
    "editable": false,
    "nbgrader": {
     "cell_type": "code",
     "checksum": "ee0641bc5859fc7efa23b41d1a482012",
     "grade": true,
     "grade_id": "test5a_2-evaluate_accuracy",
     "locked": true,
     "points": 0.4,
     "schema_version": 3,
     "solution": false,
     "task": false
    }
   },
   "outputs": [
    {
     "name": "stdout",
     "output_type": "stream",
     "text": [
      "5.a.'evaluate_accuracy' - Test 2 (name: test5a_2-evaluate_accuracy, points: 0.1)\n",
      "Good Job!\n",
      "You've passed the 2nd test for the 'evaluate_accuracy' function implementation :-)\n"
     ]
    }
   ],
   "source": [
    "# 5.a. evaluate_accuracy (graded test)\n",
    "# ====>>> YOUR ACTIONS: RUN ONLY\n",
    "\n",
    "print (\"5.a.'evaluate_accuracy' - Test 2 (name: test5a_2-evaluate_accuracy, points: 0.1)\")\n",
    "\n",
    "file_name_preprocessed = '.' + os.sep + 'data' + os.sep + 'loans_preprocessed_1.csv'\n",
    "\n",
    "try:\n",
    "    risk_factor_df = load_csv(file_name_preprocessed)\n",
    "    X, y = decouple_data(risk_factor_df)\n",
    "    X_train, X_test, y_train, y_test = split_data(X, y)\n",
    "    \n",
    "    knn_acc_score = evaluate_accuracy(knn_clf, X_test, y_test)\n",
    "    nb_acc_score = evaluate_accuracy(nb_clf, X_test, y_test)\n",
    "    dt_acc_score = evaluate_accuracy(dt_clf, X_test, y_test)\n",
    "except Exception as e:\n",
    "    print ('You probably have a syntax or implementation error,  \\nerror Message:',str(e), '\\nTry fixing your code')\n",
    "    raise\n",
    "\n",
    "assert 0.53 < knn_acc_score < 0.58, \"Wrong accuracy score for KNN model using the preprocessed data after training, please check preprocessing and training process based on the instructions\"\n",
    "\n",
    "print (\"Good Job!\\nYou've passed the 2nd test for the 'evaluate_accuracy' function implementation :-)\")    "
   ]
  },
  {
   "cell_type": "code",
   "execution_count": 296,
   "metadata": {
    "deletable": false,
    "editable": false,
    "nbgrader": {
     "cell_type": "code",
     "checksum": "f471b2502156a9eb35fbb5eb4ea2ec8d",
     "grade": true,
     "grade_id": "test5a_3-evaluate_accuracy",
     "locked": true,
     "points": 0.4,
     "schema_version": 3,
     "solution": false,
     "task": false
    }
   },
   "outputs": [
    {
     "name": "stdout",
     "output_type": "stream",
     "text": [
      "5.a.'evaluate_accuracy' - Test 3 (name: test5a_3-evaluate_accuracy, points: 0.4)\n",
      "Good Job!\n",
      "You've passed the 3rd test for the 'evaluate_accuracy' function implementation :-)\n"
     ]
    }
   ],
   "source": [
    "# 5.a. evaluate_accuracy (graded test)\n",
    "# ====>>> YOUR ACTIONS: RUN ONLY\n",
    "\n",
    "print (\"5.a.'evaluate_accuracy' - Test 3 (name: test5a_3-evaluate_accuracy, points: 0.4)\")\n",
    "\n",
    "file_name_preprocessed = '.' + os.sep + 'data' + os.sep + 'loans_preprocessed_1.csv'\n",
    "\n",
    "try:\n",
    "    risk_factor_df = load_csv(file_name_preprocessed)\n",
    "    X, y = decouple_data(risk_factor_df)\n",
    "    X_train, X_test, y_train, y_test = split_data(X, y)\n",
    "    \n",
    "    knn_acc_score = evaluate_accuracy(knn_clf, X_test, y_test)\n",
    "    nb_acc_score = evaluate_accuracy(nb_clf, X_test, y_test)\n",
    "    dt_acc_score = evaluate_accuracy(dt_clf, X_test, y_test)\n",
    "except Exception as e:\n",
    "    print ('You probably have a syntax or implementation error,  \\nerror Message:',str(e), '\\nTry fixing your code')\n",
    "    raise\n",
    "\n",
    "assert 0.52 < dt_acc_score < 0.57, \"Wrong accuracy score for Decision Tree model using the preprocessed data after training, please check preprocessing and training process based on the instructions\"\n",
    "\n",
    "print (\"Good Job!\\nYou've passed the 3rd test for the 'evaluate_accuracy' function implementation :-)\")    "
   ]
  },
  {
   "cell_type": "markdown",
   "metadata": {
    "deletable": false,
    "editable": false,
    "id": "rFxm7lh6fC9Z",
    "nbgrader": {
     "cell_type": "markdown",
     "checksum": "7a4225558c8fdbb8255dcfae3cfc9baf",
     "grade": false,
     "grade_id": "cell-752f4687fa3d7189",
     "locked": true,
     "schema_version": 3,
     "solution": false,
     "task": false
    }
   },
   "source": [
    "#### 5.b. Cross Validation - Accuracy - **1 Point**\n",
    "\n",
    "<u>method name</u>: <b>evaluate_accuracy_cross_validation</b><br/>\n",
    "\n",
    "<hr>\n",
    "\n",
    "<u>dependency</u>: <br/>\n",
    "* <b>decouple_data</b></br> \n",
    "* <b>split_data</b></br> \n",
    "\n",
    "<hr>\n",
    "\n",
    "<pre>\n",
    "Complete the following function to calculate the 10-fold cross-validation mean accuracy score and return it\n",
    "\n",
    "------------\n",
    "input parameters:\n",
    "- clf - **Untrained** classifier instance (with default params)\n",
    "- X - All dataset's processed feature vectors \n",
    "- y - All dataset's processed targets/labels\n",
    "\n",
    "------------\n",
    "The return statement should look like the following:\n",
    "return mean_accuracy\n",
    "\n",
    "For test purposes use 'random_state=42' in the Decision Tree classifier instance (DecisionTreeClassifier(random_state=42))\n"
   ]
  },
  {
   "cell_type": "markdown",
   "metadata": {},
   "source": [
    "#### 5.b. Cross Validation - Accuracy  - Implement and Run the following code cell:"
   ]
  },
  {
   "cell_type": "code",
   "execution_count": 297,
   "metadata": {
    "deletable": false,
    "id": "hlKtLYTyfnGL",
    "nbgrader": {
     "cell_type": "code",
     "checksum": "4d23b5c8e8c06544a84528e14b01ac27",
     "grade": false,
     "grade_id": "solution5b-evaluate_accuracy_cv",
     "locked": false,
     "schema_version": 3,
     "solution": true,
     "task": false
    }
   },
   "outputs": [],
   "source": [
    "# 5.b. evaluate_accuracy_cross_validation (your solution)\n",
    "# ====>>> YOUR ACTIONS: IMPLEMENT & RUN\n",
    "\n",
    "def evaluate_accuracy_cross_validation(clf, X, y):\n",
    "    # YOUR CODE HERE\n",
    "    return cross_val_score(clf, X, y, cv=10).mean()\n",
    "    "
   ]
  },
  {
   "cell_type": "markdown",
   "metadata": {
    "deletable": false,
    "editable": false,
    "nbgrader": {
     "cell_type": "markdown",
     "checksum": "0d987432aa82a59a0cb5ba523f381e73",
     "grade": false,
     "grade_id": "cell-276a98801d4bc309",
     "locked": true,
     "schema_version": 3,
     "solution": false,
     "task": false
    }
   },
   "source": [
    "##### 5.b. evaluate_accuracy_cross_validation - OPTIONAL SELF TEST - Implement & Run the following code cell (IF NEEDED):"
   ]
  },
  {
   "cell_type": "code",
   "execution_count": 298,
   "metadata": {
    "deletable": false,
    "id": "TqTcZxvTfuwz",
    "nbgrader": {
     "cell_type": "code",
     "checksum": "c89e2d85de4dd28491a1f84c5cfa0d21",
     "grade": false,
     "grade_id": "self_test5b-evaluate_accuracy_cv",
     "locked": false,
     "schema_version": 3,
     "solution": true,
     "task": false
    }
   },
   "outputs": [
    {
     "data": {
      "text/plain": [
       "0.5915391156462585"
      ]
     },
     "execution_count": 298,
     "metadata": {},
     "output_type": "execute_result"
    }
   ],
   "source": [
    "# 5.b. evaluate_accuracy_cross_validation (optional self testing)\n",
    "# ====>>> YOUR ACTIONS: (optional) IMPLEMENT & RUN \n",
    "\n",
    "file_name_preprocessed = '.' + os.sep + 'data' + os.sep + 'loans_preprocessed_1.csv'\n",
    "risk_factor_df = load_csv(file_name_preprocessed)\n",
    "X, y = decouple_data(risk_factor_df)\n",
    "X_train, X_test, y_train, y_test = split_data(X, y)\n",
    "\n",
    "# --- add additional code to check your code if needed:\n",
    "# YOUR CODE HERE\n",
    "X = pd.concat([X_train, X_test])\n",
    "y = pd.concat([y_train, y_test])\n",
    "evaluate_accuracy_cross_validation(KNeighborsClassifier(20), X, y)\n"
   ]
  },
  {
   "cell_type": "markdown",
   "metadata": {
    "deletable": false,
    "editable": false,
    "nbgrader": {
     "cell_type": "markdown",
     "checksum": "f17b2484bbc6ae2b088ab892f96f7284",
     "grade": false,
     "grade_id": "cell-9c7b90873194fae5",
     "locked": true,
     "schema_version": 3,
     "solution": false,
     "task": false
    }
   },
   "source": [
    "##### 5.b. evaluate_accuracy_cross_validation - GRADED TESTS - Run the following (2) code cells:"
   ]
  },
  {
   "cell_type": "code",
   "execution_count": 299,
   "metadata": {
    "colab": {
     "base_uri": "https://localhost:8080/"
    },
    "deletable": false,
    "editable": false,
    "id": "CXyhEgnTgNrj",
    "nbgrader": {
     "cell_type": "code",
     "checksum": "b79e6ad21aaaf0fa6739fbeb8067b1a7",
     "grade": true,
     "grade_id": "test5b_1-evaluate_accuracy_cv",
     "locked": true,
     "points": 0.2,
     "schema_version": 3,
     "solution": false,
     "task": false
    },
    "outputId": "36176027-a7f5-4115-8682-d89864e0635d"
   },
   "outputs": [
    {
     "name": "stdout",
     "output_type": "stream",
     "text": [
      "5.b.'evaluate_accuracy_cross_validation' - Test 1 (name: test5b_1-evaluate_accuracy_cv, points: 0.2) - Sanity\n",
      "Good Job!\n",
      "You've passed the 1st test for the 'evaluate_accuracy_cross_validation' function implementation :-)\n"
     ]
    }
   ],
   "source": [
    "# 5.b. evaluate_accuracy_cross_validation (graded test)\n",
    "# ====>>> YOUR ACTIONS: RUN ONLY\n",
    "\n",
    "print (\"5.b.'evaluate_accuracy_cross_validation' - Test 1 (name: test5b_1-evaluate_accuracy_cv, points: 0.2) - Sanity\")\n",
    "\n",
    "file_name_csv = '.' + os.sep + 'data' + os.sep + 'loans_preprocessed_1.csv'\n",
    "\n",
    "try:\n",
    "    risk_factor_df = load_csv(file_name_preprocessed)\n",
    "    X, y = decouple_data(risk_factor_df)\n",
    "    X_train, X_test, y_train, y_test = split_data(X, y)\n",
    "    \n",
    "    X = pd.concat([X_train, X_test])\n",
    "    y = pd.concat([y_train, y_test])\n",
    "\n",
    "    knn_cv_acc_score = evaluate_accuracy_cross_validation(KNeighborsClassifier(), X, y)\n",
    "    nb_cv_acc_score = evaluate_accuracy_cross_validation(GaussianNB(), X, y)\n",
    "    dt_cv_acc_score = evaluate_accuracy_cross_validation(DecisionTreeClassifier(random_state=42), X, y)\n",
    "except Exception as e:\n",
    "    print ('You probably have a syntax or implementation error,  \\nerror Message:',str(e), '\\nTry fixing your code')\n",
    "    raise\n",
    "\n",
    "print (\"Good Job!\\nYou've passed the 1st test for the 'evaluate_accuracy_cross_validation' function implementation :-)\")   "
   ]
  },
  {
   "cell_type": "code",
   "execution_count": 300,
   "metadata": {
    "deletable": false,
    "editable": false,
    "nbgrader": {
     "cell_type": "code",
     "checksum": "27714ed4f2419a17b061348b8696f674",
     "grade": true,
     "grade_id": "test5b_2-evaluate_accuracy_cv",
     "locked": true,
     "points": 0.4,
     "schema_version": 3,
     "solution": false,
     "task": false
    }
   },
   "outputs": [
    {
     "name": "stdout",
     "output_type": "stream",
     "text": [
      "5.b.'evaluate_accuracy_cross_validation' - Test 2 (name: test5b_2-evaluate_accuracy_cv, points: 0.4)\n",
      "Good Job!\n",
      "You've passed the 2nd test for the 'evaluate_accuracy_cross_validation' function implementation :-)\n"
     ]
    }
   ],
   "source": [
    "# 5.b. evaluate_accuracy_cross_validation (graded test)\n",
    "# ====>>> YOUR ACTIONS: RUN ONLY\n",
    "\n",
    "print (\"5.b.'evaluate_accuracy_cross_validation' - Test 2 (name: test5b_2-evaluate_accuracy_cv, points: 0.4)\")\n",
    "\n",
    "file_name_preprocessed = '.' + os.sep + 'data' + os.sep + 'loans_preprocessed_1.csv'\n",
    "\n",
    "try:\n",
    "    risk_factor_df = load_csv(file_name_preprocessed)\n",
    "    X, y = decouple_data(risk_factor_df)\n",
    "    X_train, X_test, y_train, y_test = split_data(X, y)\n",
    "    \n",
    "    X = pd.concat([X_train, X_test])\n",
    "    y = pd.concat([y_train, y_test])\n",
    "\n",
    "    knn_cv_acc_score = evaluate_accuracy_cross_validation(KNeighborsClassifier(), X, y)\n",
    "    nb_cv_acc_score = evaluate_accuracy_cross_validation(GaussianNB(), X, y)\n",
    "    dt_cv_acc_score = evaluate_accuracy_cross_validation(DecisionTreeClassifier(random_state=42), X, y) \n",
    "except Exception as e:\n",
    "    print ('You probably have a syntax or implementation error,  \\nerror Message:',str(e), '\\nTry fixing your code')\n",
    "    raise\n",
    "    \n",
    "assert 0.53 < knn_cv_acc_score < 0.58, \"Wrong cross-validation accuracy score for KNN model using the preprocessed data after training, please check preprocessing and training process based on the instructions\"\n",
    "\n",
    "print (\"Good Job!\\nYou've passed the 2nd test for the 'evaluate_accuracy_cross_validation' function implementation :-)\")   "
   ]
  },
  {
   "cell_type": "code",
   "execution_count": 301,
   "metadata": {
    "deletable": false,
    "editable": false,
    "nbgrader": {
     "cell_type": "code",
     "checksum": "ea67a365ab0bf4e0483ac6e97ba07045",
     "grade": true,
     "grade_id": "test5b_3-evaluate_accuracy_cv",
     "locked": true,
     "points": 0.4,
     "schema_version": 3,
     "solution": false,
     "task": false
    }
   },
   "outputs": [
    {
     "name": "stdout",
     "output_type": "stream",
     "text": [
      "5.b.'evaluate_accuracy_cross_validation' - Test 3 (name: test5b_3-evaluate_accuracy_cv, points: 0.4)\n",
      "Good Job!\n",
      "You've passed the 3rd test for the 'evaluate_accuracy_cross_validation' function implementation :-)\n"
     ]
    }
   ],
   "source": [
    "# 5.b. evaluate_accuracy_cross_validation (graded test)\n",
    "# ====>>> YOUR ACTIONS: RUN ONLY\n",
    "\n",
    "print (\"5.b.'evaluate_accuracy_cross_validation' - Test 3 (name: test5b_3-evaluate_accuracy_cv, points: 0.4)\")\n",
    "\n",
    "file_name_preprocessed = '.' + os.sep + 'data' + os.sep + 'loans_preprocessed_1.csv'\n",
    "\n",
    "try:\n",
    "    risk_factor_df = load_csv(file_name_preprocessed)\n",
    "    X, y = decouple_data(risk_factor_df)\n",
    "    X_train, X_test, y_train, y_test = split_data(X, y)\n",
    "    \n",
    "    X = pd.concat([X_train, X_test])\n",
    "    y = pd.concat([y_train, y_test])\n",
    "\n",
    "    knn_cv_acc_score = evaluate_accuracy_cross_validation(KNeighborsClassifier(), X, y)\n",
    "    nb_cv_acc_score = evaluate_accuracy_cross_validation(GaussianNB(), X, y)\n",
    "    dt_cv_acc_score = evaluate_accuracy_cross_validation(DecisionTreeClassifier(random_state=42), X, y) \n",
    "except Exception as e:\n",
    "    print ('You probably have a syntax or implementation error,  \\nerror Message:',str(e), '\\nTry fixing your code')\n",
    "    raise\n",
    "    \n",
    "assert 0.57 < nb_cv_acc_score < 0.63, \"Wrong cross-validation accuracy score for Naive Bayes model using the preprocessed data after training, please check preprocessing and training process based on the instructions\"\n",
    "\n",
    "print (\"Good Job!\\nYou've passed the 3rd test for the 'evaluate_accuracy_cross_validation' function implementation :-)\")   "
   ]
  },
  {
   "cell_type": "markdown",
   "metadata": {
    "deletable": false,
    "editable": false,
    "id": "bT78S6H3e9Uo",
    "nbgrader": {
     "cell_type": "markdown",
     "checksum": "a6381a2cc591f2761309517adfe35d12",
     "grade": false,
     "grade_id": "cell-a888b5cfb70ef82c",
     "locked": true,
     "schema_version": 3,
     "solution": false,
     "task": false
    }
   },
   "source": [
    "[Go to the beginning of the assignment](#home)\n",
    "<a id=\"gridsearch\"></a>\n",
    "### 6.  HyperParameters Tuning - ** 5 Points** \n",
    "So far, you trained and evaluated various types of classifier using their default hyperparameter values. \n",
    "\n",
    "Different hyperparameters values can substentially affect the overall model's performance. In this section you will find the hyperparameter values maximizing your classifier's performance by using Sklearn GridSearchCV\n",
    "\n",
    "<hr>\n",
    "\n",
    "<b><u>This section includes the following</u></b>:\n",
    "* 6.a. grid-search for knn  (2.5 Points)\n",
    "* 6.b. grid-search for decision trees (2.5 Points)    "
   ]
  },
  {
   "cell_type": "markdown",
   "metadata": {
    "deletable": false,
    "editable": false,
    "id": "7DmoQrlXfxNe",
    "nbgrader": {
     "cell_type": "markdown",
     "checksum": "481b0af45d96386c698eeb73f05446ce",
     "grade": false,
     "grade_id": "cell-f6e7c51954533244",
     "locked": true,
     "schema_version": 3,
     "solution": false,
     "task": false
    }
   },
   "source": [
    "#### 6.a. Grid Search - KNN - **2.5 Points**\n",
    "\n",
    "<u>method name</u>: <b>grid_search_knn</b><br/>\n",
    "\n",
    "<hr>\n",
    "\n",
    "<u>dependency</u>: <br/>\n",
    "* <b>decouple_data</b></br> \n",
    "* <b>split_data</b></br> \n",
    "\n",
    "<hr>\n",
    "\n",
    "<pre>\n",
    "Complete the following function to find the best hyperparameters \n",
    "  maxmizing your KNN classifier performances as follows:\n",
    "  For the KNN classifier you are asked to find the best values for the following hyperparameters:    \n",
    "1. 'n_neighbors' with the values [3, 5, 11, 20, 35, 50]\n",
    "2. 'weights' with the values ['uniform', 'distance']\n",
    "3. 'metric' with the values ['euclidean', 'manhattan', 'minkowski']\n",
    "------------\n",
    "input parameters:\n",
    "- clf - **Untrained** KNN classifier instance\n",
    "- X_train - Train set to train the model with\n",
    "- y_train - Train ground-truth labels to use in the learning process\n",
    "------------\n",
    "You are asked to return the best values for the hyperparameters using 5 fold cross validation\n",
    "The return statement should look like the following:\n",
    "return {'metric': 'X', 'n_neighbors': Y, 'weights': 'Z'}\n",
    "</pre>"
   ]
  },
  {
   "cell_type": "markdown",
   "metadata": {
    "deletable": false,
    "editable": false,
    "nbgrader": {
     "cell_type": "markdown",
     "checksum": "e4c908d14b68f45c58499d54e7d7353b",
     "grade": false,
     "grade_id": "cell-05279fcc6d3f0398",
     "locked": true,
     "schema_version": 3,
     "solution": false,
     "task": false
    }
   },
   "source": [
    "#### 6.a. Grid Search - KNN  - Implement and Run the following code cell:"
   ]
  },
  {
   "cell_type": "code",
   "execution_count": 302,
   "metadata": {
    "deletable": false,
    "id": "dN6UIs7EfVVP",
    "nbgrader": {
     "cell_type": "code",
     "checksum": "1fb41b0037025eb4024e48b30a59a484",
     "grade": false,
     "grade_id": "solution6a-grid_search_knn",
     "locked": false,
     "schema_version": 3,
     "solution": true,
     "task": false
    }
   },
   "outputs": [],
   "source": [
    "# 6.a. grid_search_knn (your solution)\n",
    "# ====>>> YOUR ACTIONS: IMPLEMENT & RUN\n",
    "\n",
    "def grid_search_knn(clf, X_train, y_train):\n",
    "    # YOUR CODE HERE\n",
    "    knn_params = {\n",
    "        'n_neighbors': [3, 5, 11, 20, 35, 50],\n",
    "        'weights': ['uniform', 'distance'],\n",
    "        'metric': ['euclidean', 'manhattan', 'minkowski']\n",
    "    }\n",
    "\n",
    "    return GridSearchCV(clf, knn_params, cv=5).fit(X_train, y_train).best_params_\n",
    "    "
   ]
  },
  {
   "cell_type": "markdown",
   "metadata": {
    "deletable": false,
    "editable": false,
    "nbgrader": {
     "cell_type": "markdown",
     "checksum": "37ab58774ef6c61b4d6f3587f9bade11",
     "grade": false,
     "grade_id": "cell-018c5e9ef42ddcdc",
     "locked": true,
     "schema_version": 3,
     "solution": false,
     "task": false
    }
   },
   "source": [
    "#### 6.a. grid_search_knn - OPTIONAL SELF TEST - Implement & Run the following code cell (IF NEEDED):"
   ]
  },
  {
   "cell_type": "code",
   "execution_count": 303,
   "metadata": {
    "deletable": false,
    "id": "QW7nF3qUhVgS",
    "nbgrader": {
     "cell_type": "code",
     "checksum": "287a1779bf666a694f6af0c693e694b5",
     "grade": false,
     "grade_id": "self_test6a-evaluate_grid_search_knn",
     "locked": false,
     "schema_version": 3,
     "solution": true,
     "task": false
    }
   },
   "outputs": [
    {
     "data": {
      "text/plain": [
       "{'metric': 'euclidean', 'n_neighbors': 50, 'weights': 'distance'}"
      ]
     },
     "execution_count": 303,
     "metadata": {},
     "output_type": "execute_result"
    }
   ],
   "source": [
    "# 6.a. grid_search_knn (optional self testing)\n",
    "# ====>>> YOUR ACTIONS: (optional) IMPLEMENT & RUN \n",
    "file_name_preprocessed = '.' + os.sep + 'data' + os.sep + 'loans_preprocessed_1.csv'\n",
    "risk_factor_df = load_csv(file_name_preprocessed)\n",
    "X, y = decouple_data(risk_factor_df)\n",
    "X_train, X_test, y_train, y_test = split_data(X, y)\n",
    "\n",
    "# --- add additional code to check your code if needed:\n",
    "# YOUR CODE HERE\n",
    "grid_search_knn(KNeighborsClassifier(), X_train, y_train)"
   ]
  },
  {
   "cell_type": "markdown",
   "metadata": {
    "deletable": false,
    "editable": false,
    "nbgrader": {
     "cell_type": "markdown",
     "checksum": "828115da09d37a649ae52a946f50e96c",
     "grade": false,
     "grade_id": "cell-735d5a85ba5061df",
     "locked": true,
     "schema_version": 3,
     "solution": false,
     "task": false
    }
   },
   "source": [
    "##### 6.a. grid_search_knn - GRADED TESTS - Run the following (2) code cells:"
   ]
  },
  {
   "cell_type": "code",
   "execution_count": 304,
   "metadata": {
    "colab": {
     "base_uri": "https://localhost:8080/"
    },
    "deletable": false,
    "editable": false,
    "id": "C0qaAZQCigAT",
    "nbgrader": {
     "cell_type": "code",
     "checksum": "da750b44e0eb165a8ee41df2ab69dee1",
     "grade": true,
     "grade_id": "test6a_1-grid_search_knn",
     "locked": true,
     "points": 0.2,
     "schema_version": 3,
     "solution": false,
     "task": false
    },
    "outputId": "a36281ba-117c-429f-fddf-c24d373fe9f4"
   },
   "outputs": [
    {
     "name": "stdout",
     "output_type": "stream",
     "text": [
      "6.a.'grid_search_knn' - Test 1 (name: test6a_1-grid_search_knn, points: 0.2) - Sanity\n",
      "Good Job!\n",
      "You've passed the 1st test for the 'grid_search_knn' function implementation :-)\n"
     ]
    }
   ],
   "source": [
    "\n",
    "# 6.a. grid_search_knn (graded test)\n",
    "# ====>>> YOUR ACTIONS: RUN ONLY\n",
    "\n",
    "print (\"6.a.'grid_search_knn' - Test 1 (name: test6a_1-grid_search_knn, points: 0.2) - Sanity\")\n",
    "\n",
    "file_name_preprocessed = '.' + os.sep + 'data' + os.sep + 'loans_preprocessed_1.csv'\n",
    "\n",
    "try:\n",
    "    risk_factor_df = load_csv(file_name_preprocessed)\n",
    "    X, y = decouple_data(risk_factor_df)\n",
    "    X_train, X_test, y_train, y_test = split_data(X, y)\n",
    "\n",
    "    grid_search_knn_result = grid_search_knn(KNeighborsClassifier(), X_train, y_train)\n",
    "except Exception as e:\n",
    "    print ('You probably have a syntax or implementation error,  \\nerror Message:',str(e), '\\nTry fixing your code')\n",
    "    raise\n",
    "\n",
    "print (\"Good Job!\\nYou've passed the 1st test for the 'grid_search_knn' function implementation :-)\")   "
   ]
  },
  {
   "cell_type": "code",
   "execution_count": 305,
   "metadata": {
    "deletable": false,
    "editable": false,
    "nbgrader": {
     "cell_type": "code",
     "checksum": "f1e3062bb4cd14353e0eef7e7588afac",
     "grade": true,
     "grade_id": "test6a_2-grid_search_knn",
     "locked": true,
     "points": 0.8,
     "schema_version": 3,
     "solution": false,
     "task": false
    }
   },
   "outputs": [
    {
     "name": "stdout",
     "output_type": "stream",
     "text": [
      "6.a.'grid_search_knn' - Test 2 (name: test6a_2-grid_search_knn, points: 0.8)\n",
      "Good Job!\n",
      "You've passed the 4th test for the 'grid_search_knn' function implementation :-)\n"
     ]
    }
   ],
   "source": [
    "# 6.a. grid_search_knn (graded test)\n",
    "# ====>>> YOUR ACTIONS: RUN ONLY\n",
    "\n",
    "print (\"6.a.'grid_search_knn' - Test 2 (name: test6a_2-grid_search_knn, points: 0.8)\")\n",
    "\n",
    "file_name_preprocessed = '.' + os.sep + 'data' + os.sep + 'loans_preprocessed_1.csv'\n",
    "\n",
    "try:\n",
    "    risk_factor_df = load_csv(file_name_preprocessed)\n",
    "    X, y = decouple_data(risk_factor_df)\n",
    "    X_train, X_test, y_train, y_test = split_data(X, y)\n",
    "\n",
    "    grid_search_knn_result = grid_search_knn(KNeighborsClassifier(), X_train, y_train)\n",
    "except Exception as e:\n",
    "    print ('You probably have a syntax or implementation error,  \\nerror Message:',str(e), '\\nTry fixing your code')\n",
    "    raise\n",
    "\n",
    "assert grid_search_knn_result.get(\"n_neighbors\") == 50, \"Grid Search reuslt for 'n_neighbors' hyperparameter was not calculated correctly or was not caculated at all\"\n",
    "\n",
    "print (\"Good Job!\\nYou've passed the 4th test for the 'grid_search_knn' function implementation :-)\")   "
   ]
  },
  {
   "cell_type": "code",
   "execution_count": 306,
   "metadata": {
    "deletable": false,
    "editable": false,
    "nbgrader": {
     "cell_type": "code",
     "checksum": "f1c52754367ddd479e0d2036f77f3d53",
     "grade": true,
     "grade_id": "test6a_3-grid_search_knn",
     "locked": true,
     "points": 0.8,
     "schema_version": 3,
     "solution": false,
     "task": false
    }
   },
   "outputs": [
    {
     "name": "stdout",
     "output_type": "stream",
     "text": [
      "6.a.'grid_search_knn' - Test 3 (name: test6a_3-grid_search_knn, points: 0.8)\n",
      "Good Job!\n",
      "You've passed the 3rd test for the 'grid_search_knn' function implementation :-)\n"
     ]
    }
   ],
   "source": [
    "# 6.a. grid_search_knn (graded test)\n",
    "# ====>>> YOUR ACTIONS: RUN ONLY\n",
    "\n",
    "print (\"6.a.'grid_search_knn' - Test 3 (name: test6a_3-grid_search_knn, points: 0.8)\")\n",
    "\n",
    "file_name_preprocessed = '.' + os.sep + 'data' + os.sep + 'loans_preprocessed_1.csv'\n",
    "\n",
    "try:\n",
    "    risk_factor_df = load_csv(file_name_preprocessed)\n",
    "    X, y = decouple_data(risk_factor_df)\n",
    "    X_train, X_test, y_train, y_test = split_data(X, y)\n",
    "\n",
    "    grid_search_knn_result = grid_search_knn(KNeighborsClassifier(), X_train, y_train)\n",
    "except Exception as e:\n",
    "    print ('You probably have a syntax or implementation error,  \\nerror Message:',str(e), '\\nTry fixing your code')\n",
    "    raise\n",
    "\n",
    "assert grid_search_knn_result.get(\"metric\") == \"euclidean\", \"Grid Search reuslt for 'metric' hyperparameter was not calculated correctly or was not caculated at all\"\n",
    "\n",
    "print (\"Good Job!\\nYou've passed the 3rd test for the 'grid_search_knn' function implementation :-)\")   "
   ]
  },
  {
   "cell_type": "code",
   "execution_count": 307,
   "metadata": {
    "deletable": false,
    "editable": false,
    "nbgrader": {
     "cell_type": "code",
     "checksum": "bcad855742aabe5aecb13e39788d1da1",
     "grade": true,
     "grade_id": "test6a_4-grid_search_knn",
     "locked": true,
     "points": 0.8,
     "schema_version": 3,
     "solution": false,
     "task": false
    }
   },
   "outputs": [
    {
     "name": "stdout",
     "output_type": "stream",
     "text": [
      "6.a.'grid_search_knn' - Test 4 (name: test6a_4-grid_search_knn, points: 0.8)\n",
      "Good Job!\n",
      "You've passed the 2nd test for the 'grid_search_knn' function implementation :-)\n"
     ]
    }
   ],
   "source": [
    "# 6.a. grid_search_knn (graded test)\n",
    "# ====>>> YOUR ACTIONS: RUN ONLY\n",
    "\n",
    "print (\"6.a.'grid_search_knn' - Test 4 (name: test6a_4-grid_search_knn, points: 0.8)\")\n",
    "\n",
    "file_name_preprocessed = '.' + os.sep + 'data' + os.sep + 'loans_preprocessed_1.csv'\n",
    "\n",
    "try:\n",
    "    risk_factor_df = load_csv(file_name_preprocessed)\n",
    "    X, y = decouple_data(risk_factor_df)\n",
    "    X_train, X_test, y_train, y_test = split_data(X, y)\n",
    "\n",
    "    grid_search_knn_result = grid_search_knn(KNeighborsClassifier(), X_train, y_train)\n",
    "except Exception as e:\n",
    "    print ('You probably have a syntax or implementation error,  \\nerror Message:',str(e), '\\nTry fixing your code')\n",
    "    raise\n",
    "\n",
    "assert grid_search_knn_result.get(\"weights\") == \"distance\", \"Grid Search reuslt for 'weights' hyperparameter was not calculated correctly or was not caculated at all\"\n",
    "\n",
    "print (\"Good Job!\\nYou've passed the 2nd test for the 'grid_search_knn' function implementation :-)\")   "
   ]
  },
  {
   "cell_type": "markdown",
   "metadata": {
    "deletable": false,
    "editable": false,
    "id": "O9S1LfUQjALL",
    "nbgrader": {
     "cell_type": "markdown",
     "checksum": "782f4e79c7a8cd8c8230d2e4e70fad8a",
     "grade": false,
     "grade_id": "cell-cbc22efe52a7c1d5",
     "locked": true,
     "schema_version": 3,
     "solution": false,
     "task": false
    }
   },
   "source": [
    "#### 6.b. Grid Search - Decision Tree - **2.5 Points**\n",
    "\n",
    "<u>method name</u>: <b>grid_search_decision_tree</b><br/>\n",
    "\n",
    "<hr>\n",
    "\n",
    "<u>dependency</u>: <br/>\n",
    "* <b>decouple_data</b></br> \n",
    "* <b>split_data</b></br> \n",
    "\n",
    "<hr>\n",
    "\n",
    "<pre>\n",
    "Complete the following function to find the best hyperparameters \n",
    "  maxmizing your Decision Tree classifier performances as follows:\n",
    "  For the Decision Tree classifier you are asked to find the best\n",
    "  values for the following hyperparameters:    \n",
    "1. 'criterion' with the values ['gini', 'entropy']\n",
    "2. 'max_depth' with the values [1, 2, 3, 4, 5, 6, 7, 8, 9, 10]\n",
    "3. 'min_samples_split' with the values [5, 10, 15, 20, 25]\n",
    "4. 'min_samples_leaf' with the values [1, 2, 3, 4, 5, 6, 7, 8, 9, 10]\n",
    "------------\n",
    "input parameters:\n",
    "- clf - **Untrained** Decision Tree classifier instance\n",
    "- X_train - Train set to train the model with\n",
    "- y_train - Train ground-truth labels to use in the learning process\n",
    "------------\n",
    "You are asked to return the best values for the hyperparameters using 5 fold cross validation\n",
    "The return statement should look like the following:\n",
    "return {'criterion': 'X',\n",
    " 'max_depth': Y,\n",
    " 'min_samples_leaf': Z,\n",
    " 'min_samples_split': Q}\n",
    " \n",
    "For test purposes use 'random_state=42' in the Decision Tree classifier instance (DecisionTreeClassifier(random_state=42))\n",
    "</pre>"
   ]
  },
  {
   "cell_type": "markdown",
   "metadata": {
    "deletable": false,
    "editable": false,
    "nbgrader": {
     "cell_type": "markdown",
     "checksum": "76badd7382a2cb0df9bb9948aabbb7e5",
     "grade": false,
     "grade_id": "cell-46ffc4dbcdbb22d8",
     "locked": true,
     "schema_version": 3,
     "solution": false,
     "task": false
    }
   },
   "source": [
    "#### 6.b. Grid Search - Decision Tree - Implement and Run the following code cell:"
   ]
  },
  {
   "cell_type": "code",
   "execution_count": 308,
   "metadata": {
    "deletable": false,
    "id": "T-XnKLPXi7Sp",
    "nbgrader": {
     "cell_type": "code",
     "checksum": "4b6a77095a370de7359cb3a013f5dbc3",
     "grade": false,
     "grade_id": "solution6b-grid_search_decision_tree",
     "locked": false,
     "schema_version": 3,
     "solution": true,
     "task": false
    }
   },
   "outputs": [],
   "source": [
    "# 6.b. grid_search_decision_tree (your solution)\n",
    "# ====>>> YOUR ACTIONS: IMPLEMENT & RUN\n",
    "\n",
    "def grid_search_decision_tree(clf, X_train, y_train):\n",
    "    # YOUR CODE HERE\n",
    "    list_one_to_ten = list(range(1, 11))\n",
    "    decision_tree_params = {\n",
    "        'criterion': ['gini', 'entropy'],\n",
    "        'max_depth': list_one_to_ten,\n",
    "        'min_samples_split': list(range(5, 26, 5)),\n",
    "        'min_samples_leaf': list_one_to_ten\n",
    "    }\n",
    "\n",
    "    return GridSearchCV(clf, decision_tree_params, cv=5).fit(X_train, y_train).best_params_\n",
    "    "
   ]
  },
  {
   "cell_type": "markdown",
   "metadata": {
    "deletable": false,
    "editable": false,
    "nbgrader": {
     "cell_type": "markdown",
     "checksum": "9434766a8c69565c2eb3dc8b874715d9",
     "grade": false,
     "grade_id": "cell-bd12f5749e1cc19e",
     "locked": true,
     "schema_version": 3,
     "solution": false,
     "task": false
    }
   },
   "source": [
    "#### 6.b. grid_search_decision_tree - OPTIONAL SELF TEST - Implement & Run the following code cell (IF NEEDED):"
   ]
  },
  {
   "cell_type": "code",
   "execution_count": 309,
   "metadata": {
    "deletable": false,
    "id": "nXVczGm_jyHN",
    "nbgrader": {
     "cell_type": "code",
     "checksum": "43743ddf46d61fc97829c32eaf6cc64f",
     "grade": false,
     "grade_id": "self_test6b-grid_search_decision_tree",
     "locked": false,
     "schema_version": 3,
     "solution": true,
     "task": false
    }
   },
   "outputs": [
    {
     "data": {
      "text/plain": [
       "{'criterion': 'entropy',\n",
       " 'max_depth': 10,\n",
       " 'min_samples_leaf': 3,\n",
       " 'min_samples_split': 5}"
      ]
     },
     "execution_count": 309,
     "metadata": {},
     "output_type": "execute_result"
    }
   ],
   "source": [
    "# 6.b. grid_search_decision_tree (optional self testing)\n",
    "# ====>>> YOUR ACTIONS: (optional) IMPLEMENT & RUN \n",
    "file_name_preprocessed = '.' + os.sep + 'data' + os.sep + 'loans_preprocessed_1.csv'\n",
    "risk_factor_df = load_csv(file_name_preprocessed)\n",
    "X, y = decouple_data(risk_factor_df)\n",
    "X_train, X_test, y_train, y_test = split_data(X, y)\n",
    "\n",
    "# --- add additional code to check your code if needed:\n",
    "# YOUR CODE HERE\n",
    "grid_search_decision_tree(DecisionTreeClassifier(random_state=42), X_train, y_train)"
   ]
  },
  {
   "cell_type": "markdown",
   "metadata": {
    "deletable": false,
    "editable": false,
    "nbgrader": {
     "cell_type": "markdown",
     "checksum": "509938d3014d56ef10dcf0cd4eab0d29",
     "grade": false,
     "grade_id": "cell-1f38cc3b93d7d781",
     "locked": true,
     "schema_version": 3,
     "solution": false,
     "task": false
    }
   },
   "source": [
    "##### 6.b. grid_search_decision_tree - GRADED TESTS - Run the following (2) code cells:"
   ]
  },
  {
   "cell_type": "code",
   "execution_count": 221,
   "metadata": {
    "colab": {
     "base_uri": "https://localhost:8080/"
    },
    "deletable": false,
    "editable": false,
    "id": "5mPRgkB7kJhh",
    "nbgrader": {
     "cell_type": "code",
     "checksum": "3ea4c6507dba8b340ce1ac63a013d2e9",
     "grade": true,
     "grade_id": "test6b_1-grid_search_decision_tree",
     "locked": true,
     "points": 0.2,
     "schema_version": 3,
     "solution": false,
     "task": false
    },
    "outputId": "1d5662ec-b468-40bb-ebb2-ee05f8353ab8"
   },
   "outputs": [
    {
     "name": "stdout",
     "output_type": "stream",
     "text": [
      "6.b.'grid_search_decision_tree' - Test 1 (name: test6b_1-grid_search_decision_tree, points: 0.2) - Sanity\n",
      "Good Job!\n",
      "You've passed the 1st test for the 'grid_search_decision_tree' function implementation :-)\n"
     ]
    }
   ],
   "source": [
    "# 6.b. grid_search_decision_tree (graded test)\n",
    "# ====>>> YOUR ACTIONS: RUN ONLY\n",
    "\n",
    "print (\"6.b.'grid_search_decision_tree' - Test 1 (name: test6b_1-grid_search_decision_tree, points: 0.2) - Sanity\")\n",
    "\n",
    "file_name_preprocessed = '.' + os.sep + 'data' + os.sep + 'loans_preprocessed_1.csv'\n",
    "\n",
    "try:\n",
    "    risk_factor_df = load_csv(file_name_preprocessed)\n",
    "    X, y = decouple_data(risk_factor_df)\n",
    "    X_train, X_test, y_train, y_test = split_data(X, y)\n",
    "\n",
    "    grid_search_dt_result = grid_search_decision_tree(DecisionTreeClassifier(random_state=42), X_train, y_train)\n",
    "except Exception as e:\n",
    "    print ('You probably have a syntax or implementation error,  \\nerror Message:',str(e), '\\nTry fixing your code')\n",
    "    raise\n",
    "\n",
    "print (\"Good Job!\\nYou've passed the 1st test for the 'grid_search_decision_tree' function implementation :-)\")   "
   ]
  },
  {
   "cell_type": "code",
   "execution_count": 222,
   "metadata": {
    "deletable": false,
    "editable": false,
    "nbgrader": {
     "cell_type": "code",
     "checksum": "02fd77198bb66fce0c4a3aeb89df91db",
     "grade": true,
     "grade_id": "test6b_2-grid_search_decision_tree",
     "locked": true,
     "points": 1.1,
     "schema_version": 3,
     "solution": false,
     "task": false
    }
   },
   "outputs": [
    {
     "name": "stdout",
     "output_type": "stream",
     "text": [
      "6.b.'grid_search_decision_tree' - Test 2 (name: test6b_2-grid_search_decision_tree, points: 1.1)\n",
      "Good Job!\n",
      "You've passed the 2nd test for the 'grid_search_decision_tree' function implementation :-)\n"
     ]
    }
   ],
   "source": [
    "# 6.b. grid_search_decision_tree (graded test)\n",
    "# ====>>> YOUR ACTIONS: RUN ONLY\n",
    "\n",
    "print (\"6.b.'grid_search_decision_tree' - Test 2 (name: test6b_2-grid_search_decision_tree, points: 1.1)\")\n",
    "\n",
    "file_name_preprocessed = '.' + os.sep + 'data' + os.sep + 'loans_preprocessed_1.csv'\n",
    "\n",
    "try:\n",
    "    risk_factor_df = load_csv(file_name_preprocessed)\n",
    "    X, y = decouple_data(risk_factor_df)\n",
    "    X_train, X_test, y_train, y_test = split_data(X, y)\n",
    "\n",
    "    grid_search_dt_result = grid_search_decision_tree(DecisionTreeClassifier(random_state=42), X_train, y_train)\n",
    "except Exception as e:\n",
    "    print ('You probably have a syntax or implementation error,  \\nerror Message:',str(e), '\\nTry fixing your code')\n",
    "    raise\n",
    "\n",
    "assert grid_search_dt_result.get(\"criterion\") == \"entropy\", \"Grid Search reuslt for 'criterion' hyperparameter was not calculated correctly or was not caculated at all\"\n",
    "assert grid_search_dt_result.get(\"max_depth\") == 10, \"Grid Search reuslt for 'max_depth' hyperparameter was not calculated correctly or was not caculated at all\"\n",
    "\n",
    "print (\"Good Job!\\nYou've passed the 2nd test for the 'grid_search_decision_tree' function implementation :-)\")   "
   ]
  },
  {
   "cell_type": "code",
   "execution_count": 223,
   "metadata": {
    "deletable": false,
    "editable": false,
    "nbgrader": {
     "cell_type": "code",
     "checksum": "703e8c4db016472813e462b4d7f9baad",
     "grade": true,
     "grade_id": "test6b_3-grid_search_decision_tree",
     "locked": true,
     "points": 1.2,
     "schema_version": 3,
     "solution": false,
     "task": false
    }
   },
   "outputs": [
    {
     "name": "stdout",
     "output_type": "stream",
     "text": [
      "6.b.'grid_search_decision_tree' - Test 3 (name: test6b_3-grid_search_decision_tree, points: 1.2)\n",
      "Good Job!\n",
      "You've passed the 3rd test for the 'grid_search_decision_tree' function implementation :-)\n"
     ]
    }
   ],
   "source": [
    "# 6.b. grid_search_decision_tree (graded test)\n",
    "# ====>>> YOUR ACTIONS: RUN ONLY\n",
    "\n",
    "print (\"6.b.'grid_search_decision_tree' - Test 3 (name: test6b_3-grid_search_decision_tree, points: 1.2)\")\n",
    "\n",
    "file_name_preprocessed = '.' + os.sep + 'data' + os.sep + 'loans_preprocessed_1.csv'\n",
    "\n",
    "try:\n",
    "    risk_factor_df = load_csv(file_name_preprocessed)\n",
    "    X, y = decouple_data(risk_factor_df)\n",
    "    X_train, X_test, y_train, y_test = split_data(X, y)\n",
    "\n",
    "    grid_search_dt_result = grid_search_decision_tree(DecisionTreeClassifier(random_state=42), X_train, y_train)\n",
    "except Exception as e:\n",
    "    print ('You probably have a syntax or implementation error,  \\nerror Message:',str(e), '\\nTry fixing your code')\n",
    "    raise \n",
    "\n",
    "assert grid_search_dt_result.get(\"min_samples_leaf\") == 3, \"Grid Search reuslt for 'min_samples_leaf' hyperparameter was not calculated correctly or was not caculated at all\"\n",
    "assert grid_search_dt_result.get(\"min_samples_split\") == 5, \"Grid Search reuslt for 'min_samples_split' hyperparameter was not calculated correctly or was not caculated at all\"\n",
    "\n",
    "print (\"Good Job!\\nYou've passed the 3rd test for the 'grid_search_decision_tree' function implementation :-)\")   "
   ]
  },
  {
   "cell_type": "code",
   "execution_count": null,
   "metadata": {},
   "outputs": [],
   "source": []
  }
 ],
 "metadata": {
  "colab": {
   "collapsed_sections": [],
   "name": "Assignment 3 - Scikit Learn.ipynb",
   "provenance": []
  },
  "kernelspec": {
   "display_name": "Python 3 (ipykernel)",
   "language": "python",
   "name": "python3"
  },
  "language_info": {
   "codemirror_mode": {
    "name": "ipython",
    "version": 3
   },
   "file_extension": ".py",
   "mimetype": "text/x-python",
   "name": "python",
   "nbconvert_exporter": "python",
   "pygments_lexer": "ipython3",
   "version": "3.9.7"
  }
 },
 "nbformat": 4,
 "nbformat_minor": 4
}
