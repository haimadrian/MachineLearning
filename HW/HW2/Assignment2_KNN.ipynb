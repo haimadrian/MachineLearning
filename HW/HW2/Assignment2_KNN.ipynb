{
 "cells": [
  {
   "cell_type": "markdown",
   "metadata": {
    "deletable": false,
    "editable": false,
    "nbgrader": {
     "cell_type": "markdown",
     "checksum": "c8cd039776dd44fef1663f5c441fe946",
     "grade": false,
     "grade_id": "cell-39040f5823493172",
     "locked": true,
     "schema_version": 3,
     "solution": false,
     "task": false
    }
   },
   "source": [
    "<a id=\"home\"></a>\n",
    "## Assignment 2 - KNN\n",
    "This assignment has ... parts. Follow the instructions in each section.\n",
    "\n",
    "| Section| About | Section-name | points | \n",
    "| :- | :- | :- |  :- | \n",
    "| (i) | Learning  Materials |  [Materials to review for this assignment](#review_materials)\n",
    "| (ii) | Guidelines | [General assignment instructions](#gen_instructions) | \n",
    "| 1 |  Imports | [Import packages](#Imports) | \n",
    "| 2 |  Your personal details | [Student info](#student_info) | 0.5 |\n",
    "| 3 |  Get Task Data | [info: YOUR personal implementation tasks](#your_implementation) | \n",
    "| 4 |  Load Data Set | [Load the dataset](#load_dataset) | 1.5 | \n",
    "| 5 |  Scale the Data | [Scaling](#scaling) | 2.5 |\n",
    "| 6 |  Calculate Distances | [Calculate Test,Train Distance](#dist) | 2 | \n",
    "| 7 |  Predict | [KNN main flow - predict](#predict) | 2 |\n",
    "| 8 |  Model Evaluation | [Model Evaluation](#evaluation) | 1.5 |\n",
    "| - | Total Points | | 10 |"
   ]
  },
  {
   "cell_type": "markdown",
   "metadata": {
    "ExecuteTime": {
     "end_time": "2021-11-12T12:31:26.701823Z",
     "start_time": "2021-11-12T12:31:26.692830Z"
    },
    "deletable": false,
    "editable": false,
    "nbgrader": {
     "cell_type": "markdown",
     "checksum": "04d466980e4c54ed821bcf2e5fd48d84",
     "grade": false,
     "grade_id": "cell-5e95664c94aead9f",
     "locked": true,
     "schema_version": 3,
     "solution": false,
     "task": false
    }
   },
   "source": [
    "<a id=\"review_materials\"></a>\n",
    "### (i) Materials to review for this assignment\n",
    "<h4>From Moodle:</h4> \n",
    "<h5><u>Review the notebooks regarding the following python topics</u>:</h5>\n",
    "<div class=\"alert alert-info\">\n",
    "&#x2714; Brief review: <b>Basic Python</b>.<br/>\n",
    "&#x2714; Thorough review: <b>The NumPy module</b><br/>\n",
    "&#x2714; Thorough review: <b>The Pandas module</b> (both parts)<br/>\n",
    "</div> \n",
    "<h5><u>Review the presentations regarding the following topics</u>:</h5>\n",
    "<div class=\"alert alert-info\">\n",
    "&#x2714; <b>Statistical intro. and scaling presentation</b><br/>\n",
    "&#x2714; <b>The KNN algorithm presentation</b><br/>\n",
    "&#x2714; <b>Naive Bayes and model evaluation presentation</b>(you need the model evaluation part here)<br/>\n",
    "</div>"
   ]
  },
  {
   "cell_type": "markdown",
   "metadata": {
    "deletable": false,
    "editable": false,
    "nbgrader": {
     "cell_type": "markdown",
     "checksum": "a45c1df27f4716057f4f8a5ca73a137a",
     "grade": false,
     "grade_id": "cell-656f63bae581d126",
     "locked": true,
     "schema_version": 3,
     "solution": false,
     "task": false
    }
   },
   "source": [
    "[Go to the beginning of the assignment](#home)\n",
    "<a id=\"gen_instructions\"></a>\n",
    "### (ii) General assignment instructions\n",
    "#### Working on the assignment, todo and not todo:\n",
    "<b><u>Todo</u></b>:<br />\n",
    "<div class=\"alert alert-success\">\n",
    "<ul>\n",
    "<li>&#x2714; Use <b> Jupyter Notebook </b>.</li>\n",
    "<li>&#x2714; <b> Work by yourself</b> and submit your own assignment, <b>no pairing</b> to other students</li>\n",
    "<li>&#x2714; Test and save your assignment - <b>submit the last tested and saved version</b></li>\n",
    "<li>&#x2714; Work on the <b>original notebook</b> of the assignment</li>\n",
    "<li>&#x2714; Run the code cells by their original order</li>\n",
    "<li>&#x2714; submit <b>only</b> the <b>notebook (Assignment2_KNN.ipynb)</b> file (no name changing)</li></ul>\n",
    "</div>\n",
    "<b><u>Not todo</u></b>:<br />\n",
    "<div class=\"alert alert-danger\">\n",
    "<ul>\n",
    "<li>&#x2718; <b>do NOT use Google Collaboratory</b> </li>\n",
    "<li>&#x2718; do <b>NOT</b> submit an <b>empty assignment</b></li>\n",
    "<li>&#x2718; do <b>NOT submit extra files</b>, <u>unless you're asked to do so</u></li>\n",
    "<li>&#x2718; <b>Do NOT submit a .py/.txt/.rar/.zip (or any non (.ipynb) file)</b> <u>version for the notebook</u> of the assignment</li>\n",
    "<li>&#x2718; <b>do NOT change</b> the notebook file name</li>\n",
    "</ul>\n",
    "</div>"
   ]
  },
  {
   "cell_type": "markdown",
   "metadata": {
    "deletable": false,
    "editable": false,
    "nbgrader": {
     "cell_type": "markdown",
     "checksum": "8af157889f3169f5920266d2933828b0",
     "grade": false,
     "grade_id": "cell-b4e2d92f2834c61d",
     "locked": true,
     "schema_version": 3,
     "solution": false,
     "task": false
    }
   },
   "source": [
    "<b>Your implementations are performed in the 'Answer code cell's as following</b>:<br/>\n",
    "<div class=\"alert alert-success\">\n",
    "&#x2714; Your code starts one line after the '<code># YOUR CODE HERE</code>' remark<br/>\n",
    "&#x2714; Implemented code<br/>\n",
    "&#x2714; returned expected value<br/><br/>\n",
    "<b><u>Your code should look like this</u><b>:</div>\n",
    "<code># 5. function_name (your solution)\n",
    "# ====>>> YOUR ACTIONS: IMPLEMENT & RUN \n",
    "\n",
    "def method_to_implement():\n",
    "    # YOUR CODE HERE\n",
    "    your implemented code ...\n",
    "</code>"
   ]
  },
  {
   "cell_type": "markdown",
   "metadata": {
    "deletable": false,
    "editable": false,
    "nbgrader": {
     "cell_type": "markdown",
     "checksum": "08f5a4961f2f74760ee985a2154c4e36",
     "grade": false,
     "grade_id": "cell-ac7cb5ef8a6c1911",
     "locked": true,
     "schema_version": 3,
     "solution": false,
     "task": false
    }
   },
   "source": [
    "[Go to the beginning of the assignment](#home)\n",
    "<a id=\"Imports\"></a>\n",
    "### 1. import modules (packages)\n",
    "This step is necessary in order to use external modules (packages). <br/>\n",
    "<div class=\"alert alert-success\">\n",
    "&#x2714; Any module or package imported in the following code cell are permitted\n",
    "</div>\n",
    "<div class=\"alert alert-danger\">\n",
    "&#x2718; Any other modules or packages are ILLEGAL\n",
    "</div>\n",
    "\n",
    "##### 1. IMPORT MODULES - Run the following code cell:"
   ]
  },
  {
   "cell_type": "code",
   "execution_count": 1,
   "metadata": {
    "ExecuteTime": {
     "end_time": "2021-11-16T17:59:51.560444Z",
     "start_time": "2021-11-16T17:59:50.974151Z"
    },
    "deletable": false,
    "editable": false,
    "nbgrader": {
     "cell_type": "code",
     "checksum": "bbdd3ae83d9944af6ce73cec3e568caf",
     "grade": false,
     "grade_id": "run_import_packages",
     "locked": true,
     "schema_version": 3,
     "solution": false,
     "task": false
    }
   },
   "outputs": [],
   "source": [
    "# 1. IMPORT MODULES \n",
    "# ====>>> YOUR ACTIONS: RUN ONLY\n",
    "\n",
    "import sys                       # for testing use only\n",
    "import os                        # for testing use only\n",
    "from datetime import datetime    # for testing use only\n",
    "import random                    # for testing use only\n",
    "import hashlib                   # for testing use only\n",
    "import pandas as pd\n",
    "import numpy as np\n",
    "import math \n",
    "import statistics\n",
    "\n",
    "# --------------------------------------\n",
    "# show several outputs in one cell. \n",
    "from IPython.core.interactiveshell import InteractiveShell\n",
    "InteractiveShell.ast_node_interactivity = \"all\"\n",
    "# --------------------------------------"
   ]
  },
  {
   "cell_type": "markdown",
   "metadata": {
    "deletable": false,
    "editable": false,
    "nbgrader": {
     "cell_type": "markdown",
     "checksum": "801c8fdffd61825cf50b47ce0af98a36",
     "grade": false,
     "grade_id": "cell-ef4734152288ab11",
     "locked": true,
     "schema_version": 3,
     "solution": false,
     "task": false
    }
   },
   "source": [
    "[Go to the beginning of the assignment](#home)\n",
    "<a id=\"student_info\"></a>\n",
    "### 2. Student information\n",
    "##### methods to implement:\n",
    "* my_name\n",
    "* my_id"
   ]
  },
  {
   "cell_type": "markdown",
   "metadata": {
    "deletable": false,
    "editable": false,
    "nbgrader": {
     "cell_type": "markdown",
     "checksum": "feddc3d6908860db0c4d5cb521d199ae",
     "grade": false,
     "grade_id": "cell-7ea9f0cf4b365185",
     "locked": true,
     "schema_version": 3,
     "solution": false,
     "task": false
    }
   },
   "source": [
    "#### 2.a. Function: my_name\n",
    "<a id=\"myName\"></a>\n",
    "Implement the function to return your full name (as a string), for example:<br/>\n",
    "<code>    return 'John Smith'</code>\n",
    "##### Implement and Run the following code cell:"
   ]
  },
  {
   "cell_type": "code",
   "execution_count": 2,
   "metadata": {
    "ExecuteTime": {
     "end_time": "2021-11-16T17:59:51.576413Z",
     "start_time": "2021-11-16T17:59:51.562382Z"
    },
    "deletable": false,
    "nbgrader": {
     "cell_type": "code",
     "checksum": "ba388a0260ca1794f6f8063464d76354",
     "grade": false,
     "grade_id": "solution2a-my_name",
     "locked": false,
     "schema_version": 3,
     "solution": true,
     "task": false
    }
   },
   "outputs": [],
   "source": [
    "# 2.a. my_name (your solution)\n",
    "# ====>>> YOUR ACTIONS: IMPLEMENT & RUN \n",
    "\n",
    "def my_name():\n",
    "    # YOUR CODE HERE\n",
    "    return 'Haim Adrian'"
   ]
  },
  {
   "cell_type": "markdown",
   "metadata": {
    "deletable": false,
    "editable": false,
    "nbgrader": {
     "cell_type": "markdown",
     "checksum": "963b6fbc922f94bae970c4e03ea9adc9",
     "grade": false,
     "grade_id": "cell-6b9670c98d6332b2",
     "locked": true,
     "schema_version": 3,
     "solution": false,
     "task": false
    }
   },
   "source": [
    "##### 2.a.  my_name - OPTIONAL SELF TEST -  Implement and Run the following code cell (IF NEEDED):"
   ]
  },
  {
   "cell_type": "code",
   "execution_count": 3,
   "metadata": {
    "ExecuteTime": {
     "end_time": "2021-11-16T17:59:51.592380Z",
     "start_time": "2021-11-16T17:59:51.578379Z"
    },
    "deletable": false,
    "nbgrader": {
     "cell_type": "code",
     "checksum": "7ee2cc9eeb054299f21e42e31293c8d9",
     "grade": false,
     "grade_id": "cell-1ff31f8fe6136755",
     "locked": false,
     "schema_version": 3,
     "solution": true,
     "task": false
    }
   },
   "outputs": [
    {
     "name": "stdout",
     "output_type": "stream",
     "text": [
      "Haim Adrian\n"
     ]
    }
   ],
   "source": [
    "# 2.a. my_name (optional self testing)\n",
    "# ====>>> YOUR ACTIONS: (optional) IMPLEMENT & RUN \n",
    "\n",
    "student_name = my_name()\n",
    "# --- add additional code to check your code if needed:\n",
    "# YOUR CODE HERE\n",
    "print(student_name)"
   ]
  },
  {
   "cell_type": "markdown",
   "metadata": {
    "deletable": false,
    "editable": false,
    "nbgrader": {
     "cell_type": "markdown",
     "checksum": "35ad86a9ad9407f5fa19e1d773f27c43",
     "grade": false,
     "grade_id": "cell-f88d183897e519e2",
     "locked": true,
     "schema_version": 3,
     "solution": false,
     "task": false
    }
   },
   "source": [
    "#### 2.b. Function: my_id\n",
    "<a id=\"myName\"></a>\n",
    "Implement the function to return your ID number (as an integer number).<br/>\n",
    "Note: the **id number should be equal to the one in Moodle**, for example:<br/>\n",
    "<code>    return 132468579</code>\n",
    "##### Implement and Run the following code cell:"
   ]
  },
  {
   "cell_type": "code",
   "execution_count": 4,
   "metadata": {
    "ExecuteTime": {
     "end_time": "2021-11-16T17:59:51.608381Z",
     "start_time": "2021-11-16T17:59:51.594382Z"
    },
    "deletable": false,
    "nbgrader": {
     "cell_type": "code",
     "checksum": "0a38288ac17882ef161105b5fec131e3",
     "grade": false,
     "grade_id": "solution2b-my_id",
     "locked": false,
     "schema_version": 3,
     "solution": true,
     "task": false
    }
   },
   "outputs": [],
   "source": [
    "# 2.b. my_id (your solution)\n",
    "# ====>>> YOUR ACTIONS: IMPLEMENT & RUN \n",
    "\n",
    "def my_id():\n",
    "    # YOUR CODE HERE\n",
    "    return 123456789"
   ]
  },
  {
   "cell_type": "markdown",
   "metadata": {
    "deletable": false,
    "editable": false,
    "nbgrader": {
     "cell_type": "markdown",
     "checksum": "34aea0157718ec93d7a9bfa997ee3f8c",
     "grade": false,
     "grade_id": "cell-cee824cf6ade2443",
     "locked": true,
     "schema_version": 3,
     "solution": false,
     "task": false
    }
   },
   "source": [
    "##### 2.b.  my_id - OPTIONAL SELF TEST -  Implement and Run the following code cell (IF NEEDED):"
   ]
  },
  {
   "cell_type": "code",
   "execution_count": 5,
   "metadata": {
    "ExecuteTime": {
     "end_time": "2021-11-16T17:59:51.624379Z",
     "start_time": "2021-11-16T17:59:51.610380Z"
    },
    "deletable": false,
    "nbgrader": {
     "cell_type": "code",
     "checksum": "31273534458403cbfa0a02d99aa44a8e",
     "grade": false,
     "grade_id": "cell-954293a143438460",
     "locked": false,
     "schema_version": 3,
     "solution": true,
     "task": false
    }
   },
   "outputs": [
    {
     "name": "stdout",
     "output_type": "stream",
     "text": [
      "123456789\n"
     ]
    }
   ],
   "source": [
    "# 2.b. my_id (optional self testing)\n",
    "# ====>>> YOUR ACTIONS: (optional) IMPLEMENT & RUN \n",
    "\n",
    "student_id = my_id()\n",
    "# --- add additional code to check your code if needed:\n",
    "# YOUR CODE HERE\n",
    "print(student_id)"
   ]
  },
  {
   "cell_type": "code",
   "execution_count": 6,
   "metadata": {
    "ExecuteTime": {
     "end_time": "2021-11-16T17:59:51.656412Z",
     "start_time": "2021-11-16T17:59:51.627380Z"
    },
    "deletable": false,
    "editable": false,
    "nbgrader": {
     "cell_type": "code",
     "checksum": "168027006417d488dd33e26c38432f86",
     "grade": true,
     "grade_id": "test2-1_student_info",
     "locked": true,
     "points": 0.5,
     "schema_version": 3,
     "solution": false,
     "task": false
    }
   },
   "outputs": [
    {
     "name": "stdout",
     "output_type": "stream",
     "text": [
      "2. 'my_name' and 'my_id' - Test 1 (name: test2-1_student_info, points: 0.5)\n",
      "\n",
      "Good Job!\n",
      "You've passed the test for the implementation of 'my_name' and 'my_id'  :-)\n",
      "\n",
      "Output dataframe:\n",
      "-----------------\n"
     ]
    },
    {
     "data": {
      "text/html": [
       "<div>\n",
       "<style scoped>\n",
       "    .dataframe tbody tr th:only-of-type {\n",
       "        vertical-align: middle;\n",
       "    }\n",
       "\n",
       "    .dataframe tbody tr th {\n",
       "        vertical-align: top;\n",
       "    }\n",
       "\n",
       "    .dataframe thead th {\n",
       "        text-align: right;\n",
       "    }\n",
       "</style>\n",
       "<table border=\"1\" class=\"dataframe\">\n",
       "  <thead>\n",
       "    <tr style=\"text-align: right;\">\n",
       "      <th></th>\n",
       "      <th>value</th>\n",
       "      <th>type</th>\n",
       "      <th>date_time</th>\n",
       "    </tr>\n",
       "  </thead>\n",
       "  <tbody>\n",
       "    <tr>\n",
       "      <th>student_name</th>\n",
       "      <td>Haim Adrian</td>\n",
       "      <td>&lt;class 'str'&gt;</td>\n",
       "      <td>2021-12-14 03:30:29</td>\n",
       "    </tr>\n",
       "    <tr>\n",
       "      <th>student_id</th>\n",
       "      <td>123456789</td>\n",
       "      <td>&lt;class 'int'&gt;</td>\n",
       "      <td>2021-12-14 03:30:29</td>\n",
       "    </tr>\n",
       "  </tbody>\n",
       "</table>\n",
       "</div>"
      ],
      "text/plain": [
       "                    value           type            date_time\n",
       "student_name  Haim Adrian  <class 'str'>  2021-12-14 03:30:29\n",
       "student_id      123456789  <class 'int'>  2021-12-14 03:30:29"
      ]
     },
     "execution_count": 6,
     "metadata": {},
     "output_type": "execute_result"
    }
   ],
   "source": [
    "# 2. my_name, my_id (graded test)\n",
    "# ====>>> YOUR ACTIONS: RUN ONLY\n",
    "\n",
    "print (\"2. 'my_name' and 'my_id' - Test 1 (name: test2-1_student_info, points: 0.5)\")\n",
    "\n",
    "# dataframe for output:\n",
    "dt1 = datetime.now()\n",
    "try:\n",
    "    student_name, student_id = my_name(), my_id()\n",
    "except Exception as e:\n",
    "    print ('You probably have a syntax or implementation error,  \\nerror Message:',str(e), '\\nTry fixing your code')\n",
    "    raise\n",
    "\n",
    "assert type(student_name) is str or type(student_id) is int, \"name is not a string or id is not an integer\"\n",
    "\n",
    "s_datetime =  [dt1.strftime('%Y-%m-%d %H:%M:%S'), datetime.now().strftime('%Y-%m-%d %H:%M:%S')]\n",
    "df_output = pd.DataFrame({'value': [student_name, student_id], 'type': [type(student_name), type(student_id)], 'date_time': s_datetime},index=['student_name','student_id'])\n",
    "\n",
    "print (\"\\nGood Job!\\nYou've passed the test for the implementation of 'my_name' and 'my_id'  :-)\")\n",
    "\n",
    "print ('\\nOutput dataframe:')\n",
    "print ('-----------------')\n",
    "df_output"
   ]
  },
  {
   "cell_type": "markdown",
   "metadata": {
    "deletable": false,
    "editable": false,
    "nbgrader": {
     "cell_type": "markdown",
     "checksum": "28d37236f4335316126762a017b514f4",
     "grade": false,
     "grade_id": "cell-8d3a9d5bd8ac1793",
     "locked": true,
     "schema_version": 3,
     "solution": false,
     "task": false
    }
   },
   "source": [
    "[Go to the beginning of the assignment](#home)\n",
    "<a id=\"your_implementation\"></a>\n",
    "### 3. Get Task Data: Your Tasks & PERSONAL IMPLEMENTATIONS\n",
    "##### Run the following code cell:"
   ]
  },
  {
   "cell_type": "code",
   "execution_count": 7,
   "metadata": {
    "ExecuteTime": {
     "end_time": "2021-11-16T17:59:51.672378Z",
     "start_time": "2021-11-16T17:59:51.658378Z"
    },
    "deletable": false,
    "editable": false,
    "nbgrader": {
     "cell_type": "code",
     "checksum": "80d966cec9329c4512c9e18a04de5303",
     "grade": false,
     "grade_id": "personal-implementation-all",
     "locked": true,
     "schema_version": 3,
     "solution": false,
     "task": false
    }
   },
   "outputs": [
    {
     "name": "stdout",
     "output_type": "stream",
     "text": [
      "Assignment 2 - KNN (- 10 points for the assignments):\n",
      "-----------------------\n",
      "What do you need to implement?\n",
      "1.   imports - run only (to load python modules)\n",
      "2.   methods: my_name, my_id - Your personal information (- 0.5 points for the test)\n",
      "3.   personal implementation taks - run only\n",
      "4.   methods: load_dataset - load the dataset (- 1 points for the tests)\n",
      "5.   methods: scale_fit_transform, scale_transform_for_test \n",
      "\t- the scaling type YOU NEED to implement is: 'minmax[0,1]' (- 2.5 points for the tests)\n",
      "6. methods: calc_distance \n",
      "\t- the distance method YOU NEED to implement is: 'manhattan' (- 2.5 points for the tests)\n",
      "7. methods: predict - KNN predict main flow (- 2 points for the tests)\n",
      "8.   methods: eval_performance \n",
      "\t- the evaluation metric YOU NEED to implement is: 'accuracy' (- 1.5 points for the tests)\n"
     ]
    }
   ],
   "source": [
    "# 3. Get task data (Your tasks & PESRONAL IMPLEMENTATION INFO)\n",
    "# ====>>> YOUR ACTIONS: RUN ONLY\n",
    "\n",
    "def get_assignment_params(student_id):\n",
    "    num_modulo = 2 ** 31-1\n",
    "    created_1st_state = int(hashlib.md5(str(student_id).encode('utf-8')).hexdigest(),16) % num_modulo\n",
    "    created_2nd_state = int(hashlib.md5(str(created_1st_state).encode('utf-8')).hexdigest(),16) % num_modulo\n",
    "    created_3rd_state = int(hashlib.md5(str(created_2nd_state).encode('utf-8')).hexdigest(),16) % num_modulo\n",
    "    created_4th_state = int(hashlib.md5(str(created_3rd_state).encode('utf-8')).hexdigest(),16) % num_modulo\n",
    "    \n",
    "    scale_types, dist_methods, eval_metrics = ['standardization', 'minmax[0,1]', 'minmax[-1,1]'], ['manhattan', 'euclidean', 'chebyshev'], ['accuracy', 'error_rate', 'precision', 'recall']\n",
    "    \n",
    "    score_cols, o_cols, binary_cols = ['math_score', 'reading_score', 'writing_score'], ['social_grp', 'parent_edu'], np.array(['gender_num', 'lunch_type', 'has_preparations'])\n",
    "    \n",
    "    assignment_params = {}\n",
    "    \n",
    "    random.seed(created_1st_state)\n",
    "    y_col = random.choice(binary_cols)\n",
    "    \n",
    "    assignment_params['num_train1'] = 800\n",
    "    assignment_params['num_train2'] = 80\n",
    "    \n",
    "    assignment_params['y_col'] = y_col\n",
    "    assignment_params['binary_cols'] = list(binary_cols[binary_cols!=y_col])\n",
    "    assignment_params['score_cols'], assignment_params['o_cols'] = score_cols, o_cols\n",
    "    \n",
    "    random.seed(created_2nd_state)  \n",
    "    assignment_params['scale_type'] = random.choice(scale_types)\n",
    "    \n",
    "    random.seed(created_3rd_state)  \n",
    "    assignment_params['dist_method'] = random.choice(dist_methods)\n",
    "    \n",
    "    random.seed(created_4th_state)  \n",
    "    assignment_params['eval_metric'] = random.choice(eval_metrics)\n",
    "    \n",
    "    return assignment_params\n",
    "# ---------------------------\n",
    "try:    \n",
    "    student_name, student_id = my_name(), my_id()\n",
    "except Exception as e:\n",
    "    print ('You probably did not implement student-info functions, \\nerror Message:',str(e))\n",
    "    raise\n",
    "assert type(student_name) is str or type(student_id) is int, \"name is not a string or id is not an integer\"         \n",
    "# ---------------------------\n",
    "assignment_params = get_assignment_params(student_id)\n",
    "# ---------------------------\n",
    "print ('Assignment 2 - KNN (- 10 points for the assignments):')\n",
    "print ('-----------------------')\n",
    "print ('What do you need to implement?')\n",
    "print ('1.   imports - run only (to load python modules)')\n",
    "print ('2.   methods: my_name, my_id - Your personal information (- 0.5 points for the test)')\n",
    "print ('3.   personal implementation taks - run only')\n",
    "print ('4.   methods: load_dataset - load the dataset (- 1 points for the tests)')\n",
    "print (\"5.   methods: scale_fit_transform, scale_transform_for_test \\n\\t- the scaling type YOU NEED to implement is: '\" + assignment_params['scale_type'] + \"' (- 2.5 points for the tests)\")\n",
    "print (\"6. methods: calc_distance \\n\\t- the distance method YOU NEED to implement is: '\" + assignment_params['dist_method'] + \"' (- 2.5 points for the tests)\")\n",
    "print (\"7. methods: predict - KNN predict main flow\" + \" (- 2 points for the tests)\")\n",
    "print (\"8.   methods: eval_performance \\n\\t- the evaluation metric YOU NEED to implement is: '\" + assignment_params['eval_metric'] + \"' (- 1.5 points for the tests)\")"
   ]
  },
  {
   "cell_type": "markdown",
   "metadata": {
    "deletable": false,
    "editable": false,
    "nbgrader": {
     "cell_type": "markdown",
     "checksum": "deac87e3400e1e9452634004a617eb9b",
     "grade": false,
     "grade_id": "cell-370f63fcef515053",
     "locked": true,
     "schema_version": 3,
     "solution": false,
     "task": false
    }
   },
   "source": [
    "[Go to the beginning of the assignment](#home)\n",
    "<a id=\"load_dataset\"></a>\n",
    "### 4. Load dataset\n",
    "##### methods to implement:\n",
    "* load_dataset"
   ]
  },
  {
   "cell_type": "markdown",
   "metadata": {
    "deletable": false,
    "editable": false,
    "nbgrader": {
     "cell_type": "markdown",
     "checksum": "5852211257279ed8d6b6ba63129d6a17",
     "grade": false,
     "grade_id": "cell-e4178d40a515aca2",
     "locked": true,
     "schema_version": 3,
     "solution": false,
     "task": false
    }
   },
   "source": [
    "### 4. load_dataset\n",
    "<pre>\n",
    "input parameters:\n",
    "- file_name - a path containing the csv file name. Use the 'file_name' as is\n",
    "- category_col_name\n",
    "------------\n",
    "The function should return a dataframe containing the feature vectors (X) and \n",
    "    a series containing the categories (y), for example:</pre>\n",
    "<code>return X, y</code>\n",
    "\n",
    "##### Implement and Run the following code cell:"
   ]
  },
  {
   "cell_type": "code",
   "execution_count": 8,
   "metadata": {
    "ExecuteTime": {
     "end_time": "2021-11-16T17:59:51.687403Z",
     "start_time": "2021-11-16T17:59:51.675413Z"
    },
    "deletable": false,
    "nbgrader": {
     "cell_type": "code",
     "checksum": "6d4b214df72721f644ffd253532b903a",
     "grade": false,
     "grade_id": "solution4-load_dataset",
     "locked": false,
     "schema_version": 3,
     "solution": true,
     "task": false
    }
   },
   "outputs": [],
   "source": [
    "# 4. load_dataset (your solution)\n",
    "# ====>>> YOUR ACTIONS: IMPLEMENT & RUN\n",
    "\n",
    "def load_dataset(file_name, category_col_name):\n",
    "    # YOUR CODE HERE\n",
    "    X = None \n",
    "    y = None\n",
    "    \n",
    "    if not isinstance(file_name, str):\n",
    "        print('Error: file_name parameter must be a string. Was:', type(file_name))\n",
    "    elif not isinstance(category_col_name, str):\n",
    "        print('Error: category_col_name parameter must be a string. Was:', type(category_col_name))\n",
    "    elif not os.path.exists(file_name):\n",
    "        print('Error:', file_name, 'does not exist!')\n",
    "    else:\n",
    "        allData = pd.read_csv(file_name)\n",
    "        \n",
    "        # Make sure category column name presents.\n",
    "        columns = allData.columns.values.tolist()\n",
    "        if not category_col_name in columns:\n",
    "            print('Error: Category name does not exist! Expected:', category_col_name, 'Found:', columns)\n",
    "            X = allData\n",
    "        else:\n",
    "            y = allData[category_col_name]\n",
    "            \n",
    "            # Get a copy of the dataframe without the category column\n",
    "            X = allData.drop(category_col_name, axis=1)\n",
    "    \n",
    "    return X, y"
   ]
  },
  {
   "cell_type": "markdown",
   "metadata": {
    "deletable": false,
    "editable": false,
    "nbgrader": {
     "cell_type": "markdown",
     "checksum": "952f0631cdc9b71182954fdf1f062ac8",
     "grade": false,
     "grade_id": "cell-3a5b2c06906fe2fd",
     "locked": true,
     "schema_version": 3,
     "solution": false,
     "task": false
    }
   },
   "source": [
    "##### 4.  load_dataset - OPTIONAL SELF TEST - Implement and Run the following code cell (IF NEEDED):"
   ]
  },
  {
   "cell_type": "code",
   "execution_count": 9,
   "metadata": {
    "ExecuteTime": {
     "end_time": "2021-11-16T17:59:51.703402Z",
     "start_time": "2021-11-16T17:59:51.689381Z"
    },
    "deletable": false,
    "nbgrader": {
     "cell_type": "code",
     "checksum": "07d7df0bde81c992c6f5fa0d34377be1",
     "grade": false,
     "grade_id": "cell-1292bb4085725f5e",
     "locked": false,
     "schema_version": 3,
     "solution": true,
     "task": false
    }
   },
   "outputs": [
    {
     "data": {
      "text/plain": [
       "'gender_num'"
      ]
     },
     "execution_count": 9,
     "metadata": {},
     "output_type": "execute_result"
    },
    {
     "data": {
      "text/html": [
       "<div>\n",
       "<style scoped>\n",
       "    .dataframe tbody tr th:only-of-type {\n",
       "        vertical-align: middle;\n",
       "    }\n",
       "\n",
       "    .dataframe tbody tr th {\n",
       "        vertical-align: top;\n",
       "    }\n",
       "\n",
       "    .dataframe thead th {\n",
       "        text-align: right;\n",
       "    }\n",
       "</style>\n",
       "<table border=\"1\" class=\"dataframe\">\n",
       "  <thead>\n",
       "    <tr style=\"text-align: right;\">\n",
       "      <th></th>\n",
       "      <th>social_grp</th>\n",
       "      <th>parent_edu</th>\n",
       "      <th>lunch_type</th>\n",
       "      <th>math_score</th>\n",
       "      <th>reading_score</th>\n",
       "      <th>writing_score</th>\n",
       "      <th>has_preparations</th>\n",
       "    </tr>\n",
       "  </thead>\n",
       "  <tbody>\n",
       "    <tr>\n",
       "      <th>0</th>\n",
       "      <td>3</td>\n",
       "      <td>4</td>\n",
       "      <td>1</td>\n",
       "      <td>60</td>\n",
       "      <td>68</td>\n",
       "      <td>68</td>\n",
       "      <td>0</td>\n",
       "    </tr>\n",
       "    <tr>\n",
       "      <th>1</th>\n",
       "      <td>4</td>\n",
       "      <td>2</td>\n",
       "      <td>0</td>\n",
       "      <td>70</td>\n",
       "      <td>65</td>\n",
       "      <td>60</td>\n",
       "      <td>0</td>\n",
       "    </tr>\n",
       "    <tr>\n",
       "      <th>2</th>\n",
       "      <td>3</td>\n",
       "      <td>3</td>\n",
       "      <td>1</td>\n",
       "      <td>46</td>\n",
       "      <td>54</td>\n",
       "      <td>52</td>\n",
       "      <td>0</td>\n",
       "    </tr>\n",
       "    <tr>\n",
       "      <th>3</th>\n",
       "      <td>1</td>\n",
       "      <td>2</td>\n",
       "      <td>0</td>\n",
       "      <td>56</td>\n",
       "      <td>74</td>\n",
       "      <td>74</td>\n",
       "      <td>1</td>\n",
       "    </tr>\n",
       "    <tr>\n",
       "      <th>4</th>\n",
       "      <td>1</td>\n",
       "      <td>2</td>\n",
       "      <td>1</td>\n",
       "      <td>62</td>\n",
       "      <td>65</td>\n",
       "      <td>62</td>\n",
       "      <td>0</td>\n",
       "    </tr>\n",
       "    <tr>\n",
       "      <th>...</th>\n",
       "      <td>...</td>\n",
       "      <td>...</td>\n",
       "      <td>...</td>\n",
       "      <td>...</td>\n",
       "      <td>...</td>\n",
       "      <td>...</td>\n",
       "      <td>...</td>\n",
       "    </tr>\n",
       "    <tr>\n",
       "      <th>995</th>\n",
       "      <td>4</td>\n",
       "      <td>0</td>\n",
       "      <td>1</td>\n",
       "      <td>85</td>\n",
       "      <td>83</td>\n",
       "      <td>75</td>\n",
       "      <td>0</td>\n",
       "    </tr>\n",
       "    <tr>\n",
       "      <th>996</th>\n",
       "      <td>1</td>\n",
       "      <td>2</td>\n",
       "      <td>0</td>\n",
       "      <td>58</td>\n",
       "      <td>60</td>\n",
       "      <td>57</td>\n",
       "      <td>0</td>\n",
       "    </tr>\n",
       "    <tr>\n",
       "      <th>997</th>\n",
       "      <td>3</td>\n",
       "      <td>3</td>\n",
       "      <td>1</td>\n",
       "      <td>47</td>\n",
       "      <td>59</td>\n",
       "      <td>52</td>\n",
       "      <td>0</td>\n",
       "    </tr>\n",
       "    <tr>\n",
       "      <th>998</th>\n",
       "      <td>5</td>\n",
       "      <td>1</td>\n",
       "      <td>1</td>\n",
       "      <td>84</td>\n",
       "      <td>73</td>\n",
       "      <td>68</td>\n",
       "      <td>0</td>\n",
       "    </tr>\n",
       "    <tr>\n",
       "      <th>999</th>\n",
       "      <td>2</td>\n",
       "      <td>4</td>\n",
       "      <td>1</td>\n",
       "      <td>93</td>\n",
       "      <td>80</td>\n",
       "      <td>73</td>\n",
       "      <td>0</td>\n",
       "    </tr>\n",
       "  </tbody>\n",
       "</table>\n",
       "<p>1000 rows × 7 columns</p>\n",
       "</div>"
      ],
      "text/plain": [
       "     social_grp  parent_edu  lunch_type  math_score  reading_score  \\\n",
       "0             3           4           1          60             68   \n",
       "1             4           2           0          70             65   \n",
       "2             3           3           1          46             54   \n",
       "3             1           2           0          56             74   \n",
       "4             1           2           1          62             65   \n",
       "..          ...         ...         ...         ...            ...   \n",
       "995           4           0           1          85             83   \n",
       "996           1           2           0          58             60   \n",
       "997           3           3           1          47             59   \n",
       "998           5           1           1          84             73   \n",
       "999           2           4           1          93             80   \n",
       "\n",
       "     writing_score  has_preparations  \n",
       "0               68                 0  \n",
       "1               60                 0  \n",
       "2               52                 0  \n",
       "3               74                 1  \n",
       "4               62                 0  \n",
       "..             ...               ...  \n",
       "995             75                 0  \n",
       "996             57                 0  \n",
       "997             52                 0  \n",
       "998             68                 0  \n",
       "999             73                 0  \n",
       "\n",
       "[1000 rows x 7 columns]"
      ]
     },
     "execution_count": 9,
     "metadata": {},
     "output_type": "execute_result"
    },
    {
     "data": {
      "text/plain": [
       "0      1\n",
       "1      0\n",
       "2      1\n",
       "3      1\n",
       "4      0\n",
       "      ..\n",
       "995    0\n",
       "996    0\n",
       "997    1\n",
       "998    0\n",
       "999    0\n",
       "Name: gender_num, Length: 1000, dtype: int64"
      ]
     },
     "execution_count": 9,
     "metadata": {},
     "output_type": "execute_result"
    }
   ],
   "source": [
    "# 4. load_dataset (optional self testing)\n",
    "# ====>>> YOUR ACTIONS: (optional) IMPLEMENT & RUN \n",
    "\n",
    "file_name = 'data' + os.sep + 'Students-Performance_shuffled_1000.csv'\n",
    "student_name, student_id = my_name(), my_id()\n",
    "assignment_params = get_assignment_params(student_id)\n",
    "X, y = load_dataset(file_name, assignment_params['y_col'])\n",
    "# --- add additional code to check your code if needed:\n",
    "# YOUR CODE HERE\n",
    "assignment_params['y_col']\n",
    "X\n",
    "y"
   ]
  },
  {
   "cell_type": "code",
   "execution_count": 10,
   "metadata": {
    "ExecuteTime": {
     "end_time": "2021-11-16T17:59:51.719412Z",
     "start_time": "2021-11-16T17:59:51.704414Z"
    },
    "deletable": false,
    "editable": false,
    "nbgrader": {
     "cell_type": "code",
     "checksum": "1c1292466da1db9373865fc00e429586",
     "grade": true,
     "grade_id": "test4-1_load_dataset",
     "locked": true,
     "points": 0.1,
     "schema_version": 3,
     "solution": false,
     "task": false
    }
   },
   "outputs": [
    {
     "name": "stdout",
     "output_type": "stream",
     "text": [
      "4. 'load_dataset' - Test 1 (name: test4-1_load_dataset, points: 0.1) - Sanity\n",
      "Good Job!\n",
      "You've passed the 1st test for the 'load_dataset' function implementation :-)\n"
     ]
    }
   ],
   "source": [
    "# 4. load_dataset (graded test)\n",
    "# ====>>> YOUR ACTIONS: RUN ONLY\n",
    "\n",
    "print (\"4. 'load_dataset' - Test 1 (name: test4-1_load_dataset, points: 0.1) - Sanity\")\n",
    "\n",
    "file_name = 'data' + os.sep + 'Students-Performance_shuffled_1000.csv'\n",
    "\n",
    "try:    \n",
    "    student_name, student_id = my_name(), my_id()\n",
    "    assert type(student_name) is str or type(student_id) is int, \"name is not a string or id is not an integer\"\n",
    "    assignment_params = get_assignment_params(student_id)\n",
    "    X, y = load_dataset(file_name, assignment_params['y_col'])\n",
    "except Exception as e:\n",
    "    print ('You probably have a syntax or implementation error,  \\nerror Message:',str(e), '\\nTry fixing your code')\n",
    "    raise\n",
    "print (\"Good Job!\\nYou've passed the 1st test for the 'load_dataset' function implementation :-)\")"
   ]
  },
  {
   "cell_type": "code",
   "execution_count": 11,
   "metadata": {
    "ExecuteTime": {
     "end_time": "2021-11-16T17:59:51.735379Z",
     "start_time": "2021-11-16T17:59:51.720379Z"
    },
    "deletable": false,
    "editable": false,
    "nbgrader": {
     "cell_type": "code",
     "checksum": "cf5adf6c6028ec5f8920b1f75d898ecc",
     "grade": true,
     "grade_id": "test4-2_load_dataset",
     "locked": true,
     "points": 0.5,
     "schema_version": 3,
     "solution": false,
     "task": false
    }
   },
   "outputs": [
    {
     "name": "stdout",
     "output_type": "stream",
     "text": [
      "4. 'load_dataset' - Test 2 (name: test4-2_load_dataset, points: 0.5)\n",
      "Good Job!\n",
      "You've passed the 2nd test for the 'load_dataset' function implementation :-)\n"
     ]
    }
   ],
   "source": [
    "# 4. load_dataset (graded test)\n",
    "# ====>>> YOUR ACTIONS: RUN ONLY\n",
    "\n",
    "print (\"4. 'load_dataset' - Test 2 (name: test4-2_load_dataset, points: 0.5)\")\n",
    "\n",
    "file_name = 'data' + os.sep + 'Students-Performance_shuffled_1000.csv'\n",
    "\n",
    "\n",
    "try:    \n",
    "    student_name, student_id = my_name(), my_id()\n",
    "    assert type(student_name) is str or type(student_id) is int, \"name is not a string or id is not an integer\"\n",
    "    assignment_params = get_assignment_params(student_id)\n",
    "    X, y = load_dataset(file_name, assignment_params['y_col'])\n",
    "    # ---------------------------\n",
    "    X_train, y_train = X.iloc[:assignment_params['num_train1'],:],  y.iloc[:assignment_params['num_train1']]\n",
    "    X_test, y_test = X.iloc[assignment_params['num_train1']:,:], y.iloc[assignment_params['num_train1']:]\n",
    "    # ---------------------------\n",
    "except Exception as e:\n",
    "    print ('You probably have a syntax or implementation error,  \\nerror Message:',str(e), '\\nTry fixing your code')\n",
    "    raise\n",
    "assert type(X) is pd.DataFrame or type(y) is pd.Series, \"Wrong type for feature vectors dataframe or for category series\"\n",
    "\n",
    "print (\"Good Job!\\nYou've passed the 2nd test for the 'load_dataset' function implementation :-)\")"
   ]
  },
  {
   "cell_type": "code",
   "execution_count": 12,
   "metadata": {
    "ExecuteTime": {
     "end_time": "2021-11-16T17:59:51.766415Z",
     "start_time": "2021-11-16T17:59:51.736415Z"
    },
    "deletable": false,
    "editable": false,
    "nbgrader": {
     "cell_type": "code",
     "checksum": "c34f000234225c70c971f0139e8993d9",
     "grade": true,
     "grade_id": "test4-3_load_dataset",
     "locked": true,
     "points": 0.9,
     "schema_version": 3,
     "solution": false,
     "task": false
    }
   },
   "outputs": [
    {
     "name": "stdout",
     "output_type": "stream",
     "text": [
      "4. 'load_dataset' - Test 3 (name: test4-3_load_dataset, points: 0.9)\n",
      "Good Job!\n",
      "You've passed the 3rd test for the 'load_dataset' function implementation :-)\n"
     ]
    }
   ],
   "source": [
    "# 4. load_dataset (graded test)\n",
    "# ====>>> YOUR ACTIONS: RUN ONLY\n",
    "\n",
    "print (\"4. 'load_dataset' - Test 3 (name: test4-3_load_dataset, points: 0.9)\")\n",
    "\n",
    "file_name = 'data' + os.sep + 'Students-Performance_shuffled_1000.csv'\n",
    "\n",
    "try:    \n",
    "    student_name, student_id = my_name(), my_id()\n",
    "    assert type(student_name) is str or type(student_id) is int, \"name is not a string or id is not an integer\"\n",
    "    assignment_params = get_assignment_params(student_id)\n",
    "    X, y = load_dataset(file_name, assignment_params['y_col'])\n",
    "except Exception as e:\n",
    "    print ('You probably have a syntax or implementation error,  \\nerror Message:',str(e), '\\nTry fixing your code')\n",
    "    raise\n",
    "\n",
    "assert X.shape == (1000,7) and X.shape[0] == y.shape[0], 'Wrong shape for feature vector dataframe or category series'\n",
    "assert assignment_params['y_col'] not in X.columns, \"'%s' should not be part of columns, it is the category column\" %(assignment_params['y_col'])\n",
    "print (\"Good Job!\\nYou've passed the 3rd test for the 'load_dataset' function implementation :-)\")"
   ]
  },
  {
   "cell_type": "markdown",
   "metadata": {
    "deletable": false,
    "editable": false,
    "nbgrader": {
     "cell_type": "markdown",
     "checksum": "b6103b9e6a5466e0b0dcb60ae501f6ab",
     "grade": false,
     "grade_id": "cell-b009443b37643334",
     "locked": true,
     "schema_version": 3,
     "solution": false,
     "task": false
    }
   },
   "source": [
    "[Go to the beginning of the assignment](#home)\n",
    "<a id=\"scaling\"></a>\n",
    "### 5. Scaling\n",
    "##### methods to implement:\n",
    "* scale_fit_transform\n",
    "* scale_transform_for_test"
   ]
  },
  {
   "cell_type": "markdown",
   "metadata": {
    "deletable": false,
    "editable": false,
    "nbgrader": {
     "cell_type": "markdown",
     "checksum": "369808a6519af458a0a38dad6bd9e676",
     "grade": false,
     "grade_id": "cell-aa724ac6b96d2a4e",
     "locked": true,
     "schema_version": 3,
     "solution": false,
     "task": false
    }
   },
   "source": [
    "##### 5. Scaling - PERSONAL IMPLEMENTATION - Run the following code cell:"
   ]
  },
  {
   "cell_type": "code",
   "execution_count": 13,
   "metadata": {
    "ExecuteTime": {
     "end_time": "2021-11-16T17:59:51.782410Z",
     "start_time": "2021-11-16T17:59:51.767380Z"
    },
    "deletable": false,
    "editable": false,
    "nbgrader": {
     "cell_type": "code",
     "checksum": "f01469b5b1172dbd33281d2cdcab23b0",
     "grade": false,
     "grade_id": "personal-implementation-scaling",
     "locked": true,
     "schema_version": 3,
     "solution": false,
     "task": false
    }
   },
   "outputs": [
    {
     "name": "stdout",
     "output_type": "stream",
     "text": [
      "The scaling type you need to implement is: 'minmax[0,1]'\n"
     ]
    }
   ],
   "source": [
    "# 5. SCALING (personal implementation info)\n",
    "# ====>>> YOUR ACTIONS: RUN ONLY\n",
    "\n",
    "try:    \n",
    "    student_name, student_id = my_name(), my_id()\n",
    "    assert type(student_name) is str or type(student_id) is int, \"name is not a string or id is not an integer\"    \n",
    "    assignment_params = get_assignment_params(student_id)\n",
    "except Exception as e:\n",
    "    print ('You probably did not implement student-info functions, \\nerror Message:',str(e))\n",
    "    raise\n",
    "# ----------------------------\n",
    "\n",
    "print (\"The scaling type you need to implement is: '\" + assignment_params['scale_type'] + \"'\")"
   ]
  },
  {
   "cell_type": "markdown",
   "metadata": {
    "deletable": false,
    "editable": false,
    "nbgrader": {
     "cell_type": "markdown",
     "checksum": "a7adb0d6b9babcd42b99fbf5d39fa1ae",
     "grade": false,
     "grade_id": "cell-bbc62971d9163395",
     "locked": true,
     "schema_version": 3,
     "solution": false,
     "task": false
    }
   },
   "source": [
    "<b>5. Scaling (scale_fit_transform, scale_transform_for_test) - Permitted and illegal methods</b>:<br />\n",
    "<div class=\"alert alert-success\">\n",
    "&#x2714; You can use any function that calculates: minimum (<code>min</code>), maximum (<code>max</code>), average (<code>mean</code>), variance (<code>var</code>) or standard deviation (<code>std</code>)<br/>\n",
    "&#x2714; Any other basic mathematical function (+,*, ...)<br/>\n",
    "</div>\n",
    "<div class=\"alert alert-danger\">\n",
    "&#x2718; DON'T USE any function, which perform the scaling\n",
    "</div>\n",
    "<br>\n",
    "<b><u>Important Notes - for those who need to implement (t-distribution) standardization</u></b><br/>\n",
    "\n",
    "* <u>By default, numpy's</u> `var` & `std` <u> methods refer to the population</u>\n",
    "* <u>By default, pandas'</u> `var` & `std` <u> methods refer to the sample</u>\n",
    "* Use the relevant methods (& parameters if needed)"
   ]
  },
  {
   "cell_type": "markdown",
   "metadata": {
    "deletable": false,
    "editable": false,
    "nbgrader": {
     "cell_type": "markdown",
     "checksum": "a27eeef5f69127a3231831b48c3e930a",
     "grade": false,
     "grade_id": "cell-06977bc5aaf8d17c",
     "locked": true,
     "schema_version": 3,
     "solution": false,
     "task": false
    }
   },
   "source": [
    "### 5.a. scale_fit_transform\n",
    "<pre>\n",
    "input parameters:\n",
    "- X_train - the input dataframe (only feature vectors)\n",
    "------------\n",
    "The function should return a <b>copy</b> of the train feature vector dataframe (X_train_scaled)\n",
    "    a dataframe containing scaling information (scaling_info).\n",
    "---------------------\n",
    "</pre>\n",
    "For example, if your input `X_train` is:\n",
    "\n",
    "| | sepal_length | sepal_width | petal_length | \n",
    "| :- | :- | :- | :- | \n",
    "| <b>0</b> |  5.1 | 3.5 | 1.4 |  \n",
    "| <b>1</b> |  4.9 | 3 | 1.4 |   \n",
    "| <b>2</b> |  4.7 | 3.2 | 1.3 |  \n",
    "| <b>3</b> |  4.6 | 3.1 | 1.5 | \n",
    "| <b>4</b> |  5 | 3.6 | 1.4 | \n",
    "\n",
    "------\n",
    "\n",
    "Cases (a) & (b): If YOU are assigned with a <b>'scale_type'</b> of <b>'minmax[0,1]'</b> or <b>'minmax[-1,1]'</b>- <br />\n",
    "Then, the expected `scaling_info` output will be:\n",
    "\n",
    "| | min | max |\n",
    "| :- | :- | :- |\n",
    "| sepal_length | 4.6 | 5.1 |\n",
    "| sepal_width | 3.0 | 3.6 |\n",
    "| petal_length | 1.3 | 1.5 |\n",
    "\n",
    "Case (a): If YOU are assigned with a <b>'scale_type'</b> of <b>'minmax[0,1]'</b> - <br />\n",
    "Then, the expected `X_train_scaled` output will be:\n",
    "\n",
    "| | sepal_length | sepal_width | petal_length | \n",
    "| :- | :- | :- | :- |\n",
    "| <b>0</b> | 1.0 | 0.833333 | 0.5 |\n",
    "| <b>1</b> | 0.6 | 0.0 | 0.5 |\n",
    "| <b>2</b> | 0.2 | 0.333333 | 0.0 |\n",
    "| <b>3</b> | 0.0 | 0.166667 | 1.0 |\n",
    "| <b>4</b> | 0.8 | 1.0 | 0.5 |\n",
    "\n",
    "Case (b): If YOU are assigned with a <b>'scale_type'</b> of <b>'minmax[-1,1]'</b> - <br />\n",
    "Then, the expected `X_train_scaled` output will be:\n",
    "\n",
    "| | sepal_length | sepal_width | petal_length | \n",
    "| :- | :- | :- | :- |\n",
    "| <b>0</b> | 1.0 | 0.66666 | 0.0 |\n",
    "| <b>1</b> | 0.2 | -1.0 | 0.0 |\n",
    "| <b>2</b> | -0.6 | -0.33333 | -1.0 |\n",
    "| <b>3</b> | -1.0 | -0.66666 | 1.0 |\n",
    "| <b>4</b> | 0.6 | 1.0 | 0.0 |\n",
    "\n",
    "------\n",
    "\n",
    "Case (c): If YOU are assigned with a <b>'scale_type'</b> of <b>'standardization'</b> - <br />\n",
    "Then, the expected `scaling_info` output will be:\n",
    "\n",
    "| | mean | std |\n",
    "| :- | :- | :- |\n",
    "| sepal_length | 4.86 | 0.207364 |\n",
    "| sepal_width | 3.28 | 0.258844 |\n",
    "| petal_length | 1.40 | 0.070711 |\n",
    "\t\t\n",
    "And the `X_train_scaled` output will be:\n",
    "\n",
    "| | sepal_length | sepal_width | petal_length | \n",
    "| :- | :- | :- | :- |\n",
    "| <b>0</b> | 1.157383 | 0.849934 | 0.000000 |\n",
    "| <b>1</b> | 0.192897 |-1.081734 | 0.000000 |\n",
    "| <b>2</b> | -0.771589 | -0.309067 | -1.414214 |\n",
    "| <b>3</b> | -1.253831 | -0.695401 | 1.414214 |\n",
    "| <b>4</b> | 0.675140 | 1.236268 | 0.000000 |\n",
    "\n",
    "----\n",
    "\n",
    "And an example of the output statement:<br/>\n",
    "<code>    return scaling_info, X_train_scaled</code>"
   ]
  },
  {
   "cell_type": "markdown",
   "metadata": {
    "deletable": false,
    "editable": false,
    "nbgrader": {
     "cell_type": "markdown",
     "checksum": "77afb4ac9f23b9ecd72b7f1194a6e29f",
     "grade": false,
     "grade_id": "cell-f6f2dc50c56a8b59",
     "locked": true,
     "schema_version": 3,
     "solution": false,
     "task": false
    }
   },
   "source": [
    "##### 5.a. scale_fit_transform - OPTIONAL  ASSISTANCE  - Implement & Run the following cell (IF NEEDED):"
   ]
  },
  {
   "cell_type": "code",
   "execution_count": 14,
   "metadata": {
    "ExecuteTime": {
     "end_time": "2021-11-16T17:59:51.798402Z",
     "start_time": "2021-11-16T17:59:51.783378Z"
    },
    "deletable": false,
    "nbgrader": {
     "cell_type": "code",
     "checksum": "c5593b3be2d05d9328a90c1d07f3d18f",
     "grade": false,
     "grade_id": "assistance5a-scale_fit_transform",
     "locked": false,
     "schema_version": 3,
     "solution": true,
     "task": false
    }
   },
   "outputs": [],
   "source": [
    "# 5.a. scale_fit_transform (optional assitance for your solution)\n",
    "# ====>>> YOUR ACTIONS: (optional) IMPLEMENT & RUN \n",
    "\n",
    "# ---- Add assistance code here IF NEEDED:\n",
    "# YOUR CODE HERE\n"
   ]
  },
  {
   "cell_type": "markdown",
   "metadata": {
    "deletable": false,
    "editable": false,
    "nbgrader": {
     "cell_type": "markdown",
     "checksum": "fe6780befd66697f3dc994c44f005287",
     "grade": false,
     "grade_id": "cell-f787d3fec133e072",
     "locked": true,
     "schema_version": 3,
     "solution": false,
     "task": false
    }
   },
   "source": [
    "##### 5.a. scale_fit_transform - Implement and Run the following code cell:"
   ]
  },
  {
   "cell_type": "code",
   "execution_count": 15,
   "metadata": {
    "ExecuteTime": {
     "end_time": "2021-11-16T17:59:51.814404Z",
     "start_time": "2021-11-16T17:59:51.799381Z"
    },
    "deletable": false,
    "nbgrader": {
     "cell_type": "code",
     "checksum": "57c54cd04ef84b0416373dee9c1e4358",
     "grade": false,
     "grade_id": "solution5a-scale_fit_transform",
     "locked": false,
     "schema_version": 3,
     "solution": true,
     "task": false
    }
   },
   "outputs": [],
   "source": [
    "# 5.a. scale_fit_transform (your solution)\n",
    "# ====>>> YOUR ACTIONS: IMPLEMENT & RUN\n",
    "\n",
    "def scale_fit_transform(X_train):\n",
    "    # YOUR CODE HERE\n",
    "    scaling_info = None\n",
    "    X_train_scaled = X_train\n",
    "    \n",
    "    if not isinstance(X_train, pd.core.frame.DataFrame):\n",
    "        print('Error: X_train must be of type pandas.core.frame.DataFrame. Was:', type(X_train))\n",
    "    else:\n",
    "        # First get min and max for each column, and transpose it so we'll have min and max as columns, rather than rows\n",
    "        scaling_info = X_train.agg([min, max]).transpose()\n",
    "        \n",
    "        # Second scale the values to be in range [0, 1], according to the formula: ((VALUE - MIN) / (MAX - MIN))\n",
    "        X_train_scaled = (X_train - scaling_info['min']) / (scaling_info['max'] - scaling_info['min'])\n",
    "        \n",
    "    return scaling_info, X_train_scaled"
   ]
  },
  {
   "cell_type": "markdown",
   "metadata": {
    "deletable": false,
    "editable": false,
    "nbgrader": {
     "cell_type": "markdown",
     "checksum": "c6a412bfc07f5d6fb1db183572993bd0",
     "grade": false,
     "grade_id": "cell-2a413f59c10f8e90",
     "locked": true,
     "schema_version": 3,
     "solution": false,
     "task": false
    }
   },
   "source": [
    "##### 5.a. scale_fit_transform - OPTIONAL SELF TEST - Implement & Run the following code cell (IF NEEDED):"
   ]
  },
  {
   "cell_type": "code",
   "execution_count": 16,
   "metadata": {
    "ExecuteTime": {
     "end_time": "2021-11-16T17:59:51.846410Z",
     "start_time": "2021-11-16T17:59:51.815378Z"
    },
    "deletable": false,
    "nbgrader": {
     "cell_type": "code",
     "checksum": "cd21e35f1a1cc872aaf195b26bf34808",
     "grade": false,
     "grade_id": "cell-b95f59dfb75314fd",
     "locked": false,
     "schema_version": 3,
     "solution": true,
     "task": false
    }
   },
   "outputs": [
    {
     "data": {
      "text/html": [
       "<div>\n",
       "<style scoped>\n",
       "    .dataframe tbody tr th:only-of-type {\n",
       "        vertical-align: middle;\n",
       "    }\n",
       "\n",
       "    .dataframe tbody tr th {\n",
       "        vertical-align: top;\n",
       "    }\n",
       "\n",
       "    .dataframe thead th {\n",
       "        text-align: right;\n",
       "    }\n",
       "</style>\n",
       "<table border=\"1\" class=\"dataframe\">\n",
       "  <thead>\n",
       "    <tr style=\"text-align: right;\">\n",
       "      <th></th>\n",
       "      <th>min</th>\n",
       "      <th>max</th>\n",
       "    </tr>\n",
       "  </thead>\n",
       "  <tbody>\n",
       "    <tr>\n",
       "      <th>social_grp</th>\n",
       "      <td>1</td>\n",
       "      <td>5</td>\n",
       "    </tr>\n",
       "    <tr>\n",
       "      <th>gender_num</th>\n",
       "      <td>0</td>\n",
       "      <td>1</td>\n",
       "    </tr>\n",
       "    <tr>\n",
       "      <th>parent_edu</th>\n",
       "      <td>0</td>\n",
       "      <td>5</td>\n",
       "    </tr>\n",
       "    <tr>\n",
       "      <th>lunch_type</th>\n",
       "      <td>0</td>\n",
       "      <td>1</td>\n",
       "    </tr>\n",
       "    <tr>\n",
       "      <th>math_score</th>\n",
       "      <td>16</td>\n",
       "      <td>100</td>\n",
       "    </tr>\n",
       "    <tr>\n",
       "      <th>reading_score</th>\n",
       "      <td>23</td>\n",
       "      <td>100</td>\n",
       "    </tr>\n",
       "    <tr>\n",
       "      <th>writing_score</th>\n",
       "      <td>24</td>\n",
       "      <td>100</td>\n",
       "    </tr>\n",
       "  </tbody>\n",
       "</table>\n",
       "</div>"
      ],
      "text/plain": [
       "               min  max\n",
       "social_grp       1    5\n",
       "gender_num       0    1\n",
       "parent_edu       0    5\n",
       "lunch_type       0    1\n",
       "math_score      16  100\n",
       "reading_score   23  100\n",
       "writing_score   24  100"
      ]
     },
     "execution_count": 16,
     "metadata": {},
     "output_type": "execute_result"
    },
    {
     "data": {
      "text/html": [
       "<div>\n",
       "<style scoped>\n",
       "    .dataframe tbody tr th:only-of-type {\n",
       "        vertical-align: middle;\n",
       "    }\n",
       "\n",
       "    .dataframe tbody tr th {\n",
       "        vertical-align: top;\n",
       "    }\n",
       "\n",
       "    .dataframe thead th {\n",
       "        text-align: right;\n",
       "    }\n",
       "</style>\n",
       "<table border=\"1\" class=\"dataframe\">\n",
       "  <thead>\n",
       "    <tr style=\"text-align: right;\">\n",
       "      <th></th>\n",
       "      <th>social_grp</th>\n",
       "      <th>gender_num</th>\n",
       "      <th>parent_edu</th>\n",
       "      <th>lunch_type</th>\n",
       "      <th>math_score</th>\n",
       "      <th>reading_score</th>\n",
       "      <th>writing_score</th>\n",
       "    </tr>\n",
       "  </thead>\n",
       "  <tbody>\n",
       "    <tr>\n",
       "      <th>0</th>\n",
       "      <td>0.50</td>\n",
       "      <td>1.0</td>\n",
       "      <td>0.8</td>\n",
       "      <td>1.0</td>\n",
       "      <td>0.523810</td>\n",
       "      <td>0.584416</td>\n",
       "      <td>0.578947</td>\n",
       "    </tr>\n",
       "    <tr>\n",
       "      <th>1</th>\n",
       "      <td>0.75</td>\n",
       "      <td>0.0</td>\n",
       "      <td>0.4</td>\n",
       "      <td>0.0</td>\n",
       "      <td>0.642857</td>\n",
       "      <td>0.545455</td>\n",
       "      <td>0.473684</td>\n",
       "    </tr>\n",
       "    <tr>\n",
       "      <th>2</th>\n",
       "      <td>0.50</td>\n",
       "      <td>1.0</td>\n",
       "      <td>0.6</td>\n",
       "      <td>1.0</td>\n",
       "      <td>0.357143</td>\n",
       "      <td>0.402597</td>\n",
       "      <td>0.368421</td>\n",
       "    </tr>\n",
       "    <tr>\n",
       "      <th>3</th>\n",
       "      <td>0.00</td>\n",
       "      <td>1.0</td>\n",
       "      <td>0.4</td>\n",
       "      <td>0.0</td>\n",
       "      <td>0.476190</td>\n",
       "      <td>0.662338</td>\n",
       "      <td>0.657895</td>\n",
       "    </tr>\n",
       "    <tr>\n",
       "      <th>4</th>\n",
       "      <td>0.00</td>\n",
       "      <td>0.0</td>\n",
       "      <td>0.4</td>\n",
       "      <td>1.0</td>\n",
       "      <td>0.547619</td>\n",
       "      <td>0.545455</td>\n",
       "      <td>0.500000</td>\n",
       "    </tr>\n",
       "    <tr>\n",
       "      <th>...</th>\n",
       "      <td>...</td>\n",
       "      <td>...</td>\n",
       "      <td>...</td>\n",
       "      <td>...</td>\n",
       "      <td>...</td>\n",
       "      <td>...</td>\n",
       "      <td>...</td>\n",
       "    </tr>\n",
       "    <tr>\n",
       "      <th>795</th>\n",
       "      <td>0.75</td>\n",
       "      <td>1.0</td>\n",
       "      <td>0.2</td>\n",
       "      <td>0.0</td>\n",
       "      <td>0.452381</td>\n",
       "      <td>0.506494</td>\n",
       "      <td>0.605263</td>\n",
       "    </tr>\n",
       "    <tr>\n",
       "      <th>796</th>\n",
       "      <td>1.00</td>\n",
       "      <td>1.0</td>\n",
       "      <td>0.6</td>\n",
       "      <td>0.0</td>\n",
       "      <td>0.654762</td>\n",
       "      <td>0.597403</td>\n",
       "      <td>0.552632</td>\n",
       "    </tr>\n",
       "    <tr>\n",
       "      <th>797</th>\n",
       "      <td>0.00</td>\n",
       "      <td>0.0</td>\n",
       "      <td>0.2</td>\n",
       "      <td>1.0</td>\n",
       "      <td>0.738095</td>\n",
       "      <td>0.545455</td>\n",
       "      <td>0.552632</td>\n",
       "    </tr>\n",
       "    <tr>\n",
       "      <th>798</th>\n",
       "      <td>1.00</td>\n",
       "      <td>1.0</td>\n",
       "      <td>0.8</td>\n",
       "      <td>1.0</td>\n",
       "      <td>0.714286</td>\n",
       "      <td>0.805195</td>\n",
       "      <td>0.710526</td>\n",
       "    </tr>\n",
       "    <tr>\n",
       "      <th>799</th>\n",
       "      <td>0.50</td>\n",
       "      <td>1.0</td>\n",
       "      <td>0.0</td>\n",
       "      <td>1.0</td>\n",
       "      <td>0.571429</td>\n",
       "      <td>0.740260</td>\n",
       "      <td>0.723684</td>\n",
       "    </tr>\n",
       "  </tbody>\n",
       "</table>\n",
       "<p>800 rows × 7 columns</p>\n",
       "</div>"
      ],
      "text/plain": [
       "     social_grp  gender_num  parent_edu  lunch_type  math_score  \\\n",
       "0          0.50         1.0         0.8         1.0    0.523810   \n",
       "1          0.75         0.0         0.4         0.0    0.642857   \n",
       "2          0.50         1.0         0.6         1.0    0.357143   \n",
       "3          0.00         1.0         0.4         0.0    0.476190   \n",
       "4          0.00         0.0         0.4         1.0    0.547619   \n",
       "..          ...         ...         ...         ...         ...   \n",
       "795        0.75         1.0         0.2         0.0    0.452381   \n",
       "796        1.00         1.0         0.6         0.0    0.654762   \n",
       "797        0.00         0.0         0.2         1.0    0.738095   \n",
       "798        1.00         1.0         0.8         1.0    0.714286   \n",
       "799        0.50         1.0         0.0         1.0    0.571429   \n",
       "\n",
       "     reading_score  writing_score  \n",
       "0         0.584416       0.578947  \n",
       "1         0.545455       0.473684  \n",
       "2         0.402597       0.368421  \n",
       "3         0.662338       0.657895  \n",
       "4         0.545455       0.500000  \n",
       "..             ...            ...  \n",
       "795       0.506494       0.605263  \n",
       "796       0.597403       0.552632  \n",
       "797       0.545455       0.552632  \n",
       "798       0.805195       0.710526  \n",
       "799       0.740260       0.723684  \n",
       "\n",
       "[800 rows x 7 columns]"
      ]
     },
     "execution_count": 16,
     "metadata": {},
     "output_type": "execute_result"
    }
   ],
   "source": [
    "# 5.a. scale_fit_transform (optional self testing)\n",
    "# ====>>> YOUR ACTIONS: (optional) IMPLEMENT & RUN \n",
    "\n",
    "file_name = 'data' + os.sep + 'Students-Performance_shuffled_1000.csv'\n",
    "y_col     = 'has_preparations'\n",
    "student_name, student_id = my_name(), my_id()\n",
    "assignment_params = get_assignment_params(student_id)    \n",
    "X, y = load_dataset(file_name, y_col)\n",
    "X_train, y_train = X.iloc[:assignment_params['num_train1'],:],  y.iloc[:assignment_params['num_train1']]\n",
    "X_test, y_test = X.iloc[assignment_params['num_train1']:,:], y.iloc[assignment_params['num_train1']:]\n",
    "trained_scaling_info,  X_train_scaled = scale_fit_transform(X_train)\n",
    "# --- add additional code to check your code if needed:\n",
    "# YOUR CODE HERE\n",
    "trained_scaling_info\n",
    "X_train_scaled"
   ]
  },
  {
   "cell_type": "markdown",
   "metadata": {
    "deletable": false,
    "editable": false,
    "nbgrader": {
     "cell_type": "markdown",
     "checksum": "1bc51fb1651ce22d06f9534c4c239462",
     "grade": false,
     "grade_id": "cell-a9db82c60284cdeb",
     "locked": true,
     "schema_version": 3,
     "solution": false,
     "task": false
    }
   },
   "source": [
    "##### 5.a. scale_fit_transform - GRADED TESTS -  Run the following (3) code cells:"
   ]
  },
  {
   "cell_type": "code",
   "execution_count": 17,
   "metadata": {
    "ExecuteTime": {
     "end_time": "2021-11-16T17:59:51.877380Z",
     "start_time": "2021-11-16T17:59:51.848379Z"
    },
    "deletable": false,
    "editable": false,
    "nbgrader": {
     "cell_type": "code",
     "checksum": "0c3f7ee3eaf46a21755b4ce7ba61cd68",
     "grade": true,
     "grade_id": "test5a-1_scale_fit_transform",
     "locked": true,
     "points": 0.1,
     "schema_version": 3,
     "solution": false,
     "task": false
    }
   },
   "outputs": [
    {
     "name": "stdout",
     "output_type": "stream",
     "text": [
      "5.a. 'scale_fit_transform' - Test 1 (name: test5a-1_scale_fit_transform, points: 0.1) - Sanity\n",
      "\t\tTesing a 'minmax[0,1]' scale type ...\n",
      "\n",
      "\n",
      "Good Job!\n",
      "You've passed the 1st test for the 'scale_fit_transform' function implementation :-)\n"
     ]
    }
   ],
   "source": [
    "# 5.a. scale_fit_transform (graded test)\n",
    "# ====>>> YOUR ACTIONS: RUN ONLY\n",
    "\n",
    "print (\"5.a. 'scale_fit_transform' - Test 1 (name: test5a-1_scale_fit_transform, points: 0.1) - Sanity\")\n",
    "\n",
    "file_name = 'data' + os.sep + 'Students-Performance_shuffled_1000.csv'\n",
    "y_col     = 'has_preparations'\n",
    "try:    \n",
    "    student_name, student_id = my_name(), my_id()\n",
    "    assert type(student_name) is str or type(student_id) is int, \"name is not a string or id is not an integer\"\n",
    "    assignment_params = get_assignment_params(student_id)    \n",
    "    print (\"\\t\\tTesing a '\" + assignment_params['scale_type'] + \"' scale type ...\\n\")\n",
    "    X, y = load_dataset(file_name, y_col)\n",
    "    X_train, y_train = X.iloc[:assignment_params['num_train1'],:],  y.iloc[:assignment_params['num_train1']]\n",
    "    X_test, y_test = X.iloc[assignment_params['num_train1']:,:], y.iloc[assignment_params['num_train1']:]\n",
    "    trained_scaling_info,  X_train_scaled = scale_fit_transform(X_train)\n",
    "except Exception as e:\n",
    "    print ('You probably have a syntax or implementation error,  \\nerror Message:',str(e), '\\nTry fixing your code')\n",
    "    raise\n",
    "\n",
    "\n",
    "print (\"\\nGood Job!\\nYou've passed the 1st test for the 'scale_fit_transform' function implementation :-)\")"
   ]
  },
  {
   "cell_type": "code",
   "execution_count": 18,
   "metadata": {
    "ExecuteTime": {
     "end_time": "2021-11-16T17:59:51.925416Z",
     "start_time": "2021-11-16T17:59:51.879382Z"
    },
    "deletable": false,
    "editable": false,
    "nbgrader": {
     "cell_type": "code",
     "checksum": "1d9fa013b13436a3f854ba53431c6faa",
     "grade": true,
     "grade_id": "test5a-2_scale_fit_transform",
     "locked": true,
     "points": 0.5,
     "schema_version": 3,
     "solution": false,
     "task": false
    }
   },
   "outputs": [
    {
     "name": "stdout",
     "output_type": "stream",
     "text": [
      "5.a. 'scale_fit_transform' - Test 2 (name: test5a-2_scale_fit_transform, points: 0.5)\n",
      "\t\tTesing a 'minmax[0,1]' scale type ...\n",
      "\n",
      "\n",
      "Good Job!\n",
      "You've passed the 2nd test for the 'scale_fit_transform' function implementation :-)\n"
     ]
    }
   ],
   "source": [
    "# 5.a. scale_fit_transform (graded test)\n",
    "# ====>>> YOUR ACTIONS: RUN ONLY\n",
    "\n",
    "print (\"5.a. 'scale_fit_transform' - Test 2 (name: test5a-2_scale_fit_transform, points: 0.5)\")\n",
    "\n",
    "file_name = 'data' + os.sep + 'Students-Performance_shuffled_1000.csv'\n",
    "y_col     = 'has_preparations'\n",
    "try:      \n",
    "    student_name, student_id = my_name(), my_id()\n",
    "    assert type(student_name) is str or type(student_id) is int, \"name is not a string or id is not an integer\"\n",
    "    assignment_params = get_assignment_params(student_id)    \n",
    "    print (\"\\t\\tTesing a '\" + assignment_params['scale_type'] + \"' scale type ...\\n\")\n",
    "    X, y = load_dataset(file_name, y_col)\n",
    "    X_train, y_train = X.iloc[:assignment_params['num_train1'],:],  y.iloc[:assignment_params['num_train1']]\n",
    "    X_test, y_test = X.iloc[assignment_params['num_train1']:,:], y.iloc[assignment_params['num_train1']:]\n",
    "    trained_scaling_info,  X_train_scaled = scale_fit_transform(X_train)\n",
    "except Exception as e:\n",
    "    print ('You probably have a syntax or implementation error,  \\nerror Message:',str(e), '\\nTry fixing your code')\n",
    "    raise\n",
    "\n",
    "check_equal = lambda itr_a,itr_b: len(list(itr_a))>0 and len(list(itr_a))==len(list(itr_b)) and 0==len(set(list(itr_a))-set(list(itr_b))) and 0==len(set(list(itr_b))-set(list(itr_a))) and len(list(itr_a))==len(set(list(itr_b))|set(list(itr_b)))\n",
    "attrs=assignment_params['o_cols']+assignment_params['score_cols']+['gender_num', 'lunch_type']\n",
    "\n",
    "assert X_train_scaled.shape == X_train.shape, 'Wrong shape for scaled train dataframe'\n",
    "np.testing.assert_array_equal(X_train_scaled.index, X_train.index, 'scaled train and train dataframes should have the same index')\n",
    "assert check_equal(X_train_scaled.columns, attrs), 'scaled trained and train dataframes should have the same column names'\n",
    "\n",
    "print (\"\\nGood Job!\\nYou've passed the 2nd test for the 'scale_fit_transform' function implementation :-)\")"
   ]
  },
  {
   "cell_type": "code",
   "execution_count": 19,
   "metadata": {
    "ExecuteTime": {
     "end_time": "2021-11-16T17:59:51.973413Z",
     "start_time": "2021-11-16T17:59:51.927382Z"
    },
    "deletable": false,
    "editable": false,
    "nbgrader": {
     "cell_type": "code",
     "checksum": "777309dcbce78957f09dae16ce8a9b35",
     "grade": true,
     "grade_id": "test5a-3_scale_fit_transform",
     "locked": true,
     "points": 0.8,
     "schema_version": 3,
     "solution": false,
     "task": false
    }
   },
   "outputs": [
    {
     "name": "stdout",
     "output_type": "stream",
     "text": [
      "Parts 5.a. 'scale_fit_transform' - Test 3 (name: test5a-3_scale_fit_transform, points: 0.8)\n",
      "\t\tTesing a 'minmax[0,1]' scale type ...\n",
      "\n",
      "\n",
      "Good Job!\n",
      "You've passed the 3rd test for the 'scale_fit_transform' functions implementation :-)\n"
     ]
    }
   ],
   "source": [
    "# 5.a. scale_fit_transform (graded test)\n",
    "# ====>>> YOUR ACTIONS: RUN ONLY\n",
    "\n",
    "print (\"Parts 5.a. 'scale_fit_transform' - Test 3 (name: test5a-3_scale_fit_transform, points: 0.8)\")\n",
    "\n",
    "\n",
    "file_name = 'data' + os.sep + 'Students-Performance_shuffled_1000.csv'\n",
    "y_col     = 'has_preparations'\n",
    "try:      \n",
    "    student_name, student_id = my_name(), my_id()\n",
    "    assert type(student_name) is str or type(student_id) is int, \"name is not a string or id is not an integer\"\n",
    "    assignment_params = get_assignment_params(student_id)    \n",
    "    print (\"\\t\\tTesing a '\" + assignment_params['scale_type'] + \"' scale type ...\\n\")\n",
    "    X, y = load_dataset(file_name, y_col)\n",
    "    X_train, y_train = X.iloc[:assignment_params['num_train1'],:],  y.iloc[:assignment_params['num_train1']]\n",
    "    X_test, y_test = X.iloc[assignment_params['num_train1']:,:], y.iloc[assignment_params['num_train1']:]\n",
    "    trained_scaling_info,  X_train_scaled = scale_fit_transform(X_train)\n",
    "except Exception as e:\n",
    "    print ('You probably have a syntax or implementation error,  \\nerror Message:',str(e), '\\nTry fixing your code')\n",
    "    raise\n",
    "mean_values = X_train_scaled.mean().values\n",
    "mean_round  = np.round(mean_values+0.00001,4)\n",
    "min_values = X_train_scaled.min().values\n",
    "min_round  = np.round(min_values+0.00001,4)\n",
    "max_values = X_train_scaled.max().values\n",
    "max_round  = np.round(max_values+0.00001,4)\n",
    "if 'standardization' == assignment_params['scale_type']:\n",
    "    np.testing.assert_array_equal([0.,0.,0.,0.,0.,0.,0.], mean_round, 'Wrong average standardization scaled values')\n",
    "elif assignment_params['scale_type'] == 'minmax[0,1]':\n",
    "    np.testing.assert_array_equal([0.,0.,0.,0.,0.,0.,0.], min_round, 'Wrong min minmax[0,1] scaled values')\n",
    "    np.testing.assert_array_equal([1.0, 1.0, 1.0, 1.0, 1.0, 1.0, 1.0], max_round, 'Wrong max minmax[0,1] scaled values')\n",
    "else:    \n",
    "    np.testing.assert_array_equal([-1.0, -1.0, -1.0, -1.0, -1.0, -1.0, -1.0], min_round, 'Wrong min minmax[-1,1] scaled values') \n",
    "    np.testing.assert_array_equal([1.0, 1.0, 1.0, 1.0, 1.0, 1.0, 1.0], max_round, 'Wrong max minmax[-1,1] scaled values')\n",
    "print (\"\\nGood Job!\\nYou've passed the 3rd test for the 'scale_fit_transform' functions implementation :-)\")"
   ]
  },
  {
   "cell_type": "markdown",
   "metadata": {
    "deletable": false,
    "editable": false,
    "nbgrader": {
     "cell_type": "markdown",
     "checksum": "30d37fdd8b9a0040f01068aa97efaf05",
     "grade": false,
     "grade_id": "cell-e17405a8adc62f70",
     "locked": true,
     "schema_version": 3,
     "solution": false,
     "task": false
    }
   },
   "source": [
    "### 5.b. scale_transform_for_test\n",
    "<pre>\n",
    "input parameters:\n",
    "- X_test - the input dataframe (only feature vectors)\n",
    "- trained_scaling_info - scaling information (returned from the above scale_fit_transform method) \n",
    "------------\n",
    "The function should return a scaled <b>copy</b> of the test dataframe (X_test_scaled), for example:</pre>\n",
    "<code>    return X_test_scaled</code>"
   ]
  },
  {
   "cell_type": "markdown",
   "metadata": {
    "deletable": false,
    "editable": false,
    "nbgrader": {
     "cell_type": "markdown",
     "checksum": "1d2601ad95c149ed19f4b18115de1e7f",
     "grade": false,
     "grade_id": "cell-32dae541f102d9d6",
     "locked": true,
     "schema_version": 3,
     "solution": false,
     "task": false
    }
   },
   "source": [
    "##### 5.b. scale_transform_for_test - OPTIONAL  ASSISTANCE  - Implement & Run the following (IF NEEDED):"
   ]
  },
  {
   "cell_type": "code",
   "execution_count": 20,
   "metadata": {
    "ExecuteTime": {
     "end_time": "2021-11-16T17:59:51.989413Z",
     "start_time": "2021-11-16T17:59:51.975379Z"
    },
    "deletable": false,
    "nbgrader": {
     "cell_type": "code",
     "checksum": "9707cd2cf31aa1276f42f5c53362c11b",
     "grade": false,
     "grade_id": "assistance5b-scale_transform_for_test",
     "locked": false,
     "schema_version": 3,
     "solution": true,
     "task": false
    }
   },
   "outputs": [],
   "source": [
    "# 5.b. scale_transform_for_test (optional assitance for your solution)\n",
    "# ====>>> YOUR ACTIONS: (optional) IMPLEMENT & RUN \n",
    "\n",
    "# ---- Add assistance code here IF NEEDED:\n",
    "# YOUR CODE HERE\n",
    "def validate_scale_transform_for_test(trained_scaling_info, X_test):\n",
    "    is_valid = False\n",
    "    \n",
    "    if not isinstance(X_test, pd.core.frame.DataFrame):\n",
    "        print('Error: X_test must be of type pandas.core.frame.DataFrame. Was:', type(X_test))\n",
    "    elif not isinstance(trained_scaling_info, pd.core.frame.DataFrame):\n",
    "        print('Error: trained_scaling_info must be of type pandas.core.frame.DataFrame. Was:', type(trained_scaling_info))\n",
    "    else:\n",
    "        # Prepare a set of column names, lowercased, to make sure 'min' and 'max' columns present.\n",
    "        trained_scaling_info_columns = trained_scaling_info.columns.values.tolist()\n",
    "        for i in range(len(trained_scaling_info_columns)):\n",
    "            trained_scaling_info_columns[i] = trained_scaling_info_columns[i].lower()\n",
    "        \n",
    "        trained_scaling_info_columns = set(trained_scaling_info_columns)\n",
    "        if 'min' not in trained_scaling_info_columns or 'max' not in trained_scaling_info_columns:\n",
    "            print(\"Error: 'min' and 'max' columns are mandatory in trained_scaling_info. Provided columns:\", trained_scaling_info_columns)\n",
    "        else:\n",
    "            is_valid = True\n",
    "    \n",
    "    return is_valid"
   ]
  },
  {
   "cell_type": "markdown",
   "metadata": {
    "deletable": false,
    "editable": false,
    "nbgrader": {
     "cell_type": "markdown",
     "checksum": "29de1a4da6925b62d7fb6f7b7456d28e",
     "grade": false,
     "grade_id": "cell-5466d7391b60b8fa",
     "locked": true,
     "schema_version": 3,
     "solution": false,
     "task": false
    }
   },
   "source": [
    "##### 5.b. scale_transform_for_test - Implement and Run the following code cell:"
   ]
  },
  {
   "cell_type": "code",
   "execution_count": 21,
   "metadata": {
    "ExecuteTime": {
     "end_time": "2021-11-16T17:59:52.005383Z",
     "start_time": "2021-11-16T17:59:51.991383Z"
    },
    "deletable": false,
    "nbgrader": {
     "cell_type": "code",
     "checksum": "dd64ab18917f212a4336eb9619253ad6",
     "grade": false,
     "grade_id": "solution5b-scale_transform_for_test",
     "locked": false,
     "schema_version": 3,
     "solution": true,
     "task": false
    }
   },
   "outputs": [],
   "source": [
    "# 5.b. scale_transform_for_test (your solution)\n",
    "# ====>>> YOUR ACTIONS: IMPLEMENT & RUN\n",
    "\n",
    "def scale_transform_for_test(trained_scaling_info,  X_test):\n",
    "    # YOUR CODE HERE\n",
    "    X_test_scaled = X_test\n",
    "    \n",
    "    if validate_scale_transform_for_test(trained_scaling_info, X_test):\n",
    "        # Scale the values, trying to make them fit in range [0, 1], according to the formula: ((VALUE - MIN) / (MAX - MIN))\n",
    "        X_test_scaled = (X_test - trained_scaling_info['min']) / (trained_scaling_info['max'] - trained_scaling_info['min'])\n",
    "    \n",
    "    return X_test_scaled"
   ]
  },
  {
   "cell_type": "markdown",
   "metadata": {
    "deletable": false,
    "editable": false,
    "nbgrader": {
     "cell_type": "markdown",
     "checksum": "e46572d0dc814a3e0e3cd353527ccccc",
     "grade": false,
     "grade_id": "cell-467ccfe4166542a0",
     "locked": true,
     "schema_version": 3,
     "solution": false,
     "task": false
    }
   },
   "source": [
    "##### 5.b. scale_transform_for_test - OPTIONAL SELF TEST - Implement & Run the following cell (IF NEEDED):"
   ]
  },
  {
   "cell_type": "code",
   "execution_count": 22,
   "metadata": {
    "ExecuteTime": {
     "end_time": "2021-11-16T17:59:52.037379Z",
     "start_time": "2021-11-16T17:59:52.006379Z"
    },
    "deletable": false,
    "nbgrader": {
     "cell_type": "code",
     "checksum": "51b21807128fa6173f6862dd714346fe",
     "grade": false,
     "grade_id": "cell-14bfe00fb1108c30",
     "locked": false,
     "schema_version": 3,
     "solution": true,
     "task": false
    }
   },
   "outputs": [],
   "source": [
    "# 5.b. scale_transform_for_test (optional self testing)\n",
    "# ====>>> YOUR ACTIONS: (optional) IMPLEMENT & RUN \n",
    "\n",
    "file_name = 'data' + os.sep + 'Students-Performance_shuffled_1000.csv'\n",
    "y_col     = 'has_preparations'\n",
    "student_name, student_id = my_name(), my_id()\n",
    "assignment_params = get_assignment_params(student_id)    \n",
    "X, y = load_dataset(file_name, y_col)\n",
    "X_train, y_train = X.iloc[:assignment_params['num_train1'],:],  y.iloc[:assignment_params['num_train1']]\n",
    "X_test, y_test = X.iloc[assignment_params['num_train1']:,:], y.iloc[assignment_params['num_train1']:]\n",
    "trained_scaling_info,  X_train_scaled = scale_fit_transform(X_train)\n",
    "X_test_scaled = scale_transform_for_test(trained_scaling_info,  X_test)\n",
    "# --- add additional code to check your code if needed:\n",
    "# YOUR CODE HERE\n"
   ]
  },
  {
   "cell_type": "markdown",
   "metadata": {
    "deletable": false,
    "editable": false,
    "nbgrader": {
     "cell_type": "markdown",
     "checksum": "f31d2bb9c0abc542f64e659f5157c583",
     "grade": false,
     "grade_id": "cell-1578ccf752093ac4",
     "locked": true,
     "schema_version": 3,
     "solution": false,
     "task": false
    }
   },
   "source": [
    "##### 5.b. scale_fit_transform, scale_transform_for_test - GRADED TESTS -  Run the following (3) code cells:"
   ]
  },
  {
   "cell_type": "code",
   "execution_count": 23,
   "metadata": {
    "ExecuteTime": {
     "end_time": "2021-11-16T17:59:52.085378Z",
     "start_time": "2021-11-16T17:59:52.041384Z"
    },
    "deletable": false,
    "editable": false,
    "nbgrader": {
     "cell_type": "code",
     "checksum": "7277ce51f05a3e1d1bfbc1eac9ba68f9",
     "grade": true,
     "grade_id": "test5b-1_scale_transform_for_test",
     "locked": true,
     "points": 0.1,
     "schema_version": 3,
     "solution": false,
     "task": false
    }
   },
   "outputs": [
    {
     "name": "stdout",
     "output_type": "stream",
     "text": [
      "Parts 5.b. 'scale_transform_for_test' - Test 1 (name: test5b-1_scale_transform_for_test, points: 0.1) - Sanity\n",
      "\t\tTesing a 'minmax[0,1]' scale type ...\n",
      "\n",
      "\n",
      "Good Job!\n",
      "You've passed the 1st test for the 'scale_transform_for_test' function implementation :-)\n"
     ]
    }
   ],
   "source": [
    "# 5.b. scale_transform_for_test (graded test)\n",
    "# ====>>> YOUR ACTIONS: RUN ONLY\n",
    "\n",
    "print (\"Parts 5.b. 'scale_transform_for_test' - Test 1 (name: test5b-1_scale_transform_for_test, points: 0.1) - Sanity\")\n",
    "\n",
    "file_name = 'data' + os.sep + 'Students-Performance_shuffled_1000.csv'\n",
    "y_col     = 'has_preparations'\n",
    "try:      \n",
    "    student_name, student_id = my_name(), my_id()\n",
    "    assert type(student_name) is str or type(student_id) is int, \"name is not a string or id is not an integer\"\n",
    "    assignment_params = get_assignment_params(student_id)    \n",
    "    print (\"\\t\\tTesing a '\" + assignment_params['scale_type'] + \"' scale type ...\\n\")\n",
    "    X, y = load_dataset(file_name, y_col)\n",
    "    X_train, y_train = X.iloc[:assignment_params['num_train1'],:],  y.iloc[:assignment_params['num_train1']]\n",
    "    X_test, y_test = X.iloc[assignment_params['num_train1']:,:], y.iloc[assignment_params['num_train1']:]\n",
    "    trained_scaling_info,  X_train_scaled = scale_fit_transform(X_train)\n",
    "    X_test_scaled = scale_transform_for_test(trained_scaling_info,  X_test)\n",
    "except Exception as e:\n",
    "    print ('You probably have a syntax or implementation error,  \\nerror Message:',str(e), '\\nTry fixing your code')\n",
    "    raise\n",
    "print (\"\\nGood Job!\\nYou've passed the 1st test for the 'scale_transform_for_test' function implementation :-)\")"
   ]
  },
  {
   "cell_type": "code",
   "execution_count": 24,
   "metadata": {
    "ExecuteTime": {
     "end_time": "2021-11-16T17:59:52.133412Z",
     "start_time": "2021-11-16T17:59:52.087379Z"
    },
    "deletable": false,
    "editable": false,
    "nbgrader": {
     "cell_type": "code",
     "checksum": "1dae357ad13b902547b91c061f23ae34",
     "grade": true,
     "grade_id": "test5b-2_scale_transform_for_test",
     "locked": true,
     "points": 0.5,
     "schema_version": 3,
     "solution": false,
     "task": false
    }
   },
   "outputs": [
    {
     "name": "stdout",
     "output_type": "stream",
     "text": [
      "Parts 5.b. 'scale_transform_for_test' - Test 2 (name: test5b-2_scale_transform_for_test, points: 0.5)\n",
      "\t\tTesing a 'minmax[0,1]' scale type ...\n",
      "\n",
      "\n",
      "Good Job!\n",
      "You've passed the 2nd test for the 'scale_transform_for_test' function implementation :-)\n"
     ]
    }
   ],
   "source": [
    "# 5.b. scale_transform_for_test (graded test)\n",
    "# ====>>> YOUR ACTIONS: RUN ONLY\n",
    "\n",
    "print (\"Parts 5.b. 'scale_transform_for_test' - Test 2 (name: test5b-2_scale_transform_for_test, points: 0.5)\")\n",
    "\n",
    "file_name = 'data' + os.sep + 'Students-Performance_shuffled_1000.csv'\n",
    "y_col     = 'has_preparations'\n",
    "try:      \n",
    "    student_name, student_id = my_name(), my_id()\n",
    "    assert type(student_name) is str or type(student_id) is int, \"name is not a string or id is not an integer\"\n",
    "    assignment_params = get_assignment_params(student_id)    \n",
    "    print (\"\\t\\tTesing a '\" + assignment_params['scale_type'] + \"' scale type ...\\n\")\n",
    "    X, y = load_dataset(file_name, y_col)\n",
    "    X_train, y_train = X.iloc[:assignment_params['num_train1'],:],  y.iloc[:assignment_params['num_train1']]\n",
    "    X_test, y_test = X.iloc[assignment_params['num_train1']:,:], y.iloc[assignment_params['num_train1']:]\n",
    "    trained_scaling_info,  X_train_scaled = scale_fit_transform(X_train)\n",
    "    X_test_scaled = scale_transform_for_test(trained_scaling_info,  X_test)\n",
    "except Exception as e:\n",
    "    print ('You probably have a syntax or implementation error,  \\nerror Message:',str(e), '\\nTry fixing your code')\n",
    "    raise\n",
    "check_equal = lambda itr_a,itr_b: len(list(itr_a))>0 and len(list(itr_a))==len(list(itr_b)) and 0==len(set(list(itr_a))-set(list(itr_b))) and 0==len(set(list(itr_b))-set(list(itr_a))) and len(list(itr_a))==len(set(list(itr_b))|set(list(itr_b)))\n",
    "assert X_test_scaled.shape == X_test.shape, 'Wrong shape for scaled test dataframe'\n",
    "np.testing.assert_array_equal(X_test_scaled.index, X_test.index, 'scaled test and test dataframes should have the same index')\n",
    "np.testing.assert_array_equal(X_train_scaled.columns, X_test_scaled.columns, 'scaled train and scaled test dataframes should have the same column names')\n",
    "\n",
    "print (\"\\nGood Job!\\nYou've passed the 2nd test for the 'scale_transform_for_test' function implementation :-)\")"
   ]
  },
  {
   "cell_type": "code",
   "execution_count": 25,
   "metadata": {
    "ExecuteTime": {
     "end_time": "2021-11-16T17:59:52.195413Z",
     "start_time": "2021-11-16T17:59:52.135414Z"
    },
    "deletable": false,
    "editable": false,
    "nbgrader": {
     "cell_type": "code",
     "checksum": "aeca14f1a05686250868d5adcec0c654",
     "grade": true,
     "grade_id": "test5-scaling-train-test",
     "locked": true,
     "points": 1,
     "schema_version": 3,
     "solution": false,
     "task": false
    }
   },
   "outputs": [
    {
     "name": "stdout",
     "output_type": "stream",
     "text": [
      "Part 5. 'scale_transform_for_test' (& 'scale_fit_transform') - Test (name: test5-scaling-train-test, points: 1.0)\n",
      "\t\tTesing a 'minmax[0,1]' scale type ...\n",
      "\n",
      "\n",
      "Good Job!\n",
      "You've passed the test for both the 'scale_fit_transform' and 'scale_transform_for_test' functions implementation :-)\n"
     ]
    }
   ],
   "source": [
    "# 5. scale_fit_transform, scale_transform_for_test (graded test)\n",
    "# ====>>> YOUR ACTIONS: RUN ONLY\n",
    "\n",
    "print (\"Part 5. 'scale_transform_for_test' (& 'scale_fit_transform') - Test (name: test5-scaling-train-test, points: 1.0)\")\n",
    "\n",
    "file_name = 'data' + os.sep + 'Students-Performance_shuffled_1000.csv'\n",
    "y_col     = 'has_preparations'\n",
    "try:      \n",
    "    student_name, student_id = my_name(), my_id()\n",
    "    assert type(student_name) is str or type(student_id) is int, \"name is not a string or id is not an integer\"\n",
    "    assignment_params = get_assignment_params(student_id)    \n",
    "    print (\"\\t\\tTesing a '\" + assignment_params['scale_type'] + \"' scale type ...\\n\")\n",
    "    X, y = load_dataset(file_name, y_col)\n",
    "    X_train, y_train = X.iloc[:assignment_params['num_train1'],:],  y.iloc[:assignment_params['num_train1']]\n",
    "    X_test, y_test = X.iloc[assignment_params['num_train1']:,:], y.iloc[assignment_params['num_train1']:]\n",
    "    trained_scaling_info,  X_train_scaled = scale_fit_transform(X_train)\n",
    "    X_test_scaled = scale_transform_for_test(trained_scaling_info,  X_test)\n",
    "except Exception as e:\n",
    "    print ('You probably have a syntax or implementation error,  \\nerror Message:',str(e), '\\nTry fixing your code')\n",
    "    raise\n",
    "check_equal = lambda itr_a,itr_b: len(list(itr_a))>0 and len(list(itr_a))==len(list(itr_b)) and 0==len(set(list(itr_a))-set(list(itr_b))) and 0==len(set(list(itr_b))-set(list(itr_a))) and len(list(itr_a))==len(set(list(itr_b))|set(list(itr_b)))\n",
    "mean_mean_scl_test = X_test_scaled.mean().values.mean()\n",
    "mean_mean_scl_test_rnd =np.round(mean_mean_scl_test,4)\n",
    "abs_mean_mean_scl_test = abs(mean_mean_scl_test_rnd)\n",
    "max_mean_scl_test =X_test_scaled.mean().values.max()\n",
    "max_mean_scl_test_rnd =np.round(max_mean_scl_test,4)\n",
    "trained_scaling_info_means = trained_scaling_info.mean().values \n",
    "\n",
    "if 'standardization' == assignment_params['scale_type']:\n",
    "    assert 0<mean_mean_scl_test_rnd and mean_mean_scl_test_rnd<0.1, 'Wrong average mean standardized scaled values'\n",
    "    assert 0.04<max_mean_scl_test_rnd and mean_mean_scl_test_rnd<0.14, 'Wrong max mean standardized scaled values'\n",
    "elif assignment_params['scale_type'] == 'minmax[0,1]':\n",
    "    assert 0.5<mean_mean_scl_test_rnd and mean_mean_scl_test_rnd<0.6, 'Wrong average mean minmax[0,1] scaled values'\n",
    "    assert 0.6<max_mean_scl_test_rnd and mean_mean_scl_test_rnd<0.7, 'Wrong max mean minmax[0,1] scaled values'\n",
    "else: # assignment_params['scale_type'] == 'minmax[-1,1]':\n",
    "    assert 0.07<mean_mean_scl_test_rnd and mean_mean_scl_test_rnd<0.17, 'Wrong average mean minmax[-1,1] scaled values'\n",
    "    assert 0.23<max_mean_scl_test_rnd and mean_mean_scl_test_rnd<0.33, 'Wrong max mean minmax[-1,1] scaled values'\n",
    "print (\"\\nGood Job!\\nYou've passed the test for both the 'scale_fit_transform' and 'scale_transform_for_test' functions implementation :-)\")"
   ]
  },
  {
   "cell_type": "markdown",
   "metadata": {
    "deletable": false,
    "editable": false,
    "nbgrader": {
     "cell_type": "markdown",
     "checksum": "3c0817dfb2077efd2024623655dfd58b",
     "grade": false,
     "grade_id": "cell-4b91fb1b3a612211",
     "locked": true,
     "schema_version": 3,
     "solution": false,
     "task": false
    }
   },
   "source": [
    "[Go to the beginning of the assignment](#home)\n",
    "<a id=\"dist\"></a>\n",
    "### 6. Calculate (vector) distance "
   ]
  },
  {
   "cell_type": "markdown",
   "metadata": {
    "deletable": false,
    "editable": false,
    "nbgrader": {
     "cell_type": "markdown",
     "checksum": "a24ef1d3b1e292267bc1f2fb733cc30e",
     "grade": false,
     "grade_id": "cell-1420fb525ef9a57c",
     "locked": true,
     "schema_version": 3,
     "solution": false,
     "task": false
    }
   },
   "source": [
    "##### 6. calc_distance - PERSONAL IMPLEMENTATION - Run the following code cell:"
   ]
  },
  {
   "cell_type": "code",
   "execution_count": 26,
   "metadata": {
    "ExecuteTime": {
     "end_time": "2021-11-16T17:59:52.211380Z",
     "start_time": "2021-11-16T17:59:52.197379Z"
    },
    "deletable": false,
    "editable": false,
    "nbgrader": {
     "cell_type": "code",
     "checksum": "0d8c8829eded90cd8cd3cc26eccf5d9f",
     "grade": false,
     "grade_id": "personal-implementation-dist",
     "locked": true,
     "schema_version": 3,
     "solution": false,
     "task": false
    }
   },
   "outputs": [
    {
     "name": "stdout",
     "output_type": "stream",
     "text": [
      "The distance method you need to implement is: 'manhattan'\n"
     ]
    }
   ],
   "source": [
    "# 6. calc_distance (personal implementation info)\n",
    "# ====>>> YOUR ACTIONS: RUN ONLY\n",
    "\n",
    "try:    \n",
    "    student_name, student_id = my_name(), my_id()\n",
    "    assert type(student_name) is str or type(student_id) is int, \"name is not a string or id is not an integer\"\n",
    "    assignment_params = get_assignment_params(student_id)\n",
    "except Exception as e:\n",
    "    print ('You probably did not implement student-info functions, \\nerror Message:',str(e))\n",
    "    raise\n",
    "\n",
    "print (\"The distance method you need to implement is: '\" + assignment_params['dist_method'] + \"'\")"
   ]
  },
  {
   "cell_type": "markdown",
   "metadata": {
    "deletable": false,
    "editable": false,
    "nbgrader": {
     "cell_type": "markdown",
     "checksum": "97bfc168e0bd7a276b7ea315ada6de00",
     "grade": false,
     "grade_id": "cell-fabe0a0325ac9b23",
     "locked": true,
     "schema_version": 3,
     "solution": false,
     "task": false
    }
   },
   "source": [
    "<b>6. calc_distance (Calculate test-train vector distance) - Permitted and illegal methods</b>:<br />\n",
    "<div class=\"alert alert-success\">\n",
    "&#x2714; You can use any function that calculates: absolute value (<code>abs</code>), power (such as <code>pow</code>), square root (such as <code>sqrt</code>) or sum (<code>sum</code>)<br/>\n",
    "&#x2714; You can use any function that calculates basic vector or scalar mathematical function<br/>\n",
    "</div>\n",
    "<div class=\"alert alert-danger\">\n",
    "&#x2718; DON'T USE any function which performs any of the distance functions<br/>\n",
    "&#x2718; DON'T USE any function which performs a closer step towards the distance functions\n",
    "</div>"
   ]
  },
  {
   "cell_type": "markdown",
   "metadata": {
    "deletable": false,
    "editable": false,
    "nbgrader": {
     "cell_type": "markdown",
     "checksum": "ce83b7287df13919c1041a2802228925",
     "grade": false,
     "grade_id": "cell-2caa99a1b5a9873a",
     "locked": true,
     "schema_version": 3,
     "solution": false,
     "task": false
    }
   },
   "source": [
    "### 6. calc_distance\n",
    "<pre>\n",
    "input parameters:\n",
    "- X_test  - test set feature vector dataframe\n",
    "- X_train - train set feature vector dataframe\n",
    "------------\n",
    "The function should return a dataframe, containing the vector distances, between each of the test vectors and each of the train vectors.\n",
    "  * Assuming df_dist is the output dataframe, df_dist.columns (column index) should \n",
    "      be equal to the X_train.index and df_dist.index should be equal to the X_test.index.\n",
    "  * Each cell should contain the distance between the test vector, represented by the index, \n",
    "           and train vector, represented by the column name.\n",
    "  * Use the distance method which is ASSIGNED TO YOU\n",
    "-----\n",
    "An example of a return statement:</pre>\n",
    "<code>    return df_dist</code>"
   ]
  },
  {
   "cell_type": "markdown",
   "metadata": {
    "deletable": false,
    "editable": false,
    "nbgrader": {
     "cell_type": "markdown",
     "checksum": "0d8a3d6ed23c89a798044e037f8f4540",
     "grade": false,
     "grade_id": "cell-12eb0af1d2f4b045",
     "locked": true,
     "schema_version": 3,
     "solution": false,
     "task": false
    }
   },
   "source": [
    "##### 6. calc_distance - OPTIONAL  ASSISTANCE  - Implement & Run the following code cell (IF NEEDED):"
   ]
  },
  {
   "cell_type": "code",
   "execution_count": 27,
   "metadata": {
    "ExecuteTime": {
     "end_time": "2021-11-16T17:59:52.227379Z",
     "start_time": "2021-11-16T17:59:52.213383Z"
    },
    "deletable": false,
    "nbgrader": {
     "cell_type": "code",
     "checksum": "f34a4bea64292cb1700c32850b6d784d",
     "grade": false,
     "grade_id": "assistance6-calc_distance",
     "locked": false,
     "schema_version": 3,
     "solution": true,
     "task": false
    }
   },
   "outputs": [],
   "source": [
    "# 6. calc_distance (optional assitance for your solution)\n",
    "# ====>>> YOUR ACTIONS: (optional) IMPLEMENT & RUN \n",
    "\n",
    "# ---- Add assistance code here IF NEEDED:\n",
    "# YOUR CODE HERE\n",
    "def validate_calc_distance(X_test, X_train):\n",
    "    is_valid = False\n",
    "    \n",
    "    if not isinstance(X_test, pd.core.frame.DataFrame):\n",
    "        print('Error: X_test must be of type pandas.core.frame.DataFrame. Was:', type(X_test))\n",
    "    elif not isinstance(X_train, pd.core.frame.DataFrame):\n",
    "        print('Error: X_train must be of type pandas.core.frame.DataFrame. Was:', type(X_train))\n",
    "    else:\n",
    "        is_valid = True\n",
    "    \n",
    "    return is_valid"
   ]
  },
  {
   "cell_type": "markdown",
   "metadata": {
    "deletable": false,
    "editable": false,
    "nbgrader": {
     "cell_type": "markdown",
     "checksum": "7d88546d5a7ef7c40dc9fee2969de910",
     "grade": false,
     "grade_id": "cell-d3c32b535a31c6e0",
     "locked": true,
     "schema_version": 3,
     "solution": false,
     "task": false
    }
   },
   "source": [
    "##### 6. calc_distance - Implement and Run the following code cell:"
   ]
  },
  {
   "cell_type": "code",
   "execution_count": 28,
   "metadata": {
    "ExecuteTime": {
     "end_time": "2021-11-16T17:59:52.243412Z",
     "start_time": "2021-11-16T17:59:52.228379Z"
    },
    "deletable": false,
    "nbgrader": {
     "cell_type": "code",
     "checksum": "228fbf098710451f7fc787c8df5afaa2",
     "grade": false,
     "grade_id": "solution6-calc_distance",
     "locked": false,
     "schema_version": 3,
     "solution": true,
     "task": false
    }
   },
   "outputs": [],
   "source": [
    "# 6. calc_distance (your solution)\n",
    "# ====>>> YOUR ACTIONS: IMPLEMENT & RUN \n",
    "\n",
    "def calc_distance(X_test,X_train):\n",
    "    # YOUR CODE HERE\n",
    "    df_dist = None\n",
    "    \n",
    "    if validate_calc_distance(X_test, X_train):\n",
    "        test_values = X_test.values\n",
    "        train_values = X_train.values\n",
    "        rows = []\n",
    "        \n",
    "        # Build the 2D list based on test and train values. For each cell, calculate Manhattan distance between the two vectors\n",
    "        # represented by that cell. Eventually, we'll construct a DataFrame out of this 2D list.\n",
    "        # We use a batch operation to be performed on all train vectors at once, for each test instance, by using numpy.sum on axis=1 (columns)\n",
    "        for test_index in range(len(test_values)):\n",
    "            dist_vec = np.sum(np.abs(train_values - test_values[test_index]), axis=1)\n",
    "            rows.append(dist_vec)\n",
    "                \n",
    "        df_dist = pd.DataFrame(rows, columns=X_train.index, index=X_test.index)\n",
    "    \n",
    "    return df_dist"
   ]
  },
  {
   "cell_type": "markdown",
   "metadata": {
    "deletable": false,
    "editable": false,
    "nbgrader": {
     "cell_type": "markdown",
     "checksum": "2cec127928b1ffbd026fb19d01368215",
     "grade": false,
     "grade_id": "cell-2be4e32d8270172f",
     "locked": true,
     "schema_version": 3,
     "solution": false,
     "task": false
    }
   },
   "source": [
    "##### 6. calc_distance - OPTIONAL SELF TEST - Implement & Run the following cell (IF NEEDED):"
   ]
  },
  {
   "cell_type": "code",
   "execution_count": 29,
   "metadata": {
    "ExecuteTime": {
     "end_time": "2021-11-16T17:59:53.044102Z",
     "start_time": "2021-11-16T17:59:52.244380Z"
    },
    "deletable": false,
    "nbgrader": {
     "cell_type": "code",
     "checksum": "bf5b2ab16c10ea27014a491564b796d5",
     "grade": false,
     "grade_id": "cell-dc7df3a6321e37c9",
     "locked": false,
     "schema_version": 3,
     "solution": true,
     "task": false
    }
   },
   "outputs": [
    {
     "data": {
      "text/html": [
       "<div>\n",
       "<style scoped>\n",
       "    .dataframe tbody tr th:only-of-type {\n",
       "        vertical-align: middle;\n",
       "    }\n",
       "\n",
       "    .dataframe tbody tr th {\n",
       "        vertical-align: top;\n",
       "    }\n",
       "\n",
       "    .dataframe thead th {\n",
       "        text-align: right;\n",
       "    }\n",
       "</style>\n",
       "<table border=\"1\" class=\"dataframe\">\n",
       "  <thead>\n",
       "    <tr style=\"text-align: right;\">\n",
       "      <th></th>\n",
       "      <th>x1</th>\n",
       "      <th>x2</th>\n",
       "      <th>x3</th>\n",
       "    </tr>\n",
       "  </thead>\n",
       "  <tbody>\n",
       "    <tr>\n",
       "      <th>0</th>\n",
       "      <td>0.209490</td>\n",
       "      <td>0.827908</td>\n",
       "      <td>0.258649</td>\n",
       "    </tr>\n",
       "    <tr>\n",
       "      <th>1</th>\n",
       "      <td>0.222724</td>\n",
       "      <td>0.603918</td>\n",
       "      <td>0.189785</td>\n",
       "    </tr>\n",
       "    <tr>\n",
       "      <th>2</th>\n",
       "      <td>0.298917</td>\n",
       "      <td>0.784238</td>\n",
       "      <td>0.451726</td>\n",
       "    </tr>\n",
       "    <tr>\n",
       "      <th>3</th>\n",
       "      <td>0.233441</td>\n",
       "      <td>0.984049</td>\n",
       "      <td>0.427167</td>\n",
       "    </tr>\n",
       "    <tr>\n",
       "      <th>4</th>\n",
       "      <td>1.000000</td>\n",
       "      <td>0.925929</td>\n",
       "      <td>0.148717</td>\n",
       "    </tr>\n",
       "    <tr>\n",
       "      <th>...</th>\n",
       "      <td>...</td>\n",
       "      <td>...</td>\n",
       "      <td>...</td>\n",
       "    </tr>\n",
       "    <tr>\n",
       "      <th>75</th>\n",
       "      <td>0.238338</td>\n",
       "      <td>1.000000</td>\n",
       "      <td>0.381836</td>\n",
       "    </tr>\n",
       "    <tr>\n",
       "      <th>76</th>\n",
       "      <td>0.492980</td>\n",
       "      <td>0.720989</td>\n",
       "      <td>0.013881</td>\n",
       "    </tr>\n",
       "    <tr>\n",
       "      <th>77</th>\n",
       "      <td>0.761857</td>\n",
       "      <td>0.770277</td>\n",
       "      <td>0.533181</td>\n",
       "    </tr>\n",
       "    <tr>\n",
       "      <th>78</th>\n",
       "      <td>0.643519</td>\n",
       "      <td>0.719142</td>\n",
       "      <td>0.594279</td>\n",
       "    </tr>\n",
       "    <tr>\n",
       "      <th>79</th>\n",
       "      <td>0.217616</td>\n",
       "      <td>0.664663</td>\n",
       "      <td>0.620112</td>\n",
       "    </tr>\n",
       "  </tbody>\n",
       "</table>\n",
       "<p>80 rows × 3 columns</p>\n",
       "</div>"
      ],
      "text/plain": [
       "          x1        x2        x3\n",
       "0   0.209490  0.827908  0.258649\n",
       "1   0.222724  0.603918  0.189785\n",
       "2   0.298917  0.784238  0.451726\n",
       "3   0.233441  0.984049  0.427167\n",
       "4   1.000000  0.925929  0.148717\n",
       "..       ...       ...       ...\n",
       "75  0.238338  1.000000  0.381836\n",
       "76  0.492980  0.720989  0.013881\n",
       "77  0.761857  0.770277  0.533181\n",
       "78  0.643519  0.719142  0.594279\n",
       "79  0.217616  0.664663  0.620112\n",
       "\n",
       "[80 rows x 3 columns]"
      ]
     },
     "execution_count": 29,
     "metadata": {},
     "output_type": "execute_result"
    },
    {
     "data": {
      "text/html": [
       "<div>\n",
       "<style scoped>\n",
       "    .dataframe tbody tr th:only-of-type {\n",
       "        vertical-align: middle;\n",
       "    }\n",
       "\n",
       "    .dataframe tbody tr th {\n",
       "        vertical-align: top;\n",
       "    }\n",
       "\n",
       "    .dataframe thead th {\n",
       "        text-align: right;\n",
       "    }\n",
       "</style>\n",
       "<table border=\"1\" class=\"dataframe\">\n",
       "  <thead>\n",
       "    <tr style=\"text-align: right;\">\n",
       "      <th></th>\n",
       "      <th>x1</th>\n",
       "      <th>x2</th>\n",
       "      <th>x3</th>\n",
       "    </tr>\n",
       "  </thead>\n",
       "  <tbody>\n",
       "    <tr>\n",
       "      <th>80</th>\n",
       "      <td>0.307288</td>\n",
       "      <td>0.592104</td>\n",
       "      <td>0.394806</td>\n",
       "    </tr>\n",
       "    <tr>\n",
       "      <th>81</th>\n",
       "      <td>0.414339</td>\n",
       "      <td>0.288583</td>\n",
       "      <td>0.699162</td>\n",
       "    </tr>\n",
       "    <tr>\n",
       "      <th>82</th>\n",
       "      <td>0.638829</td>\n",
       "      <td>0.793482</td>\n",
       "      <td>0.570393</td>\n",
       "    </tr>\n",
       "    <tr>\n",
       "      <th>83</th>\n",
       "      <td>0.027336</td>\n",
       "      <td>0.447355</td>\n",
       "      <td>0.483896</td>\n",
       "    </tr>\n",
       "    <tr>\n",
       "      <th>84</th>\n",
       "      <td>0.435381</td>\n",
       "      <td>0.628712</td>\n",
       "      <td>0.275101</td>\n",
       "    </tr>\n",
       "    <tr>\n",
       "      <th>85</th>\n",
       "      <td>0.182823</td>\n",
       "      <td>0.174460</td>\n",
       "      <td>0.272016</td>\n",
       "    </tr>\n",
       "    <tr>\n",
       "      <th>86</th>\n",
       "      <td>0.439667</td>\n",
       "      <td>0.591790</td>\n",
       "      <td>0.460509</td>\n",
       "    </tr>\n",
       "    <tr>\n",
       "      <th>87</th>\n",
       "      <td>0.516688</td>\n",
       "      <td>0.910598</td>\n",
       "      <td>0.509828</td>\n",
       "    </tr>\n",
       "    <tr>\n",
       "      <th>88</th>\n",
       "      <td>0.476342</td>\n",
       "      <td>0.223940</td>\n",
       "      <td>0.185448</td>\n",
       "    </tr>\n",
       "    <tr>\n",
       "      <th>89</th>\n",
       "      <td>0.399395</td>\n",
       "      <td>0.920029</td>\n",
       "      <td>0.150018</td>\n",
       "    </tr>\n",
       "    <tr>\n",
       "      <th>90</th>\n",
       "      <td>0.433588</td>\n",
       "      <td>0.437317</td>\n",
       "      <td>0.642720</td>\n",
       "    </tr>\n",
       "    <tr>\n",
       "      <th>91</th>\n",
       "      <td>0.277972</td>\n",
       "      <td>0.240446</td>\n",
       "      <td>0.240440</td>\n",
       "    </tr>\n",
       "    <tr>\n",
       "      <th>92</th>\n",
       "      <td>0.164676</td>\n",
       "      <td>0.465722</td>\n",
       "      <td>0.500925</td>\n",
       "    </tr>\n",
       "    <tr>\n",
       "      <th>93</th>\n",
       "      <td>0.354258</td>\n",
       "      <td>0.382168</td>\n",
       "      <td>0.267482</td>\n",
       "    </tr>\n",
       "    <tr>\n",
       "      <th>94</th>\n",
       "      <td>0.548802</td>\n",
       "      <td>0.614032</td>\n",
       "      <td>0.379822</td>\n",
       "    </tr>\n",
       "    <tr>\n",
       "      <th>95</th>\n",
       "      <td>0.570739</td>\n",
       "      <td>0.280059</td>\n",
       "      <td>0.529599</td>\n",
       "    </tr>\n",
       "    <tr>\n",
       "      <th>96</th>\n",
       "      <td>0.843401</td>\n",
       "      <td>0.805686</td>\n",
       "      <td>0.156894</td>\n",
       "    </tr>\n",
       "    <tr>\n",
       "      <th>97</th>\n",
       "      <td>0.244926</td>\n",
       "      <td>0.441647</td>\n",
       "      <td>0.555258</td>\n",
       "    </tr>\n",
       "    <tr>\n",
       "      <th>98</th>\n",
       "      <td>0.506055</td>\n",
       "      <td>0.784450</td>\n",
       "      <td>0.782106</td>\n",
       "    </tr>\n",
       "    <tr>\n",
       "      <th>99</th>\n",
       "      <td>0.564130</td>\n",
       "      <td>0.801546</td>\n",
       "      <td>0.125426</td>\n",
       "    </tr>\n",
       "  </tbody>\n",
       "</table>\n",
       "</div>"
      ],
      "text/plain": [
       "          x1        x2        x3\n",
       "80  0.307288  0.592104  0.394806\n",
       "81  0.414339  0.288583  0.699162\n",
       "82  0.638829  0.793482  0.570393\n",
       "83  0.027336  0.447355  0.483896\n",
       "84  0.435381  0.628712  0.275101\n",
       "85  0.182823  0.174460  0.272016\n",
       "86  0.439667  0.591790  0.460509\n",
       "87  0.516688  0.910598  0.509828\n",
       "88  0.476342  0.223940  0.185448\n",
       "89  0.399395  0.920029  0.150018\n",
       "90  0.433588  0.437317  0.642720\n",
       "91  0.277972  0.240446  0.240440\n",
       "92  0.164676  0.465722  0.500925\n",
       "93  0.354258  0.382168  0.267482\n",
       "94  0.548802  0.614032  0.379822\n",
       "95  0.570739  0.280059  0.529599\n",
       "96  0.843401  0.805686  0.156894\n",
       "97  0.244926  0.441647  0.555258\n",
       "98  0.506055  0.784450  0.782106\n",
       "99  0.564130  0.801546  0.125426"
      ]
     },
     "execution_count": 29,
     "metadata": {},
     "output_type": "execute_result"
    },
    {
     "data": {
      "text/html": [
       "<div>\n",
       "<style scoped>\n",
       "    .dataframe tbody tr th:only-of-type {\n",
       "        vertical-align: middle;\n",
       "    }\n",
       "\n",
       "    .dataframe tbody tr th {\n",
       "        vertical-align: top;\n",
       "    }\n",
       "\n",
       "    .dataframe thead th {\n",
       "        text-align: right;\n",
       "    }\n",
       "</style>\n",
       "<table border=\"1\" class=\"dataframe\">\n",
       "  <thead>\n",
       "    <tr style=\"text-align: right;\">\n",
       "      <th></th>\n",
       "      <th>0</th>\n",
       "      <th>1</th>\n",
       "      <th>2</th>\n",
       "      <th>3</th>\n",
       "      <th>4</th>\n",
       "      <th>5</th>\n",
       "      <th>6</th>\n",
       "      <th>7</th>\n",
       "      <th>8</th>\n",
       "      <th>9</th>\n",
       "      <th>...</th>\n",
       "      <th>70</th>\n",
       "      <th>71</th>\n",
       "      <th>72</th>\n",
       "      <th>73</th>\n",
       "      <th>74</th>\n",
       "      <th>75</th>\n",
       "      <th>76</th>\n",
       "      <th>77</th>\n",
       "      <th>78</th>\n",
       "      <th>79</th>\n",
       "    </tr>\n",
       "  </thead>\n",
       "  <tbody>\n",
       "    <tr>\n",
       "      <th>80</th>\n",
       "      <td>0.469759</td>\n",
       "      <td>0.301399</td>\n",
       "      <td>0.257425</td>\n",
       "      <td>0.498152</td>\n",
       "      <td>1.272627</td>\n",
       "      <td>0.887310</td>\n",
       "      <td>0.577501</td>\n",
       "      <td>0.414442</td>\n",
       "      <td>0.677025</td>\n",
       "      <td>0.263813</td>\n",
       "      <td>...</td>\n",
       "      <td>0.509100</td>\n",
       "      <td>0.562126</td>\n",
       "      <td>0.774300</td>\n",
       "      <td>1.256165</td>\n",
       "      <td>0.117117</td>\n",
       "      <td>0.489816</td>\n",
       "      <td>0.695503</td>\n",
       "      <td>0.771118</td>\n",
       "      <td>0.662743</td>\n",
       "      <td>0.387537</td>\n",
       "    </tr>\n",
       "    <tr>\n",
       "      <th>81</th>\n",
       "      <td>1.184687</td>\n",
       "      <td>1.016327</td>\n",
       "      <td>0.858513</td>\n",
       "      <td>1.148359</td>\n",
       "      <td>1.773452</td>\n",
       "      <td>0.779424</td>\n",
       "      <td>1.078326</td>\n",
       "      <td>1.129370</td>\n",
       "      <td>1.164768</td>\n",
       "      <td>0.584652</td>\n",
       "      <td>...</td>\n",
       "      <td>1.013804</td>\n",
       "      <td>1.062952</td>\n",
       "      <td>1.275125</td>\n",
       "      <td>1.149948</td>\n",
       "      <td>0.597811</td>\n",
       "      <td>1.204744</td>\n",
       "      <td>1.196329</td>\n",
       "      <td>0.995194</td>\n",
       "      <td>0.764622</td>\n",
       "      <td>0.651853</td>\n",
       "    </tr>\n",
       "    <tr>\n",
       "      <th>82</th>\n",
       "      <td>0.775510</td>\n",
       "      <td>0.986278</td>\n",
       "      <td>0.467822</td>\n",
       "      <td>0.739182</td>\n",
       "      <td>0.915294</td>\n",
       "      <td>0.440578</td>\n",
       "      <td>0.445303</td>\n",
       "      <td>1.000730</td>\n",
       "      <td>0.315647</td>\n",
       "      <td>0.725150</td>\n",
       "      <td>...</td>\n",
       "      <td>1.217607</td>\n",
       "      <td>0.860777</td>\n",
       "      <td>0.772564</td>\n",
       "      <td>1.301588</td>\n",
       "      <td>0.605327</td>\n",
       "      <td>0.795567</td>\n",
       "      <td>0.774854</td>\n",
       "      <td>0.183444</td>\n",
       "      <td>0.102916</td>\n",
       "      <td>0.599751</td>\n",
       "    </tr>\n",
       "    <tr>\n",
       "      <th>83</th>\n",
       "      <td>0.787953</td>\n",
       "      <td>0.646062</td>\n",
       "      <td>0.640634</td>\n",
       "      <td>0.799528</td>\n",
       "      <td>1.786417</td>\n",
       "      <td>1.222921</td>\n",
       "      <td>1.091291</td>\n",
       "      <td>0.731632</td>\n",
       "      <td>1.177732</td>\n",
       "      <td>0.318968</td>\n",
       "      <td>...</td>\n",
       "      <td>0.794302</td>\n",
       "      <td>1.075916</td>\n",
       "      <td>1.288090</td>\n",
       "      <td>1.480458</td>\n",
       "      <td>0.454024</td>\n",
       "      <td>0.865706</td>\n",
       "      <td>1.209293</td>\n",
       "      <td>1.106729</td>\n",
       "      <td>0.998354</td>\n",
       "      <td>0.543804</td>\n",
       "    </tr>\n",
       "    <tr>\n",
       "      <th>84</th>\n",
       "      <td>0.441539</td>\n",
       "      <td>0.322767</td>\n",
       "      <td>0.468616</td>\n",
       "      <td>0.709343</td>\n",
       "      <td>0.988220</td>\n",
       "      <td>0.842314</td>\n",
       "      <td>0.293094</td>\n",
       "      <td>0.386222</td>\n",
       "      <td>0.632029</td>\n",
       "      <td>0.548220</td>\n",
       "      <td>...</td>\n",
       "      <td>0.554096</td>\n",
       "      <td>0.277719</td>\n",
       "      <td>0.489893</td>\n",
       "      <td>1.044974</td>\n",
       "      <td>0.344173</td>\n",
       "      <td>0.675067</td>\n",
       "      <td>0.411096</td>\n",
       "      <td>0.726122</td>\n",
       "      <td>0.617747</td>\n",
       "      <td>0.598727</td>\n",
       "    </tr>\n",
       "    <tr>\n",
       "      <th>85</th>\n",
       "      <td>0.693482</td>\n",
       "      <td>0.551590</td>\n",
       "      <td>0.905583</td>\n",
       "      <td>1.015358</td>\n",
       "      <td>1.691946</td>\n",
       "      <td>1.552208</td>\n",
       "      <td>0.996820</td>\n",
       "      <td>0.637161</td>\n",
       "      <td>1.341924</td>\n",
       "      <td>0.648255</td>\n",
       "      <td>...</td>\n",
       "      <td>0.699831</td>\n",
       "      <td>0.981445</td>\n",
       "      <td>1.193618</td>\n",
       "      <td>0.840196</td>\n",
       "      <td>0.768078</td>\n",
       "      <td>0.990875</td>\n",
       "      <td>1.114822</td>\n",
       "      <td>1.436017</td>\n",
       "      <td>1.327642</td>\n",
       "      <td>0.873092</td>\n",
       "    </tr>\n",
       "    <tr>\n",
       "      <th>86</th>\n",
       "      <td>0.668155</td>\n",
       "      <td>0.499795</td>\n",
       "      <td>0.341980</td>\n",
       "      <td>0.631827</td>\n",
       "      <td>1.206265</td>\n",
       "      <td>0.689542</td>\n",
       "      <td>0.511138</td>\n",
       "      <td>0.612838</td>\n",
       "      <td>0.597580</td>\n",
       "      <td>0.330175</td>\n",
       "      <td>...</td>\n",
       "      <td>0.706868</td>\n",
       "      <td>0.495764</td>\n",
       "      <td>0.707937</td>\n",
       "      <td>1.189175</td>\n",
       "      <td>0.126128</td>\n",
       "      <td>0.688211</td>\n",
       "      <td>0.629141</td>\n",
       "      <td>0.573350</td>\n",
       "      <td>0.464975</td>\n",
       "      <td>0.454526</td>\n",
       "    </tr>\n",
       "    <tr>\n",
       "      <th>87</th>\n",
       "      <td>0.641068</td>\n",
       "      <td>0.920688</td>\n",
       "      <td>0.402232</td>\n",
       "      <td>0.439359</td>\n",
       "      <td>0.859755</td>\n",
       "      <td>0.740401</td>\n",
       "      <td>0.356689</td>\n",
       "      <td>0.935140</td>\n",
       "      <td>0.494340</td>\n",
       "      <td>0.676685</td>\n",
       "      <td>...</td>\n",
       "      <td>1.152017</td>\n",
       "      <td>0.795188</td>\n",
       "      <td>0.472741</td>\n",
       "      <td>1.480282</td>\n",
       "      <td>0.539737</td>\n",
       "      <td>0.495744</td>\n",
       "      <td>0.709264</td>\n",
       "      <td>0.408843</td>\n",
       "      <td>0.402739</td>\n",
       "      <td>0.655291</td>\n",
       "    </tr>\n",
       "    <tr>\n",
       "      <th>88</th>\n",
       "      <td>0.944021</td>\n",
       "      <td>0.637933</td>\n",
       "      <td>1.004001</td>\n",
       "      <td>1.244728</td>\n",
       "      <td>1.262378</td>\n",
       "      <td>1.295776</td>\n",
       "      <td>0.713843</td>\n",
       "      <td>0.742303</td>\n",
       "      <td>1.085492</td>\n",
       "      <td>0.863470</td>\n",
       "      <td>...</td>\n",
       "      <td>0.626737</td>\n",
       "      <td>0.594568</td>\n",
       "      <td>0.794674</td>\n",
       "      <td>0.636333</td>\n",
       "      <td>0.792405</td>\n",
       "      <td>1.210453</td>\n",
       "      <td>0.685254</td>\n",
       "      <td>1.179585</td>\n",
       "      <td>1.071210</td>\n",
       "      <td>1.134113</td>\n",
       "    </tr>\n",
       "    <tr>\n",
       "      <th>89</th>\n",
       "      <td>0.390658</td>\n",
       "      <td>0.532549</td>\n",
       "      <td>0.537977</td>\n",
       "      <td>0.507122</td>\n",
       "      <td>0.607806</td>\n",
       "      <td>1.226935</td>\n",
       "      <td>0.341054</td>\n",
       "      <td>0.467468</td>\n",
       "      <td>0.763913</td>\n",
       "      <td>0.928634</td>\n",
       "      <td>...</td>\n",
       "      <td>0.684345</td>\n",
       "      <td>0.438719</td>\n",
       "      <td>0.109478</td>\n",
       "      <td>1.444800</td>\n",
       "      <td>0.724587</td>\n",
       "      <td>0.472847</td>\n",
       "      <td>0.428762</td>\n",
       "      <td>0.895377</td>\n",
       "      <td>0.889273</td>\n",
       "      <td>0.907239</td>\n",
       "    </tr>\n",
       "    <tr>\n",
       "      <th>90</th>\n",
       "      <td>0.998760</td>\n",
       "      <td>0.830401</td>\n",
       "      <td>0.672586</td>\n",
       "      <td>0.962433</td>\n",
       "      <td>1.549027</td>\n",
       "      <td>0.667881</td>\n",
       "      <td>0.853901</td>\n",
       "      <td>0.943444</td>\n",
       "      <td>0.940342</td>\n",
       "      <td>0.398725</td>\n",
       "      <td>...</td>\n",
       "      <td>0.827878</td>\n",
       "      <td>0.838527</td>\n",
       "      <td>1.050700</td>\n",
       "      <td>1.222992</td>\n",
       "      <td>0.411885</td>\n",
       "      <td>1.018817</td>\n",
       "      <td>0.971903</td>\n",
       "      <td>0.770768</td>\n",
       "      <td>0.540197</td>\n",
       "      <td>0.465926</td>\n",
       "    </tr>\n",
       "    <tr>\n",
       "      <th>91</th>\n",
       "      <td>0.674153</td>\n",
       "      <td>0.469376</td>\n",
       "      <td>0.776024</td>\n",
       "      <td>0.974860</td>\n",
       "      <td>1.499235</td>\n",
       "      <td>1.422649</td>\n",
       "      <td>0.840716</td>\n",
       "      <td>0.582419</td>\n",
       "      <td>1.212364</td>\n",
       "      <td>0.593602</td>\n",
       "      <td>...</td>\n",
       "      <td>0.507120</td>\n",
       "      <td>0.788734</td>\n",
       "      <td>1.000907</td>\n",
       "      <td>0.796217</td>\n",
       "      <td>0.638519</td>\n",
       "      <td>0.940584</td>\n",
       "      <td>0.922111</td>\n",
       "      <td>1.306457</td>\n",
       "      <td>1.198082</td>\n",
       "      <td>0.864244</td>\n",
       "    </tr>\n",
       "    <tr>\n",
       "      <th>92</th>\n",
       "      <td>0.649276</td>\n",
       "      <td>0.507385</td>\n",
       "      <td>0.501957</td>\n",
       "      <td>0.660851</td>\n",
       "      <td>1.647740</td>\n",
       "      <td>1.050184</td>\n",
       "      <td>0.952614</td>\n",
       "      <td>0.592955</td>\n",
       "      <td>1.039055</td>\n",
       "      <td>0.146231</td>\n",
       "      <td>...</td>\n",
       "      <td>0.655625</td>\n",
       "      <td>0.937239</td>\n",
       "      <td>1.149412</td>\n",
       "      <td>1.378515</td>\n",
       "      <td>0.315347</td>\n",
       "      <td>0.727029</td>\n",
       "      <td>1.070616</td>\n",
       "      <td>0.933993</td>\n",
       "      <td>0.825618</td>\n",
       "      <td>0.371068</td>\n",
       "    </tr>\n",
       "    <tr>\n",
       "      <th>93</th>\n",
       "      <td>0.599341</td>\n",
       "      <td>0.430982</td>\n",
       "      <td>0.641655</td>\n",
       "      <td>0.882382</td>\n",
       "      <td>1.308269</td>\n",
       "      <td>1.177599</td>\n",
       "      <td>0.613143</td>\n",
       "      <td>0.544024</td>\n",
       "      <td>0.967314</td>\n",
       "      <td>0.501123</td>\n",
       "      <td>...</td>\n",
       "      <td>0.428459</td>\n",
       "      <td>0.597768</td>\n",
       "      <td>0.809941</td>\n",
       "      <td>0.871936</td>\n",
       "      <td>0.430058</td>\n",
       "      <td>0.848106</td>\n",
       "      <td>0.731145</td>\n",
       "      <td>1.061407</td>\n",
       "      <td>0.953032</td>\n",
       "      <td>0.771766</td>\n",
       "    </tr>\n",
       "    <tr>\n",
       "      <th>94</th>\n",
       "      <td>0.674362</td>\n",
       "      <td>0.526230</td>\n",
       "      <td>0.491995</td>\n",
       "      <td>0.732722</td>\n",
       "      <td>0.994201</td>\n",
       "      <td>0.638850</td>\n",
       "      <td>0.344155</td>\n",
       "      <td>0.619045</td>\n",
       "      <td>0.428566</td>\n",
       "      <td>0.542240</td>\n",
       "      <td>...</td>\n",
       "      <td>0.757559</td>\n",
       "      <td>0.471311</td>\n",
       "      <td>0.671416</td>\n",
       "      <td>1.021595</td>\n",
       "      <td>0.338192</td>\n",
       "      <td>0.698446</td>\n",
       "      <td>0.528721</td>\n",
       "      <td>0.522659</td>\n",
       "      <td>0.414284</td>\n",
       "      <td>0.622106</td>\n",
       "    </tr>\n",
       "    <tr>\n",
       "      <th>95</th>\n",
       "      <td>1.180048</td>\n",
       "      <td>1.011688</td>\n",
       "      <td>0.853874</td>\n",
       "      <td>1.143720</td>\n",
       "      <td>1.456014</td>\n",
       "      <td>0.801111</td>\n",
       "      <td>0.849841</td>\n",
       "      <td>1.124731</td>\n",
       "      <td>0.847329</td>\n",
       "      <td>0.580012</td>\n",
       "      <td>...</td>\n",
       "      <td>1.009165</td>\n",
       "      <td>0.976997</td>\n",
       "      <td>1.177102</td>\n",
       "      <td>0.815462</td>\n",
       "      <td>0.593172</td>\n",
       "      <td>1.200105</td>\n",
       "      <td>1.034407</td>\n",
       "      <td>0.684920</td>\n",
       "      <td>0.576545</td>\n",
       "      <td>0.828240</td>\n",
       "    </tr>\n",
       "    <tr>\n",
       "      <th>96</th>\n",
       "      <td>0.757888</td>\n",
       "      <td>0.855336</td>\n",
       "      <td>0.860764</td>\n",
       "      <td>1.058595</td>\n",
       "      <td>0.285019</td>\n",
       "      <td>1.007040</td>\n",
       "      <td>0.427871</td>\n",
       "      <td>0.804008</td>\n",
       "      <td>0.323666</td>\n",
       "      <td>1.251421</td>\n",
       "      <td>...</td>\n",
       "      <td>1.020885</td>\n",
       "      <td>0.664055</td>\n",
       "      <td>0.551433</td>\n",
       "      <td>0.915650</td>\n",
       "      <td>1.047374</td>\n",
       "      <td>1.024319</td>\n",
       "      <td>0.578132</td>\n",
       "      <td>0.493240</td>\n",
       "      <td>0.723812</td>\n",
       "      <td>1.230026</td>\n",
       "    </tr>\n",
       "    <tr>\n",
       "      <th>97</th>\n",
       "      <td>0.718307</td>\n",
       "      <td>0.549947</td>\n",
       "      <td>0.500114</td>\n",
       "      <td>0.681979</td>\n",
       "      <td>1.645897</td>\n",
       "      <td>0.939676</td>\n",
       "      <td>0.950771</td>\n",
       "      <td>0.662990</td>\n",
       "      <td>1.037212</td>\n",
       "      <td>0.118271</td>\n",
       "      <td>...</td>\n",
       "      <td>0.653782</td>\n",
       "      <td>0.935396</td>\n",
       "      <td>1.147569</td>\n",
       "      <td>1.328521</td>\n",
       "      <td>0.313504</td>\n",
       "      <td>0.738363</td>\n",
       "      <td>1.068773</td>\n",
       "      <td>0.867638</td>\n",
       "      <td>0.715110</td>\n",
       "      <td>0.315181</td>\n",
       "    </tr>\n",
       "    <tr>\n",
       "      <th>98</th>\n",
       "      <td>0.863481</td>\n",
       "      <td>1.056184</td>\n",
       "      <td>0.537729</td>\n",
       "      <td>0.827153</td>\n",
       "      <td>1.268814</td>\n",
       "      <td>0.352607</td>\n",
       "      <td>0.573687</td>\n",
       "      <td>1.070637</td>\n",
       "      <td>0.660129</td>\n",
       "      <td>0.795056</td>\n",
       "      <td>...</td>\n",
       "      <td>1.287513</td>\n",
       "      <td>0.930684</td>\n",
       "      <td>0.860535</td>\n",
       "      <td>1.637043</td>\n",
       "      <td>0.675233</td>\n",
       "      <td>0.883538</td>\n",
       "      <td>0.844761</td>\n",
       "      <td>0.518899</td>\n",
       "      <td>0.390598</td>\n",
       "      <td>0.570220</td>\n",
       "    </tr>\n",
       "    <tr>\n",
       "      <th>99</th>\n",
       "      <td>0.514225</td>\n",
       "      <td>0.603393</td>\n",
       "      <td>0.608821</td>\n",
       "      <td>0.814932</td>\n",
       "      <td>0.583543</td>\n",
       "      <td>0.968308</td>\n",
       "      <td>0.184208</td>\n",
       "      <td>0.517823</td>\n",
       "      <td>0.505286</td>\n",
       "      <td>0.999478</td>\n",
       "      <td>...</td>\n",
       "      <td>0.706006</td>\n",
       "      <td>0.349177</td>\n",
       "      <td>0.244834</td>\n",
       "      <td>1.186173</td>\n",
       "      <td>0.795431</td>\n",
       "      <td>0.780656</td>\n",
       "      <td>0.263253</td>\n",
       "      <td>0.636750</td>\n",
       "      <td>0.630646</td>\n",
       "      <td>0.978083</td>\n",
       "    </tr>\n",
       "  </tbody>\n",
       "</table>\n",
       "<p>20 rows × 80 columns</p>\n",
       "</div>"
      ],
      "text/plain": [
       "          0         1         2         3         4         5         6   \\\n",
       "80  0.469759  0.301399  0.257425  0.498152  1.272627  0.887310  0.577501   \n",
       "81  1.184687  1.016327  0.858513  1.148359  1.773452  0.779424  1.078326   \n",
       "82  0.775510  0.986278  0.467822  0.739182  0.915294  0.440578  0.445303   \n",
       "83  0.787953  0.646062  0.640634  0.799528  1.786417  1.222921  1.091291   \n",
       "84  0.441539  0.322767  0.468616  0.709343  0.988220  0.842314  0.293094   \n",
       "85  0.693482  0.551590  0.905583  1.015358  1.691946  1.552208  0.996820   \n",
       "86  0.668155  0.499795  0.341980  0.631827  1.206265  0.689542  0.511138   \n",
       "87  0.641068  0.920688  0.402232  0.439359  0.859755  0.740401  0.356689   \n",
       "88  0.944021  0.637933  1.004001  1.244728  1.262378  1.295776  0.713843   \n",
       "89  0.390658  0.532549  0.537977  0.507122  0.607806  1.226935  0.341054   \n",
       "90  0.998760  0.830401  0.672586  0.962433  1.549027  0.667881  0.853901   \n",
       "91  0.674153  0.469376  0.776024  0.974860  1.499235  1.422649  0.840716   \n",
       "92  0.649276  0.507385  0.501957  0.660851  1.647740  1.050184  0.952614   \n",
       "93  0.599341  0.430982  0.641655  0.882382  1.308269  1.177599  0.613143   \n",
       "94  0.674362  0.526230  0.491995  0.732722  0.994201  0.638850  0.344155   \n",
       "95  1.180048  1.011688  0.853874  1.143720  1.456014  0.801111  0.849841   \n",
       "96  0.757888  0.855336  0.860764  1.058595  0.285019  1.007040  0.427871   \n",
       "97  0.718307  0.549947  0.500114  0.681979  1.645897  0.939676  0.950771   \n",
       "98  0.863481  1.056184  0.537729  0.827153  1.268814  0.352607  0.573687   \n",
       "99  0.514225  0.603393  0.608821  0.814932  0.583543  0.968308  0.184208   \n",
       "\n",
       "          7         8         9   ...        70        71        72        73  \\\n",
       "80  0.414442  0.677025  0.263813  ...  0.509100  0.562126  0.774300  1.256165   \n",
       "81  1.129370  1.164768  0.584652  ...  1.013804  1.062952  1.275125  1.149948   \n",
       "82  1.000730  0.315647  0.725150  ...  1.217607  0.860777  0.772564  1.301588   \n",
       "83  0.731632  1.177732  0.318968  ...  0.794302  1.075916  1.288090  1.480458   \n",
       "84  0.386222  0.632029  0.548220  ...  0.554096  0.277719  0.489893  1.044974   \n",
       "85  0.637161  1.341924  0.648255  ...  0.699831  0.981445  1.193618  0.840196   \n",
       "86  0.612838  0.597580  0.330175  ...  0.706868  0.495764  0.707937  1.189175   \n",
       "87  0.935140  0.494340  0.676685  ...  1.152017  0.795188  0.472741  1.480282   \n",
       "88  0.742303  1.085492  0.863470  ...  0.626737  0.594568  0.794674  0.636333   \n",
       "89  0.467468  0.763913  0.928634  ...  0.684345  0.438719  0.109478  1.444800   \n",
       "90  0.943444  0.940342  0.398725  ...  0.827878  0.838527  1.050700  1.222992   \n",
       "91  0.582419  1.212364  0.593602  ...  0.507120  0.788734  1.000907  0.796217   \n",
       "92  0.592955  1.039055  0.146231  ...  0.655625  0.937239  1.149412  1.378515   \n",
       "93  0.544024  0.967314  0.501123  ...  0.428459  0.597768  0.809941  0.871936   \n",
       "94  0.619045  0.428566  0.542240  ...  0.757559  0.471311  0.671416  1.021595   \n",
       "95  1.124731  0.847329  0.580012  ...  1.009165  0.976997  1.177102  0.815462   \n",
       "96  0.804008  0.323666  1.251421  ...  1.020885  0.664055  0.551433  0.915650   \n",
       "97  0.662990  1.037212  0.118271  ...  0.653782  0.935396  1.147569  1.328521   \n",
       "98  1.070637  0.660129  0.795056  ...  1.287513  0.930684  0.860535  1.637043   \n",
       "99  0.517823  0.505286  0.999478  ...  0.706006  0.349177  0.244834  1.186173   \n",
       "\n",
       "          74        75        76        77        78        79  \n",
       "80  0.117117  0.489816  0.695503  0.771118  0.662743  0.387537  \n",
       "81  0.597811  1.204744  1.196329  0.995194  0.764622  0.651853  \n",
       "82  0.605327  0.795567  0.774854  0.183444  0.102916  0.599751  \n",
       "83  0.454024  0.865706  1.209293  1.106729  0.998354  0.543804  \n",
       "84  0.344173  0.675067  0.411096  0.726122  0.617747  0.598727  \n",
       "85  0.768078  0.990875  1.114822  1.436017  1.327642  0.873092  \n",
       "86  0.126128  0.688211  0.629141  0.573350  0.464975  0.454526  \n",
       "87  0.539737  0.495744  0.709264  0.408843  0.402739  0.655291  \n",
       "88  0.792405  1.210453  0.685254  1.179585  1.071210  1.134113  \n",
       "89  0.724587  0.472847  0.428762  0.895377  0.889273  0.907239  \n",
       "90  0.411885  1.018817  0.971903  0.770768  0.540197  0.465926  \n",
       "91  0.638519  0.940584  0.922111  1.306457  1.198082  0.864244  \n",
       "92  0.315347  0.727029  1.070616  0.933993  0.825618  0.371068  \n",
       "93  0.430058  0.848106  0.731145  1.061407  0.953032  0.771766  \n",
       "94  0.338192  0.698446  0.528721  0.522659  0.414284  0.622106  \n",
       "95  0.593172  1.200105  1.034407  0.684920  0.576545  0.828240  \n",
       "96  1.047374  1.024319  0.578132  0.493240  0.723812  1.230026  \n",
       "97  0.313504  0.738363  1.068773  0.867638  0.715110  0.315181  \n",
       "98  0.675233  0.883538  0.844761  0.518899  0.390598  0.570220  \n",
       "99  0.795431  0.780656  0.263253  0.636750  0.630646  0.978083  \n",
       "\n",
       "[20 rows x 80 columns]"
      ]
     },
     "execution_count": 29,
     "metadata": {},
     "output_type": "execute_result"
    }
   ],
   "source": [
    "# 6. calc_distance (optional self testing)\n",
    "# ====>>> YOUR ACTIONS: (optional) IMPLEMENT & RUN \n",
    "\n",
    "file_name = 'data' + os.sep + 'Students-Performance_scaled_100.csv'\n",
    "y_col     = 'category'\n",
    "\n",
    "student_name, student_id = my_name(), my_id()\n",
    "assignment_params = get_assignment_params(student_id)\n",
    "X, y = load_dataset(file_name, y_col)\n",
    "X_train, y_train = X.iloc[:assignment_params['num_train2'],:],  y.iloc[:assignment_params['num_train2']]\n",
    "X_test, y_test = X.iloc[assignment_params['num_train2']:,:], y.iloc[assignment_params['num_train2']:]\n",
    "dist_dataframe = calc_distance(X_test,X_train)\n",
    "# --- add additional code to check your code if needed:\n",
    "# YOUR CODE HERE\n",
    "X_train\n",
    "X_test\n",
    "dist_dataframe"
   ]
  },
  {
   "cell_type": "markdown",
   "metadata": {
    "deletable": false,
    "editable": false,
    "nbgrader": {
     "cell_type": "markdown",
     "checksum": "a273f30ba2745a88cc24bfb3b9ce2892",
     "grade": false,
     "grade_id": "cell-29be72f2fa6d3663",
     "locked": true,
     "schema_version": 3,
     "solution": false,
     "task": false
    }
   },
   "source": [
    "##### 6. calc_distance - GRADED TESTS -  Run the following (3) code cells:"
   ]
  },
  {
   "cell_type": "code",
   "execution_count": 30,
   "metadata": {
    "ExecuteTime": {
     "end_time": "2021-11-16T17:59:53.797797Z",
     "start_time": "2021-11-16T17:59:53.045069Z"
    },
    "deletable": false,
    "editable": false,
    "nbgrader": {
     "cell_type": "code",
     "checksum": "e22b8a528c6bb5442ee6041b7a7a40bc",
     "grade": true,
     "grade_id": "test6-1_calc_distance",
     "locked": true,
     "points": 0.1,
     "schema_version": 3,
     "solution": false,
     "task": false
    }
   },
   "outputs": [
    {
     "name": "stdout",
     "output_type": "stream",
     "text": [
      "6. 'calc_distance' - Test 1 (name: test6-1_calc_distance, points: 0.1) - Sanity\n",
      "\t\tTesing a 'manhattan' distance method ...\n",
      "\n",
      "Good Job!\n",
      "You've passed the 1st test for the 'calc_distance' function implementation :-)\n"
     ]
    }
   ],
   "source": [
    "# 6. calc_distance (graded test)\n",
    "# ====>>> YOUR ACTIONS: RUN ONLY\n",
    "\n",
    "print (\"6. 'calc_distance' - Test 1 (name: test6-1_calc_distance, points: 0.1) - Sanity\")\n",
    "\n",
    "file_name = 'data' + os.sep + 'Students-Performance_scaled_100.csv'\n",
    "y_col     = 'category'\n",
    "\n",
    "try:    \n",
    "    student_name, student_id = my_name(), my_id()\n",
    "    assert type(student_name) is str or type(student_id) is int, \"name is not a string or id is not an integer\"\n",
    "    assignment_params = get_assignment_params(student_id)\n",
    "    print (\"\\t\\tTesing a '\" + assignment_params['dist_method'] + \"' distance method ...\\n\")\n",
    "    X, y = load_dataset(file_name, y_col)\n",
    "    X_train, y_train = X.iloc[:assignment_params['num_train2'],:],  y.iloc[:assignment_params['num_train2']]\n",
    "    X_test, y_test = X.iloc[assignment_params['num_train2']:,:], y.iloc[assignment_params['num_train2']:]\n",
    "    dist_dataframe = calc_distance(X_test,X_train)\n",
    "except Exception as e:\n",
    "    print ('You probably have a syntax or implementation error,  \\nerror Message:',str(e), '\\nTry fixing your code')\n",
    "    raise\n",
    "\n",
    "\n",
    "print (\"Good Job!\\nYou've passed the 1st test for the 'calc_distance' function implementation :-)\")"
   ]
  },
  {
   "cell_type": "code",
   "execution_count": 31,
   "metadata": {
    "ExecuteTime": {
     "end_time": "2021-11-16T17:59:54.553854Z",
     "start_time": "2021-11-16T17:59:53.799799Z"
    },
    "deletable": false,
    "editable": false,
    "nbgrader": {
     "cell_type": "code",
     "checksum": "712cee5c7eee17842da0f07cfd640aba",
     "grade": true,
     "grade_id": "test6-2_calc_distance",
     "locked": true,
     "points": 0.9,
     "schema_version": 3,
     "solution": false,
     "task": false
    }
   },
   "outputs": [
    {
     "name": "stdout",
     "output_type": "stream",
     "text": [
      "6. 'calc_distance' - Test 2 (name: test6-2_calc_distance, points: 0.9)\n",
      "\t\tTesing a 'manhattan' distance method ...\n",
      "\n",
      "Good Job!\n",
      "You've passed the 2nd test for the 'calc_distance' function implementation :-)\n"
     ]
    }
   ],
   "source": [
    "# 6. calc_distance (graded test)\n",
    "# ====>>> YOUR ACTIONS: RUN ONLY\n",
    "\n",
    "print (\"6. 'calc_distance' - Test 2 (name: test6-2_calc_distance, points: 0.9)\")\n",
    "\n",
    "\n",
    "file_name = 'data' + os.sep + 'Students-Performance_scaled_100.csv'\n",
    "y_col     = 'category'\n",
    "\n",
    "try:    \n",
    "    student_name, student_id = my_name(), my_id()\n",
    "    assert type(student_name) is str or type(student_id) is int, \"name is not a string or id is not an integer\"\n",
    "    assignment_params = get_assignment_params(student_id)\n",
    "    print (\"\\t\\tTesing a '\" + assignment_params['dist_method'] + \"' distance method ...\\n\")\n",
    "    X, y = load_dataset(file_name, y_col)\n",
    "    X_train, y_train = X.iloc[:assignment_params['num_train2'],:],  y.iloc[:assignment_params['num_train2']]\n",
    "    X_test, y_test = X.iloc[assignment_params['num_train2']:,:], y.iloc[assignment_params['num_train2']:]\n",
    "    dist_dataframe = calc_distance(X_test,X_train)\n",
    "except Exception as e:\n",
    "    print ('You probably have a syntax or implementation error,  \\nerror Message:',str(e), '\\nTry fixing your code')\n",
    "    raise\n",
    "\n",
    "assert dist_dataframe.shape[0] == X_test.shape[0] and dist_dataframe.shape[1] == X_train.shape[0], 'Mismatch shape of distance dataframes with test and train datasets'\n",
    "np.testing.assert_array_equal(dist_dataframe.index, X_test.index, 'Index of distance dataframe should match test index')\n",
    "np.testing.assert_array_equal(dist_dataframe.columns, X_train.index, 'Column index of distance dataframe should match training index')\n",
    "\n",
    "print (\"Good Job!\\nYou've passed the 2nd test for the 'calc_distance' function implementation :-)\")"
   ]
  },
  {
   "cell_type": "code",
   "execution_count": 32,
   "metadata": {
    "ExecuteTime": {
     "end_time": "2021-11-16T17:59:55.369466Z",
     "start_time": "2021-11-16T17:59:54.555854Z"
    },
    "deletable": false,
    "editable": false,
    "nbgrader": {
     "cell_type": "code",
     "checksum": "d2de96bd5da058d459209601eca1b776",
     "grade": true,
     "grade_id": "test6-3_calc_distance",
     "locked": true,
     "points": 1,
     "schema_version": 3,
     "solution": false,
     "task": false
    }
   },
   "outputs": [
    {
     "name": "stdout",
     "output_type": "stream",
     "text": [
      "6. 'calc_distance' - Test 3 (name: test6-3_calc_distance, points: 1)\n",
      "\t\tTesing a 'manhattan' distance method ...\n",
      "\n",
      "Good Job!\n",
      "You've passed the 3rd test for the 'calc_distance' function implementation :-)\n"
     ]
    }
   ],
   "source": [
    "# 6. calc_distance (graded test)\n",
    "# ====>>> YOUR ACTIONS: RUN ONLY\n",
    "\n",
    "print (\"6. 'calc_distance' - Test 3 (name: test6-3_calc_distance, points: 1)\")\n",
    "\n",
    "\n",
    "file_name = 'data' + os.sep + 'Students-Performance_scaled_100.csv'\n",
    "y_col     = 'category'\n",
    "\n",
    "try:    \n",
    "    student_name, student_id = my_name(), my_id()\n",
    "    assert type(student_name) is str or type(student_id) is int, \"name is not a string or id is not an integer\"\n",
    "    assignment_params = get_assignment_params(student_id)\n",
    "    print (\"\\t\\tTesing a '\" + assignment_params['dist_method'] + \"' distance method ...\\n\")\n",
    "    X, y = load_dataset(file_name, y_col)\n",
    "    X_train, y_train = X.iloc[:assignment_params['num_train2'],:],  y.iloc[:assignment_params['num_train2']]\n",
    "    X_test, y_test = X.iloc[assignment_params['num_train2']:,:], y.iloc[assignment_params['num_train2']:]\n",
    "    dist_dataframe = calc_distance(X_test,X_train)\n",
    "except Exception as e:\n",
    "    print ('You probably have a syntax or implementation error,  \\nerror Message:',str(e), '\\nTry fixing your code')\n",
    "    raise\n",
    "mean_min_dist = dist_dataframe.min(axis=1).mean()\n",
    "mean_max_dist = dist_dataframe.max(axis=1).mean()\n",
    "mean_mean_dist = dist_dataframe.mean(axis=1).mean()\n",
    "if assignment_params['dist_method'] == 'chebyshev':\n",
    "    assert 0.7 < mean_max_dist and mean_max_dist < 0.8, \"Wrong distance values for 'chebyshev' distance\"\n",
    "    assert 0.34 < mean_mean_dist and mean_mean_dist < 0.44, \"Wrong distance values for 'chebyshev' distance\"\n",
    "elif assignment_params['dist_method'] == 'euclidean':\n",
    "    assert 0.87 < mean_max_dist and mean_max_dist < 0.97, \"Wrong distance values for 'euclidean' distance\"\n",
    "    assert 0.42 < mean_mean_dist and mean_mean_dist < 0.52, \"Wrong distance values for 'euclidean' distance\"\n",
    "else: # assignment_params['dist_method'] == 'manhattan':\n",
    "    assert 1.42 < mean_max_dist and mean_max_dist < 1.52, \"Wrong distance values for 'manhattan' distance\"\n",
    "    assert 0.67 < mean_mean_dist and mean_mean_dist < 0.77, \"Wrong distance values for 'manhattan' distance\"\n",
    "print (\"Good Job!\\nYou've passed the 3rd test for the 'calc_distance' function implementation :-)\")"
   ]
  },
  {
   "cell_type": "markdown",
   "metadata": {
    "deletable": false,
    "editable": false,
    "nbgrader": {
     "cell_type": "markdown",
     "checksum": "9ce2e4c2ac0a93b2c043f0992aa29cd6",
     "grade": false,
     "grade_id": "cell-45a0e25f22798604",
     "locked": true,
     "schema_version": 3,
     "solution": false,
     "task": false
    }
   },
   "source": [
    "[Go to the beginning of the assignment](#home)\n",
    "<a id=\"predict\"></a>\n",
    "### 7. KNN predict - main flow"
   ]
  },
  {
   "cell_type": "markdown",
   "metadata": {
    "deletable": false,
    "editable": false,
    "nbgrader": {
     "cell_type": "markdown",
     "checksum": "880c9b9db61c770ac4da1cad3287aa6d",
     "grade": false,
     "grade_id": "cell-f104eaaddeed63a8",
     "locked": true,
     "schema_version": 3,
     "solution": false,
     "task": false
    }
   },
   "source": [
    "<b>7. predict (KNN - main flow) - Permitted and illegal methods</b>:<br />\n",
    "<div class=\"alert alert-success\">\n",
    "&#x2714; You are expected to use the above 'calc_distance' function<br/>\n",
    "&#x2714; You can use any function that calculates minimum, maximum, top scores, sorting and so on<br/>\n",
    "&#x2714; You can use any function that calculates argmin, argmax, argsort and so on<br/>\n",
    "</div>\n",
    "<div class=\"alert alert-danger\">\n",
    "&#x2718; DON'T USE any function which performs KNN's main flow<br/>\n",
    "&#x2718; DON'T USE any function which performs a closer step towards KNN's main flow\n",
    "</div>"
   ]
  },
  {
   "cell_type": "markdown",
   "metadata": {
    "deletable": false,
    "editable": false,
    "nbgrader": {
     "cell_type": "markdown",
     "checksum": "49bd86e08142575eddf83a26910589c4",
     "grade": false,
     "grade_id": "cell-af16c972a039710a",
     "locked": true,
     "schema_version": 3,
     "solution": false,
     "task": false
    }
   },
   "source": [
    "### 7. predict\n",
    "<pre>\n",
    "input parameters:\n",
    "- X_test - the test set feature vector dataframe\n",
    "- X_train - the train set feature vector dataframe\n",
    "- y_train - the train set category series \n",
    "- k - the number of Nearest Neighbors (we select the majority out of k votes)\n",
    "------------\n",
    "The function should return a series consisting of the predicted category series. \n",
    "   * Use the above 'calc_distance' function, to get the distance, between \n",
    "     the test feature vector, to each of the training feature vectors.\n",
    "   * the returned series, should contain an index, which is equal to the X_test index.\n",
    "-----\n",
    "An example of a return statement:</pre>\n",
    "<code>    return y_predicted</code>"
   ]
  },
  {
   "cell_type": "markdown",
   "metadata": {
    "deletable": false,
    "editable": false,
    "nbgrader": {
     "cell_type": "markdown",
     "checksum": "222ce9f6f5748d22629a5e8a7cf09506",
     "grade": false,
     "grade_id": "cell-c2803067514e606c",
     "locked": true,
     "schema_version": 3,
     "solution": false,
     "task": false
    }
   },
   "source": [
    "##### 7. predict - OPTIONAL  ASSISTANCE  - Implement & Run the following code cell (IF NEEDED):"
   ]
  },
  {
   "cell_type": "code",
   "execution_count": 33,
   "metadata": {
    "ExecuteTime": {
     "end_time": "2021-11-16T17:59:55.385467Z",
     "start_time": "2021-11-16T17:59:55.372464Z"
    },
    "deletable": false,
    "nbgrader": {
     "cell_type": "code",
     "checksum": "ff8e60804b94c01d2909e7e52b8a6aeb",
     "grade": false,
     "grade_id": "assistance7-predict",
     "locked": false,
     "schema_version": 3,
     "solution": true,
     "task": false
    }
   },
   "outputs": [],
   "source": [
    "# 7. predict (optional assitance for your solution)\n",
    "# ====>>> YOUR ACTIONS: (optional) IMPLEMENT & RUN \n",
    "\n",
    "# ---- Add assistance code here IF NEEDED:\n",
    "# YOUR CODE HERE\n",
    "def validate_predict(X_test, X_train, y_train, k):\n",
    "    is_valid = False\n",
    "    \n",
    "    if not isinstance(X_test, pd.core.frame.DataFrame):\n",
    "        print('Error: X_test must be of type', pd.core.frame.DataFrame, '. Was:', type(X_test))\n",
    "    elif not isinstance(X_train, pd.core.frame.DataFrame):\n",
    "        print('Error: X_train must be of type', pd.core.frame.DataFrame, '. Was:', type(X_train))\n",
    "    elif not isinstance(y_train, pd.core.series.Series):\n",
    "        print('Error: y_train must be of type', pd.core.series.Series, '. Was:', type(y_train))\n",
    "    elif not isinstance(k, int):\n",
    "        print('Error: k must be a natural integer. Was:', k)\n",
    "    else:\n",
    "        is_valid = True\n",
    "    \n",
    "    return is_valid"
   ]
  },
  {
   "cell_type": "markdown",
   "metadata": {
    "deletable": false,
    "editable": false,
    "nbgrader": {
     "cell_type": "markdown",
     "checksum": "fe06aa6bcbe91b366d66a2c546b361c2",
     "grade": false,
     "grade_id": "cell-8d3f7316faebfb83",
     "locked": true,
     "schema_version": 3,
     "solution": false,
     "task": false
    }
   },
   "source": [
    "##### 7. predict - Implement and Run the following code cell:"
   ]
  },
  {
   "cell_type": "code",
   "execution_count": 34,
   "metadata": {
    "ExecuteTime": {
     "end_time": "2021-11-16T17:59:55.400464Z",
     "start_time": "2021-11-16T17:59:55.389466Z"
    },
    "deletable": false,
    "nbgrader": {
     "cell_type": "code",
     "checksum": "932f3b3fbbf5fc427e9ed3d98d996b7d",
     "grade": false,
     "grade_id": "solution7-predict",
     "locked": false,
     "schema_version": 3,
     "solution": true,
     "task": false
    }
   },
   "outputs": [],
   "source": [
    "# 7. predict (your solution)\n",
    "# ====>>> YOUR ACTIONS: IMPLEMENT & RUN \n",
    "\n",
    "def predict(X_test, X_train, y_train, k):\n",
    "    # YOUR CODE HERE\n",
    "    y_predicted = []\n",
    "    \n",
    "    if validate_predict(X_test, X_train, y_train, k):\n",
    "        # Make sure k is within legal bounds for KNN\n",
    "        if k < 1:\n",
    "            k = 1\n",
    "        elif k > len(y_train):\n",
    "            k = len(y_train)\n",
    "        \n",
    "        # Get the distances dataframe\n",
    "        dist_dataframe = calc_distance(X_test, X_train)\n",
    "        \n",
    "        # Go over test samples, to predict each test sample's category\n",
    "        for dist_vec in dist_dataframe.values:\n",
    "            # Sort the current distances vector, so we'll pick up the k-nearest neighbors\n",
    "            sorted_indices = np.argsort(dist_vec)\n",
    "            k_nearest = sorted_indices[: k]\n",
    "            k_nearest_categories = y_train[k_nearest]\n",
    "            \n",
    "            # Now, group them by category, so we can predict according to the majority category\n",
    "            unique_categories, count_in_each_category = np.unique(k_nearest_categories, return_counts=True)\n",
    "            \n",
    "            # Now we'd like to select the majority element.\n",
    "            # If there are several categories having the same maximum count, we will sum up all the distances in each \n",
    "            # group, to select the category with the minimal total distance. (This is a solution for a \"draw\")\n",
    "            # Otherwise, there is one category only, it's simple - just predict as this category.\n",
    "            max_count = np.max(count_in_each_category)\n",
    "            max_counts_filter = count_in_each_category == max_count\n",
    "            if len(count_in_each_category[max_counts_filter]) > 1:\n",
    "                categories = unique_categories[max_counts_filter]\n",
    "                \n",
    "                # Here we sum up all the distances in each 'max' category, to predict as the category with the minimal total distance.\n",
    "                total_distance_per_max_category = np.zeros(len(categories))\n",
    "                for cat_index in range(len(categories)):\n",
    "                    total_distance_per_max_category[cat_index] = np.sum(dist_vec[k_nearest][k_nearest_categories == categories[cat_index]])\n",
    "\n",
    "                # Predict as the category with the minimal total distance.\n",
    "                predicted_category = categories[np.argmin(total_distance_per_max_category)]\n",
    "            else:\n",
    "                predicted_category = unique_categories[np.argmax(count_in_each_category)]\n",
    "\n",
    "            y_predicted.append(predicted_category)\n",
    "            \n",
    "    \n",
    "    return pd.Series(y_predicted, index=X_test.index, name=y_train.name)"
   ]
  },
  {
   "cell_type": "markdown",
   "metadata": {
    "deletable": false,
    "editable": false,
    "nbgrader": {
     "cell_type": "markdown",
     "checksum": "e4e8b009d80a991e80dfc97aa5599c2b",
     "grade": false,
     "grade_id": "cell-27ea620c8bd366e1",
     "locked": true,
     "schema_version": 3,
     "solution": false,
     "task": false
    }
   },
   "source": [
    "##### 7. predict - OPTIONAL SELF TEST - Implement & Run the following cell (IF NEEDED):"
   ]
  },
  {
   "cell_type": "code",
   "execution_count": 35,
   "metadata": {
    "ExecuteTime": {
     "end_time": "2021-11-16T17:59:56.280604Z",
     "start_time": "2021-11-16T17:59:55.403465Z"
    },
    "deletable": false,
    "nbgrader": {
     "cell_type": "code",
     "checksum": "4be0f32b07292edb0f6e3110908e58ca",
     "grade": false,
     "grade_id": "cell-bff25b1aa05713fb",
     "locked": false,
     "schema_version": 3,
     "solution": true,
     "task": false
    }
   },
   "outputs": [
    {
     "data": {
      "text/plain": [
       "80    0\n",
       "81    0\n",
       "82    0\n",
       "83    1\n",
       "84    0\n",
       "85    1\n",
       "86    0\n",
       "87    0\n",
       "88    0\n",
       "89    1\n",
       "90    0\n",
       "91    1\n",
       "92    0\n",
       "93    0\n",
       "94    0\n",
       "95    0\n",
       "96    0\n",
       "97    0\n",
       "98    0\n",
       "99    0\n",
       "Name: category, dtype: int64"
      ]
     },
     "execution_count": 35,
     "metadata": {},
     "output_type": "execute_result"
    }
   ],
   "source": [
    "# 7. predict (optional self testing)\n",
    "# ====>>> YOUR ACTIONS: (optional) IMPLEMENT & RUN \n",
    "\n",
    "file_name = 'data' + os.sep + 'Students-Performance_scaled_100.csv'\n",
    "y_col     = 'category'\n",
    "\n",
    "student_name, student_id = my_name(), my_id()\n",
    "assignment_params = get_assignment_params(student_id)\n",
    "X, y = load_dataset(file_name, y_col)\n",
    "X_train, y_train = X.iloc[:assignment_params['num_train2'],:],  y.iloc[:assignment_params['num_train2']]\n",
    "X_test, y_test = X.iloc[assignment_params['num_train2']:,:], y.iloc[assignment_params['num_train2']:]\n",
    "y_predicted = predict(X_test, X_train, y_train, 4)\n",
    "# --- add additional code to check your code if needed:\n",
    "# YOUR CODE HERE\n",
    "y_predicted"
   ]
  },
  {
   "cell_type": "markdown",
   "metadata": {
    "deletable": false,
    "editable": false,
    "nbgrader": {
     "cell_type": "markdown",
     "checksum": "1b8a798fc9c2fbdf3ab4afbe2f0e043f",
     "grade": false,
     "grade_id": "cell-134442bd9a0d8e01",
     "locked": true,
     "schema_version": 3,
     "solution": false,
     "task": false
    }
   },
   "source": [
    "##### 7. predict - GRADED TESTS -  Run the following (3) code cells:"
   ]
  },
  {
   "cell_type": "code",
   "execution_count": 288,
   "metadata": {
    "ExecuteTime": {
     "end_time": "2021-11-16T17:59:57.065268Z",
     "start_time": "2021-11-16T17:59:56.281611Z"
    },
    "deletable": false,
    "editable": false,
    "nbgrader": {
     "cell_type": "code",
     "checksum": "45fb7d5109ef19f40dd9aafdeb952b0d",
     "grade": true,
     "grade_id": "test7-1_predict",
     "locked": true,
     "points": 0.1,
     "schema_version": 3,
     "solution": false,
     "task": false
    }
   },
   "outputs": [
    {
     "name": "stdout",
     "output_type": "stream",
     "text": [
      "7. 'predict' - Test 1 (name: test7-1_predict, points: 0.1) - Sanity\n",
      "\t\tTesing a 'manhattan' distance method ...\n",
      "\n",
      "Good Job!\n",
      "You've passed the 1st test for the 'predict' function implementation :-)\n"
     ]
    }
   ],
   "source": [
    "# 7. predict (graded test)\n",
    "# ====>>> YOUR ACTIONS: RUN ONLY\n",
    "\n",
    "print (\"7. 'predict' - Test 1 (name: test7-1_predict, points: 0.1) - Sanity\")\n",
    "file_name = 'data' + os.sep + 'Students-Performance_scaled_100.csv'\n",
    "y_col     = 'category'\n",
    "try:      \n",
    "    student_name, student_id = my_name(), my_id()\n",
    "    assert type(student_name) is str or type(student_id) is int, \"name is not a string or id is not an integer\"\n",
    "    assignment_params = get_assignment_params(student_id)    \n",
    "    print (\"\\t\\tTesing a '\" + assignment_params['dist_method'] + \"' distance method ...\\n\")\n",
    "    X, y = load_dataset(file_name, y_col)\n",
    "    X_train, y_train = X.iloc[:assignment_params['num_train2'],:],  y.iloc[:assignment_params['num_train2']]\n",
    "    X_test, y_test = X.iloc[assignment_params['num_train2']:,:], y.iloc[assignment_params['num_train2']:]\n",
    "    y_predicted = predict(X_test, X_train, y_train, 1)\n",
    "except Exception as e:\n",
    "    print ('You probably have a syntax or implementation error,  \\nerror Message:',str(e), '\\nTry fixing your code')\n",
    "    raise\n",
    "print (\"Good Job!\\nYou've passed the 1st test for the 'predict' function implementation :-)\")     "
   ]
  },
  {
   "cell_type": "code",
   "execution_count": 289,
   "metadata": {
    "ExecuteTime": {
     "end_time": "2021-11-16T17:59:57.848163Z",
     "start_time": "2021-11-16T17:59:57.067233Z"
    },
    "deletable": false,
    "editable": false,
    "nbgrader": {
     "cell_type": "code",
     "checksum": "11cae866f89748a3cb80838854041d34",
     "grade": true,
     "grade_id": "test7-2_predict",
     "locked": true,
     "points": 0.9,
     "schema_version": 3,
     "solution": false,
     "task": false
    }
   },
   "outputs": [
    {
     "name": "stdout",
     "output_type": "stream",
     "text": [
      "7. 'predict' - Test 2 (name: test7-2_predict, points: 0.9)\n",
      "\t\tTesing a 'manhattan' distance method ...\n",
      "\n",
      "Good Job!\n",
      "You've passed the 2nd test for the 'predict' function implementation :-)\n"
     ]
    }
   ],
   "source": [
    "# 7. predict (graded test)\n",
    "# ====>>> YOUR ACTIONS: RUN ONLY\n",
    "\n",
    "print (\"7. 'predict' - Test 2 (name: test7-2_predict, points: 0.9)\")\n",
    "\n",
    "file_name = 'data' + os.sep + 'Students-Performance_scaled_100.csv'\n",
    "y_col     = 'category'\n",
    "try:      \n",
    "    student_name, student_id = my_name(), my_id()\n",
    "    assert type(student_name) is str or type(student_id) is int, \"name is not a string or id is not an integer\"\n",
    "    assignment_params = get_assignment_params(student_id)    \n",
    "    print (\"\\t\\tTesing a '\" + assignment_params['dist_method'] + \"' distance method ...\\n\")\n",
    "    X, y = load_dataset(file_name, y_col)\n",
    "    X_train, y_train = X.iloc[:assignment_params['num_train2'],:],  y.iloc[:assignment_params['num_train2']]\n",
    "    X_test, y_test = X.iloc[assignment_params['num_train2']:,:], y.iloc[assignment_params['num_train2']:]\n",
    "    y_predicted = predict(X_test, X_train, y_train, 1)\n",
    "except Exception as e:\n",
    "    print ('You probably have a syntax or implementation error,  \\nerror Message:',str(e), '\\nTry fixing your code')\n",
    "    raise\n",
    "assert y_test.shape==y_predicted.shape,'Wrong shape for predicted series'\n",
    "np.testing.assert_array_equal(y_predicted.index, y_test.index, 'Index of predicted series should match test series')\n",
    "\n",
    "np.testing.assert_equal(np.any(np.not_equal(y_predicted.values,y_test.values)), True,'predicted and test series should not be identicle')\n",
    "print (\"Good Job!\\nYou've passed the 2nd test for the 'predict' function implementation :-)\")"
   ]
  },
  {
   "cell_type": "code",
   "execution_count": 290,
   "metadata": {
    "ExecuteTime": {
     "end_time": "2021-11-16T17:59:58.616867Z",
     "start_time": "2021-11-16T17:59:57.849190Z"
    },
    "deletable": false,
    "editable": false,
    "nbgrader": {
     "cell_type": "code",
     "checksum": "318e2ec5ae8beed08277ec1123dc1f8f",
     "grade": true,
     "grade_id": "test7-3_predict",
     "locked": true,
     "points": 1,
     "schema_version": 3,
     "solution": false,
     "task": false
    }
   },
   "outputs": [
    {
     "name": "stdout",
     "output_type": "stream",
     "text": [
      "7. 'predict' - Test 3 (name: test7-3_predict, points: 1)\n",
      "\t\tTesing a 'manhattan' distance method ...\n",
      "\n",
      "Good Job!\n",
      "You've passed the 3rd test for the 'predict' function implementation :-)\n"
     ]
    }
   ],
   "source": [
    "# 7. predict (graded test)\n",
    "# ====>>> YOUR ACTIONS: RUN ONLY\n",
    "\n",
    "print (\"7. 'predict' - Test 3 (name: test7-3_predict, points: 1)\")\n",
    "\n",
    "file_name = 'data' + os.sep + 'Students-Performance_scaled_100.csv'\n",
    "y_col     = 'category'\n",
    "try:      \n",
    "    student_name, student_id = my_name(), my_id()\n",
    "    assert type(student_name) is str or type(student_id) is int, \"name is not a string or id is not an integer\"\n",
    "    assignment_params = get_assignment_params(student_id)    \n",
    "    print (\"\\t\\tTesing a '\" + assignment_params['dist_method'] + \"' distance method ...\\n\")\n",
    "    X, y = load_dataset(file_name, y_col)\n",
    "    X_train, y_train = X.iloc[:assignment_params['num_train2'],:],  y.iloc[:assignment_params['num_train2']]\n",
    "    X_test, y_test = X.iloc[assignment_params['num_train2']:,:], y.iloc[assignment_params['num_train2']:]\n",
    "    y_predicted = predict(X_test, X_train, y_train, 1)\n",
    "except Exception as e:\n",
    "    print ('You probably have a syntax or implementation error,  \\nerror Message:',str(e), '\\nTry fixing your code')\n",
    "    raise\n",
    "eq_elements = sum(1 - np.abs(y_predicted.values - y_test.values))\n",
    "if assignment_params['dist_method'] == 'chebyshev':\n",
    "    assert 12 < eq_elements and eq_elements < 15, \"Wrong predict values for 'chebyshev' distance\"\n",
    "elif assignment_params['dist_method'] == 'euclidean':\n",
    "    assert 14 < eq_elements and eq_elements < 17, \"Wrong predict values for 'euclidean' distance\"\n",
    "else: # assignment_params['dist_method'] == 'manhattan':\n",
    "    assert 13 < eq_elements and eq_elements < 16, \"Wrong predict values for 'manhattan' distance\"\n",
    "\n",
    "print (\"Good Job!\\nYou've passed the 3rd test for the 'predict' function implementation :-)\")"
   ]
  },
  {
   "cell_type": "markdown",
   "metadata": {
    "deletable": false,
    "editable": false,
    "nbgrader": {
     "cell_type": "markdown",
     "checksum": "81ac51ed7da937bc49c8e337b0bfc43b",
     "grade": false,
     "grade_id": "cell-5052b3be7a9c7cc8",
     "locked": true,
     "schema_version": 3,
     "solution": false,
     "task": false
    }
   },
   "source": [
    "[Go to the beginning of the assignment](#home)\n",
    "<a id=\"evaluation\"></a>\n",
    "### 8. Evaluation\n",
    "##### Method names:\n",
    "* eval_performance"
   ]
  },
  {
   "cell_type": "markdown",
   "metadata": {
    "deletable": false,
    "editable": false,
    "nbgrader": {
     "cell_type": "markdown",
     "checksum": "e2bdae199139c158655e4d6f0ef68603",
     "grade": false,
     "grade_id": "cell-410ddbe88adbad72",
     "locked": true,
     "schema_version": 3,
     "solution": false,
     "task": false
    }
   },
   "source": [
    "##### 8. eval_performance - PERSONAL IMPLEMENTATION - Run the following code cell:"
   ]
  },
  {
   "cell_type": "code",
   "execution_count": 291,
   "metadata": {
    "ExecuteTime": {
     "end_time": "2021-11-16T17:59:58.632891Z",
     "start_time": "2021-11-16T17:59:58.618868Z"
    },
    "deletable": false,
    "editable": false,
    "nbgrader": {
     "cell_type": "code",
     "checksum": "9e19e368c38ea64331218feac4c43e37",
     "grade": false,
     "grade_id": "personal-implementation-eval",
     "locked": true,
     "schema_version": 3,
     "solution": false,
     "task": false
    }
   },
   "outputs": [
    {
     "name": "stdout",
     "output_type": "stream",
     "text": [
      "The evaluation metric you need to implement is: 'accuracy'\n"
     ]
    }
   ],
   "source": [
    "# 9. eval_performance (personal implementation info)\n",
    "# ====>>> YOUR ACTIONS: RUN ONLY\n",
    "\n",
    "try:    \n",
    "    student_name, student_id = my_name(), my_id()\n",
    "    assert type(student_name) is str or type(student_id) is int, \"name is not a string or id is not an integer\"\n",
    "    assignment_params = get_assignment_params(student_id)\n",
    "except Exception as e:\n",
    "    print ('You probably did not implement student-info functions, \\nerror Message:',str(e))\n",
    "    raise\n",
    "# ---------------------------\n",
    "                    \n",
    "print (\"The evaluation metric you need to implement is: '\" + assignment_params['eval_metric'] + \"'\")"
   ]
  },
  {
   "cell_type": "markdown",
   "metadata": {
    "deletable": false,
    "editable": false,
    "nbgrader": {
     "cell_type": "markdown",
     "checksum": "8de33442e3eb4dcfe947b4d6b9c786d8",
     "grade": false,
     "grade_id": "cell-2a061a2d178032fb",
     "locked": true,
     "schema_version": 3,
     "solution": false,
     "task": false
    }
   },
   "source": [
    "<b>8. eval_performance - Permitted and illegal methods</b>:<br />\n",
    "<div class=\"alert alert-success\">\n",
    "&#x2714; You can use any function that calculates basic vector or scalar mathematical function\n",
    "</div>\n",
    "<div class=\"alert alert-danger\">\n",
    "&#x2718; DON'T USE any function which performs any of the evaluation methods<br/>\n",
    "&#x2718; DON'T USE any function which performs a closer step towards the evaluation methods\n",
    "</div>"
   ]
  },
  {
   "cell_type": "markdown",
   "metadata": {
    "deletable": false,
    "editable": false,
    "nbgrader": {
     "cell_type": "markdown",
     "checksum": "2b1975158bad67f996a8517ba8f997e5",
     "grade": false,
     "grade_id": "cell-502359ba6243987a",
     "locked": true,
     "schema_version": 3,
     "solution": false,
     "task": false
    }
   },
   "source": [
    "### 8. eval_performance\n",
    "<pre>\n",
    "input parameters:\n",
    "- y_predicted -  a series of containing all predicted class values per test instance\n",
    "- y_test - a series of containing all actual class values per test instance\n",
    "------------\n",
    "The function should return a scalar (number) representing the performance evaluation metric (ASSIGNED TO YOU), corresponding to the input parameters. \n",
    "\n",
    "<b>Important Notes - <u>for those who need to implement precision or recall</u></b>:\n",
    "  * <u>The <b>positive</b> category value</u> refers to <u>the value <b>1</b></u>.\n",
    "  * <u>The <b>negative</b> category value</u> refers to <u>the value <b>0</b></u>.\n",
    "-----\n",
    "An example of a return statement:</pre>\n",
    "<code>    return evaluate_value</code>"
   ]
  },
  {
   "cell_type": "markdown",
   "metadata": {
    "deletable": false,
    "editable": false,
    "nbgrader": {
     "cell_type": "markdown",
     "checksum": "34d941c678a28d7a35b72aec9cdaa1f0",
     "grade": false,
     "grade_id": "cell-f859e544c79f1d05",
     "locked": true,
     "schema_version": 3,
     "solution": false,
     "task": false
    }
   },
   "source": [
    "##### 8. eval_performance - OPTIONAL ASSISTANCE  - Implement & Run the following code cell (IF NEEDED):"
   ]
  },
  {
   "cell_type": "code",
   "execution_count": 292,
   "metadata": {
    "ExecuteTime": {
     "end_time": "2021-11-16T17:59:58.647901Z",
     "start_time": "2021-11-16T17:59:58.634867Z"
    },
    "deletable": false,
    "nbgrader": {
     "cell_type": "code",
     "checksum": "3aa03334e0f09507873279f12823af8c",
     "grade": false,
     "grade_id": "assistance8-eval_performance",
     "locked": false,
     "schema_version": 3,
     "solution": true,
     "task": false
    }
   },
   "outputs": [],
   "source": [
    "#8. eval_performance (optional assitance for your solution)\n",
    "# ====>>> YOUR ACTIONS: (optional) IMPLEMENT & RUN \n",
    "\n",
    "# ---- Add assistance code here IF NEEDED:\n",
    "# YOUR CODE HERE\n",
    "def validate_eval_performance(y_predicted, y_test):\n",
    "    is_valid = False\n",
    "    \n",
    "    if not isinstance(y_predicted, pd.core.series.Series):\n",
    "        print('Error: y_predicted must be of type', pd.core.series.Series, '. Was:', type(y_predicted))\n",
    "    elif not isinstance(y_test, pd.core.series.Series):\n",
    "        print('Error: y_test must be of type', pd.core.series.Series, '. Was:', type(y_test))\n",
    "    else:\n",
    "        is_valid = True\n",
    "    \n",
    "    return is_valid"
   ]
  },
  {
   "cell_type": "markdown",
   "metadata": {
    "deletable": false,
    "editable": false,
    "nbgrader": {
     "cell_type": "markdown",
     "checksum": "07a671216f4258f48d343ec42207fa4e",
     "grade": false,
     "grade_id": "cell-f6ebd67c5f392c5d",
     "locked": true,
     "schema_version": 3,
     "solution": false,
     "task": false
    }
   },
   "source": [
    "##### 8. eval_performance - Implement and Run the following code cell:"
   ]
  },
  {
   "cell_type": "code",
   "execution_count": 293,
   "metadata": {
    "ExecuteTime": {
     "end_time": "2021-11-16T17:59:58.662872Z",
     "start_time": "2021-11-16T17:59:58.648869Z"
    },
    "deletable": false,
    "nbgrader": {
     "cell_type": "code",
     "checksum": "00d3ce6394b982fbef4b5deec9036a8c",
     "grade": false,
     "grade_id": "solution8-eval_performance",
     "locked": false,
     "schema_version": 3,
     "solution": true,
     "task": false
    }
   },
   "outputs": [],
   "source": [
    "# 8. eval_performance (your solution)\n",
    "# ====>>> YOUR ACTIONS: IMPLEMENT & RUN \n",
    "\n",
    "def eval_performance(y_predicted,y_test):\n",
    "    # YOUR CODE HERE\n",
    "    evaluate_value = 0\n",
    "    if validate_eval_performance(y_predicted, y_test):\n",
    "        num_of_test_instances = len(y_test)\n",
    "        \n",
    "        # Use Series.compare to find the differences between two serieses. The differences are FP and FN.\n",
    "        # If compare is no allowed, it could be replaced by a simple loop which iterates through the two serieses and compare \n",
    "        # the elements at a specified index. Each match counts.\n",
    "        FP_and_FN = len(y_predicted.compare(y_test))\n",
    "        TP_and_TN = num_of_test_instances - FP_and_FN\n",
    "        \n",
    "        # Accuracy value is: ( (#TP + #TN) / #NUM_OF_TEST_INSTANCES )\n",
    "        evaluate_value = TP_and_TN / num_of_test_instances\n",
    "    \n",
    "    return evaluate_value"
   ]
  },
  {
   "cell_type": "markdown",
   "metadata": {
    "deletable": false,
    "editable": false,
    "nbgrader": {
     "cell_type": "markdown",
     "checksum": "e791c1ff400e92acc536a87e04096503",
     "grade": false,
     "grade_id": "cell-5ba9b32604af6fc7",
     "locked": true,
     "schema_version": 3,
     "solution": false,
     "task": false
    }
   },
   "source": [
    "##### 8. eval_performance - OPTIONAL SELF TEST - Implement & Run the following cell (IF NEEDED):"
   ]
  },
  {
   "cell_type": "code",
   "execution_count": 256,
   "metadata": {
    "ExecuteTime": {
     "end_time": "2021-11-16T17:59:58.678890Z",
     "start_time": "2021-11-16T17:59:58.664906Z"
    },
    "deletable": false,
    "nbgrader": {
     "cell_type": "code",
     "checksum": "bce6be41313b4c44e42625c4a3124648",
     "grade": false,
     "grade_id": "cell-f3c2cfcdcc0fc1da",
     "locked": false,
     "schema_version": 3,
     "solution": true,
     "task": false
    }
   },
   "outputs": [
    {
     "data": {
      "text/plain": [
       "0.6"
      ]
     },
     "execution_count": 256,
     "metadata": {},
     "output_type": "execute_result"
    }
   ],
   "source": [
    "# 8. eval_performance (optional self testing)\n",
    "# ====>>> YOUR ACTIONS: (optional) IMPLEMENT & RUN \n",
    "\n",
    "file_name = 'data' + os.sep + 'Students-Performance_scaled_100.csv'\n",
    "y_col     = 'category'\n",
    "student_name, student_id = my_name(), my_id()\n",
    "assignment_params = get_assignment_params(student_id)\n",
    "indx = [3,1,6,5,7,44,32,14,10,11]\n",
    "y_pred = pd.Series([1,1,1,0,1,0,1,0,1,0],index=indx)\n",
    "y_test = pd.Series([0,0,1,1,1,0,0,0,1,0],index=indx)\n",
    "eval_res = eval_performance(y_pred, y_test)\n",
    "# --- add additional code to check your code if needed:\n",
    "# YOUR CODE HERE\n",
    "eval_res"
   ]
  },
  {
   "cell_type": "markdown",
   "metadata": {
    "deletable": false,
    "editable": false,
    "nbgrader": {
     "cell_type": "markdown",
     "checksum": "e02c4e54623b7cc004fd78c0f94fc375",
     "grade": false,
     "grade_id": "cell-8129cc22e5824f03",
     "locked": true,
     "schema_version": 3,
     "solution": false,
     "task": false
    }
   },
   "source": [
    "##### 8. eval_performance - GRADED TESTS -  Run the following (2) code cells:"
   ]
  },
  {
   "cell_type": "code",
   "execution_count": 294,
   "metadata": {
    "ExecuteTime": {
     "end_time": "2021-11-16T17:59:58.694867Z",
     "start_time": "2021-11-16T17:59:58.680871Z"
    },
    "deletable": false,
    "editable": false,
    "nbgrader": {
     "cell_type": "code",
     "checksum": "2712961d1696a2e9475bbd31f248d1ca",
     "grade": true,
     "grade_id": "test8-1_eval_performance",
     "locked": true,
     "points": 0.1,
     "schema_version": 3,
     "solution": false,
     "task": false
    }
   },
   "outputs": [
    {
     "name": "stdout",
     "output_type": "stream",
     "text": [
      "8 'eval_performance' - Test 1 (name: test8-1_eval_performance, points: 0.1) - Sanity\n",
      "Part 9. - Test 1 (name: test9-1_eval_performance, points: 0.1) - Sanity\n",
      "\t--->Testing the implementation of 'eval_performance' ...\n",
      "\t\tTesing a 'accuracy' evaluation method ...\n",
      "\n",
      "Good Job!\n",
      "You've passed the 1st test for the 'eval_performance' function implementation :-)\n"
     ]
    }
   ],
   "source": [
    "# 8. eval_performance (graded test)\n",
    "# ====>>> YOUR ACTIONS: RUN ONLY\n",
    "\n",
    "print (\"8 'eval_performance' - Test 1 (name: test8-1_eval_performance, points: 0.1) - Sanity\")\n",
    "\n",
    "print (\"Part 9. - Test 1 (name: test9-1_eval_performance, points: 0.1) - Sanity\")\n",
    "print (\"\\t--->Testing the implementation of 'eval_performance' ...\")\n",
    "\n",
    "file_name = 'data' + os.sep + 'Students-Performance_numeric.csv'\n",
    "\n",
    "try:    \n",
    "    student_name, student_id = my_name(), my_id()\n",
    "    assert type(student_name) is str or type(student_id) is int, \"name is not a string or id is not an integer\"\n",
    "    assignment_params = get_assignment_params(student_id)\n",
    "    print (\"\\t\\tTesing a '\" + assignment_params['eval_metric'] + \"' evaluation method ...\\n\")\n",
    "    indx = [3,1,6,5,7,44,32,14,10,11]\n",
    "    y_pred = pd.Series([1,1,1,0,1,0,1,0,1,0],index=indx)\n",
    "    y_test = pd.Series([0,0,1,1,1,0,0,0,1,0],index=indx)\n",
    "    eval_res = eval_performance(y_pred, y_test)\n",
    "    \n",
    "except Exception as e:\n",
    "    print ('You probably have a syntax or implementation error,  \\nerror Message:',str(e), '\\nTry fixing your code')\n",
    "    raise\n",
    "\n",
    "print (\"Good Job!\\nYou've passed the 1st test for the 'eval_performance' function implementation :-)\")"
   ]
  },
  {
   "cell_type": "code",
   "execution_count": 296,
   "metadata": {
    "ExecuteTime": {
     "end_time": "2021-11-16T17:59:58.710867Z",
     "start_time": "2021-11-16T17:59:58.695868Z"
    },
    "deletable": false,
    "editable": false,
    "nbgrader": {
     "cell_type": "code",
     "checksum": "c3b3a447f32b0162d1c0d71f145361df",
     "grade": true,
     "grade_id": "test8-2_eval_performance",
     "locked": true,
     "points": 0.9,
     "schema_version": 3,
     "solution": false,
     "task": false
    }
   },
   "outputs": [
    {
     "name": "stdout",
     "output_type": "stream",
     "text": [
      "8. 'eval_performance' - Test 2 (name: test8-2_eval_performance, points: 0.9)\n",
      "\t\tTesing a 'accuracy' evaluation method ...\n",
      "\n",
      "Good Job!\n",
      "You've passed the 2nd test for the 'eval_performance' function implementation :-)\n"
     ]
    }
   ],
   "source": [
    "# 8. eval_performance (graded test)\n",
    "# ====>>> YOUR ACTIONS: RUN ONLY\n",
    "\n",
    "print (\"8. 'eval_performance' - Test 2 (name: test8-2_eval_performance, points: 0.9)\")\n",
    "\n",
    "file_name = 'data' + os.sep + 'Students-Performance_scaled_100.csv'\n",
    "y_col     = 'category'\n",
    "\n",
    "try:    \n",
    "    student_name, student_id = my_name(), my_id()\n",
    "    assert type(student_name) is str or type(student_id) is int, \"name is not a string or id is not an integer\"\n",
    "    assignment_params = get_assignment_params(student_id)\n",
    "    print (\"\\t\\tTesing a '\" + assignment_params['eval_metric'] + \"' evaluation method ...\\n\")\n",
    "    indx = [3,1,6,5,7,44,32,14,10,11]\n",
    "    y_pred = pd.Series([1,1,1,0,1,0,1,0,1,0],index=indx)\n",
    "    y_test = pd.Series([0,0,1,1,1,0,0,0,1,0],index=indx)\n",
    "    eval_res = eval_performance(y_pred, y_test)\n",
    "    \n",
    "except Exception as e:\n",
    "    print ('You probably have a syntax or implementation error,  \\nerror Message:',str(e), '\\nTry fixing your code')\n",
    "    raise\n",
    "    \n",
    "if assignment_params['eval_metric'] == 'precision':\n",
    "    assert eval_res == 0.5, 'Wrong precision value'\n",
    "elif assignment_params['eval_metric'] == 'recall':\n",
    "    assert eval_res == 0.75, 'Wrong recall value'\n",
    "elif assignment_params['eval_metric'] == 'accuracy':\n",
    "    assert eval_res == 0.6, 'Wrong accuracy value'\n",
    "else: # if assignment_params['eval_metric'] == 'error_rate':\n",
    "    assert eval_res == 0.4, 'Wrong error-rate value'\n",
    "    \n",
    "print (\"Good Job!\\nYou've passed the 2nd test for the 'eval_performance' function implementation :-)\")"
   ]
  },
  {
   "cell_type": "code",
   "execution_count": null,
   "metadata": {},
   "outputs": [],
   "source": []
  }
 ],
 "metadata": {
  "kernelspec": {
   "display_name": "Python 3 (ipykernel)",
   "language": "python",
   "name": "python3"
  },
  "language_info": {
   "codemirror_mode": {
    "name": "ipython",
    "version": 3
   },
   "file_extension": ".py",
   "mimetype": "text/x-python",
   "name": "python",
   "nbconvert_exporter": "python",
   "pygments_lexer": "ipython3",
   "version": "3.9.7"
  }
 },
 "nbformat": 4,
 "nbformat_minor": 4
}
