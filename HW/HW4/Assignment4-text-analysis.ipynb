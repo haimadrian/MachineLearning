{
 "cells": [
  {
   "cell_type": "markdown",
   "metadata": {},
   "source": [
    "# Assignment 4 - Text Analysis\n",
    "An explanation this assignment could be found in the .pdf explanation document"
   ]
  },
  {
   "cell_type": "markdown",
   "metadata": {},
   "source": [
    "\n",
    "## Materials to review for this assignment\n",
    "<h4>From Moodle:</h4> \n",
    "<h5><u>Review the notebooks regarding the following python topics</u>:</h5>\n",
    "<div class=\"alert alert-info\">\n",
    "&#x2714; <b>Working with strings</b> (tutorial 8 notebook)<br/>\n",
    "&#x2714; <b>Text Analysis</b> (tutorial 9 notebook)<br/>\n",
    "&#x2714; <b>Hebrew text analysis tools (tokenizer, wordnet)</b> (moodle example)<br/>\n",
    "&#x2714; <b>(brief review) All previous notebooks</b><br/>\n",
    "</div> \n",
    "<h5><u>Review the presentations regarding the following topics</u>:</h5>\n",
    "<div class=\"alert alert-info\">\n",
    "&#x2714; <b>Text Analysis</b> (lecture 9 presentation)<br/>\n",
    "&#x2714; <b>(brief review) All other presentations</b><br/>\n",
    "</div>"
   ]
  },
  {
   "cell_type": "markdown",
   "metadata": {},
   "source": [
    "## Preceding Step - import modules (packages)\n",
    "This step is necessary in order to use external modules (packages). <br/>"
   ]
  },
  {
   "cell_type": "code",
   "execution_count": 1,
   "metadata": {},
   "outputs": [],
   "source": [
    "# --------------------------------------\n",
    "import pandas as pd\n",
    "import numpy as np\n",
    "# --------------------------------------\n",
    "\n",
    "\n",
    "# --------------------------------------\n",
    "# ------------- visualizations:\n",
    "import seaborn as sns\n",
    "import matplotlib.pyplot as plt\n",
    "from matplotlib.colors import ListedColormap\n",
    "# --------------------------------------\n",
    "\n",
    "\n",
    "# ---------------------------------------\n",
    "import sklearn\n",
    "from sklearn import preprocessing, metrics, pipeline, model_selection, feature_extraction \n",
    "from sklearn import naive_bayes, linear_model, svm, neural_network, neighbors, tree\n",
    "from sklearn import decomposition, cluster\n",
    "\n",
    "from sklearn.model_selection import train_test_split, cross_val_score, GridSearchCV \n",
    "from sklearn.pipeline import Pipeline\n",
    "from sklearn.metrics import accuracy_score, confusion_matrix\n",
    "from sklearn.metrics import precision_score, recall_score, f1_score\n",
    "from sklearn.metrics import mean_squared_error, r2_score, silhouette_score\n",
    "from sklearn.preprocessing import MinMaxScaler, StandardScaler, LabelEncoder\n",
    "from sklearn.ensemble import VotingClassifier\n",
    "\n",
    "from sklearn.svm import LinearSVC\n",
    "from sklearn.neural_network import MLPClassifier\n",
    "from sklearn.linear_model import Perceptron, SGDClassifier, LogisticRegression\n",
    "from sklearn.decomposition import PCA\n",
    "from sklearn.cluster import KMeans\n",
    "from sklearn.naive_bayes import MultinomialNB, GaussianNB\n",
    "from sklearn.neighbors import KNeighborsClassifier\n",
    "from sklearn.tree import DecisionTreeClassifier\n",
    "# ---------------------------------------\n",
    "\n",
    "\n",
    "# ----------------- output and visualizations: \n",
    "import warnings\n",
    "from sklearn.exceptions import ConvergenceWarning\n",
    "warnings.simplefilter(\"ignore\")\n",
    "warnings.simplefilter(action='ignore', category=FutureWarning)\n",
    "warnings.simplefilter(\"ignore\", category=ConvergenceWarning)\n",
    "# show several prints in one cell. This will allow us to condence every trick in one cell.\n",
    "from IPython.core.interactiveshell import InteractiveShell\n",
    "InteractiveShell.ast_node_interactivity = \"all\"\n",
    "%matplotlib inline\n",
    "pd.pandas.set_option('display.max_columns', None)\n",
    "pd.set_option('display.float_format', lambda x: '%.3f' % x)\n",
    "# ---------------------------------------"
   ]
  },
  {
   "cell_type": "markdown",
   "metadata": {
    "heading_collapsed": true
   },
   "source": [
    "### Text analysis and String manipulation imports:"
   ]
  },
  {
   "cell_type": "code",
   "execution_count": 2,
   "metadata": {
    "hidden": true
   },
   "outputs": [],
   "source": [
    "# --------------------------------------\n",
    "# --------- Text analysis and Hebrew text analysis imports:\n",
    "# vectorizers:\n",
    "from sklearn.feature_extraction import text\n",
    "from sklearn.feature_extraction.text import CountVectorizer, TfidfVectorizer\n",
    "\n",
    "# regular expressions:\n",
    "import re\n",
    "# --------------------------------------"
   ]
  },
  {
   "cell_type": "markdown",
   "metadata": {
    "heading_collapsed": true
   },
   "source": [
    "### (optional) Hebrew text analysis - WordNet (for Hebrew)\n",
    "Note: the WordNet is not a must"
   ]
  },
  {
   "cell_type": "markdown",
   "metadata": {
    "hidden": true
   },
   "source": [
    "#### (optional) Only if you didn't install Wordnet (for Hebrew) use:"
   ]
  },
  {
   "cell_type": "code",
   "execution_count": 3,
   "metadata": {
    "hidden": true
   },
   "outputs": [],
   "source": [
    "#!pip install wn\n",
    "#!python -m wn download omw-he:1.4"
   ]
  },
  {
   "cell_type": "code",
   "execution_count": 3,
   "metadata": {
    "hidden": true
   },
   "outputs": [],
   "source": [
    "# word net\n",
    "import wn"
   ]
  },
  {
   "cell_type": "markdown",
   "metadata": {
    "heading_collapsed": true
   },
   "source": [
    "### (optional) Hebrew text analysis - hebrew_tokenizer (Tokenizer for Hebrew)\n",
    "Note: the hebrew_tokenizer is not a must"
   ]
  },
  {
   "cell_type": "markdown",
   "metadata": {
    "hidden": true
   },
   "source": [
    "#### (optional) Only if you didn't install hebrew_tokenizer use:"
   ]
  },
  {
   "cell_type": "code",
   "execution_count": 5,
   "metadata": {
    "hidden": true
   },
   "outputs": [],
   "source": [
    "#!pip install hebrew_tokenizer"
   ]
  },
  {
   "cell_type": "code",
   "execution_count": 4,
   "metadata": {
    "hidden": true
   },
   "outputs": [
    {
     "name": "stdout",
     "output_type": "stream",
     "text": [
      "C:\\Studies\\YearD\\MachineLearning\\HW\\HW4\n"
     ]
    }
   ],
   "source": [
    "# tokenizer:\n",
    "import hebrew_tokenizer as ht"
   ]
  },
  {
   "cell_type": "markdown",
   "metadata": {},
   "source": [
    "### Reading input files\n",
    "Reading input files for train annotated corpus (raw text data) corpus and for the test corpus"
   ]
  },
  {
   "cell_type": "code",
   "execution_count": 8,
   "metadata": {},
   "outputs": [],
   "source": [
    "train_filename = 'annotated_corpus_for_train.csv'\n",
    "test_filename  = 'corpus_for_test.csv'\n",
    "df_train = pd.read_csv(train_filename, index_col=None, encoding='utf-8')\n",
    "df_test  = pd.read_csv(test_filename, index_col=None, encoding='utf-8')"
   ]
  },
  {
   "cell_type": "code",
   "execution_count": 8,
   "metadata": {},
   "outputs": [
    {
     "data": {
      "text/html": [
       "<div>\n",
       "<style scoped>\n",
       "    .dataframe tbody tr th:only-of-type {\n",
       "        vertical-align: middle;\n",
       "    }\n",
       "\n",
       "    .dataframe tbody tr th {\n",
       "        vertical-align: top;\n",
       "    }\n",
       "\n",
       "    .dataframe thead th {\n",
       "        text-align: right;\n",
       "    }\n",
       "</style>\n",
       "<table border=\"1\" class=\"dataframe\">\n",
       "  <thead>\n",
       "    <tr style=\"text-align: right;\">\n",
       "      <th></th>\n",
       "      <th>story</th>\n",
       "      <th>gender</th>\n",
       "    </tr>\n",
       "  </thead>\n",
       "  <tbody>\n",
       "    <tr>\n",
       "      <th>0</th>\n",
       "      <td>כשחבר הזמין אותי לחול, לא באמת חשבתי שזה יקרה,...</td>\n",
       "      <td>m</td>\n",
       "    </tr>\n",
       "    <tr>\n",
       "      <th>1</th>\n",
       "      <td>לפני שהתגייסתי לצבא עשיתי כל מני מיונים ליחידו...</td>\n",
       "      <td>m</td>\n",
       "    </tr>\n",
       "    <tr>\n",
       "      <th>2</th>\n",
       "      <td>מאז שהתחילו הלימודים חלומו של כל סטודנט זה הפנ...</td>\n",
       "      <td>f</td>\n",
       "    </tr>\n",
       "    <tr>\n",
       "      <th>3</th>\n",
       "      <td>כשהייתי ילד, מטוסים היה הדבר שהכי ריתק אותי. ב...</td>\n",
       "      <td>m</td>\n",
       "    </tr>\n",
       "    <tr>\n",
       "      <th>4</th>\n",
       "      <td>‏הייתי מדריכה בכפר נוער ומתאם הכפר היינו צריכי...</td>\n",
       "      <td>f</td>\n",
       "    </tr>\n",
       "    <tr>\n",
       "      <th>5</th>\n",
       "      <td>לפני כ3 חודשים טסתי לרומא למשך שבוע. טסתי במטו...</td>\n",
       "      <td>f</td>\n",
       "    </tr>\n",
       "    <tr>\n",
       "      <th>6</th>\n",
       "      <td>אני כבר שנתיים נשוי והשנה אני ואישתי סוף סוף י...</td>\n",
       "      <td>m</td>\n",
       "    </tr>\n",
       "    <tr>\n",
       "      <th>7</th>\n",
       "      <td>השנה התחלנו שיפוץ בדירה שלנו בתל אביב. הדירה ה...</td>\n",
       "      <td>f</td>\n",
       "    </tr>\n",
       "  </tbody>\n",
       "</table>\n",
       "</div>"
      ],
      "text/plain": [
       "                                               story gender\n",
       "0  כשחבר הזמין אותי לחול, לא באמת חשבתי שזה יקרה,...      m\n",
       "1  לפני שהתגייסתי לצבא עשיתי כל מני מיונים ליחידו...      m\n",
       "2  מאז שהתחילו הלימודים חלומו של כל סטודנט זה הפנ...      f\n",
       "3  כשהייתי ילד, מטוסים היה הדבר שהכי ריתק אותי. ב...      m\n",
       "4  ‏הייתי מדריכה בכפר נוער ומתאם הכפר היינו צריכי...      f\n",
       "5  לפני כ3 חודשים טסתי לרומא למשך שבוע. טסתי במטו...      f\n",
       "6  אני כבר שנתיים נשוי והשנה אני ואישתי סוף סוף י...      m\n",
       "7  השנה התחלנו שיפוץ בדירה שלנו בתל אביב. הדירה ה...      f"
      ]
     },
     "execution_count": 8,
     "metadata": {},
     "output_type": "execute_result"
    },
    {
     "data": {
      "text/plain": [
       "(753, 2)"
      ]
     },
     "execution_count": 8,
     "metadata": {},
     "output_type": "execute_result"
    },
    {
     "data": {
      "text/html": [
       "<div>\n",
       "<style scoped>\n",
       "    .dataframe tbody tr th:only-of-type {\n",
       "        vertical-align: middle;\n",
       "    }\n",
       "\n",
       "    .dataframe tbody tr th {\n",
       "        vertical-align: top;\n",
       "    }\n",
       "\n",
       "    .dataframe thead th {\n",
       "        text-align: right;\n",
       "    }\n",
       "</style>\n",
       "<table border=\"1\" class=\"dataframe\">\n",
       "  <thead>\n",
       "    <tr style=\"text-align: right;\">\n",
       "      <th></th>\n",
       "      <th>test_example_id</th>\n",
       "      <th>story</th>\n",
       "    </tr>\n",
       "  </thead>\n",
       "  <tbody>\n",
       "    <tr>\n",
       "      <th>0</th>\n",
       "      <td>0</td>\n",
       "      <td>כל קיץ אני והמשפחה נוסעים לארצות הברית לוס אנג...</td>\n",
       "    </tr>\n",
       "    <tr>\n",
       "      <th>1</th>\n",
       "      <td>1</td>\n",
       "      <td>הגעתי לשירות המדינה אחרי שנתיים כפעיל בתנועת \"...</td>\n",
       "    </tr>\n",
       "    <tr>\n",
       "      <th>2</th>\n",
       "      <td>2</td>\n",
       "      <td>אחת האהבות הגדולות שלי אלו הכלבים שלי ושל אישת...</td>\n",
       "    </tr>\n",
       "    <tr>\n",
       "      <th>3</th>\n",
       "      <td>3</td>\n",
       "      <td>רגע הגיוס לצבא היה הרגע הכי משמעותי עבורי, אני...</td>\n",
       "    </tr>\n",
       "    <tr>\n",
       "      <th>4</th>\n",
       "      <td>4</td>\n",
       "      <td>אני הגעתי לברזיל ישר מקולומביה וגם אני עשיתי ע...</td>\n",
       "    </tr>\n",
       "  </tbody>\n",
       "</table>\n",
       "</div>"
      ],
      "text/plain": [
       "   test_example_id                                              story\n",
       "0                0  כל קיץ אני והמשפחה נוסעים לארצות הברית לוס אנג...\n",
       "1                1  הגעתי לשירות המדינה אחרי שנתיים כפעיל בתנועת \"...\n",
       "2                2  אחת האהבות הגדולות שלי אלו הכלבים שלי ושל אישת...\n",
       "3                3  רגע הגיוס לצבא היה הרגע הכי משמעותי עבורי, אני...\n",
       "4                4  אני הגעתי לברזיל ישר מקולומביה וגם אני עשיתי ע..."
      ]
     },
     "execution_count": 8,
     "metadata": {},
     "output_type": "execute_result"
    }
   ],
   "source": [
    "df_train.head(8)\n",
    "df_train.shape\n",
    "df_test.head()"
   ]
  },
  {
   "cell_type": "code",
   "execution_count": 9,
   "metadata": {},
   "outputs": [
    {
     "data": {
      "text/html": [
       "<div>\n",
       "<style scoped>\n",
       "    .dataframe tbody tr th:only-of-type {\n",
       "        vertical-align: middle;\n",
       "    }\n",
       "\n",
       "    .dataframe tbody tr th {\n",
       "        vertical-align: top;\n",
       "    }\n",
       "\n",
       "    .dataframe thead th {\n",
       "        text-align: right;\n",
       "    }\n",
       "</style>\n",
       "<table border=\"1\" class=\"dataframe\">\n",
       "  <thead>\n",
       "    <tr style=\"text-align: right;\">\n",
       "      <th></th>\n",
       "      <th>test_example_id</th>\n",
       "      <th>story</th>\n",
       "    </tr>\n",
       "  </thead>\n",
       "  <tbody>\n",
       "    <tr>\n",
       "      <th>0</th>\n",
       "      <td>0</td>\n",
       "      <td>כל קיץ אני והמשפחה נוסעים לארצות הברית לוס אנג...</td>\n",
       "    </tr>\n",
       "    <tr>\n",
       "      <th>1</th>\n",
       "      <td>1</td>\n",
       "      <td>הגעתי לשירות המדינה אחרי שנתיים כפעיל בתנועת \"...</td>\n",
       "    </tr>\n",
       "    <tr>\n",
       "      <th>2</th>\n",
       "      <td>2</td>\n",
       "      <td>אחת האהבות הגדולות שלי אלו הכלבים שלי ושל אישת...</td>\n",
       "    </tr>\n",
       "  </tbody>\n",
       "</table>\n",
       "</div>"
      ],
      "text/plain": [
       "   test_example_id                                              story\n",
       "0                0  כל קיץ אני והמשפחה נוסעים לארצות הברית לוס אנג...\n",
       "1                1  הגעתי לשירות המדינה אחרי שנתיים כפעיל בתנועת \"...\n",
       "2                2  אחת האהבות הגדולות שלי אלו הכלבים שלי ושל אישת..."
      ]
     },
     "execution_count": 9,
     "metadata": {},
     "output_type": "execute_result"
    }
   ],
   "source": [
    "df_test.head(3)"
   ]
  },
  {
   "cell_type": "markdown",
   "metadata": {},
   "source": [
    "### Your implementation:\n",
    "Write your code solution in the following code-cells"
   ]
  },
  {
   "cell_type": "code",
   "execution_count": 11,
   "metadata": {},
   "outputs": [
    {
     "data": {
      "text/plain": [
       "'Haim Adrian'"
      ]
     },
     "execution_count": 11,
     "metadata": {},
     "output_type": "execute_result"
    },
    {
     "data": {
      "text/plain": [
       "123456789"
      ]
     },
     "execution_count": 11,
     "metadata": {},
     "output_type": "execute_result"
    }
   ],
   "source": [
    "def my_name():\n",
    "    return 'Haim Adrian'\n",
    "\n",
    "\n",
    "def my_id():\n",
    "    return 123456789\n",
    "\n",
    "\n",
    "my_name()\n",
    "my_id()"
   ]
  },
  {
   "cell_type": "code",
   "execution_count": 12,
   "metadata": {},
   "outputs": [],
   "source": [
    "# Remove duplicae rows from a dataframe\n",
    "def remove_duplicates(story_df):\n",
    "    # R U kidding me?! difference of whitespace\n",
    "    story_df.loc[:, 'story'] = story_df.story.apply(lambda r: r.strip())\n",
    "    return story_df.drop_duplicates().dropna()"
   ]
  },
  {
   "cell_type": "code",
   "execution_count": 13,
   "metadata": {},
   "outputs": [],
   "source": [
    "# Decouple a dataframe to X (vector of data) and y (target value: gender)\n",
    "def decouple_data(story_df):\n",
    "    X = story_df['story']\n",
    "    y = story_df['gender']\n",
    "    return X, y"
   ]
  },
  {
   "cell_type": "code",
   "execution_count": 14,
   "metadata": {},
   "outputs": [],
   "source": [
    "# Split data to train and test, with test size of 0.2\n",
    "def split_data(X, y):\n",
    "    return train_test_split(X, y, random_state=42, test_size=0.2, shuffle=False)"
   ]
  },
  {
   "cell_type": "code",
   "execution_count": 15,
   "metadata": {},
   "outputs": [],
   "source": [
    "# Method that accepts text (single string) and tokenize it. \n",
    "# The result of this method is a python list containing all Hebrew and English words from the specified story.\n",
    "def text_tokenization(story_text):\n",
    "    tokens = ht.tokenize(story_text)\n",
    "    words = [token for grp, token, token_num, (start_index, end_index) in tokens if grp == 'HEBREW' and len(token) > 1]\n",
    "    \n",
    "    # print(f'There are {len(words)} words')\n",
    "    return words"
   ]
  },
  {
   "cell_type": "code",
   "execution_count": 16,
   "metadata": {},
   "outputs": [],
   "source": [
    "# This method is called before TfidfVectorizer, to remove documents with Hebrew words fewer than expected.\n",
    "# Assignment expectation was to have documents with 300-500 words, in Hebrew.\n",
    "# Many documents do not follow this rule (less than 300), and there are many english words.\n",
    "# As a result, docs with less than 100 Hebrew words will be discarded.\n",
    "# This improves the f1 macro score.\n",
    "# I use 50 as lower bound and not 300, to have enough space for english and date / hour tokens that filtered out by hebrew tokenizer.\n",
    "def cleanup_short_docs(X_train, y_train):\n",
    "    print(f'Shape before cleanup of too short docs: Train - {X_train.shape}')\n",
    "    X_train_words_count = X_train.apply(lambda text: len([token for grp, token, token_num, (start_index, end_index) in ht.tokenize(text) if grp == 'HEBREW' and len(token) > 1]))\n",
    "    rows_to_keep = (X_train_words_count >= 50)\n",
    "    X_train = X_train.loc[rows_to_keep]\n",
    "    y_train = y_train.loc[rows_to_keep]\n",
    "    print(f'Shape after cleanup of too short docs: Train - {X_train.shape}')\n",
    "    \n",
    "    # Ignore documents with exact same words\n",
    "    X_train_words_unique = X_train.apply(lambda text: set([token for grp, token, token_num, (start_index, end_index) in ht.tokenize(text) if grp == 'HEBREW' and len(token) > 1])).drop_duplicates()\n",
    "    X_train = X_train.loc[X_train_words_unique.index]\n",
    "    y_train = y_train.loc[X_train_words_unique.index]\n",
    "    print(f'Shape after cleanup of same docs with diff order: Train - {X_train.shape}')\n",
    "    \n",
    "    return X_train, y_train"
   ]
  },
  {
   "cell_type": "code",
   "execution_count": 17,
   "metadata": {},
   "outputs": [],
   "source": [
    "# Section for trainings\n",
    "# The parameters here defined after the Grid Search from Appendix 1 (see at the end of notebook)\n",
    "\n",
    "def fit_pipe(classifier, X_train, y_train, min_df=1, max_df=1.0, norm='l2', token_pattern=None, tokenizer=None):\n",
    "    pipe = Pipeline(steps=[\n",
    "        ('vectorizer', TfidfVectorizer(analyzer='word', min_df=min_df, max_df=max_df, ngram_range=(1, 2), norm=norm, token_pattern=token_pattern, tokenizer=tokenizer)),\n",
    "        # TfidfVectorizer creates an sparse table, but classifiers expect dense, so transform it.\n",
    "        (\"dense_transformer\", preprocessing.FunctionTransformer(lambda x: x.todense(), accept_sparse=True)),\n",
    "        ('classifier', classifier)\n",
    "        ])\n",
    "    return pipe.fit(X_train, y_train)\n",
    "\n",
    "\n",
    "def train_svm(X_train, y_train, n_jobs=-1):\n",
    "    return fit_pipe(SGDClassifier(loss='hinge', penalty='l1', alpha=1e-4, random_state=42, max_iter=100, tol=1e-4, n_jobs=n_jobs), \n",
    "                    X_train, \n",
    "                    y_train, \n",
    "                    tokenizer=text_tokenization)\n",
    "\n",
    "\n",
    "def train_lr(X_train, y_train, n_jobs=-1):\n",
    "    return fit_pipe(LogisticRegression(penalty='none', solver='lbfgs', random_state=42, max_iter=100, tol=1e-2, n_jobs=n_jobs), \n",
    "                    X_train, \n",
    "                    y_train, \n",
    "                    norm='l1', \n",
    "                    min_df=0.01, \n",
    "                    max_df=0.8, \n",
    "                    tokenizer=text_tokenization)\n",
    "\n",
    "\n",
    "def train_mlp(X_train, y_train):\n",
    "    return fit_pipe(MLPClassifier(activation='relu', alpha=1e-4, random_state=42, max_iter=100, tol=1e-4), \n",
    "                    X_train, \n",
    "                    y_train, \n",
    "                    min_df=0.01, \n",
    "                    token_pattern='[א-ת][א-ת\"\\']*[א-ת]')\n",
    "\n",
    "\n",
    "def train_perceptron(X_train, y_train, n_jobs=-1):\n",
    "    return fit_pipe(Perceptron(penalty='l1', alpha=1e-4, random_state=42, max_iter=100, tol=1e-4, n_jobs=n_jobs), \n",
    "                    X_train, \n",
    "                    y_train, \n",
    "                    tokenizer=text_tokenization)\n",
    "\n",
    "\n",
    "def train_gauss_nb(X_train, y_train): \n",
    "    return fit_pipe(GaussianNB(var_smoothing=0.0071968567300115215), \n",
    "                    X_train, \n",
    "                    y_train, \n",
    "                    norm='l1',\n",
    "                    token_pattern='[א-ת][א-ת\"\\']*[א-ת]')\n",
    "\n",
    "\n",
    "def train_knn(X_train, y_train):\n",
    "    return fit_pipe(KNeighborsClassifier(metric='manhattan', n_neighbors=5, weights='distance'), \n",
    "                    X_train, \n",
    "                    y_train, \n",
    "                    norm='l1',\n",
    "                    token_pattern='[א-ת][א-ת\"\\']*[א-ת]')\n",
    "\n",
    "\n",
    "def train_decision_tree(X_train, y_train):\n",
    "    return fit_pipe(DecisionTreeClassifier(criterion='entropy', max_depth=9, min_samples_leaf=3, min_samples_split=25, random_state=42), \n",
    "                    X_train, \n",
    "                    y_train, \n",
    "                    norm='l1', \n",
    "                    max_df=0.8, \n",
    "                    token_pattern='[א-ת][א-ת\"\\']*[א-ת]')\n",
    "\n",
    "\n",
    "def train_linear_svc(X_train, y_train):\n",
    "    return fit_pipe(LinearSVC(loss='squared_hinge', penalty='l2', random_state=42, max_iter=10, tol=1e-4), \n",
    "                    X_train, \n",
    "                    y_train, \n",
    "                    min_df=0.01, \n",
    "                    max_df=0.8, \n",
    "                    token_pattern='[א-ת][א-ת\"\\']*[א-ת]')\n",
    "\n",
    "\n",
    "def train_multinomial_nb(X_train, y_train):\n",
    "    return fit_pipe(MultinomialNB(nb__alpha=0.01), \n",
    "                    X_train, \n",
    "                    y_train, \n",
    "                    min_df=0.01, \n",
    "                    token_pattern='[א-ת][א-ת\"\\']*[א-ת]')\n",
    "\n",
    "\n",
    "def train_voting_classifier(X_train, y_train):\n",
    "    estimators = [\n",
    "        ('svm', train_svm(X_train, y_train, n_jobs=1)), \n",
    "        ('lr', train_lr(X_train, y_train, n_jobs=1)), \n",
    "        ('knn', train_knn(X_train, y_train)), \n",
    "        ('decision_tree', train_decision_tree(X_train, y_train)), \n",
    "        ('gauss_nb', train_gauss_nb(X_train, y_train))\n",
    "    ]\n",
    "    \n",
    "    weights = [0.37, 0.2, 0.17, 0.13, 0.11]\n",
    "    return VotingClassifier(estimators=estimators, weights=weights, n_jobs=-1, verbose=True).fit(X_train, y_train)\n"
   ]
  },
  {
   "cell_type": "code",
   "execution_count": 18,
   "metadata": {},
   "outputs": [],
   "source": [
    "def evaluate_f1(clf, X_test, y_test):\n",
    "    # Predict with the test data and return f1 score\n",
    "    y_pred = clf.predict(X_test)\n",
    "    return f1_score(y_true=y_test, y_pred=y_pred, average='macro')"
   ]
  },
  {
   "cell_type": "code",
   "execution_count": 19,
   "metadata": {},
   "outputs": [],
   "source": [
    "# Helper method to plot descriptive confusion matrix, same as we saw during lectures.\n",
    "# Rows represent the true classification, and columns represent the predicted classification.\n",
    "def plot_confusion_matrix(y_test, y_pred, clf_name, f1_score):\n",
    "    conf_mat = confusion_matrix(y_test, y_pred)\n",
    "    \n",
    "    fig, ax = plt.subplots(figsize=(6, 6))\n",
    "    \n",
    "    ax.set_title(f'{clf_name} Gender Classification\\nF1 Macro: {\"{:.3f}\".format(f1_score)}\\n', y=1.1, fontsize='xx-large', fontweight='roman')\n",
    "    ax.set_ylabel('True Label', fontsize='x-large')\n",
    "    ax.set_xlabel('Predicted Label', fontsize='x-large')\n",
    "    \n",
    "    ax.xaxis.set_ticks_position('top')\n",
    "    ax.xaxis.set_label_position('top')\n",
    "    ax.invert_yaxis()\n",
    "    ax.set_xticks(np.arange(conf_mat.shape[1]) + 0.5, minor=False)\n",
    "    ax.set_yticks(np.arange(conf_mat.shape[0]) + 0.5, minor=False)\n",
    "    ax.set_xticklabels(['f', 'm'], minor=False, fontsize='x-large', fontweight='bold')\n",
    "    ax.set_yticklabels(['f', 'm'], minor=False, fontsize='x-large', fontweight='bold')\n",
    "    \n",
    "    mappable = ax.pcolor(conf_mat, cmap=plt.cm.Blues)\n",
    "    fig.colorbar(mappable, ax=ax)\n",
    "    for i in range(2):\n",
    "        for j in range(2):\n",
    "            color = 'tab:green' if i == j else 'tab:red'\n",
    "            ax.text(i + 0.4, j + 0.5, str(conf_mat[j, i]), color=color, fontsize='xx-large', fontweight='bold')"
   ]
  },
  {
   "cell_type": "code",
   "execution_count": 20,
   "metadata": {},
   "outputs": [],
   "source": [
    "# A helper method used to simulate a classifier validation.\n",
    "# We use this method in next cells to validate and plot confusion matrix for various classifiers\n",
    "def validate_classifier(title, train_method):\n",
    "    print(f'{title}:')\n",
    "\n",
    "    # Pre-Processing\n",
    "    df_train_no_dups = df_train.copy() #remove_duplicates(df_train)\n",
    "    X_train, y_train = decouple_data(df_train_no_dups)\n",
    "    X_train, X_test, y_train, y_test = split_data(X_train, y_train)\n",
    "    #X_train, y_train = cleanup_short_docs(X_train, y_train)\n",
    "\n",
    "    # Train and fit\n",
    "    classifier = train_method(X_train, y_train)\n",
    "\n",
    "    # Evaluate\n",
    "    f1_macro = evaluate_f1(classifier, X_test, y_test)\n",
    "    print(f'f1 macro - {f1_macro}')\n",
    "    \n",
    "    y_pred = classifier.predict(X_test)\n",
    "    print(metrics.classification_report(y_test, y_pred, target_names=['f', 'm']))\n",
    "\n",
    "    plot_confusion_matrix(y_test, y_pred, title, f1_macro)"
   ]
  },
  {
   "cell_type": "code",
   "execution_count": 21,
   "metadata": {},
   "outputs": [
    {
     "name": "stdout",
     "output_type": "stream",
     "text": [
      "Shape before cleanup of too short docs: Train - (750,)\n",
      "Shape after cleanup of too short docs: Train - (748,)\n",
      "Shape after cleanup of same docs with diff order: Train - (747,)\n",
      "f1 macro - 0.8124451406425128\n",
      "              precision    recall  f1-score   support\n",
      "\n",
      "           f       0.76      0.67      0.71        79\n",
      "           m       0.90      0.93      0.91       244\n",
      "\n",
      "    accuracy                           0.87       323\n",
      "   macro avg       0.83      0.80      0.81       323\n",
      "weighted avg       0.86      0.87      0.86       323\n",
      "\n"
     ]
    },
    {
     "data": {
      "image/png": "[encoded data removed]",
      "text/plain": [
       "<Figure size 432x432 with 2 Axes>"
      ]
     },
     "metadata": {
      "needs_background": "light"
     },
     "output_type": "display_data"
    }
   ],
   "source": [
    "# Pre-Processing\n",
    "df_train_no_dups = remove_duplicates(df_train)\n",
    "X_train, y_train = decouple_data(df_train_no_dups)\n",
    "\n",
    "df_test2  = pd.read_csv('GENDERS.csv', index_col=None, encoding='utf-8')\n",
    "X_test2 = df_test['story']\n",
    "y_test = df_test2['gender2']\n",
    "\n",
    "X_train, y_train = cleanup_short_docs(X_train, y_train)\n",
    "\n",
    "# Train and fit\n",
    "classifier = train_svm(X_train, y_train)\n",
    "\n",
    "# Evaluate\n",
    "f1_macro = evaluate_f1(classifier, X_test2, y_test)\n",
    "print(f'f1 macro - {f1_macro}')\n",
    "\n",
    "y_pred = classifier.predict(X_test2)\n",
    "print(metrics.classification_report(y_test, y_pred, target_names=['f', 'm']))\n",
    "\n",
    "plot_confusion_matrix(y_test, y_pred, 'SVM', f1_macro)\n",
    "\n",
    "df_predicted = df_test.drop('story', axis=1)\n",
    "df_predicted['predicted_category'] = y_pred\n",
    "df_predicted.to_csv('classification_results_test.csv', index=False)"
   ]
  },
  {
   "cell_type": "code",
   "execution_count": 35,
   "metadata": {},
   "outputs": [
    {
     "name": "stdout",
     "output_type": "stream",
     "text": [
      "Test:\n"
     ]
    },
    {
     "data": {
      "text/plain": [
       "0.7443503864556498"
      ]
     },
     "execution_count": 35,
     "metadata": {},
     "output_type": "execute_result"
    },
    {
     "data": {
      "text/html": [
       "<div>\n",
       "<style scoped>\n",
       "    .dataframe tbody tr th:only-of-type {\n",
       "        vertical-align: middle;\n",
       "    }\n",
       "\n",
       "    .dataframe tbody tr th {\n",
       "        vertical-align: top;\n",
       "    }\n",
       "\n",
       "    .dataframe thead th {\n",
       "        text-align: right;\n",
       "    }\n",
       "</style>\n",
       "<table border=\"1\" class=\"dataframe\">\n",
       "  <thead>\n",
       "    <tr style=\"text-align: right;\">\n",
       "      <th></th>\n",
       "      <th>f</th>\n",
       "      <th>m</th>\n",
       "    </tr>\n",
       "  </thead>\n",
       "  <tbody>\n",
       "    <tr>\n",
       "      <th>f</th>\n",
       "      <td>16</td>\n",
       "      <td>13</td>\n",
       "    </tr>\n",
       "    <tr>\n",
       "      <th>m</th>\n",
       "      <td>10</td>\n",
       "      <td>112</td>\n",
       "    </tr>\n",
       "  </tbody>\n",
       "</table>\n",
       "</div>"
      ],
      "text/plain": [
       "    f    m\n",
       "f  16   13\n",
       "m  10  112"
      ]
     },
     "execution_count": 35,
     "metadata": {},
     "output_type": "execute_result"
    }
   ],
   "source": [
    "# Test:\n",
    "print('Test:')\n",
    "X_train = df_train['story']\n",
    "y_train = df_train['gender']\n",
    "\n",
    "# X_train, y_train = cleanup_short_docs(X_train, y_train)\n",
    "\n",
    "X_train, X_test, y_train, y_test = train_test_split(X_train, y_train, random_state=42, test_size=0.2, shuffle=False)\n",
    "\n",
    "clf = Pipeline([\n",
    "    ('vect', TfidfVectorizer(ngram_range=(1, 2), tokenizer=lambda x: [details[1] for details in ht.tokenize(x) if details[0] == 'HEBREW' and len(details[1]) > 1])),\n",
    "    ('clf', SGDClassifier(loss='hinge', penalty='l1', alpha=1e-4, random_state=42, max_iter=50, tol=None))\n",
    "])\n",
    "\n",
    "# vec = TfidfVectorizer(ngram_range=(1, 2), tokenizer=lambda x: [details[1] for details in ht.tokenize(x) if details[0] == 'HEBREW' and len(details[1]) > 1])\n",
    "# clf = SGDClassifier(loss='hinge', penalty='l1', alpha=1e-4, random_state=42, max_iter=50, tol=None)\n",
    "\n",
    "# X_train_counts = pd.DataFrame(vec.fit_transform(X_train).toarray(), columns=vec.get_feature_names_out())\n",
    "# X_test_counts = pd.DataFrame(vec.transform(X_test).toarray(), columns=vec.get_feature_names_out())\n",
    "\n",
    "clf = clf.fit(X_train, y_train)\n",
    "y_pred = clf.predict(X_test)\n",
    "\n",
    "# f1 average: 0.7427900146842878\n",
    "f1_score(y_true=y_test, y_pred=y_pred, average='macro')\n",
    "\n",
    "pd.DataFrame(metrics.confusion_matrix(y_pred=y_pred, y_true=y_test), columns=['f', 'm'], index=['f', 'm'])\n"
   ]
  },
  {
   "cell_type": "code",
   "execution_count": 70,
   "metadata": {},
   "outputs": [
    {
     "name": "stdout",
     "output_type": "stream",
     "text": [
      "SVM:\n",
      "f1 macro - 0.7522965879265091\n",
      "              precision    recall  f1-score   support\n",
      "\n",
      "           f       0.74      0.48      0.58        29\n",
      "           m       0.89      0.96      0.92       122\n",
      "\n",
      "    accuracy                           0.87       151\n",
      "   macro avg       0.81      0.72      0.75       151\n",
      "weighted avg       0.86      0.87      0.86       151\n",
      "\n"
     ]
    },
    {
     "data": {
      "image/png": "[encoded data removed]",
      "text/plain": [
       "<Figure size 432x432 with 2 Axes>"
      ]
     },
     "metadata": {
      "needs_background": "light"
     },
     "output_type": "display_data"
    }
   ],
   "source": [
    "validate_classifier('SVM', train_svm)"
   ]
  },
  {
   "cell_type": "code",
   "execution_count": 50,
   "metadata": {},
   "outputs": [
    {
     "name": "stdout",
     "output_type": "stream",
     "text": [
      "Logistic Regression:\n",
      "Shape before cleanup of too short docs: Train - (600,)\n",
      "Shape after cleanup of too short docs: Train - (598,)\n",
      "Shape after cleanup of same docs with diff order: Train - (597,)\n",
      "f1 macro - 0.6810772501771793\n",
      "              precision    recall  f1-score   support\n",
      "\n",
      "           f       0.55      0.41      0.47        29\n",
      "           m       0.87      0.92      0.89       121\n",
      "\n",
      "    accuracy                           0.82       150\n",
      "   macro avg       0.71      0.67      0.68       150\n",
      "weighted avg       0.80      0.82      0.81       150\n",
      "\n"
     ]
    },
    {
     "data": {
      "image/png": "[encoded data removed]",
      "text/plain": [
       "<Figure size 432x432 with 2 Axes>"
      ]
     },
     "metadata": {
      "needs_background": "light"
     },
     "output_type": "display_data"
    }
   ],
   "source": [
    "validate_classifier('Logistic Regression', train_lr)"
   ]
  },
  {
   "cell_type": "code",
   "execution_count": 51,
   "metadata": {},
   "outputs": [
    {
     "name": "stdout",
     "output_type": "stream",
     "text": [
      "KNN:\n",
      "Shape before cleanup of too short docs: Train - (600,)\n",
      "Shape after cleanup of too short docs: Train - (598,)\n",
      "Shape after cleanup of same docs with diff order: Train - (597,)\n",
      "f1 macro - 0.6549165120593692\n",
      "              precision    recall  f1-score   support\n",
      "\n",
      "           f       0.46      0.41      0.44        29\n",
      "           m       0.86      0.88      0.87       121\n",
      "\n",
      "    accuracy                           0.79       150\n",
      "   macro avg       0.66      0.65      0.65       150\n",
      "weighted avg       0.79      0.79      0.79       150\n",
      "\n"
     ]
    },
    {
     "data": {
      "image/png": "[encoded data removed]",
      "text/plain": [
       "<Figure size 432x432 with 2 Axes>"
      ]
     },
     "metadata": {
      "needs_background": "light"
     },
     "output_type": "display_data"
    }
   ],
   "source": [
    "validate_classifier('KNN', train_knn)"
   ]
  },
  {
   "cell_type": "code",
   "execution_count": 52,
   "metadata": {},
   "outputs": [
    {
     "name": "stdout",
     "output_type": "stream",
     "text": [
      "Perceptron:\n",
      "Shape before cleanup of too short docs: Train - (600,)\n",
      "Shape after cleanup of too short docs: Train - (598,)\n",
      "Shape after cleanup of same docs with diff order: Train - (597,)\n",
      "f1 macro - 0.4814814814814815\n",
      "              precision    recall  f1-score   support\n",
      "\n",
      "           f       1.00      0.03      0.07        29\n",
      "           m       0.81      1.00      0.90       121\n",
      "\n",
      "    accuracy                           0.81       150\n",
      "   macro avg       0.91      0.52      0.48       150\n",
      "weighted avg       0.85      0.81      0.74       150\n",
      "\n"
     ]
    },
    {
     "data": {
      "image/png": "[encoded data removed]",
      "text/plain": [
       "<Figure size 432x432 with 2 Axes>"
      ]
     },
     "metadata": {
      "needs_background": "light"
     },
     "output_type": "display_data"
    }
   ],
   "source": [
    "validate_classifier('Perceptron', train_perceptron)"
   ]
  },
  {
   "cell_type": "code",
   "execution_count": 53,
   "metadata": {},
   "outputs": [
    {
     "name": "stdout",
     "output_type": "stream",
     "text": [
      "Decision Tree:\n",
      "Shape before cleanup of too short docs: Train - (600,)\n",
      "Shape after cleanup of too short docs: Train - (598,)\n",
      "Shape after cleanup of same docs with diff order: Train - (597,)\n",
      "f1 macro - 0.6483825597749648\n",
      "              precision    recall  f1-score   support\n",
      "\n",
      "           f       0.41      0.48      0.44        29\n",
      "           m       0.87      0.83      0.85       121\n",
      "\n",
      "    accuracy                           0.77       150\n",
      "   macro avg       0.64      0.66      0.65       150\n",
      "weighted avg       0.78      0.77      0.77       150\n",
      "\n"
     ]
    },
    {
     "data": {
      "image/png": "[encoded data removed]",
      "text/plain": [
       "<Figure size 432x432 with 2 Axes>"
      ]
     },
     "metadata": {
      "needs_background": "light"
     },
     "output_type": "display_data"
    }
   ],
   "source": [
    "validate_classifier('Decision Tree', train_decision_tree)"
   ]
  },
  {
   "cell_type": "code",
   "execution_count": 54,
   "metadata": {},
   "outputs": [
    {
     "name": "stdout",
     "output_type": "stream",
     "text": [
      "MLP:\n",
      "Shape before cleanup of too short docs: Train - (600,)\n",
      "Shape after cleanup of too short docs: Train - (598,)\n",
      "Shape after cleanup of same docs with diff order: Train - (597,)\n",
      "f1 macro - 0.6082764162314183\n",
      "              precision    recall  f1-score   support\n",
      "\n",
      "           f       0.67      0.21      0.32        29\n",
      "           m       0.84      0.98      0.90       121\n",
      "\n",
      "    accuracy                           0.83       150\n",
      "   macro avg       0.75      0.59      0.61       150\n",
      "weighted avg       0.80      0.83      0.79       150\n",
      "\n"
     ]
    },
    {
     "data": {
      "image/png": "[encoded data removed]",
      "text/plain": [
       "<Figure size 432x432 with 2 Axes>"
      ]
     },
     "metadata": {
      "needs_background": "light"
     },
     "output_type": "display_data"
    }
   ],
   "source": [
    "validate_classifier('MLP', train_mlp)"
   ]
  },
  {
   "cell_type": "code",
   "execution_count": 55,
   "metadata": {},
   "outputs": [
    {
     "name": "stdout",
     "output_type": "stream",
     "text": [
      "Linear SVC:\n",
      "Shape before cleanup of too short docs: Train - (600,)\n",
      "Shape after cleanup of too short docs: Train - (598,)\n",
      "Shape after cleanup of same docs with diff order: Train - (597,)\n",
      "f1 macro - 0.6146336450518961\n",
      "              precision    recall  f1-score   support\n",
      "\n",
      "           f       0.75      0.21      0.32        29\n",
      "           m       0.84      0.98      0.90       121\n",
      "\n",
      "    accuracy                           0.83       150\n",
      "   macro avg       0.79      0.60      0.61       150\n",
      "weighted avg       0.82      0.83      0.79       150\n",
      "\n"
     ]
    },
    {
     "data": {
      "image/png": "[encoded data removed]",
      "text/plain": [
       "<Figure size 432x432 with 2 Axes>"
      ]
     },
     "metadata": {
      "needs_background": "light"
     },
     "output_type": "display_data"
    }
   ],
   "source": [
    "validate_classifier('Linear SVC', train_linear_svc)"
   ]
  },
  {
   "cell_type": "code",
   "execution_count": 56,
   "metadata": {},
   "outputs": [
    {
     "name": "stdout",
     "output_type": "stream",
     "text": [
      "Gaussian NB:\n",
      "Shape before cleanup of too short docs: Train - (600,)\n",
      "Shape after cleanup of too short docs: Train - (598,)\n",
      "Shape after cleanup of same docs with diff order: Train - (597,)\n",
      "f1 macro - 0.6000000000000001\n",
      "              precision    recall  f1-score   support\n",
      "\n",
      "           f       0.33      0.52      0.40        29\n",
      "           m       0.87      0.74      0.80       121\n",
      "\n",
      "    accuracy                           0.70       150\n",
      "   macro avg       0.60      0.63      0.60       150\n",
      "weighted avg       0.76      0.70      0.72       150\n",
      "\n"
     ]
    },
    {
     "data": {
      "image/png": "[encoded data removed]",
      "text/plain": [
       "<Figure size 432x432 with 2 Axes>"
      ]
     },
     "metadata": {
      "needs_background": "light"
     },
     "output_type": "display_data"
    }
   ],
   "source": [
    "validate_classifier('Gaussian NB', train_gauss_nb)"
   ]
  },
  {
   "cell_type": "code",
   "execution_count": 57,
   "metadata": {},
   "outputs": [
    {
     "name": "stdout",
     "output_type": "stream",
     "text": [
      "Voting:\n",
      "Shape before cleanup of too short docs: Train - (600,)\n",
      "Shape after cleanup of too short docs: Train - (598,)\n",
      "Shape after cleanup of same docs with diff order: Train - (597,)\n",
      "f1 macro - 0.7603229333109074\n",
      "              precision    recall  f1-score   support\n",
      "\n",
      "           f       0.78      0.48      0.60        29\n",
      "           m       0.89      0.97      0.92       121\n",
      "\n",
      "    accuracy                           0.87       150\n",
      "   macro avg       0.83      0.72      0.76       150\n",
      "weighted avg       0.87      0.87      0.86       150\n",
      "\n"
     ]
    },
    {
     "data": {
      "image/png": "[encoded data removed]",
      "text/plain": [
       "<Figure size 432x432 with 2 Axes>"
      ]
     },
     "metadata": {
      "needs_background": "light"
     },
     "output_type": "display_data"
    }
   ],
   "source": [
    "# Nice, but I'd prefer to go with SGDClassifier, since it succeeds better with female classification, and we use Macro average score, not Micro...\n",
    "validate_classifier('Voting', train_voting_classifier)"
   ]
  },
  {
   "cell_type": "code",
   "execution_count": 75,
   "metadata": {},
   "outputs": [
    {
     "name": "stdout",
     "output_type": "stream",
     "text": [
      "Shape before cleanup of too short docs: Train - (750,)\n",
      "Shape after cleanup of too short docs: Train - (748,)\n",
      "Shape after cleanup of same docs with diff order: Train - (747,)\n"
     ]
    },
    {
     "data": {
      "text/html": [
       "<div>\n",
       "<style scoped>\n",
       "    .dataframe tbody tr th:only-of-type {\n",
       "        vertical-align: middle;\n",
       "    }\n",
       "\n",
       "    .dataframe tbody tr th {\n",
       "        vertical-align: top;\n",
       "    }\n",
       "\n",
       "    .dataframe thead th {\n",
       "        text-align: right;\n",
       "    }\n",
       "</style>\n",
       "<table border=\"1\" class=\"dataframe\">\n",
       "  <thead>\n",
       "    <tr style=\"text-align: right;\">\n",
       "      <th></th>\n",
       "      <th>test_example_id</th>\n",
       "      <th>predicted_category</th>\n",
       "    </tr>\n",
       "  </thead>\n",
       "  <tbody>\n",
       "    <tr>\n",
       "      <th>0</th>\n",
       "      <td>0</td>\n",
       "      <td>m</td>\n",
       "    </tr>\n",
       "    <tr>\n",
       "      <th>1</th>\n",
       "      <td>1</td>\n",
       "      <td>m</td>\n",
       "    </tr>\n",
       "    <tr>\n",
       "      <th>2</th>\n",
       "      <td>2</td>\n",
       "      <td>m</td>\n",
       "    </tr>\n",
       "    <tr>\n",
       "      <th>3</th>\n",
       "      <td>3</td>\n",
       "      <td>m</td>\n",
       "    </tr>\n",
       "    <tr>\n",
       "      <th>4</th>\n",
       "      <td>4</td>\n",
       "      <td>f</td>\n",
       "    </tr>\n",
       "  </tbody>\n",
       "</table>\n",
       "</div>"
      ],
      "text/plain": [
       "   test_example_id predicted_category\n",
       "0                0                  m\n",
       "1                1                  m\n",
       "2                2                  m\n",
       "3                3                  m\n",
       "4                4                  f"
      ]
     },
     "execution_count": 75,
     "metadata": {},
     "output_type": "execute_result"
    }
   ],
   "source": [
    "# Name: Haim Adrian\n",
    "# ID: 123456789\n",
    "# Run the algorithm using the methods declared above.\n",
    "# Note that hyperparameter tuning done outside Jupyter since I had to use a lot of resources. You can see Appendix 1 in the next cell.\n",
    "# f1 macro - 0.8124451406425128\n",
    "#               precision    recall  f1-score   support\n",
    "#            f       0.76      0.67      0.71        79\n",
    "#            m       0.90      0.93      0.91       244\n",
    "#\n",
    "#     accuracy                           0.87       323\n",
    "#    macro avg       0.83      0.80      0.81       323\n",
    "# weighted avg       0.86      0.87      0.86       323\n",
    "\n",
    "# Remove na and duplicates from train set\n",
    "df_train_no_dups = remove_duplicates(df_train)\n",
    "\n",
    "# Decouple train and test sets such that we have vectors (X) and target (y)\n",
    "X_train, y_train = decouple_data(df_train_no_dups)\n",
    "X_test = df_test['story']\n",
    "\n",
    "# Remove short documents from train set cause they reduced our score\n",
    "X_train, y_train = cleanup_short_docs(X_train, y_train)\n",
    "\n",
    "# Train SVM (SGDClassifier) - Fits using a Pipeline: TfidfVectorizer -> DenseTransformer -> SGDClassifier\n",
    "classifier = train_svm(X_train, y_train)\n",
    "\n",
    "# Predict and create a dataframe to save to file\n",
    "y_predicted = classifier.predict(X_test)\n",
    "df_predicted = df_test.drop('story', axis=1)\n",
    "df_predicted['predicted_category'] = y_predicted\n",
    "df_predicted.head()"
   ]
  },
  {
   "cell_type": "code",
   "execution_count": 297,
   "metadata": {},
   "outputs": [],
   "source": [
    "# Appendix 1: Hyperparameter tuning and classifier selection using Grid Search and Pipeline\n",
    "# Section for Grid Search. Do grid search for everything in one execution.\n",
    "# I have implemented another python file to execute the Grid Search on my 2 VMs with 32 cores and 128G RAM, \n",
    "# because executing this script takes a lot of time (days) and CPU. Then I used the output of VMs (log file) \n",
    "# to select the best setup (best params) for the assignment.\n",
    "# Input: \n",
    "#     X_train containing stories. (story column from input dataframe)\n",
    "#     y_train containing the class. (gender column from input dataframe)\n",
    "# Output: Best params and best f1 score (macro)\n",
    "def do_grid_search(X_train, y_train):\n",
    "    best = None\n",
    "    \n",
    "    # Define our pipeline shared params\n",
    "    param_grid = {\n",
    "        'vect__analyzer': ['word'],\n",
    "        'vect__tokenizer': [None, text_tokenization],\n",
    "        'vect__max_df': [1.0, 0.8],\n",
    "        'vect__min_df': [1, 0.01],\n",
    "        'vect__ngram_range': [(1, 1), (1, 2)],\n",
    "        'vect__token_pattern': ['[א-ת]+', '[א-ת][א-ת\"\\']*[א-ת]', '[א-תA-Za-z\"\\']+'],\n",
    "        'vect__norm': ['l2', 'l1'],\n",
    "        'norm__norm': ['l2', 'l1', 'max']\n",
    "    }\n",
    "    \n",
    "    # Define all classifier params, and select those we need in the loop below, for each classifier\n",
    "    param_grid_clf = {\n",
    "        'knn__n_neighbors': [3, 5, 7, 11, 21, 35],\n",
    "        'knn__weights': ['uniform', 'distance'],\n",
    "        'knn__metric': ['euclidean', 'manhattan', 'minkowski'],\n",
    "        'gauss_nb__var_smoothing': np.logspace(0, -9, num=100),\n",
    "        'multinomial_nb__alpha': [1e-4, 1e-3, 1e-2, 1e-1, 0.5, 1],\n",
    "        'decision_tree__criterion': ['gini', 'entropy'],\n",
    "        'decision_tree__max_depth': list(range(1, 11)),\n",
    "        'decision_tree__min_samples_split': list(range(5, 26, 5)),\n",
    "        'decision_tree__min_samples_leaf': list(range(1, 11)),\n",
    "        'sgd__alpha': [1e-4, 1e-3, 1e-2, 1e-1, 0.5, 1],\n",
    "        'sgd__loss': ['hinge', 'log', 'modified_huber', 'squared_hinge'],\n",
    "        'sgd__penalty': ['l2', 'l1', 'elasticnet'],\n",
    "        'sgd__max_iter': [10, 100, 1000],\n",
    "        'sgd__tol': [None, 1e-4, 1e-3, 1e-2],\n",
    "        'sgd__random_state': [42],\n",
    "        'linear_svc__penalty': ['l2', 'l1'],\n",
    "        'linear_svc__loss': ['hinge', 'squared_hinge'],\n",
    "        'linear_svc__max_iter': [10, 100, 1000],\n",
    "        'linear_svc__tol': [None, 1e-4, 1e-3, 1e-2],\n",
    "        'linear_svc__random_state': [42],\n",
    "        'perceptron__alpha': [1e-4, 1e-3, 1e-2, 1e-1, 0.5, 1],\n",
    "        'perceptron__penalty': ['l2', 'l1', 'elasticnet'],\n",
    "        'perceptron__max_iter': [10, 100, 1000],\n",
    "        'perceptron__tol': [None, 1e-4, 1e-3, 1e-2],\n",
    "        'perceptron__random_state': [42],\n",
    "        'mlp__activation': ['logistic', 'tanh', 'relu'],\n",
    "        'mlp__solver': ['lbfgs', 'sgd', 'adam'],\n",
    "        'mlp__alpha': [1e-4, 1e-3, 1e-2, 1e-1, 0.5, 1, 1e1, 1e2],\n",
    "        'mlp__max_iter': [10, 100, 200],\n",
    "        'mlp__tol': [None, 1e-4, 1e-3, 1e-2],\n",
    "        'mlp__random_state': [42],\n",
    "        'lr__penalty': ['l2', 'l1', 'elasticnet', 'none'],\n",
    "        'lr__solver': ['newton-cg', 'lbfgs', 'liblinear', 'sag', 'saga'],\n",
    "        'lr__max_iter': [10, 100, 200],\n",
    "        'lr__tol': [None, 1e-4, 1e-3, 1e-2],\n",
    "        'lr__random_state': [42]\n",
    "    }\n",
    "    \n",
    "    # Try several classifiers\n",
    "    for classifier in [\n",
    "            ('knn', KNeighborsClassifier()),  # 0.6510588046664101\n",
    "            ('gauss_nb', GaussianNB()),  # 0.6518249961444013\n",
    "            ('multinomial_nb', MultinomialNB()),  # 0.528506243911963\n",
    "            ('sgd', SGDClassifier()),  # 0.7393391828889679  BEST !!!!!!\n",
    "            ('linear_svc', LinearSVC()),  # 0.6122458054727767\n",
    "            ('perceptron', Perceptron()), # 0.6562832667599097\n",
    "            ('lr', linear_model.LogisticRegression()),  # 0.692924017717928\n",
    "            ('mlp', MLPClassifier()),  # 0.6812376337725976\n",
    "            ('decision_tree', DecisionTreeClassifier())  # 0.6375187370761644\n",
    "        ]:\n",
    "        # Prepare a pipeline using current classifier\n",
    "        text_clf = Pipeline(steps=[\n",
    "            ('vect', TfidfVectorizer()),\n",
    "            ('norm', preprocessing.Normalizer()),\n",
    "            # TfidfVectorizer creates an sparse table, but Naive Bayes doesn't expect an sparse table,\n",
    "            # hence there is this transformer which accepts an sparse table and transforms it to dense\n",
    "            (\"dense_transformer\", preprocessing.FunctionTransformer(lambda x: x.todense(), accept_sparse=True)),\n",
    "            classifier\n",
    "        ])\n",
    "        \n",
    "        # Create a new dictionary that contains both shared params and the params relevant for current classifier\n",
    "        params = param_grid | {k: v for k, v in param_grid_clf.items() if k.startswith(classifier[0])}\n",
    "        \n",
    "        # Do Grid Search\n",
    "        print(f'Running GridSearch Cross-Validation.\\nClassifier={classifier[0]}.')\n",
    "        grid_search = GridSearchCV(text_clf, \n",
    "                                   param_grid=params, \n",
    "                                   scoring='f1_macro', \n",
    "                                   n_jobs=-1, \n",
    "                                   cv=5, \n",
    "                                   verbose=1)\n",
    "        grid_search.fit(X_train, y_train)\n",
    "        \n",
    "        print(f'Best params for {classifier[0]}: {grid_search.best_params_}. \\nBest score: {grid_search.best_score_}')\n",
    "        if best is None or grid_search.best_score_ > best[1]:\n",
    "            best = (grid_search.best_params_, grid_search.best_score_)\n",
    "    \n",
    "    return best"
   ]
  },
  {
   "cell_type": "code",
   "execution_count": 298,
   "metadata": {},
   "outputs": [],
   "source": [
    "# Appendix 1, continue: Output of Grid Search. (Ordered, descending order)\n",
    "\n",
    "# Best params for sgd: {'sgd__alpha': 0.0001, 'sgd__loss': 'hinge', 'sgd__max_iter': 100.0, 'sgd__penalty': 'l1', 'sgd__random_state': 42, 'sgd__tol': 0.0001, 'vect__analyzer': 'word', 'vect__max_df': 1.0, 'vect__min_df': 1, 'vect__ngram_range': (1, 2), 'vect__norm': 'l2', 'vect__token_pattern': '[א-ת][א-ת\"\\']*[א-ת]', 'vect__tokenizer': <function text_tokenization at 0x000001D8148FBA60>}. \n",
    "# Best score: 0.7393391828889679\n",
    "\n",
    "# Best params for lr: {'lr__max_iter': 100.0, 'lr__penalty': 'none', 'lr__random_state': 42, 'lr__solver': 'lbfgs', 'lr__tol': 0.01, 'vect__analyzer': 'word', 'vect__max_df': 0.8, 'vect__min_df': 0.01, 'vect__ngram_range': (1, 2), 'vect__norm': 'l1', 'vect__token_pattern': '[א-ת][א-ת\"\\']*[א-ת]', 'vect__tokenizer': <function text_tokenization at 0x00000255517D09D0>}. \n",
    "# Best score: 0.692924017717928\n",
    "\n",
    "# Best params for mlp: {'mlp__activation': 'relu', 'mlp__alpha': 0.0001, 'mlp__max_iter': 100.0, 'mlp__random_state': 42, 'mlp__solver': 'lbfgs', 'mlp__tol': 0.0001, 'vect__analyzer': 'word', 'vect__max_df': 1.0, 'vect__min_df': 0.01, 'vect__ngram_range': (1, 2), 'vect__norm': 'l2', 'vect__token_pattern': '[א-ת][א-ת\"\\']*[א-ת]', 'vect__tokenizer': None}. \n",
    "# Best score: 0.6812376337725976\n",
    "\n",
    "# Best params for perceptron: {'perceptron__alpha': 0.0001, 'perceptron__max_iter': 100.0, 'perceptron__penalty': 'l1', 'perceptron__random_state': 42, 'perceptron__tol': 0.0001, 'vect__analyzer': 'word', 'vect__max_df': 1.0, 'vect__min_df': 1, 'vect__ngram_range': (1, 2), 'vect__norm': 'l2', 'vect__token_pattern': '[א-ת][א-ת\"\\']*[א-ת]', 'vect__tokenizer': <function text_tokenization at 0x00000255517D09D0>}. \n",
    "# Best score: 0.6562832667599097\n",
    "\n",
    "# Best params for gauss_nb: {'gauss_nb__var_smoothing': 0.0071968567300115215, 'vect__analyzer': 'word', 'vect__max_df': 1.0, 'vect__min_df': 1, 'vect__ngram_range': (1, 2), 'vect__norm': 'l1', 'vect__token_pattern': '[א-ת][א-ת\"\\']*[א-ת]', 'vect__tokenizer': None}. \n",
    "# Best score: 0.6518249961444013\n",
    "\n",
    "# Best params for knn: {'knn__metric': 'manhattan', 'knn__n_neighbors': 5, 'knn__weights': 'distance', 'vect__analyzer': 'word', 'vect__max_df': 1.0, 'vect__min_df': 1, 'vect__ngram_range': (1, 2), 'vect__norm': 'l1', 'vect__token_pattern': '[א-ת][א-ת\"\\']*[א-ת]', 'vect__tokenizer': None}. \n",
    "# Best score: 0.6510588046664101\n",
    "\n",
    "# Best params for decision_tree: {'decision_tree__criterion': 'entropy', 'decision_tree__max_depth': 9, 'decision_tree__min_samples_leaf': 3, 'decision_tree__min_samples_split': 25, 'vect__analyzer': 'word', 'vect__max_df': 0.8, 'vect__min_df': 1, 'vect__ngram_range': (1, 2), 'vect__norm': 'l1', 'vect__token_pattern': '[א-ת][א-ת\"\\']*[א-ת]', 'vect__tokenizer': None}. \n",
    "# Best score: 0.6375187370761644\n",
    "\n",
    "# Best params for linear_svc: {'linear_svc__loss': 'squared_hinge', 'linear_svc__max_iter': 10.0, 'linear_svc__penalty': 'l2', 'linear_svc__random_state': 42, 'linear_svc__tol': 0.0001, 'vect__analyzer': 'word', 'vect__max_df': 0.8, 'vect__min_df': 0.01, 'vect__ngram_range': (1, 2), 'vect__norm': 'l2', 'vect__token_pattern': '[א-ת][א-ת\"\\']*[א-ת]', 'vect__tokenizer': None}. \n",
    "# Best score: 0.6122458054727767\n",
    "\n",
    "# Best params for multinomial_nb: {'multinomial_nb__alpha': 0.01, 'vect__analyzer': 'word', 'vect__max_df': 1.0, 'vect__min_df': 0.01, 'vect__ngram_range': (1, 2), 'vect__norm': 'l2', 'vect__token_pattern': '[א-ת][א-ת\"\\']*[א-ת]', 'vect__tokenizer': None}. \n",
    "# Best score: 0.528506243911963"
   ]
  },
  {
   "cell_type": "code",
   "execution_count": 53,
   "metadata": {},
   "outputs": [
    {
     "data": {
      "text/html": [
       "<div>\n",
       "<style scoped>\n",
       "    .dataframe tbody tr th:only-of-type {\n",
       "        vertical-align: middle;\n",
       "    }\n",
       "\n",
       "    .dataframe tbody tr th {\n",
       "        vertical-align: top;\n",
       "    }\n",
       "\n",
       "    .dataframe thead th {\n",
       "        text-align: right;\n",
       "    }\n",
       "</style>\n",
       "<table border=\"1\" class=\"dataframe\">\n",
       "  <thead>\n",
       "    <tr style=\"text-align: right;\">\n",
       "      <th></th>\n",
       "      <th>story</th>\n",
       "      <th>gender</th>\n",
       "    </tr>\n",
       "  </thead>\n",
       "  <tbody>\n",
       "    <tr>\n",
       "      <th>0</th>\n",
       "      <td>כשחבר הזמין אותי לחול, לא באמת חשבתי שזה יקרה,...</td>\n",
       "      <td>m</td>\n",
       "    </tr>\n",
       "    <tr>\n",
       "      <th>1</th>\n",
       "      <td>לפני שהתגייסתי לצבא עשיתי כל מני מיונים ליחידו...</td>\n",
       "      <td>m</td>\n",
       "    </tr>\n",
       "    <tr>\n",
       "      <th>2</th>\n",
       "      <td>מאז שהתחילו הלימודים חלומו של כל סטודנט זה הפנ...</td>\n",
       "      <td>f</td>\n",
       "    </tr>\n",
       "    <tr>\n",
       "      <th>3</th>\n",
       "      <td>כשהייתי ילד, מטוסים היה הדבר שהכי ריתק אותי. ב...</td>\n",
       "      <td>m</td>\n",
       "    </tr>\n",
       "    <tr>\n",
       "      <th>4</th>\n",
       "      <td>‏הייתי מדריכה בכפר נוער ומתאם הכפר היינו צריכי...</td>\n",
       "      <td>f</td>\n",
       "    </tr>\n",
       "  </tbody>\n",
       "</table>\n",
       "</div>"
      ],
      "text/plain": [
       "                                               story gender\n",
       "0  כשחבר הזמין אותי לחול, לא באמת חשבתי שזה יקרה,...      m\n",
       "1  לפני שהתגייסתי לצבא עשיתי כל מני מיונים ליחידו...      m\n",
       "2  מאז שהתחילו הלימודים חלומו של כל סטודנט זה הפנ...      f\n",
       "3  כשהייתי ילד, מטוסים היה הדבר שהכי ריתק אותי. ב...      m\n",
       "4  ‏הייתי מדריכה בכפר נוער ומתאם הכפר היינו צריכי...      f"
      ]
     },
     "execution_count": 53,
     "metadata": {},
     "output_type": "execute_result"
    },
    {
     "name": "stdout",
     "output_type": "stream",
     "text": [
      "Before remove: (753, 2)\n",
      "After remove: (750, 2)\n"
     ]
    },
    {
     "data": {
      "text/plain": [
       "['כשחבר', 'הזמין', 'אותי', 'לחול', 'לא']"
      ]
     },
     "execution_count": 53,
     "metadata": {},
     "output_type": "execute_result"
    },
    {
     "name": "stdout",
     "output_type": "stream",
     "text": [
      "34526 tokens using Hebrew tokenizer.\n",
      "34467 tokens using pattern: [א-ת]+.\n",
      "35093 tokens using pattern: [א-ת\"']+.\n",
      "35293 tokens using pattern: [א-תA-Za-z\"']+.\n",
      "35392 tokens using pattern: [א-תA-Za-z\"':\\\\]+.\n",
      "35739 tokens using pattern: [א-תA-Za-z0-9\"':\\\\]+.\n",
      "35313 tokens using pattern: [א-תA-Za-z0-9][א-תA-Za-z0-9\"':\\\\\\.]*[א-תA-Za-z0-9].\n"
     ]
    }
   ],
   "source": [
    "# Appendix 2, see data\n",
    "df_train_no_dups = remove_duplicates(df_train)\n",
    "df_train_no_dups.head()\n",
    "print('Before remove:', df_train.shape)\n",
    "print('After remove:', df_train_no_dups.shape)\n",
    "\n",
    "tokens = text_tokenization(df_train.iloc[0][0])\n",
    "tokens[0:5]\n",
    "\n",
    "X_train, y_train = decouple_data(df_train_no_dups)\n",
    "print(f\"{len(TfidfVectorizer(tokenizer=text_tokenization).fit(X_train, y_train).get_feature_names())} tokens using Hebrew tokenizer.\")\n",
    "pattern = r'[א-ת]+'\n",
    "print(f\"{len(TfidfVectorizer(token_pattern=pattern).fit(X_train, y_train).get_feature_names())} tokens using pattern: {pattern}.\")\n",
    "pattern = '[א-ת\"\\']+'\n",
    "print(f'{len(TfidfVectorizer(token_pattern=pattern).fit(X_train, y_train).get_feature_names())} tokens using pattern: {pattern}.')\n",
    "pattern = '[א-תA-Za-z\"\\']+'\n",
    "print(f'{len(TfidfVectorizer(token_pattern=pattern).fit(X_train, y_train).get_feature_names())} tokens using pattern: {pattern}.')\n",
    "pattern = '[א-תA-Za-z\"\\':\\\\\\\\]+'\n",
    "print(f'{len(TfidfVectorizer(token_pattern=pattern).fit(X_train, y_train).get_feature_names())} tokens using pattern: {pattern}.')\n",
    "pattern = '[א-תA-Za-z0-9\"\\':\\\\\\\\]+'\n",
    "print(f'{len(TfidfVectorizer(token_pattern=pattern).fit(X_train, y_train).get_feature_names())} tokens using pattern: {pattern}.')\n",
    "pattern = '[א-תA-Za-z0-9][א-תA-Za-z0-9\"\\':\\\\\\\\\\.]*[א-תA-Za-z0-9]'  # Allow dots within token, and ignore words with less than 2 chars\n",
    "print(f'{len(TfidfVectorizer(token_pattern=pattern).fit(X_train, y_train).get_feature_names())} tokens using pattern: {pattern}.')"
   ]
  },
  {
   "cell_type": "markdown",
   "metadata": {},
   "source": [
    "### Save output to csv\n",
    "After you're done save your output to the 'classification_results.csv' csv file.<br/>\n",
    "We assume that the dataframe with your results contain the following columns:\n",
    "* column 1 (left column): 'test_example_id'  - the same id associated to each of the test stories to be predicted.\n",
    "* column 2 (right column): 'predicted_category' - the predicted gender value for each of the associated story. \n",
    "\n",
    "Assuming your predicted values are in the `df_predicted` dataframe, you should save you're results as following:"
   ]
  },
  {
   "cell_type": "code",
   "execution_count": 74,
   "metadata": {},
   "outputs": [],
   "source": [
    "df_predicted.to_csv('classification_results.csv', index=False)"
   ]
  },
  {
   "cell_type": "code",
   "execution_count": null,
   "metadata": {},
   "outputs": [],
   "source": []
  }
 ],
 "metadata": {
  "celltoolbar": "Create Assignment",
  "kernelspec": {
   "display_name": "Python 3 (ipykernel)",
   "language": "python",
   "name": "python3"
  },
  "language_info": {
   "codemirror_mode": {
    "name": "ipython",
    "version": 3
   },
   "file_extension": ".py",
   "mimetype": "text/x-python",
   "name": "python",
   "nbconvert_exporter": "python",
   "pygments_lexer": "ipython3",
   "version": "3.9.7"
  }
 },
 "nbformat": 4,
 "nbformat_minor": 4
}
