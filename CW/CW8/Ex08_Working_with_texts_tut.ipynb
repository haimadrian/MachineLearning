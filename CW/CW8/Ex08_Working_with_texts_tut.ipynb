{
 "cells": [
  {
   "cell_type": "markdown",
   "metadata": {},
   "source": [
    "Credits: This notebook contains an excerpt from the [Python Data Science Handbook]\n",
    "by Jake VanderPlas;\n",
    "\n",
    "*The text is released under the [CC-BY-NC-ND license](https://creativecommons.org/licenses/by-nc-nd/3.0/us/legalcode), and code is released under the [MIT license](https://opensource.org/licenses/MIT). <br/>\n",
    "If you find this content useful, please consider supporting the work by [buying the book](http://shop.oreilly.com/product/0636920034919.do)!*"
   ]
  },
  {
   "cell_type": "markdown",
   "metadata": {},
   "source": [
    "<a id=\"home\"></a>\n",
    "# Working with Text Data\n",
    "\n",
    "<u>[Part 1: Basic python Strings](#1)</u><br/>\n",
    "\n",
    "| Section | Section-name | Section | Section-name | Section | Section-name | \n",
    "| :- | :- | :- | :- | :- | :- | \n",
    "| 1.a. | [Basic strings](#1a) |  1.b. | [String indexing](#1b) |  1.c. | [Basic string operations](#1c) | \n",
    "| 1.d. | [Finding a substring](#1d) | 1.e. | [String transformations](#1e) |  1.f. | [split and join](#1f) | \n",
    "| 1.g. | [String ops via list comprehensions](#1g) | 1-Ex | [Exercise 1 - Python Strings](#ex1) |\n",
    "\n",
    "<u>[Part 2: Python regular expressions - Basics](#2)</u><br/>\n",
    "\n",
    "| Section | Section-name | Section | Section-name | Section | Section-name | \n",
    "| :- | :- | :- | :- | :- | :- | \n",
    "| 2.a. | [the re Module](#2a) |  2.b. | [Simple (syntax) Examples](#2b) |  2.c. | [the 'search' function](#2c) | \n",
    "| 2.d. | [the 'findall' function](#2d) | 2.e. | [the 'split' function](#2e) | 2.f. | [Character sets and ranges](#2f) | \n",
    "| 2.g. | [Escape codes](#2g) |  2.h. | [Or expression](#2h) | Ex2 | [Exercise 2 - Regular Expressions](#ex2) | \n",
    "\n",
    "<u> [Part 3: Text in Pandas Series](#3) </u><br/>\n",
    "\n",
    "| Section | Section-name | Section | Section-name | Section | Section-name | \n",
    "| :- | :- | :- | :- | :- | :- |  \n",
    "| 3.a. | [Pandas objects containing strings](#3a) | 3.b. | [Series string methods](#3b) | 3.c. | [Using pandas string methods](#3c) |\n",
    "| 3.d. | [Series and regular expressions](#3d) | 3.e. | [Series  misc. string methods](#3e) | 3.f. | [Series item access and slicing](#3e) | \n",
    "| 3.g. | [Indicator variables](#3g) | "
   ]
  },
  {
   "cell_type": "markdown",
   "metadata": {},
   "source": [
    "## Import python modules"
   ]
  },
  {
   "cell_type": "code",
   "execution_count": 1,
   "metadata": {},
   "outputs": [],
   "source": [
    "# --------------------------------------\n",
    "import os\n",
    "import warnings\n",
    "import re\n",
    "\n",
    "import numpy as np\n",
    "import pandas as pd\n",
    "# --------------------------------------\n",
    "import seaborn as sns\n",
    "import matplotlib.pyplot as plt\n",
    "# --------------------------------------\n",
    "# show several outputs in one cell. \n",
    "from IPython.core.interactiveshell import InteractiveShell\n",
    "InteractiveShell.ast_node_interactivity = \"all\"\n",
    "# --------------------------------------\n",
    "warnings.simplefilter(\"ignore\")\n",
    "%matplotlib inline\n",
    "# --------------------------------------"
   ]
  },
  {
   "cell_type": "markdown",
   "metadata": {},
   "source": [
    "<a id=\"1\"></a>\n",
    "## 1. Basic Python Strings"
   ]
  },
  {
   "cell_type": "markdown",
   "metadata": {},
   "source": [
    "[Go to the beginning of the notebook](#home)\n",
    "<a id=\"1a\"></a>\n",
    "#### 1.a. Basic strings"
   ]
  },
  {
   "cell_type": "code",
   "execution_count": 2,
   "metadata": {},
   "outputs": [
    {
     "name": "stdout",
     "output_type": "stream",
     "text": [
      "A string is contained within 2 quotes:\n"
     ]
    },
    {
     "data": {
      "text/plain": [
       "'John Smith'"
      ]
     },
     "execution_count": 2,
     "metadata": {},
     "output_type": "execute_result"
    },
    {
     "name": "stdout",
     "output_type": "stream",
     "text": [
      "You can also use single  quotes:\n"
     ]
    },
    {
     "data": {
      "text/plain": [
       "'John Smith'"
      ]
     },
     "execution_count": 2,
     "metadata": {},
     "output_type": "execute_result"
    },
    {
     "name": "stdout",
     "output_type": "stream",
     "text": [
      "A string can be spaces and digits:\n"
     ]
    },
    {
     "data": {
      "text/plain": [
       "'1 2 3 4 5 6 '"
      ]
     },
     "execution_count": 2,
     "metadata": {},
     "output_type": "execute_result"
    },
    {
     "name": "stdout",
     "output_type": "stream",
     "text": [
      "A string can also be special characters:\n"
     ]
    },
    {
     "data": {
      "text/plain": [
       "'@#2_#]&*^%$'"
      ]
     },
     "execution_count": 2,
     "metadata": {},
     "output_type": "execute_result"
    }
   ],
   "source": [
    "print('A string is contained within 2 quotes:')\n",
    "\"John Smith\"\n",
    "\n",
    "print('You can also use single  quotes:')\n",
    "'John Smith'\n",
    "\n",
    "print('A string can be spaces and digits:') \n",
    "'1 2 3 4 5 6 '\n",
    "\n",
    "print('A string can also be special characters:') \n",
    "'@#2_#]&*^%$'"
   ]
  },
  {
   "cell_type": "code",
   "execution_count": 3,
   "metadata": {},
   "outputs": [
    {
     "data": {
      "text/plain": [
       "'\\nexplanation \\nof \\nsomething\\n'"
      ]
     },
     "execution_count": 3,
     "metadata": {},
     "output_type": "execute_result"
    },
    {
     "name": "stdout",
     "output_type": "stream",
     "text": [
      "Hi there \n",
      "Hi again\n",
      "Bye\n"
     ]
    }
   ],
   "source": [
    "# multiline string\n",
    "hi = \"\"\"Hi there \n",
    "Hi again\n",
    "Bye\"\"\"\n",
    "'''\n",
    "explanation \n",
    "of \n",
    "something\n",
    "'''\n",
    "print(hi)  "
   ]
  },
  {
   "cell_type": "markdown",
   "metadata": {},
   "source": [
    "[Go to the beginning of the notebook](#home)\n",
    "<a id=\"1b\"></a>\n",
    "#### 1.b. String indexing"
   ]
  },
  {
   "cell_type": "code",
   "execution_count": 4,
   "metadata": {},
   "outputs": [
    {
     "name": "stdout",
     "output_type": "stream",
     "text": [
      "Name       : Jack Smith\n",
      "len(Name)  : 10\n",
      "Name[5]    : -----S\n",
      "Name[-1]   : ---------h\n",
      "Name[0:4]  : Jack\n",
      "Name[::2]  : Jc mt\n",
      "Name[::-1] : htimS kcaJ\n",
      "Name[::-2] : hiSka\n",
      "Name[1:7:2]: akS\n",
      "hi hi hi \n"
     ]
    }
   ],
   "source": [
    "Name= \"Jack Smith\"\n",
    "len_min1=len(Name)-1\n",
    "print('Name       : '+Name)\n",
    "print('len(Name)  : %d' %(len(Name)))\n",
    "print('Name[5]    : '+'-'*5+Name[5])\n",
    "print('Name[-1]   : '+'-'*len_min1+Name[-1])\n",
    "print('Name[0:4]  : '+Name[0:4])\n",
    "print('Name[::2]  : '+Name[::2])\n",
    "print('Name[::-1] : '+Name[::-1])\n",
    "print('Name[::-2] : '+Name[::-2])\n",
    "print('Name[1:7:2]: '+Name[1:7:2])\n",
    "print('hi '*3)"
   ]
  },
  {
   "cell_type": "markdown",
   "metadata": {},
   "source": [
    "[Go to the beginning of the notebook](#home)\n",
    "<a id=\"1c\"></a>\n",
    "#### 1.c. Basic string operations\n",
    "You can find a list of all string methods in the [documentation](https://docs.python.org/2/library/stdtypes.html#string-methods)."
   ]
  },
  {
   "cell_type": "code",
   "execution_count": 5,
   "metadata": {},
   "outputs": [
    {
     "name": "stdout",
     "output_type": "stream",
     "text": [
      "he'llo\n",
      "He'llo\n",
      "HE'LLO\n",
      " he'llo\n",
      " he'llo\n",
      "he'(ell)(ell)o\n",
      "he'(ell)lo\n",
      "hello\n",
      "world\n",
      "hi my name is John\n",
      "שלום לכולם\n",
      "שלום לכולם,\n"
     ]
    }
   ],
   "source": [
    "s = \"he'llo\"\n",
    "print(s)\n",
    "print (s.capitalize()  )# Capitalize a string; prints \"Hello\"\n",
    "print (s.upper()      ) # Convert a string to uppercase; prints \"HELLO\"\n",
    "print (s.rjust(7)    )  # Right-justify a string, padding with spaces; prints \"  hello\"\n",
    "print (s.center(7)  )   # Center a string, padding with spaces; prints \" hello \"\n",
    "print (s.replace('l', '(ell)'))  # Replace all instances of one substring with another;\n",
    "#                                  prints \"he(ell)(ell)o\"\n",
    "print (s.replace('l', '(ell)',1)) \n",
    "print (s.replace(\"'\",\"\"))\n",
    "print ('  world '.strip())  # Strip leading and trailing whitespace; prints \"world\"\n",
    "print (', hi my name is John.'.strip(',. '))\n",
    "print ('שלום לכולם,'.rstrip(','))\n",
    "print ('שלום לכולם,'.lstrip(','))"
   ]
  },
  {
   "cell_type": "markdown",
   "metadata": {},
   "source": [
    "[Go to the beginning of the notebook](#home)\n",
    "<a id=\"1d\"></a>\n",
    "#### 1.d. Finding a substring"
   ]
  },
  {
   "cell_type": "code",
   "execution_count": 6,
   "metadata": {},
   "outputs": [
    {
     "data": {
      "text/plain": [
       "'Jack Smith'"
      ]
     },
     "execution_count": 6,
     "metadata": {},
     "output_type": "execute_result"
    },
    {
     "data": {
      "text/plain": [
       "2"
      ]
     },
     "execution_count": 6,
     "metadata": {},
     "output_type": "execute_result"
    }
   ],
   "source": [
    "Name\n",
    "Name.find('ck')"
   ]
  },
  {
   "cell_type": "code",
   "execution_count": 7,
   "metadata": {},
   "outputs": [
    {
     "data": {
      "text/plain": [
       "'Jack Smith'"
      ]
     },
     "execution_count": 7,
     "metadata": {},
     "output_type": "execute_result"
    },
    {
     "data": {
      "text/plain": [
       "-1"
      ]
     },
     "execution_count": 7,
     "metadata": {},
     "output_type": "execute_result"
    }
   ],
   "source": [
    "Name\n",
    "Name.find('lm')"
   ]
  },
  {
   "cell_type": "markdown",
   "metadata": {},
   "source": [
    "[Go to the beginning of the notebook](#home)\n",
    "<a id=\"1e\"></a>\n",
    "#### 1.e. String transformations"
   ]
  },
  {
   "cell_type": "code",
   "execution_count": 11,
   "metadata": {},
   "outputs": [
    {
     "data": {
      "text/plain": [
       "65"
      ]
     },
     "execution_count": 11,
     "metadata": {},
     "output_type": "execute_result"
    },
    {
     "data": {
      "text/plain": [
       "{66: 97, 65: 98, 67: 99, 68: 100}"
      ]
     },
     "execution_count": 11,
     "metadata": {},
     "output_type": "execute_result"
    },
    {
     "data": {
      "text/plain": [
       "'string with ABCE'"
      ]
     },
     "execution_count": 11,
     "metadata": {},
     "output_type": "execute_result"
    },
    {
     "data": {
      "text/plain": [
       "'string with bacE'"
      ]
     },
     "execution_count": 11,
     "metadata": {},
     "output_type": "execute_result"
    }
   ],
   "source": [
    "ord('A')\n",
    "some_str='string with ABCE'\n",
    "# Map between one character to another, such that a character can be replaced by another when calling str.translate(translation)\n",
    "translation =some_str.maketrans('BACD', 'abcd')\n",
    "translation\n",
    "some_str\n",
    "some_str.translate(translation)"
   ]
  },
  {
   "cell_type": "code",
   "execution_count": 12,
   "metadata": {},
   "outputs": [
    {
     "data": {
      "text/plain": [
       "1488"
      ]
     },
     "execution_count": 12,
     "metadata": {},
     "output_type": "execute_result"
    },
    {
     "data": {
      "text/plain": [
       "{1488: 97, 1489: 98, 1490: 99}"
      ]
     },
     "execution_count": 12,
     "metadata": {},
     "output_type": "execute_result"
    },
    {
     "data": {
      "text/plain": [
       "'Hebrew Letters: אבג'"
      ]
     },
     "execution_count": 12,
     "metadata": {},
     "output_type": "execute_result"
    },
    {
     "data": {
      "text/plain": [
       "'Hebrew Letters: abc'"
      ]
     },
     "execution_count": 12,
     "metadata": {},
     "output_type": "execute_result"
    }
   ],
   "source": [
    "ord('א')\n",
    "some_str='Hebrew Letters: אבג'\n",
    "translation = s.maketrans('אבג', 'abc')\n",
    "translation\n",
    "some_str\n",
    "some_str.translate(translation)"
   ]
  },
  {
   "cell_type": "markdown",
   "metadata": {},
   "source": [
    "[Go to the beginning of the notebook](#home)\n",
    "<a id=\"1f\"></a>\n",
    "#### 1.f. split and join"
   ]
  },
  {
   "cell_type": "code",
   "execution_count": 13,
   "metadata": {},
   "outputs": [
    {
     "data": {
      "text/plain": [
       "'This is a sentence'"
      ]
     },
     "execution_count": 13,
     "metadata": {},
     "output_type": "execute_result"
    },
    {
     "data": {
      "text/plain": [
       "['This', 'is', 'a', 'sentence']"
      ]
     },
     "execution_count": 13,
     "metadata": {},
     "output_type": "execute_result"
    },
    {
     "data": {
      "text/plain": [
       "'This is, a sentence'"
      ]
     },
     "execution_count": 13,
     "metadata": {},
     "output_type": "execute_result"
    },
    {
     "data": {
      "text/plain": [
       "['This is', 'a sentence']"
      ]
     },
     "execution_count": 13,
     "metadata": {},
     "output_type": "execute_result"
    }
   ],
   "source": [
    "str_sentence  = 'This is a sentence'\n",
    "str_sentence2 = 'This is, a sentence'\n",
    "str_sentence\n",
    "str_sentence.split(' ')\n",
    "str_sentence2\n",
    "str_sentence2.split(', ')"
   ]
  },
  {
   "cell_type": "code",
   "execution_count": 14,
   "metadata": {},
   "outputs": [
    {
     "data": {
      "text/plain": [
       "['This', 'is', 'a', 'sentence', '.']"
      ]
     },
     "execution_count": 14,
     "metadata": {},
     "output_type": "execute_result"
    },
    {
     "data": {
      "text/plain": [
       "'This is a sentence .'"
      ]
     },
     "execution_count": 14,
     "metadata": {},
     "output_type": "execute_result"
    }
   ],
   "source": [
    "normalized_tokens = ['This', 'is', 'a', 'sentence','.']\n",
    "normalized_tokens\n",
    "norm_sentence = ' '.join(normalized_tokens)\n",
    "norm_sentence"
   ]
  },
  {
   "cell_type": "markdown",
   "metadata": {},
   "source": [
    "[Go to the beginning of the notebook](#home)\n",
    "<a id=\"1g\"></a>\n",
    "#### 1.g. String operations via list comprehensions\n",
    "Use list comprehensions on simple python lists"
   ]
  },
  {
   "cell_type": "code",
   "execution_count": 15,
   "metadata": {},
   "outputs": [
    {
     "data": {
      "text/plain": [
       "['peter', 'Paul', 'MARY', 'gUIDO']"
      ]
     },
     "execution_count": 15,
     "metadata": {},
     "output_type": "execute_result"
    },
    {
     "data": {
      "text/plain": [
       "['Peter', 'Paul', 'Mary', 'Guido']"
      ]
     },
     "execution_count": 15,
     "metadata": {},
     "output_type": "execute_result"
    },
    {
     "data": {
      "text/plain": [
       "['Meter', 'Paul', 'Mary', 'Guido']"
      ]
     },
     "execution_count": 15,
     "metadata": {},
     "output_type": "execute_result"
    },
    {
     "data": {
      "text/plain": [
       "'Meter Paul Mary Guido'"
      ]
     },
     "execution_count": 15,
     "metadata": {},
     "output_type": "execute_result"
    }
   ],
   "source": [
    "lst_names1 = ['peter', 'Paul', 'MARY', 'gUIDO']\n",
    "lst_names1\n",
    "[s.capitalize() for s in lst_names1]\n",
    "lst2=[name.capitalize().replace('Pe','Me') for name in lst_names1]\n",
    "lst2\n",
    "' '.join(lst2)"
   ]
  },
  {
   "cell_type": "markdown",
   "metadata": {},
   "source": [
    "This is perhaps sufficient to work with some data, <br/>\n",
    "but **it will break if there are any missing values**.<br/>\n",
    "For example:"
   ]
  },
  {
   "cell_type": "code",
   "execution_count": 16,
   "metadata": {},
   "outputs": [
    {
     "data": {
      "text/plain": [
       "['Peter', 'Paul', 'Mary', 'Guido']"
      ]
     },
     "execution_count": 16,
     "metadata": {},
     "output_type": "execute_result"
    }
   ],
   "source": [
    "lst_names2 = ['peter', 'Paul', 'MARY', 'gUIDO']\n",
    "[s.capitalize() for s in lst_names2]"
   ]
  },
  {
   "cell_type": "markdown",
   "metadata": {},
   "source": [
    "[Go to the beginning of the notebook](#home)\n",
    "<a id=\"ex1\"></a>\n",
    "### Exercise 1\n",
    "This Exercise involves a text `in_text`, which you need to manipulate, based on the above material. \n",
    "1. Replace every double quotation(\") with a single quotation (')\n",
    "2. Remove the spaces and punctuation (,;.': ) from the beginning and end\n",
    "3. Remove all punctuation  (,;.:), besides single quotation (').\n",
    "4. transfer Hebrew letters to the corresponding in English (א --> a; ב --> b, etc.)\n",
    "   * assume there are NO \"suffix\" Hebrew letters (ךםןףץ)\n",
    "   * map to the first 22 English letters\n",
    "5. split the text to words. Assume that space separates between words\n",
    "6. Remove empty words\n",
    "7. Capitalize every second word and the rest of the words turn to lower case\n",
    "7. Reverse the order of the words\n",
    "8. Join and print the sentence (sentence with the reverse order)"
   ]
  },
  {
   "cell_type": "code",
   "execution_count": 56,
   "metadata": {},
   "outputs": [
    {
     "name": "stdout",
     "output_type": "stream",
     "text": [
      "  Ammm :this is a text.  nothing \"really   important\"; פשוט   טקסט, that's that. ...  \n"
     ]
    }
   ],
   "source": [
    "in_text = \"\"\"  Ammm :this is a text.  nothing \"really   important\"; פשוט   טקסט, that's that. ...  \"\"\"\n",
    "print(in_text)"
   ]
  },
  {
   "cell_type": "code",
   "execution_count": 58,
   "metadata": {},
   "outputs": [
    {
     "name": "stdout",
     "output_type": "stream",
     "text": [
      "  Ammm :this is a text.  nothing \"really   important\"; פשוט   טקסט, that's that. ...                 (original)\n",
      "  Ammm :this is a text.  nothing 'really   important'; פשוט   טקסט, that's that. ...                 (' instead of \")\n",
      "Ammm :this is a text.  nothing \"really   important\"; פשוט   טקסט, that's that                        (No punctuation at begin/end)\n",
      "  Ammm this is a text  nothing \"really   important\" פשוט   טקסט that's that                          (No punctuation everywhere)\n",
      "  Ammm this is a text  nothing \"really   important\" פשוט   טקסט that's that                          (No punctuation everywhere)\n",
      "  Ammm :this is a text.  nothing \"really   important\"; qufi   isoi, that's that. ...                 (Hebrew Translated)\n",
      "['', '', 'Ammm', ':this', 'is', 'a', 'text.', '', 'nothing', '\"really', '', '', 'important\";', 'פשוט', '', '', 'טקסט,', \"that's\", 'that.', '...', '', ''] (Split by space)\n",
      "['Ammm', ':this', 'is', 'a', 'text.', 'nothing', '\"really', 'important\";', 'פשוט', 'טקסט,', \"that's\", 'that.', '...'] (Split by space, skip empty)\n",
      "['', '', 'ammm', ':this', 'is', 'A', 'text.', '', 'nothing', '\"really', '', '', 'important\";', 'פשוט', '', '', 'טקסט,', \"That's\", 'that.', '...', '', ''] (#7)\n",
      "['', '', '...', 'that.', \"that's\", 'טקסט,', '', '', 'פשוט', 'important\";', '', '', '\"really', 'nothing', '', 'text.', 'a', 'is', ':this', 'Ammm', '', ''] (Words in reverse order)\n",
      "  ... that. that's טקסט,   פשוט important\";   \"really nothing  text. a is :this Ammm   (Words in reverse order as sentence)\n"
     ]
    }
   ],
   "source": [
    "# your solution:\n",
    "print(in_text.ljust(100), '(original)')\n",
    "print(in_text.replace('\"', \"'\").ljust(100), '(\\' instead of \")')\n",
    "print(in_text.strip(' ,:.;').ljust(100), '(No punctuation at begin/end)')\n",
    "\n",
    "import re\n",
    "print(re.sub(',|:|\\.|;', '', in_text).ljust(100), '(No punctuation everywhere)')\n",
    "print(in_text.replace(',', '').replace(':', '').replace('.', '').replace(';', '').ljust(100), '(No punctuation everywhere)')\n",
    "\n",
    "translation = in_text.maketrans('אבגדהוזחטיכלמנסעפצקרשת', 'abcdefghijklmnopqrstuv')\n",
    "print(in_text.translate(translation).ljust(100), '(Hebrew Translated)')\n",
    "\n",
    "words = in_text.split(' ')\n",
    "print(words, '(Split by space)')\n",
    "print([s for s in words if len(s) > 0], '(Split by space, skip empty)')\n",
    "print([words[i].capitalize() if i % 2 == 1 else words[i].lower() for i in range(len(words))], '(#7)')\n",
    "print(words[::-1], '(Words in reverse order)')\n",
    "print(' '.join(words[::-1]), '(Words in reverse order as sentence)')"
   ]
  },
  {
   "cell_type": "code",
   "execution_count": null,
   "metadata": {},
   "outputs": [],
   "source": []
  },
  {
   "cell_type": "code",
   "execution_count": null,
   "metadata": {},
   "outputs": [],
   "source": []
  },
  {
   "cell_type": "markdown",
   "metadata": {},
   "source": [
    "[Go to the beginning of the notebook](#home)\n",
    "<a id=\"2\"></a>\n",
    "## 2.Python regular expressions - Basics"
   ]
  },
  {
   "cell_type": "markdown",
   "metadata": {},
   "source": [
    "**This Section covers the following**:\n",
    "+ Get familiar with Regular Expressions\n",
    "- Basic use of main `re` module functions: `search`,`findall`,`split`,`sub` and `match` object.\n",
    "- Practice basic regular expression syntax\n",
    "- Get familiar with character sets and character ranges ([] operator)\n",
    "- Get familiar with special escape codes (such as `\\w`,`\\d`, etc)\n",
    "- Or expression\n",
    "- Useful online regexp debugger"
   ]
  },
  {
   "cell_type": "markdown",
   "metadata": {},
   "source": [
    "In this part of our exercise we'll learn about regular expressions. <br/>\n",
    "Regular expressions are text matching patterns described with a formal syntax. <br/>\n",
    "You'll often hear regular expressions referred to as 'regex' or 'regexp' in conversation. <br/>\n",
    "They are very useful to find (and replace) text, to extract structured information such as <br/>\n",
    "e-mails, phone numbers, etc., or for cleaning up text that was entered by humans, and many other applications. \n",
    "\n",
    "In Python, regular expressions are available as part of the [`re`](https://docs.python.org/3/library/re.html#module-re) module. <br/>\n",
    "There are various [good](https://docs.python.org/3/howto/regex.html) [tutorials](https://developers.google.com/edu/python/regular-expressions) [available](https://github.com/tesla809/intro-to-python-jupyter-notebooks/blob/master/47-Regular%20Expressions.ipynb) on which this document is partially based. "
   ]
  },
  {
   "cell_type": "markdown",
   "metadata": {},
   "source": [
    "[Go to the beginning of the notebook](#home)\n",
    "<a id=\"2a\"></a>\n",
    "#### 2.a. the `re` Module\n",
    "\n",
    "In order to use the `re` module in python, one need first to import it. <br/>\n",
    "As mentioned in the lecture, there are 3 main use cases:\n",
    "1. Find - mainly using `search` and `findall` functions.\n",
    "2. Replace - mainly using the `sub` function.\n",
    "3. Split -  using the `split` function.\n",
    "4. Match object - this is not a use case, but an object returned mainly by \"find\" functions and can be used for further text manipulation.\n",
    "\n",
    "\n",
    "The basic syntax to search for a match in a string is this: \n",
    "\n",
    "```python\n",
    "match = re.search(pattern, text)\n",
    "```\n",
    "\n",
    "Here, `pattern` is the regular expression, `text` is the text that the regular expression is applied to. <br/>\n",
    "Match holds the search result that matches the string in an object.\n",
    "\n",
    "[`search()`](https://docs.python.org/3/library/re.html#re.search) returns only the first occurrence of a match, in contrast, [`findall()`](https://docs.python.org/3/library/re.html#re.findall) returns all matches.\n",
    "\n",
    "Another useful function is [`split()`](https://docs.python.org/3/library/re.html#re.split), which splits a string based on a regex pattern – we'll use all of these functions and others where appropriate. \n",
    "\n",
    "Mostly, we'll use search to learn about the syntax, but sometimes we'll use split instead of search to explain a pattern. <br/>\n",
    "There are other functions which we'll use later."
   ]
  },
  {
   "cell_type": "markdown",
   "metadata": {},
   "source": [
    "[Go to the beginning of the notebook](#home)\n",
    "<a id=\"2b\"></a>\n",
    "#### 2.b. Simple (syntax) Examples\n",
    "\n",
    "We'll use a regular expression to demonstrate the syntax and use case: \n",
    "```python\n",
    "'name: \\w\\w\\w\\w'\n",
    "```\n",
    "\n",
    "To extract the name of people that submitted inquiries to the forum. <br/>\n",
    "The way this pattern works, it matches the substring **'name:'** followed by a four letter word, encoded by **'\\w\\w\\w\\w'**. <br/>\n",
    "Let's start with the import.."
   ]
  },
  {
   "cell_type": "code",
   "execution_count": null,
   "metadata": {},
   "outputs": [],
   "source": [
    "import re"
   ]
  },
  {
   "cell_type": "markdown",
   "metadata": {},
   "source": [
    "Below you can find a snippet from the comments we got into the course's forum. <br/>\n",
    "We'll save it into a string variable"
   ]
  },
  {
   "cell_type": "code",
   "execution_count": 59,
   "metadata": {},
   "outputs": [
    {
     "name": "stdout",
     "output_type": "stream",
     "text": [
      "\n",
      "\n",
      "name: Dina Ivry\n",
      "email: dimai@gmail.com\n",
      "time: 2020-11-02 11:32:11\n",
      "phone: +972-3-52-3434233\n",
      "city: Tel-aviv\n",
      "title: knn  \n",
      "content: can you explain what does the k hyper-parameter mean???\n",
      "\n",
      "==============\n",
      "name: Joseph Katzir\n",
      "email: joek@myemail.ac.il\n",
      "time: 2020-12-20 13:34:02\n",
      "phone: (054) 5444443\n",
      "city: Tel aviv\n",
      "title: what a great lecture   \n",
      "content: avinoam this was one of your best\n",
      "\n",
      "=============\n",
      "\n",
      "\n"
     ]
    }
   ],
   "source": [
    "txt=\"\"\"\n",
    "\n",
    "name: Dina Ivry\n",
    "email: dimai@gmail.com\n",
    "time: 2020-11-02 11:32:11\n",
    "phone: +972-3-52-3434233\n",
    "city: Tel-aviv\n",
    "title: knn  \n",
    "content: can you explain what does the k hyper-parameter mean???\n",
    "\n",
    "==============\n",
    "name: Joseph Katzir\n",
    "email: joek@myemail.ac.il\n",
    "time: 2020-12-20 13:34:02\n",
    "phone: (054) 5444443\n",
    "city: Tel aviv\n",
    "title: what a great lecture   \n",
    "content: avinoam this was one of your best\n",
    "\n",
    "=============\n",
    "\n",
    "\"\"\"\n",
    "print(txt)"
   ]
  },
  {
   "cell_type": "markdown",
   "metadata": {},
   "source": [
    "[Go to the beginning of the notebook](#home)\n",
    "<a id=\"2c\"></a>\n",
    "#### 2.c.  the `search` function\n",
    "\n",
    "One of the most common uses for the re module is for finding patterns in text. <br/>\n",
    "Let's do a quick example of using the search method in the re module to find some text. <br/>\n",
    "In this case, by finding the first names of the people that wrote in the forum, based on the pattern we mentioned before."
   ]
  },
  {
   "cell_type": "code",
   "execution_count": 60,
   "metadata": {},
   "outputs": [
    {
     "name": "stdout",
     "output_type": "stream",
     "text": [
      "Match was found for pattern: name: \\w\\w\\w\\w\n",
      "No Match was found for pattern: first name: \\w\\w\\w\\w\n"
     ]
    }
   ],
   "source": [
    "good_pattern=\"name: \\w\\w\\w\\w\"\n",
    "no_match_pattern=\"first name: \\w\\w\\w\\w\"\n",
    "\n",
    "#Check for match on first pattern\n",
    "if re.search(good_pattern,  txt):\n",
    "    print ('Match was found for pattern:',good_pattern)\n",
    "else:\n",
    "    print ('No Match was found for pattern:',good_pattern)\n",
    "\n",
    "#Check for match on second pattern\n",
    "if re.search(no_match_pattern,  txt):\n",
    "    print ('Match was found for pattern:',no_match_pattern)\n",
    "else:\n",
    "    print ('No Match was found for pattern:',no_match_pattern)\n"
   ]
  },
  {
   "cell_type": "markdown",
   "metadata": {},
   "source": [
    "This is nice.. we've seen that `re.search()` will take the pattern, scan the text, and return if it finds a match or not. <br/>\n",
    "But how can we get the actual text it matched?\n",
    "\n",
    "In order to understand this, we will introduce the `Match` object. When the function `search` is called, <br/>\n",
    "it returns a `Match` object. If no pattern is found,  `None` is returned. <br/>\n",
    "To give a clearer picture of this match object, check out the cell below:"
   ]
  },
  {
   "cell_type": "code",
   "execution_count": 61,
   "metadata": {},
   "outputs": [
    {
     "data": {
      "text/plain": [
       "re.Match"
      ]
     },
     "execution_count": 61,
     "metadata": {},
     "output_type": "execute_result"
    }
   ],
   "source": [
    "match = re.search(good_pattern,  txt)\n",
    "\n",
    "type(match)"
   ]
  },
  {
   "cell_type": "markdown",
   "metadata": {},
   "source": [
    "This Match object returned by the search() method is more than just a Boolean or None, <br/>\n",
    "it contains information about the match, including the original input string, <br/>\n",
    "the regular expression that was used, and the location of the match. <br/>\n",
    "\n",
    "Let's see the methods we can use on the match object:"
   ]
  },
  {
   "cell_type": "code",
   "execution_count": 62,
   "metadata": {},
   "outputs": [
    {
     "name": "stdout",
     "output_type": "stream",
     "text": [
      "match.start(): 2\n",
      "match.end(): 12\n",
      "match.group(0): name: Dina\n"
     ]
    }
   ],
   "source": [
    "# Show start of match\n",
    "print('match.start():', match.start())\n",
    "# Show end\n",
    "print('match.end():', match.end())\n",
    "# show the text that was found\n",
    "print('match.group(0):', match.group(0))"
   ]
  },
  {
   "cell_type": "markdown",
   "metadata": {},
   "source": [
    "[Go to the beginning of the notebook](#home)\n",
    "<a id=\"2d\"></a>\n",
    "#### 2.d.  Finding all instances of a pattern - the `findall` function\n",
    "\n",
    "You can use `re.findall()` to find all the instances of a pattern in a string. <br/>\n",
    "\n",
    "For example, if we want to apply the previous pattern (`good_pattern`) on all the posts in the forum:"
   ]
  },
  {
   "cell_type": "code",
   "execution_count": 63,
   "metadata": {},
   "outputs": [
    {
     "name": "stdout",
     "output_type": "stream",
     "text": [
      "\n",
      "\n",
      "name: Dina Ivry\n",
      "email: dimai@gmail.com\n",
      "time: 2020-11-02 11:32:11\n",
      "phone: +972-3-52-3434233\n",
      "city: Tel-aviv\n",
      "title: knn  \n",
      "content: can you explain what does the k hyper-parameter mean???\n",
      "\n",
      "==============\n",
      "name: Joseph Katzir\n",
      "email: joek@myemail.ac.il\n",
      "time: 2020-12-20 13:34:02\n",
      "phone: (054) 5444443\n",
      "city: Tel aviv\n",
      "title: what a great lecture   \n",
      "content: avinoam this was one of your best\n",
      "\n",
      "=============\n",
      "\n",
      "\n"
     ]
    }
   ],
   "source": [
    "print(txt)"
   ]
  },
  {
   "cell_type": "code",
   "execution_count": 64,
   "metadata": {},
   "outputs": [
    {
     "data": {
      "text/plain": [
       "['name: Dina', 'name: Jose']"
      ]
     },
     "execution_count": 64,
     "metadata": {},
     "output_type": "execute_result"
    }
   ],
   "source": [
    "# Returns a list of all matches\n",
    "re.findall(good_pattern,txt)"
   ]
  },
  {
   "cell_type": "markdown",
   "metadata": {},
   "source": [
    "As you can see, it extracted both names from the forum posts. <br/>\n",
    "\n",
    "In addition, as we mentioned in the lecture, while the first name is extarcted properly,<br/>\n",
    "in the second name only the first 4 characters were extracted. We will see later how to fix it."
   ]
  },
  {
   "cell_type": "markdown",
   "metadata": {},
   "source": [
    "[Go to the beginning of the notebook](#home)\n",
    "<a id=\"2e\"></a>\n",
    "#### 2.e.  the  `split` function\n",
    "Split is another useful function in the `re` module. Let's see how we can split with the re syntax. <br/>\n",
    "\n",
    "This should look similar to how you used the split() method with strings, <br/>\n",
    "however you can see that instead of simple patterns, you can use the unique regule-expression syntax for more powerfull split. <br/>\n",
    "\n",
    "We will start with a simple example:"
   ]
  },
  {
   "cell_type": "code",
   "execution_count": 65,
   "metadata": {},
   "outputs": [
    {
     "data": {
      "text/plain": [
       "['myaddress', 'domain.com']"
      ]
     },
     "execution_count": 65,
     "metadata": {},
     "output_type": "execute_result"
    }
   ],
   "source": [
    "email=\"myaddress@domain.com\"\n",
    "\n",
    "# Term to split on\n",
    "split_term = '@'\n",
    "\n",
    "# Split the phrase\n",
    "re.split(split_term,email)"
   ]
  },
  {
   "cell_type": "markdown",
   "metadata": {},
   "source": [
    "This splits the email exactly to the alias and its domain. <br/>\n",
    "Let's take a look on a more sophisticated example. Consider email aliases. <br/>\n",
    "They can be in the form of \"first.last\" or \"first-last\" or \"first_last\". <br/>\n",
    "\n",
    "Your task is to split them into first and last. \n",
    "\n",
    "For that we'll make use of `character sets` and split function (more on `character ranges` in next section)"
   ]
  },
  {
   "cell_type": "code",
   "execution_count": 66,
   "metadata": {},
   "outputs": [
    {
     "name": "stdout",
     "output_type": "stream",
     "text": [
      "splitting \"first last\" into: ['first', 'last']\n",
      "splitting \"first_last\" into: ['first', 'last']\n",
      "splitting \"first.last\" into: ['first', 'last']\n",
      "splitting \"first-last\" into: ['first', 'last']\n"
     ]
    }
   ],
   "source": [
    "names=[\"first last\",\"first_last\",\"first.last\",\"first-last\"]\n",
    "char_range=\"[ ._-]\"\n",
    "\n",
    "for name in names:\n",
    "    print('splitting \"{}\" into:'.format(name),re.split(char_range,name))"
   ]
  },
  {
   "cell_type": "markdown",
   "metadata": {},
   "source": [
    "[Go to the beginning of the notebook](#home)\n",
    "<a id=\"2f\"></a>\n",
    "#### 2.f. Character sets and ranges\n",
    "\n",
    "Character sets are used when you wish to match any one of a group of characters at a point in the input. <br/>\n",
    "Brackets are used to construct character set inputs. <br/>\n",
    "\n",
    "For example: the input **[ab]** searches for occurrences of either a or b.<br/>\n",
    "As character sets grow larger, typing every character that should (or should not) match could become very tedious. <br/>\n",
    "\n",
    "A more compact format using character ranges lets you define a character set to include all of the contiguous characters between a start and stop point. \n",
    "**The format used is [start-end]**.\n",
    "\n",
    "Common use cases are to search for a specific range of letters in the alphabet, <br/>\n",
    "such [a-f] would return matches with any instance of letters between a and f.\n",
    "\n",
    "Let's walk through some examples:"
   ]
  },
  {
   "cell_type": "code",
   "execution_count": 67,
   "metadata": {},
   "outputs": [
    {
     "data": {
      "text/plain": [
       "['Dina', 'Ivry', 'Jose', 'Katz']"
      ]
     },
     "execution_count": 67,
     "metadata": {},
     "output_type": "execute_result"
    }
   ],
   "source": [
    "# find all 4 digit words that start with a capital letter\n",
    "cap_pattern=\"[A-Z]\\w\\w\\w\"\n",
    "\n",
    "# Returns a list of all matches\n",
    "re.findall(cap_pattern,txt)"
   ]
  },
  {
   "cell_type": "code",
   "execution_count": 68,
   "metadata": {},
   "outputs": [
    {
     "data": {
      "text/plain": [
       "['2020-11-02', '2020-12-20']"
      ]
     },
     "execution_count": 68,
     "metadata": {},
     "output_type": "execute_result"
    }
   ],
   "source": [
    "# find all dates in format yyyy-mm-dd\n",
    "date_pattern=\"[0-9][0-9][0-9][0-9]-[0-9][0-9]-[0-9][0-9]\"\n",
    "\n",
    "# Returns a list of all matches\n",
    "re.findall(date_pattern,txt)"
   ]
  },
  {
   "cell_type": "markdown",
   "metadata": {},
   "source": [
    "As you can see this is very powerful! However it is a bit tedious to write, for that we introduce the escape codes:"
   ]
  },
  {
   "cell_type": "markdown",
   "metadata": {},
   "source": [
    "[Go to the beginning of the notebook](#home)\n",
    "<a id=\"2g\"></a>\n",
    "#### 2.g Escape codes\n",
    "You can use special escape codes to find specific types of patterns in your data, such as digits, non-digits,whitespace, and more.\n",
    "\n",
    "For example:"
   ]
  },
  {
   "cell_type": "markdown",
   "metadata": {},
   "source": [
    "<table class=\"docutils\" border=\"1\">\n",
    "\n",
    "<thead valign=\"bottom\">\n",
    "<tr class=\"row-odd\">\n",
    "<th class=\"head\">Code</th>\n",
    "<th class=\"head\">Meaning</th>\n",
    "</tr>\n",
    "</thead>\n",
    "<tbody valign=\"top\">\n",
    "<tr class=\"row-even\">\n",
    "<td><tt class=\"docutils literal\"><span class=\"pre\">\\d</span></tt></td>\n",
    "<td>a digit</td>\n",
    "</tr>\n",
    "<tr class=\"row-odd\">\n",
    "<td><tt class=\"docutils literal\"><span class=\"pre\">\\D</span></tt></td>\n",
    "<td>a non-digit</td>\n",
    "</tr>\n",
    "<tr class=\"row-even\">\n",
    "<td><tt class=\"docutils literal\"><span class=\"pre\">\\s</span></tt></td>\n",
    "<td>whitespace (tab, space, newline, etc.)</td>\n",
    "</tr>\n",
    "<tr class=\"row-odd\">\n",
    "<td><tt class=\"docutils literal\"><span class=\"pre\">\\S</span></tt></td>\n",
    "<td>non-whitespace</td>\n",
    "</tr>\n",
    "<tr class=\"row-even\">\n",
    "<td><tt class=\"docutils literal\"><span class=\"pre\">\\w</span></tt></td>\n",
    "<td>alphanumeric</td>\n",
    "</tr>\n",
    "<tr class=\"row-odd\">\n",
    "<td><tt class=\"docutils literal\"><span class=\"pre\">\\W</span></tt></td>\n",
    "<td>non-alphanumeric</td>\n",
    "</tr>\n",
    "</tbody>\n",
    "</table>"
   ]
  },
  {
   "cell_type": "markdown",
   "metadata": {},
   "source": [
    "Escapes are indicated by prefixing the character with a backslash (\\\\). <br/>\n",
    "Unfortunately, a backslash must itself be escaped in normal Python strings, and that results in expressions that are difficult to read. <br/>\n",
    "\n",
    "Using raw strings, created by prefixing the literal value with **r**, for creating regular expressions eliminates this problem and maintains readability. \n",
    "\n",
    "Let's take a fresh look on the previous pattern of finding date expressions:"
   ]
  },
  {
   "cell_type": "code",
   "execution_count": 69,
   "metadata": {},
   "outputs": [
    {
     "data": {
      "text/plain": [
       "['2020-11-02', '2020-12-20']"
      ]
     },
     "execution_count": 69,
     "metadata": {},
     "output_type": "execute_result"
    }
   ],
   "source": [
    "# find all dates in format yyyy-mm-dd\n",
    "date_pattern=r'\\d\\d\\d\\d-\\d\\d-\\d\\d'\n",
    "\n",
    "# Returns a list of all matches\n",
    "re.findall(date_pattern,txt)"
   ]
  },
  {
   "cell_type": "markdown",
   "metadata": {},
   "source": [
    "Sometimes the use of **r** to escape a backslash is probably one of the things <br/>\n",
    "that block someone who is not familiar with regex in Python from being able to read regex code at first. <br/>\n",
    "\n",
    "Hopefully after seeing these examples this syntax will become clear. "
   ]
  },
  {
   "cell_type": "code",
   "execution_count": 72,
   "metadata": {},
   "outputs": [
    {
     "data": {
      "text/plain": [
       "['1\\\\2\\\\3']"
      ]
     },
     "execution_count": 72,
     "metadata": {},
     "output_type": "execute_result"
    }
   ],
   "source": [
    "txt2=r\"I will eat 1\\2\\3 oranges\"\n",
    "\n",
    "# Returns the number of oranges I will each\n",
    "eat_pattern=r\"\\d\\\\\\d\\\\\\d\"\n",
    "\n",
    "\n",
    "re.findall(eat_pattern,txt2)"
   ]
  },
  {
   "cell_type": "markdown",
   "metadata": {},
   "source": [
    "[Go to the beginning of the notebook](#home)\n",
    "<a id=\"2h\"></a>\n",
    "#### 2.h Or expression\n",
    "\n",
    "We can use the pipe `|` to define an or between any regular expression:"
   ]
  },
  {
   "cell_type": "code",
   "execution_count": 73,
   "metadata": {},
   "outputs": [
    {
     "data": {
      "text/plain": [
       "['Monday', 'Wednesday']"
      ]
     },
     "execution_count": 73,
     "metadata": {},
     "output_type": "execute_result"
    }
   ],
   "source": [
    "weekdays = \"We could meet Monday or Wednesday\"\n",
    "pattern = \"Monday|Tuesday|Wednesday|Thursday|Friday|Saturday|Sunday\"\n",
    "re.findall(pattern , weekdays)"
   ]
  },
  {
   "cell_type": "markdown",
   "metadata": {},
   "source": [
    "[Go to the beginning of the notebook](#home)\n",
    "<a id=\"ex2\"></a>\n",
    "### Exercise 2 - Regular Expressions\n",
    "1. Write a regular expression to extract all time expressions in the text string `txt`\n",
    "2. Write a regular expression to extract urls from text (including the http or https prefix)"
   ]
  },
  {
   "cell_type": "code",
   "execution_count": 74,
   "metadata": {},
   "outputs": [],
   "source": [
    "# for part 2, will be printed later\n",
    "url1='My favorite site is http://www.md.hit.ac.il/machinelearning I go there every day (yeah right).'\n",
    "url2='Please post your answer to the form https://www.feedback.com/review_forms/form1.aspx'\n",
    "url3=\"I visited https://edition.cnn-news.co.il/sports/nba/games-standing.html\"  "
   ]
  },
  {
   "cell_type": "code",
   "execution_count": 75,
   "metadata": {
    "scrolled": true
   },
   "outputs": [
    {
     "name": "stdout",
     "output_type": "stream",
     "text": [
      "name: Dina Ivry\n",
      "email: dimai@gmail.com\n",
      "time: 2020-11-02 11:32:11\n",
      "phone: +972-3-52-3434233\n",
      "city: Tel-aviv\n",
      "title: knn  \n",
      "content: can you explain what does the k hyper-parameter mean???\n",
      "\n",
      "==============\n",
      "name: Joseph Katzir\n",
      "email: joek@myemail.ac.il\n",
      "time: 2020-12-20 13:34:02\n",
      "phone: (054) 5444443\n",
      "city: Tel aviv\n",
      "title: what a great lecture   \n",
      "content: avinoam this was one of your best\n",
      "\n",
      "=============\n"
     ]
    }
   ],
   "source": [
    "# for part 1\n",
    "print(txt.strip())"
   ]
  },
  {
   "cell_type": "code",
   "execution_count": 101,
   "metadata": {},
   "outputs": [
    {
     "data": {
      "text/plain": [
       "['2020-11-02', '2020-12-20']"
      ]
     },
     "execution_count": 101,
     "metadata": {},
     "output_type": "execute_result"
    },
    {
     "data": {
      "text/plain": [
       "['11:32', '13:34']"
      ]
     },
     "execution_count": 101,
     "metadata": {},
     "output_type": "execute_result"
    }
   ],
   "source": [
    "# your solution 1:\n",
    "regex = r'\\d{4}-\\d{2}-\\d{2}'\n",
    "re.findall(regex, txt)\n",
    "regex = r'\\d{2}:\\d{2}'\n",
    "re.findall(regex, txt)"
   ]
  },
  {
   "cell_type": "code",
   "execution_count": null,
   "metadata": {},
   "outputs": [],
   "source": []
  },
  {
   "cell_type": "code",
   "execution_count": null,
   "metadata": {},
   "outputs": [],
   "source": []
  },
  {
   "cell_type": "code",
   "execution_count": 80,
   "metadata": {},
   "outputs": [
    {
     "name": "stdout",
     "output_type": "stream",
     "text": [
      "My favorite site is http://www.md.hit.ac.il/machinelearning I go there every day (yeah right).\n",
      "Please post your answer to the form https://www.feedback.com/review_forms/form1.aspx\n",
      "I visited https://edition.cnn-news.co.il/sports/nba/games-standing.html\n"
     ]
    }
   ],
   "source": [
    "# for part 2:\n",
    "print(url1)\n",
    "print(url2)\n",
    "print(url3)"
   ]
  },
  {
   "cell_type": "code",
   "execution_count": 105,
   "metadata": {},
   "outputs": [
    {
     "data": {
      "text/plain": [
       "['http://www.md.hit.ac.il/machinelearning',\n",
       " 'https://www.feedback.com/review_forms/form1',\n",
       " 'https://edition.cnn-news.co.il/sports/nba/games-standing.html']"
      ]
     },
     "execution_count": 105,
     "metadata": {},
     "output_type": "execute_result"
    }
   ],
   "source": [
    "# your solution 2:\n",
    "# '?' after + or after * means that the RE before the + should not be greedy. \n",
    "# (?:____) - this way we can create a group of characters to treat as one, then use '?' or '*' at the end.\n",
    "regex = r'https?://(?:www\\d{0-3}[.])?[a-zA-Z.\\-_]+?(?:/\\w+?)*(?:[.]com|[.]il|[.]net|[.]org)(?:/[a-zA-Z.\\-_]+[.]?\\w*)*'\n",
    "all_urls = url1 + '\\n' + url2 + '\\n' + url3\n",
    "re.findall(regex, all_urls)"
   ]
  },
  {
   "cell_type": "code",
   "execution_count": 106,
   "metadata": {},
   "outputs": [
    {
     "data": {
      "text/plain": [
       "[('ac.', '/machinelearning'),\n",
       " ('feedback.', '/form1.aspx'),\n",
       " ('co.', '/games-standing.html')]"
      ]
     },
     "execution_count": 106,
     "metadata": {},
     "output_type": "execute_result"
    },
    {
     "name": "stdout",
     "output_type": "stream",
     "text": [
      "url found: http://www.md.hit.ac.il/machinelearning\n",
      "url found: https://www.feedback.com/review_forms/form1.aspx\n",
      "url found: https://edition.cnn-news.co.il/sports/nba/games-standing.html\n"
     ]
    }
   ],
   "source": [
    "### solution:\n",
    "urls=[url1,url2,url3]\n",
    "\n",
    "pattern=\"https?://[\\w-]+\\.([\\w-]+\\.)+(/?[\\w\\.\\-\\_]+)*\"\n",
    "\n",
    "re.findall(pattern, all_urls)\n",
    "\n",
    "for url in urls:\n",
    "    m=re.search(pattern,url)\n",
    "    if(m):\n",
    "        print('url found:',m.group(0))"
   ]
  },
  {
   "cell_type": "code",
   "execution_count": null,
   "metadata": {},
   "outputs": [],
   "source": []
  },
  {
   "cell_type": "markdown",
   "metadata": {},
   "source": [
    "<a id=\"3\"></a>\n",
    "## Part 3 - Text in Pandas Series"
   ]
  },
  {
   "cell_type": "markdown",
   "metadata": {},
   "source": [
    "[Go to the beginning of the notebook](#home)\n",
    "<a id=\"3a\"></a>\n",
    "### 3.a.  Pandas Series and Index objects containing strings\n",
    "Using series or index string operations is possible via via the ``str`` attribute <br/>\n",
    "So, for example, suppose we create a Pandas Series with this data:"
   ]
  },
  {
   "cell_type": "code",
   "execution_count": 107,
   "metadata": {},
   "outputs": [
    {
     "data": {
      "text/plain": [
       "0    peter\n",
       "1     Paul\n",
       "2     MARY\n",
       "3    gUIDO\n",
       "dtype: object"
      ]
     },
     "execution_count": 107,
     "metadata": {},
     "output_type": "execute_result"
    }
   ],
   "source": [
    "import pandas as pd\n",
    "sr_names = pd.Series(lst_names2)\n",
    "sr_names"
   ]
  },
  {
   "cell_type": "markdown",
   "metadata": {},
   "source": [
    "We can now call a single method that will capitalize all the entries, while skipping over any missing values:"
   ]
  },
  {
   "cell_type": "code",
   "execution_count": 108,
   "metadata": {},
   "outputs": [
    {
     "data": {
      "text/plain": [
       "0    PETER\n",
       "1     PAUL\n",
       "2     MARY\n",
       "3    GUIDO\n",
       "dtype: object"
      ]
     },
     "execution_count": 108,
     "metadata": {},
     "output_type": "execute_result"
    }
   ],
   "source": [
    "sr_names.str.upper()"
   ]
  },
  {
   "cell_type": "markdown",
   "metadata": {},
   "source": [
    "Using tab completion on this ``str`` attribute will list all the vectorized string methods available to Pandas."
   ]
  },
  {
   "cell_type": "markdown",
   "metadata": {},
   "source": [
    "[Go to the beginning of the notebook](#home)\n",
    "<a id=\"3b\"></a>\n",
    "#### 3.b.  Methods similar to Python string methods\n",
    "Nearly all Python's built-in string methods are mirrored by a Pandas vectorized string method. <br/>\n",
    "Here is a list of Pandas ``str`` methods that mirror Python string methods:\n",
    "\n",
    "|             |                  |                  |                  |\n",
    "|-------------|------------------|------------------|------------------|\n",
    "|``len()``    | ``lower()``      | ``translate()``  | ``islower()``    | \n",
    "|``ljust()``  | ``upper()``      | ``startswith()`` | ``isupper()``    | \n",
    "|``rjust()``  | ``find()``       | ``endswith()``   | ``isnumeric()``  | \n",
    "|``center()`` | ``rfind()``      | ``isalnum()``    | ``isdecimal()``  | \n",
    "|``zfill()``  | ``index()``      | ``isalpha()``    | ``split()``      | \n",
    "|``strip()``  | ``rindex()``     | ``isdigit()``    | ``rsplit()``     | \n",
    "|``rstrip()`` | ``capitalize()`` | ``isspace()``    | ``partition()``  | \n",
    "|``lstrip()`` |  ``swapcase()``  |  ``istitle()``   | ``rpartition()`` |\n",
    "\n",
    "Notice that these have various return values. Some, like ``lower()``, return a series of strings:"
   ]
  },
  {
   "cell_type": "markdown",
   "metadata": {},
   "source": [
    "[Go to the beginning of the notebook](#home)\n",
    "<a id=\"3c\"></a>\n",
    "#### 3.c.  Using Pandas String Methods\n",
    "Pandas string syntax is similar to basic python string operations\n",
    "The examples in this section use the following series of names:"
   ]
  },
  {
   "cell_type": "code",
   "execution_count": 109,
   "metadata": {},
   "outputs": [
    {
     "data": {
      "text/plain": [
       "0    Graham Chapman\n",
       "1       John Cleese\n",
       "2     Terry Gilliam\n",
       "3         Eric Idle\n",
       "4       Terry Jones\n",
       "5     Michael Palin\n",
       "dtype: object"
      ]
     },
     "execution_count": 109,
     "metadata": {},
     "output_type": "execute_result"
    }
   ],
   "source": [
    "monte = pd.Series(['Graham Chapman', 'John Cleese', 'Terry Gilliam',\n",
    "                   'Eric Idle', 'Terry Jones', 'Michael Palin'])\n",
    "monte"
   ]
  },
  {
   "cell_type": "code",
   "execution_count": 110,
   "metadata": {},
   "outputs": [
    {
     "data": {
      "text/plain": [
       "0    graham chapman\n",
       "1       john cleese\n",
       "2     terry gilliam\n",
       "3         eric idle\n",
       "4       terry jones\n",
       "5     michael palin\n",
       "dtype: object"
      ]
     },
     "execution_count": 110,
     "metadata": {},
     "output_type": "execute_result"
    }
   ],
   "source": [
    "monte.str.lower()"
   ]
  },
  {
   "cell_type": "markdown",
   "metadata": {},
   "source": [
    "But some others return numbers:"
   ]
  },
  {
   "cell_type": "code",
   "execution_count": 111,
   "metadata": {},
   "outputs": [
    {
     "data": {
      "text/plain": [
       "0    14\n",
       "1    11\n",
       "2    13\n",
       "3     9\n",
       "4    11\n",
       "5    13\n",
       "dtype: int64"
      ]
     },
     "execution_count": 111,
     "metadata": {},
     "output_type": "execute_result"
    }
   ],
   "source": [
    "monte.str.len()"
   ]
  },
  {
   "cell_type": "markdown",
   "metadata": {},
   "source": [
    "Or Boolean values:"
   ]
  },
  {
   "cell_type": "code",
   "execution_count": 112,
   "metadata": {},
   "outputs": [
    {
     "data": {
      "text/plain": [
       "0    False\n",
       "1    False\n",
       "2     True\n",
       "3    False\n",
       "4     True\n",
       "5    False\n",
       "dtype: bool"
      ]
     },
     "execution_count": 112,
     "metadata": {},
     "output_type": "execute_result"
    }
   ],
   "source": [
    "monte.str.startswith('Terry')"
   ]
  },
  {
   "cell_type": "markdown",
   "metadata": {},
   "source": [
    "Still others return lists or other compound values for each element:"
   ]
  },
  {
   "cell_type": "code",
   "execution_count": 113,
   "metadata": {},
   "outputs": [
    {
     "data": {
      "text/plain": [
       "0    [graham, chapman]\n",
       "1       [john, cleese]\n",
       "2     [terry, gilliam]\n",
       "3         [eric, idle]\n",
       "4       [terry, jones]\n",
       "5     [michael, palin]\n",
       "dtype: object"
      ]
     },
     "execution_count": 113,
     "metadata": {},
     "output_type": "execute_result"
    }
   ],
   "source": [
    "s2 = monte.str.lower().str.split()\n",
    "s2"
   ]
  },
  {
   "cell_type": "code",
   "execution_count": 114,
   "metadata": {},
   "outputs": [
    {
     "data": {
      "text/plain": [
       "0    [Graham Chapman]\n",
       "1    [John Cl, , s, ]\n",
       "2    [T, rry Gilliam]\n",
       "3        [Eric Idl, ]\n",
       "4     [T, rry Jon, s]\n",
       "5    [Micha, l Palin]\n",
       "dtype: object"
      ]
     },
     "execution_count": 114,
     "metadata": {},
     "output_type": "execute_result"
    }
   ],
   "source": [
    "monte.str.split(\"e\")"
   ]
  },
  {
   "cell_type": "markdown",
   "metadata": {},
   "source": [
    "We'll see further manipulations of this kind of series-of-lists object as we continue our discussion."
   ]
  },
  {
   "cell_type": "markdown",
   "metadata": {},
   "source": [
    "[Go to the beginning of the notebook](#home)\n",
    "<a id=\"3d\"></a>\n",
    "#### 3.d.  Series string methods with regular expressions\n",
    "\n",
    "In addition, there are several methods that accept regular expressions to examine the content of each string element, <br/>\n",
    "and follow some of the API conventions of Python's built-in ``re`` module:\n",
    "\n",
    "| Method | Description |\n",
    "|--------|-------------|\n",
    "| ``match()`` | Call ``re.match()`` on each element, returning a boolean. |\n",
    "| ``extract()`` | Call ``re.match()`` on each element, returning matched groups as strings.|\n",
    "| ``findall()`` | Call ``re.findall()`` on each element |\n",
    "| ``replace()`` | Replace occurrences of pattern with some other string|\n",
    "| ``contains()`` | Call ``re.search()`` on each element, returning a boolean |\n",
    "| ``count()`` | Count occurrences of pattern|\n",
    "| ``split()``   | Equivalent to ``str.split()``, but accepts regexps |\n",
    "| ``rsplit()`` | Equivalent to ``str.rsplit()``, but accepts regexps |"
   ]
  },
  {
   "cell_type": "markdown",
   "metadata": {},
   "source": [
    "With these, you can do a wide range of interesting operations.<br/>\n",
    "For example, we can extract the first name from each by asking for a contiguous group of characters at the beginning of each element:"
   ]
  },
  {
   "cell_type": "code",
   "execution_count": 115,
   "metadata": {},
   "outputs": [
    {
     "data": {
      "text/plain": [
       "0    Graham Chapman\n",
       "1       John Cleese\n",
       "2     Terry Gilliam\n",
       "3         Eric Idle\n",
       "4       Terry Jones\n",
       "5     Michael Palin\n",
       "dtype: object"
      ]
     },
     "execution_count": 115,
     "metadata": {},
     "output_type": "execute_result"
    },
    {
     "data": {
      "text/plain": [
       "0     Graham\n",
       "1       John\n",
       "2      Terry\n",
       "3       Eric\n",
       "4      Terry\n",
       "5    Michael\n",
       "dtype: object"
      ]
     },
     "execution_count": 115,
     "metadata": {},
     "output_type": "execute_result"
    }
   ],
   "source": [
    "monte\n",
    "monte.str.extract('([A-Za-z]+)', expand=False)"
   ]
  },
  {
   "cell_type": "code",
   "execution_count": 116,
   "metadata": {},
   "outputs": [
    {
     "data": {
      "text/plain": [
       "0     raham\n",
       "1       ohn\n",
       "2      erry\n",
       "3       ric\n",
       "4      erry\n",
       "5    ichael\n",
       "dtype: object"
      ]
     },
     "execution_count": 116,
     "metadata": {},
     "output_type": "execute_result"
    }
   ],
   "source": [
    "monte.str.extract('([a-z]+)', expand=False)"
   ]
  },
  {
   "cell_type": "markdown",
   "metadata": {},
   "source": [
    "Or we can do something more complicated, like finding all names that start and end with a consonant, <br/>\n",
    "making use of the start-of-string (``^``) and end-of-string (``$``) regular expression characters:"
   ]
  },
  {
   "cell_type": "code",
   "execution_count": 117,
   "metadata": {},
   "outputs": [
    {
     "data": {
      "text/plain": [
       "0    Graham Chapman\n",
       "1       John Cleese\n",
       "2     Terry Gilliam\n",
       "3         Eric Idle\n",
       "4       Terry Jones\n",
       "5     Michael Palin\n",
       "dtype: object"
      ]
     },
     "execution_count": 117,
     "metadata": {},
     "output_type": "execute_result"
    }
   ],
   "source": [
    "monte"
   ]
  },
  {
   "cell_type": "code",
   "execution_count": 118,
   "metadata": {},
   "outputs": [
    {
     "data": {
      "text/plain": [
       "0    [Graham Chapman]\n",
       "1                  []\n",
       "2     [Terry Gilliam]\n",
       "3                  []\n",
       "4       [Terry Jones]\n",
       "5     [Michael Palin]\n",
       "dtype: object"
      ]
     },
     "execution_count": 118,
     "metadata": {},
     "output_type": "execute_result"
    }
   ],
   "source": [
    "monte.str.findall(r'^[^AEIOU].*[^aeiou]$')"
   ]
  },
  {
   "cell_type": "code",
   "execution_count": 125,
   "metadata": {},
   "outputs": [
    {
     "data": {
      "text/plain": [
       "0    [Graham Chapman]\n",
       "1        [John Clees]\n",
       "2     [Terry Gilliam]\n",
       "3           [ric Idl]\n",
       "4       [Terry Jones]\n",
       "5     [Michael Palin]\n",
       "dtype: object"
      ]
     },
     "execution_count": 125,
     "metadata": {},
     "output_type": "execute_result"
    },
    {
     "data": {
      "text/plain": [
       "0    [Graham , Chapman]\n",
       "1        [John , Clees]\n",
       "2     [Terry , Gilliam]\n",
       "3                [ric ]\n",
       "4       [Terry , Jones]\n",
       "5     [Michael , Palin]\n",
       "dtype: object"
      ]
     },
     "execution_count": 125,
     "metadata": {},
     "output_type": "execute_result"
    }
   ],
   "source": [
    "monte.str.findall(r'[^AEIOU](?:\\w+ ?)+[^aeiou]')\n",
    "monte.str.findall(r'[^AEIOU]\\w+[^aeiou]')"
   ]
  },
  {
   "cell_type": "markdown",
   "metadata": {},
   "source": [
    "The ability to concisely apply regular expressions across ``Series`` or ``Dataframe`` entries <br/>\n",
    "opens up many possibilities for analysis and cleaning of data."
   ]
  },
  {
   "cell_type": "markdown",
   "metadata": {},
   "source": [
    "[Go to the beginning of the notebook](#home)\n",
    "<a id=\"3e\"></a>\n",
    "#### 3.e. Series  miscellaneous string methods\n",
    "Finally, there are some miscellaneous methods that enable other convenient operations:\n",
    "\n",
    "| Method | Description |\n",
    "|--------|-------------|\n",
    "| ``get()`` | Index each element |\n",
    "| ``slice()`` | Slice each element|\n",
    "| ``slice_replace()`` | Replace slice in each element with passed value|\n",
    "| ``cat()``      | Concatenate strings|\n",
    "| ``repeat()`` | Repeat values |\n",
    "| ``normalize()`` | Return Unicode form of string |\n",
    "| ``pad()`` | Add whitespace to left, right, or both sides of strings|\n",
    "| ``wrap()`` | Split long strings into lines with length less than a given width|\n",
    "| ``join()`` | Join strings in each element of the Series with passed separator|\n",
    "| ``get_dummies()`` | extract dummy variables as a dataframe |"
   ]
  },
  {
   "cell_type": "markdown",
   "metadata": {},
   "source": [
    "[Go to the beginning of the notebook](#home)\n",
    "<a id=\"3f\"></a>\n",
    "#### 3.f. Series item access and slicing\n",
    "\n",
    "The ``get()`` and ``slice()`` operations, in particular, enable a pandas element access from each array.<br/>\n",
    "For example, we can get a slice of the first three characters of each array using ``str.slice(0, 3)``.<br/>\n",
    "Note that this behavior is also available through Python's normal indexing syntax–for example, <br/>\n",
    "``df.str.slice(0, 3)`` is equivalent to ``df.str[0:3]``:"
   ]
  },
  {
   "cell_type": "code",
   "execution_count": 129,
   "metadata": {},
   "outputs": [
    {
     "data": {
      "text/plain": [
       "0    Gra\n",
       "1    Joh\n",
       "2    Ter\n",
       "3    Eri\n",
       "4    Ter\n",
       "5    Mic\n",
       "dtype: object"
      ]
     },
     "execution_count": 129,
     "metadata": {},
     "output_type": "execute_result"
    }
   ],
   "source": [
    "monte.str[0:3]"
   ]
  },
  {
   "cell_type": "markdown",
   "metadata": {},
   "source": [
    "Indexing via ``df.str.get(i)`` and ``df.str[i]`` is likewise similar.\n",
    "\n",
    "These ``get()`` and ``slice()`` methods also let you access elements of arrays returned by ``split()``.<br/>\n",
    "For example, to extract the last name of each entry, we can combine ``split()`` and ``get()``:"
   ]
  },
  {
   "cell_type": "code",
   "execution_count": 130,
   "metadata": {},
   "outputs": [
    {
     "data": {
      "text/plain": [
       "0    Chapman\n",
       "1     Cleese\n",
       "2    Gilliam\n",
       "3       Idle\n",
       "4      Jones\n",
       "5      Palin\n",
       "dtype: object"
      ]
     },
     "execution_count": 130,
     "metadata": {},
     "output_type": "execute_result"
    }
   ],
   "source": [
    "monte.str.split().str.get(-1)"
   ]
  },
  {
   "cell_type": "markdown",
   "metadata": {},
   "source": [
    "[Go to the beginning of the notebook](#home)\n",
    "<a id=\"3g\"></a>\n",
    "#### 3.g. Indicator variables\n",
    "\n",
    "Another method that requires a bit of extra explanation is the ``get_dummies()`` method.<br/>\n",
    "This is useful when your data has a column containing some sort of coded indicator.<br/>\n",
    "For example, we might have a dataset that contains information in the form of codes, such as <br/>\n",
    "    A=\"born in America,\" B=\"born in the United Kingdom,\" C=\"likes cheese,\" D=\"likes spam\":"
   ]
  },
  {
   "cell_type": "code",
   "execution_count": 131,
   "metadata": {},
   "outputs": [
    {
     "data": {
      "text/html": [
       "<div>\n",
       "<style scoped>\n",
       "    .dataframe tbody tr th:only-of-type {\n",
       "        vertical-align: middle;\n",
       "    }\n",
       "\n",
       "    .dataframe tbody tr th {\n",
       "        vertical-align: top;\n",
       "    }\n",
       "\n",
       "    .dataframe thead th {\n",
       "        text-align: right;\n",
       "    }\n",
       "</style>\n",
       "<table border=\"1\" class=\"dataframe\">\n",
       "  <thead>\n",
       "    <tr style=\"text-align: right;\">\n",
       "      <th></th>\n",
       "      <th>name</th>\n",
       "      <th>info</th>\n",
       "    </tr>\n",
       "  </thead>\n",
       "  <tbody>\n",
       "    <tr>\n",
       "      <th>0</th>\n",
       "      <td>Graham Chapman</td>\n",
       "      <td>B|C|D</td>\n",
       "    </tr>\n",
       "    <tr>\n",
       "      <th>1</th>\n",
       "      <td>John Cleese</td>\n",
       "      <td>B|D</td>\n",
       "    </tr>\n",
       "    <tr>\n",
       "      <th>2</th>\n",
       "      <td>Terry Gilliam</td>\n",
       "      <td>A|C</td>\n",
       "    </tr>\n",
       "    <tr>\n",
       "      <th>3</th>\n",
       "      <td>Eric Idle</td>\n",
       "      <td>B|D</td>\n",
       "    </tr>\n",
       "    <tr>\n",
       "      <th>4</th>\n",
       "      <td>Terry Jones</td>\n",
       "      <td>B|C</td>\n",
       "    </tr>\n",
       "    <tr>\n",
       "      <th>5</th>\n",
       "      <td>Michael Palin</td>\n",
       "      <td>B|C|D</td>\n",
       "    </tr>\n",
       "  </tbody>\n",
       "</table>\n",
       "</div>"
      ],
      "text/plain": [
       "             name   info\n",
       "0  Graham Chapman  B|C|D\n",
       "1     John Cleese    B|D\n",
       "2   Terry Gilliam    A|C\n",
       "3       Eric Idle    B|D\n",
       "4     Terry Jones    B|C\n",
       "5   Michael Palin  B|C|D"
      ]
     },
     "execution_count": 131,
     "metadata": {},
     "output_type": "execute_result"
    }
   ],
   "source": [
    "full_monte = pd.DataFrame({'name': monte,\n",
    "                           'info': ['B|C|D', 'B|D', 'A|C',\n",
    "                                    'B|D', 'B|C', 'B|C|D']})\n",
    "full_monte"
   ]
  },
  {
   "cell_type": "markdown",
   "metadata": {},
   "source": [
    "The ``get_dummies()`` routine lets you quickly split-out these indicator variables into a ``DataFrame``:"
   ]
  },
  {
   "cell_type": "code",
   "execution_count": 132,
   "metadata": {},
   "outputs": [
    {
     "data": {
      "text/html": [
       "<div>\n",
       "<style scoped>\n",
       "    .dataframe tbody tr th:only-of-type {\n",
       "        vertical-align: middle;\n",
       "    }\n",
       "\n",
       "    .dataframe tbody tr th {\n",
       "        vertical-align: top;\n",
       "    }\n",
       "\n",
       "    .dataframe thead th {\n",
       "        text-align: right;\n",
       "    }\n",
       "</style>\n",
       "<table border=\"1\" class=\"dataframe\">\n",
       "  <thead>\n",
       "    <tr style=\"text-align: right;\">\n",
       "      <th></th>\n",
       "      <th>A</th>\n",
       "      <th>B</th>\n",
       "      <th>C</th>\n",
       "      <th>D</th>\n",
       "    </tr>\n",
       "  </thead>\n",
       "  <tbody>\n",
       "    <tr>\n",
       "      <th>0</th>\n",
       "      <td>0</td>\n",
       "      <td>1</td>\n",
       "      <td>1</td>\n",
       "      <td>1</td>\n",
       "    </tr>\n",
       "    <tr>\n",
       "      <th>1</th>\n",
       "      <td>0</td>\n",
       "      <td>1</td>\n",
       "      <td>0</td>\n",
       "      <td>1</td>\n",
       "    </tr>\n",
       "    <tr>\n",
       "      <th>2</th>\n",
       "      <td>1</td>\n",
       "      <td>0</td>\n",
       "      <td>1</td>\n",
       "      <td>0</td>\n",
       "    </tr>\n",
       "    <tr>\n",
       "      <th>3</th>\n",
       "      <td>0</td>\n",
       "      <td>1</td>\n",
       "      <td>0</td>\n",
       "      <td>1</td>\n",
       "    </tr>\n",
       "    <tr>\n",
       "      <th>4</th>\n",
       "      <td>0</td>\n",
       "      <td>1</td>\n",
       "      <td>1</td>\n",
       "      <td>0</td>\n",
       "    </tr>\n",
       "    <tr>\n",
       "      <th>5</th>\n",
       "      <td>0</td>\n",
       "      <td>1</td>\n",
       "      <td>1</td>\n",
       "      <td>1</td>\n",
       "    </tr>\n",
       "  </tbody>\n",
       "</table>\n",
       "</div>"
      ],
      "text/plain": [
       "   A  B  C  D\n",
       "0  0  1  1  1\n",
       "1  0  1  0  1\n",
       "2  1  0  1  0\n",
       "3  0  1  0  1\n",
       "4  0  1  1  0\n",
       "5  0  1  1  1"
      ]
     },
     "execution_count": 132,
     "metadata": {},
     "output_type": "execute_result"
    }
   ],
   "source": [
    "full_monte['info'].str.get_dummies('|')"
   ]
  },
  {
   "cell_type": "markdown",
   "metadata": {},
   "source": [
    "With these operations as building blocks, you can construct an endless range of string processing procedures when cleaning your data.\n",
    "\n",
    "We won't dive further into these methods here, but I encourage you to read through [\"Working with Text Data\"](http://pandas.pydata.org/pandas-docs/stable/text.html) in the Pandas online documentation."
   ]
  },
  {
   "cell_type": "code",
   "execution_count": null,
   "metadata": {},
   "outputs": [],
   "source": []
  },
  {
   "cell_type": "code",
   "execution_count": null,
   "metadata": {},
   "outputs": [],
   "source": []
  },
  {
   "cell_type": "code",
   "execution_count": null,
   "metadata": {},
   "outputs": [],
   "source": []
  },
  {
   "cell_type": "code",
   "execution_count": null,
   "metadata": {},
   "outputs": [],
   "source": []
  },
  {
   "cell_type": "code",
   "execution_count": null,
   "metadata": {},
   "outputs": [],
   "source": []
  }
 ],
 "metadata": {
  "kernelspec": {
   "display_name": "Python 3 (ipykernel)",
   "language": "python",
   "name": "python3"
  },
  "language_info": {
   "codemirror_mode": {
    "name": "ipython",
    "version": 3
   },
   "file_extension": ".py",
   "mimetype": "text/x-python",
   "name": "python",
   "nbconvert_exporter": "python",
   "pygments_lexer": "ipython3",
   "version": "3.9.7"
  }
 },
 "nbformat": 4,
 "nbformat_minor": 4
}
