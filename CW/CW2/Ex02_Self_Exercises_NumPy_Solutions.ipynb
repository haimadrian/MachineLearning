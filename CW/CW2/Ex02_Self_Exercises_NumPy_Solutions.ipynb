{
 "cells": [
  {
   "cell_type": "markdown",
   "metadata": {},
   "source": [
    "# Machine Learning Python Tutorial\n",
    "## The NumPy module - Self exercise - suggested solutions\n",
    "\n",
    "Development: Matan Vetzler"
   ]
  },
  {
   "cell_type": "code",
   "execution_count": 2,
   "metadata": {
    "id": "YuFBENEVTKdh"
   },
   "outputs": [],
   "source": [
    "# importing the numpy module:\n",
    "import numpy as np"
   ]
  },
  {
   "cell_type": "markdown",
   "metadata": {
    "id": "E5AmUlCbTG1W"
   },
   "source": [
    "### NumPy - EXERCISE 1 - Element-wise addition of 2 numpy arrays\n",
    "Given are 2 similar dimensional numpy arrays, how to get a numpy array output in which every element is an element-wise sum of the 2 numpy arrays?"
   ]
  },
  {
   "cell_type": "code",
   "execution_count": null,
   "metadata": {
    "id": "pK41Of_BS-k7"
   },
   "outputs": [],
   "source": [
    "# given arrays:\n",
    "a = np.array([[1,2,3],\n",
    "              [4,5,6]])\n",
    "\n",
    "b = np.array([[10,11,12],\n",
    "              [13,14,15]])"
   ]
  },
  {
   "cell_type": "markdown",
   "metadata": {},
   "source": [
    "##### Exercise 1 - OUR SOLUTION:"
   ]
  },
  {
   "cell_type": "code",
   "execution_count": null,
   "metadata": {},
   "outputs": [],
   "source": [
    "# OUR SUGGESTED SOLUTION:\n",
    "c = a + b\n",
    "\n",
    "print(c)"
   ]
  },
  {
   "cell_type": "markdown",
   "metadata": {
    "id": "4dsfrVQTTQKS"
   },
   "source": [
    "### NumPy - EXERCISE 2 - Multiplying a matrix (numpy array) by a scalar\n",
    "\n",
    "Given a numpy array (matrix), how to get a numpy array output which is equal to the original matrix multiplied by a scalar?"
   ]
  },
  {
   "cell_type": "code",
   "execution_count": null,
   "metadata": {
    "id": "Bk_pYCCnTSwO"
   },
   "outputs": [],
   "source": [
    "# given array:\n",
    "a = np.array([[1,2,3],\n",
    "              [4,5,6]])"
   ]
  },
  {
   "cell_type": "markdown",
   "metadata": {},
   "source": [
    "##### Exercise 2 - OUR SOLUTION:"
   ]
  },
  {
   "cell_type": "code",
   "execution_count": null,
   "metadata": {},
   "outputs": [],
   "source": [
    "# OUR SUGGESTED SOLUTION:\n",
    "b = 2 * a # multiplying the numpy array a(matrix) by 2\n",
    "\n",
    "print(b)"
   ]
  },
  {
   "cell_type": "markdown",
   "metadata": {
    "id": "SKQtyKadTUZg"
   },
   "source": [
    "### NumPy - EXERCISE 3 - Identity Matrix\n",
    "\n",
    "Create an identity matrix of dimension 4-by-4"
   ]
  },
  {
   "cell_type": "markdown",
   "metadata": {},
   "source": [
    "##### Exercise 3 - OUR SOLUTION:"
   ]
  },
  {
   "cell_type": "code",
   "execution_count": null,
   "metadata": {
    "id": "S9U8yag-TYyl"
   },
   "outputs": [],
   "source": [
    "# OUR SUGGESTED SOLUTION:\n",
    "i = np.eye(4)\n",
    "\n",
    "print(i)"
   ]
  },
  {
   "cell_type": "markdown",
   "metadata": {
    "id": "4H2phN4lTaY7"
   },
   "source": [
    "### NumPy - EXERCISE 4 - Horizontal Stacking of Numpy Arrays\n",
    "\n",
    "Stack 2 numpy arrays horizontally i.e., 2 arrays having the same 1st dimension (number of rows in 2D arrays)"
   ]
  },
  {
   "cell_type": "code",
   "execution_count": null,
   "metadata": {
    "id": "mOsfIU1gTgen"
   },
   "outputs": [],
   "source": [
    "# given arrays:\n",
    "a1 = np.array([[1,2,3],\n",
    "               [4,5,6]])\n",
    "\n",
    "a2 = np.array([[7,8,9],\n",
    "               [10,11,12]])"
   ]
  },
  {
   "cell_type": "markdown",
   "metadata": {},
   "source": [
    "##### Exercise 4 - OUR SOLUTION:"
   ]
  },
  {
   "cell_type": "code",
   "execution_count": null,
   "metadata": {},
   "outputs": [],
   "source": [
    "# OUR SUGGESTED SOLUTION:\n",
    "o = np.hstack((a1, a2))\n",
    "\n",
    "print(o)"
   ]
  },
  {
   "cell_type": "markdown",
   "metadata": {
    "id": "qshwK6egTiLm"
   },
   "source": [
    "### NumPy - EXERCISE 5 - Vertically Stacking of Numpy Arrays\n",
    "\n",
    "Stack 2 numpy arrays vertically i.e., 2 arrays having the same last dimension (number of columns in 2D arrays)"
   ]
  },
  {
   "cell_type": "code",
   "execution_count": null,
   "metadata": {
    "id": "w27Lu4LiTlYk"
   },
   "outputs": [],
   "source": [
    "# given arrays:\n",
    "a1 = np.array([[1,2],\n",
    "               [3,4],\n",
    "               [5,6]])\n",
    "\n",
    "a2 = np.array([[7,8],\n",
    "               [9,10],\n",
    "               [10,11]])"
   ]
  },
  {
   "cell_type": "markdown",
   "metadata": {},
   "source": [
    "##### Exercise 5 - OUR SOLUTION:"
   ]
  },
  {
   "cell_type": "code",
   "execution_count": null,
   "metadata": {},
   "outputs": [],
   "source": [
    "# OUR SUGGESTED SOLUTION:\n",
    "o = np.vstack((a1, a2))\n",
    "\n",
    "print(o)"
   ]
  },
  {
   "cell_type": "markdown",
   "metadata": {
    "id": "R5DzQ1ITTnOA"
   },
   "source": [
    "### NumPy - EXERCISE 6 - Custom Sequence Generation\n",
    "\n",
    "Generate a sequence of numbers in the form of a numpy array from 0 to 100 with gaps of 2 numbers, for example: 0, 2, 4 ...."
   ]
  },
  {
   "cell_type": "markdown",
   "metadata": {},
   "source": [
    "##### Exercise 6 - OUR SOLUTION:"
   ]
  },
  {
   "cell_type": "code",
   "execution_count": null,
   "metadata": {
    "id": "7VHgai2FTr0Q"
   },
   "outputs": [],
   "source": [
    "# OUR SUGGESTED SOLUTION:\n",
    "o = np.arange(0, 101, 2)\n",
    "\n",
    "print(o)"
   ]
  },
  {
   "cell_type": "markdown",
   "metadata": {
    "id": "mGjj_Z7oTtun"
   },
   "source": [
    "### NumPy - EXERCISE 7 - Matrix Generation with one particular value\n",
    "\n",
    "Output a matrix (numpy array) of dimension 2-by-3 with each and every value equal to 5"
   ]
  },
  {
   "cell_type": "markdown",
   "metadata": {},
   "source": [
    "##### Exercise 7 - OUR SOLUTION:"
   ]
  },
  {
   "cell_type": "code",
   "execution_count": null,
   "metadata": {
    "id": "vjwi-AWUTycd"
   },
   "outputs": [],
   "source": [
    "# OUR SUGGESTED SOLUTION:\n",
    "o = np.full((2, 3), 5)\n",
    "\n",
    "print(o)"
   ]
  },
  {
   "cell_type": "markdown",
   "metadata": {
    "id": "u7YcewnrT0VM"
   },
   "source": [
    "### NumPy - EXERCISE 8 - Array Generation of random integers within a specified range\n",
    "\n",
    "Output a 5-by-5 array of random integers between 0 (inclusive) and 10 (exclusive)"
   ]
  },
  {
   "cell_type": "markdown",
   "metadata": {},
   "source": [
    "##### Exercise 8 - OUR SOLUTION:"
   ]
  },
  {
   "cell_type": "code",
   "execution_count": null,
   "metadata": {
    "id": "hlDFVlnCT5Iq"
   },
   "outputs": [],
   "source": [
    "# OUR SUGGESTED SOLUTION:\n",
    "o = np.random.randint(0, 10, size=(5,5))\n",
    "\n",
    "print(o)"
   ]
  },
  {
   "cell_type": "markdown",
   "metadata": {
    "id": "SUanW_HIT7rx"
   },
   "source": [
    "### NumPy - EXERCISE 9 - Matrix Multiplication\n",
    "\n",
    "Given 2 numpy arrays as matrices, output the result of multiplying the 2 matrices (as a numpy array)"
   ]
  },
  {
   "cell_type": "code",
   "execution_count": 3,
   "metadata": {
    "id": "UdNiCM1_T_ou"
   },
   "outputs": [],
   "source": [
    "# given arrays:\n",
    "a = np.array([[1,2,3],\n",
    "              [4,5,6],\n",
    "              [7,8,9]])\n",
    "\n",
    "b = np.array([[2,3,4],\n",
    "              [5,6,7],\n",
    "              [8,9,10]])"
   ]
  },
  {
   "cell_type": "markdown",
   "metadata": {},
   "source": [
    "##### Exercise 9 - OUR SOLUTION:"
   ]
  },
  {
   "cell_type": "code",
   "execution_count": 4,
   "metadata": {},
   "outputs": [
    {
     "name": "stdout",
     "output_type": "stream",
     "text": [
      "[[ 36  42  48]\n",
      " [ 81  96 111]\n",
      " [126 150 174]]\n"
     ]
    }
   ],
   "source": [
    "# OUR SUGGESTED SOLUTION:\n",
    "o = np.matmul(a, b)\n",
    "\n",
    "print(o)"
   ]
  },
  {
   "cell_type": "markdown",
   "metadata": {
    "id": "u235b7eWUDR_"
   },
   "source": [
    "### NumPy - EXERCISE 10 - Matrix Transpose\n",
    "\n",
    "Output the transpose of a matrix (as numpy array)"
   ]
  },
  {
   "cell_type": "code",
   "execution_count": null,
   "metadata": {
    "id": "VEoMLyoLUGYt"
   },
   "outputs": [],
   "source": [
    "# given array:\n",
    "a = np.array([[1,2,3],\n",
    "              [4,5,6],\n",
    "              [7,8,9]])"
   ]
  },
  {
   "cell_type": "markdown",
   "metadata": {},
   "source": [
    "##### Exercise 10 - OUR SOLUTION:"
   ]
  },
  {
   "cell_type": "code",
   "execution_count": null,
   "metadata": {},
   "outputs": [],
   "source": [
    "# OUR SUGGESTED SOLUTION:\n",
    "a_transpose = a.T\n",
    "\n",
    "print(a_transpose)"
   ]
  },
  {
   "cell_type": "markdown",
   "metadata": {
    "id": "Uw1kegcsUITt"
   },
   "source": [
    "### NumPy - EXERCISE 11 - Sorting 2D array\n",
    "\n",
    "Output the sorting of a 2D array, once on rows level and once on columns level"
   ]
  },
  {
   "cell_type": "code",
   "execution_count": null,
   "metadata": {
    "id": "JuzUyP4bUX3v"
   },
   "outputs": [],
   "source": [
    "# given array:\n",
    "a = np.array([[2,4,3],\n",
    "              [8,9,10],\n",
    "              [5,6,7]])"
   ]
  },
  {
   "cell_type": "markdown",
   "metadata": {},
   "source": [
    "##### Exercise 11 - OUR SOLUTION:"
   ]
  },
  {
   "cell_type": "code",
   "execution_count": null,
   "metadata": {},
   "outputs": [],
   "source": [
    "# OUR SUGGESTED SOLUTION:\n",
    "o_r = np.sort(a, axis=0)\n",
    "print(o_r)\n",
    "\n",
    "o_c = np.sort(a, axis=1)\n",
    "print(o_c)"
   ]
  }
 ],
 "metadata": {
  "colab": {
   "name": "NumPy Exercises.ipynb",
   "provenance": []
  },
  "kernelspec": {
   "display_name": "Python 3 (ipykernel)",
   "language": "python",
   "name": "python3"
  },
  "language_info": {
   "codemirror_mode": {
    "name": "ipython",
    "version": 3
   },
   "file_extension": ".py",
   "mimetype": "text/x-python",
   "name": "python",
   "nbconvert_exporter": "python",
   "pygments_lexer": "ipython3",
   "version": "3.9.7"
  }
 },
 "nbformat": 4,
 "nbformat_minor": 4
}
