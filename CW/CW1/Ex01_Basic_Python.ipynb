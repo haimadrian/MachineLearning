{
 "cells": [
  {
   "cell_type": "markdown",
   "metadata": {
    "id": "mU7qpn4rgj-n"
   },
   "source": [
    "Credis:\n",
    "* *The Python Data Science Handbook* by Jake VanderPlas (O’Reilly). Copyright 2016 Jake VanderPlas, 978-1-491-91205-8.\n",
    "* \"Lomdim Python\" Hebrew version: [Yam Mesicka](https://www.mesicka.com) (Editior: [Dafi Bar Ilan](https://www.dafibarilan.com/))\n",
    "* `CS231n` Python tutorial by Justin Johnson (http://cs231n.github.io/python-numpy-tutorial/)\n",
    "* Credit also to Dr. Jonathan Rubin.\n",
    "and from other we've might missed"
   ]
  },
  {
   "cell_type": "markdown",
   "metadata": {
    "id": "gzZzvhFigj-r"
   },
   "source": [
    "<p style=\"text-align: right; direction: rtl; float: right;\">כדי להריץ את התוכן של תא מסוים, לחצו עליו כך שתופיע סביבו מסגרת, והקישו בו־זמנית על המקשים <kbd>CTRL</kbd> + <kbd>ENTER</kbd> במקלדת.<br>\n",
    "לאחר שתעשו זאת, פייתון תעבד את הביטוי המופיע במשבצת ותציג לכם תשובה בהתאם.<br>\n",
    "לחלופין לחצו על כפתור <kbd>Run</kbd> בתפריט למעלה.<br>\n",
    "נסו את זה על המשבצת הבאה!</p>"
   ]
  },
  {
   "cell_type": "code",
   "execution_count": null,
   "metadata": {
    "id": "a0G6iLX8Fqru"
   },
   "outputs": [],
   "source": [
    "# Python has a built-in function called print that prints things as text.\n",
    "# Call the function (i.e., tell Python to run it) by using its name.\n",
    "# Provide values to the function (i.e., the things to print) in parentheses.\n",
    "# To add a string to the printout, wrap the string in single or double quotes.\n",
    "# The values passed to the function are called arguments"
   ]
  },
  {
   "cell_type": "code",
   "execution_count": 2,
   "metadata": {
    "colab": {
     "base_uri": "https://localhost:8080/"
    },
    "executionInfo": {
     "elapsed": 276,
     "status": "ok",
     "timestamp": 1633773706556,
     "user": {
      "displayName": "מתן וצלר",
      "photoUrl": "https://lh3.googleusercontent.com/a/default-user=s64",
      "userId": "04484460307820172778"
     },
     "user_tz": -180
    },
    "id": "8wDP7J7Agj-s",
    "outputId": "66d66efb-a40f-450f-d9ef-682c7cf01394"
   },
   "outputs": [
    {
     "name": "stdout",
     "output_type": "stream",
     "text": [
      "Hello World\n",
      "Hi there\n"
     ]
    }
   ],
   "source": [
    "print(\"Hello World\")\n",
    "print('Hi there')"
   ]
  },
  {
   "cell_type": "code",
   "execution_count": null,
   "metadata": {
    "colab": {
     "base_uri": "https://localhost:8080/"
    },
    "executionInfo": {
     "elapsed": 25,
     "status": "ok",
     "timestamp": 1633773706915,
     "user": {
      "displayName": "מתן וצלר",
      "photoUrl": "https://lh3.googleusercontent.com/a/default-user=s64",
      "userId": "04484460307820172778"
     },
     "user_tz": -180
    },
    "id": "VLWKY2xrgj-u",
    "outputId": "bed44f0b-1608-4914-cbdd-757bf82c9350"
   },
   "outputs": [],
   "source": [
    "hello = 'hello all'\n",
    "print(hello)"
   ]
  },
  {
   "cell_type": "markdown",
   "metadata": {
    "id": "ho-pkVBSgj-u"
   },
   "source": [
    "## <span style=\"text-align: right; direction: rtl; float: right; clear: both;\">הערות</span>\n",
    "<p style=\"text-align: right; direction: rtl; float: right; clear: both;\">\n",
    "לפעמים נרצה לצרף דברי הסבר לקוד שכתבנו.<br>\n",
    "כדי להוסיף הסברים לצד הקוד נשתמש בתו סולמית, ומייד אחריה נכתוב את ההסברים שרצינו לצרף.<br>\n",
    "החלקים האלו בקוד נקראים <dfn>הערות</dfn>, ופייתון מתעלמת מקיומם כשהיא מריצה את הקוד.\n",
    "</p>"
   ]
  },
  {
   "cell_type": "code",
   "execution_count": null,
   "metadata": {
    "colab": {
     "base_uri": "https://localhost:8080/"
    },
    "executionInfo": {
     "elapsed": 22,
     "status": "ok",
     "timestamp": 1633773706915,
     "user": {
      "displayName": "מתן וצלר",
      "photoUrl": "https://lh3.googleusercontent.com/a/default-user=s64",
      "userId": "04484460307820172778"
     },
     "user_tz": -180
    },
    "id": "GoUCA_LNgj-v",
    "outputId": "9a14c6f3-e75e-40ef-bd82-e95c147ce6a8"
   },
   "outputs": [],
   "source": [
    "# You could also click shift+enter and another cell will be created\n",
    "print('hi, Welcome to python!')  # This will print \"hi, Welcome to python!\""
   ]
  },
  {
   "cell_type": "markdown",
   "metadata": {
    "id": "XGweNRgYgj-v"
   },
   "source": [
    "## <span style=\"text-align: right; direction: rtl; float: right; clear: both;\">מספרים</span>\n",
    "### <span style=\"text-align: right; direction: rtl; float: right; clear: both;\">חלוקת שלמים</span>\n",
    "<p style=\"text-align: right; direction: rtl; float: right;\"><dfn>חלוקת שלמים</dfn> היא פעולה שתוצאתה תמיד מספר שלם, בניגוד לפעולת החילוק שאנחנו רגילים אליה (<code>/</code>).</p>\n",
    "\n",
    "<p style=\"text-align: right; direction: rtl; float: right;\">כאשר אנחנו עושים חלוקת שלמים מהצורה <code>A // B</code>, אנחנו למעשה מתכוונים לשאול:</p>\n",
    "\n",
    "<blockquote style=\"text-align: left; direction: ltr; float: right; border-left: 0; border-right: 5px solid #eeeeee;\"><p style=\"text-align: right; direction: rtl; float: left;\">אם יש לי A משולשי פיצה, וחילקתי את כל משלושי הפיצה באופן שווה ל־B ילדים (תזהרו מלחתוך לי את המשולשים!), כמה משולשי פיצה יקבל כל ילד?</p></blockquote>\n",
    "\n",
    "<p style=\"text-align: right; direction: rtl; float: right;\">לדוגמה: הביטוי <code>4 // 9</code>, אומר שיש לנו 9 משולשי פיצה ו־4 ילדים רעבים.<br>אם נחלק את משולשי הפיצה בין הילדים, נגלה שכל ילד יקבל 2 משולשים, ושנשאר משולש אחד שלא ניתן לחלק.</p>\n",
    "\n",
    "### <span style=\"text-align: right; direction: rtl; float: right; clear: both;\">שארית</span>\n",
    "<p style=\"text-align: right; direction: rtl; float: right;\">למשולשי הפיצה שלא הצלחנו לחלק לילדים אנחנו קוראים <dfn>שארית</dfn>, וזו התוצאה שנקבל כשנכתוב את הסימן <code>%</code> במקום <code>//</code>.<br>לדוגמה, אם היינו כותבים <code>4 % 9</code>, היינו מקבלים <code>1</code>, הרי הוא משולש הפיצה שנשאר מהדוגמה שלמעלה.</p>\n",
    "\n"
   ]
  },
  {
   "cell_type": "code",
   "execution_count": 3,
   "metadata": {
    "colab": {
     "base_uri": "https://localhost:8080/"
    },
    "executionInfo": {
     "elapsed": 21,
     "status": "ok",
     "timestamp": 1633773706916,
     "user": {
      "displayName": "מתן וצלר",
      "photoUrl": "https://lh3.googleusercontent.com/a/default-user=s64",
      "userId": "04484460307820172778"
     },
     "user_tz": -180
    },
    "id": "0UJ4NDupgj-x",
    "outputId": "f8723be9-4f1b-4613-c150-e77875f80f47"
   },
   "outputs": [
    {
     "name": "stdout",
     "output_type": "stream",
     "text": [
      "2.5\n",
      "2\n",
      "1\n"
     ]
    }
   ],
   "source": [
    "print(5 / 2)\n",
    "print(5 // 2)\n",
    "print(5 % 2)"
   ]
  },
  {
   "cell_type": "code",
   "execution_count": 4,
   "metadata": {
    "colab": {
     "base_uri": "https://localhost:8080/"
    },
    "executionInfo": {
     "elapsed": 743,
     "status": "ok",
     "timestamp": 1633968365614,
     "user": {
      "displayName": "מתן וצלר",
      "photoUrl": "https://lh3.googleusercontent.com/a/default-user=s64",
      "userId": "04484460307820172778"
     },
     "user_tz": -180
    },
    "id": "bYEUWuNUGhOu",
    "outputId": "1e6406fc-7ac6-4d2e-9731-4ffe02a8f15f"
   },
   "outputs": [
    {
     "name": "stdout",
     "output_type": "stream",
     "text": [
      "4\n",
      "3.0999999999999996\n",
      "14\n",
      "100\n"
     ]
    }
   ],
   "source": [
    "print(3 + 1)   # Addition;\n",
    "print(4.1 - 1)   # Subtraction;\n",
    "print(7 * 2)   # Multiplication;\n",
    "print(10 ** 2)  # Exponentiation;"
   ]
  },
  {
   "cell_type": "markdown",
   "metadata": {
    "id": "SZsPOmbSGtgk"
   },
   "source": [
    "### <span style=\"text-align: right; direction: rtl; float: right; clear: both;\">Variables</span>"
   ]
  },
  {
   "cell_type": "code",
   "execution_count": 5,
   "metadata": {
    "colab": {
     "base_uri": "https://localhost:8080/"
    },
    "executionInfo": {
     "elapsed": 253,
     "status": "ok",
     "timestamp": 1633968493549,
     "user": {
      "displayName": "מתן וצלר",
      "photoUrl": "https://lh3.googleusercontent.com/a/default-user=s64",
      "userId": "04484460307820172778"
     },
     "user_tz": -180
    },
    "id": "r5Q-BEtKgj-y",
    "outputId": "ad07ac9e-e1bc-4fe6-e709-8ca455fed182"
   },
   "outputs": [
    {
     "name": "stdout",
     "output_type": "stream",
     "text": [
      "3\n",
      "<class 'int'>\n",
      "------\n",
      "2\n",
      "<class 'int'>\n"
     ]
    }
   ],
   "source": [
    "x = 3\n",
    "print(x)\n",
    "print(type(x))\n",
    "print('------')\n",
    "\n",
    "y = 2\n",
    "print(y)\n",
    "print(type(y))"
   ]
  },
  {
   "cell_type": "code",
   "execution_count": 6,
   "metadata": {
    "colab": {
     "base_uri": "https://localhost:8080/"
    },
    "executionInfo": {
     "elapsed": 17,
     "status": "ok",
     "timestamp": 1633773706916,
     "user": {
      "displayName": "מתן וצלר",
      "photoUrl": "https://lh3.googleusercontent.com/a/default-user=s64",
      "userId": "04484460307820172778"
     },
     "user_tz": -180
    },
    "id": "zGyCkX_Ngj-y",
    "outputId": "d78393a5-d1c9-4692-8108-e5c7b6d9ce5d"
   },
   "outputs": [
    {
     "name": "stdout",
     "output_type": "stream",
     "text": [
      "4\n",
      "2\n",
      "6\n",
      "9\n"
     ]
    }
   ],
   "source": [
    "# Calculations using Variables\n",
    "\n",
    "print(x + 1)   # Addition;\n",
    "print(x - 1)   # Subtraction;\n",
    "print(x * 2)   # Multiplication;\n",
    "print(x ** 2)  # Exponentiation;"
   ]
  },
  {
   "cell_type": "code",
   "execution_count": 7,
   "metadata": {
    "colab": {
     "base_uri": "https://localhost:8080/"
    },
    "executionInfo": {
     "elapsed": 5,
     "status": "ok",
     "timestamp": 1633968495286,
     "user": {
      "displayName": "מתן וצלר",
      "photoUrl": "https://lh3.googleusercontent.com/a/default-user=s64",
      "userId": "04484460307820172778"
     },
     "user_tz": -180
    },
    "id": "IbZM9oKKG2wI",
    "outputId": "0f5e78fd-7c2c-4e44-dbf2-cc31cd3c3cf0"
   },
   "outputs": [
    {
     "name": "stdout",
     "output_type": "stream",
     "text": [
      "5\n",
      "6\n",
      "9\n",
      "1.5\n"
     ]
    }
   ],
   "source": [
    "# Manipulating multiple variables \n",
    "\n",
    "print(x + y)\n",
    "print(x * y)\n",
    "print(x ** y)\n",
    "print(x / y)"
   ]
  },
  {
   "cell_type": "code",
   "execution_count": 8,
   "metadata": {
    "colab": {
     "base_uri": "https://localhost:8080/"
    },
    "executionInfo": {
     "elapsed": 244,
     "status": "ok",
     "timestamp": 1633968642705,
     "user": {
      "displayName": "מתן וצלר",
      "photoUrl": "https://lh3.googleusercontent.com/a/default-user=s64",
      "userId": "04484460307820172778"
     },
     "user_tz": -180
    },
    "id": "YyK11l5Ogj-z",
    "outputId": "1136964a-93c8-48a4-e091-20c5e60e1aeb"
   },
   "outputs": [
    {
     "name": "stdout",
     "output_type": "stream",
     "text": [
      "4\n",
      "3\n",
      "6\n",
      "2.0\n"
     ]
    }
   ],
   "source": [
    "# Numerical variables are \"muteables\", meaning that they can be changed\n",
    "\n",
    "x = x + 1      # x += 1\n",
    "print(x) \n",
    "\n",
    "x = x - 1      # x -= 1\n",
    "print(x)\n",
    "\n",
    "x = x * 2      # x *= 2\n",
    "print(x) \n",
    "\n",
    "x = x / 3      # x /= 3\n",
    "print(x)"
   ]
  },
  {
   "cell_type": "markdown",
   "metadata": {
    "id": "iCLr2MiGH5-o"
   },
   "source": [
    "לפייתון לא אכפת איך תקראו למשתני כל עוד הם הולכים לפי חוקי השמות (אותיות באנגלית, מספרים וקו תחתון בלבד) \n"
   ]
  },
  {
   "cell_type": "code",
   "execution_count": null,
   "metadata": {
    "id": "Nh0jWv9eIPfE"
   },
   "outputs": [],
   "source": [
    "flabadab = 42\n",
    "ewr_422_yY = 'Bloop'\n",
    "print(ewr_422_yY, 'is', flabadab, 'years old')"
   ]
  },
  {
   "cell_type": "markdown",
   "metadata": {
    "id": "BMJ6m4G9IQVz"
   },
   "source": [
    "בבקשה תתנו למשתנים שמות הגיוניים בכלל כמה סיבות: \n",
    "1. בכדי שהעובד האחר בחברה שאתם עובדים בה יבין מה הקוד שלכם עושה\n",
    "2. לפעמים אתם האדם האחר כשתסתכלו על הקוד שלכם אחרי חצי שנה"
   ]
  },
  {
   "cell_type": "markdown",
   "metadata": {
    "id": "WsrV9_kjgj-0"
   },
   "source": [
    "\n",
    "## <span style=\"align: right; direction: rtl; float: right;\">Booleans</span>\n",
    "\n",
    "In programming you often need to know if an expression is True or False.\n",
    "\n",
    "You can evaluate any expression in Python, and get one of two answers, True or False.\n",
    "\n",
    "When you compare two values, the expression is evaluated and Python returns the Boolean answer:"
   ]
  },
  {
   "cell_type": "code",
   "execution_count": null,
   "metadata": {
    "id": "Jwqbw0kWIwXw"
   },
   "outputs": [],
   "source": [
    "print(10 > 9)\n",
    "print(10 == 9)\n",
    "print(10 < 9)"
   ]
  },
  {
   "cell_type": "markdown",
   "metadata": {
    "id": "4Ac1FvsAK457"
   },
   "source": [
    "Python supports the usual logical conditions from mathematics:\n",
    "\n",
    "Equals: a == b\n",
    "\n",
    "Not Equals: a != b\n",
    "\n",
    "Less than: a < b\n",
    "\n",
    "Less than or equal to: a <= b\n",
    "\n",
    "Greater than: a > b\n",
    "\n",
    "Greater than or equal to: a >= b\n",
    "\n",
    "These conditions can be used in several ways, most commonly in \"if statements\" and loops.\n",
    "\n",
    "\n",
    "An \"if statement\" is written by using the **if** keyword."
   ]
  },
  {
   "cell_type": "code",
   "execution_count": null,
   "metadata": {
    "id": "sSGRsvteK6RI"
   },
   "outputs": [],
   "source": [
    "a = 33\n",
    "b = 200\n",
    "if b > a:\n",
    "  print(\"b is greater than a\")"
   ]
  },
  {
   "cell_type": "markdown",
   "metadata": {
    "id": "1s8E1oaNLHmu"
   },
   "source": [
    "The **else** keyword catches anything which isn't caught by the preceding conditions.\n",
    "\n"
   ]
  },
  {
   "cell_type": "code",
   "execution_count": null,
   "metadata": {
    "id": "eO1VPRc1LPum"
   },
   "outputs": [],
   "source": [
    "a = 200\n",
    "b = 33\n",
    "if b > a:\n",
    "  print(\"b is greater than a\")\n",
    "else:\n",
    "  print(\"a is greater than or equal to b\")"
   ]
  },
  {
   "cell_type": "markdown",
   "metadata": {
    "id": "6zObX-J6LY2E"
   },
   "source": [
    "The **elif** keyword is pythons way of saying \"if the previous conditions were not true, then try this condition\".\n",
    "\n"
   ]
  },
  {
   "cell_type": "code",
   "execution_count": null,
   "metadata": {
    "id": "Tnxqvh5QLb0o"
   },
   "outputs": [],
   "source": [
    "a = 33\n",
    "b = 33\n",
    "if b > a:\n",
    "  print(\"b is greater than a\")\n",
    "elif a == b:\n",
    "  print(\"a and b are equal\")"
   ]
  },
  {
   "cell_type": "markdown",
   "metadata": {
    "id": "vNtm8R9-LkKD"
   },
   "source": [
    "The **and** keyword is a logical operator, and is used to combine conditional statements:\n",
    "\n"
   ]
  },
  {
   "cell_type": "code",
   "execution_count": null,
   "metadata": {
    "id": "EYs1X8NeLlj7"
   },
   "outputs": [],
   "source": [
    "a = 200\n",
    "b = 33\n",
    "c = 500\n",
    "if a > b and c > a:\n",
    "  print(\"Both conditions are True\")"
   ]
  },
  {
   "cell_type": "markdown",
   "metadata": {
    "id": "IIxN3OreLodP"
   },
   "source": [
    "The **or** keyword is a logical operator, and is used to combine conditional statements:\n",
    "\n"
   ]
  },
  {
   "cell_type": "code",
   "execution_count": null,
   "metadata": {
    "id": "xjsPSY59Lq3O"
   },
   "outputs": [],
   "source": [
    "a = 200\n",
    "b = 33\n",
    "c = 500\n",
    "if a > b or a > c:\n",
    "  print(\"At least one of the conditions is True\")"
   ]
  },
  {
   "cell_type": "markdown",
   "metadata": {
    "id": "HMRbVJoZLtC6"
   },
   "source": [
    "You can have **if** statements inside **if** statements, this is called **nested if** statements.\n",
    "\n"
   ]
  },
  {
   "cell_type": "code",
   "execution_count": null,
   "metadata": {
    "id": "zOxfwu_mLyQ6"
   },
   "outputs": [],
   "source": [
    "x = 41\n",
    "\n",
    "if x > 10:\n",
    "  print(\"Above ten,\")\n",
    "  if x > 20:\n",
    "    print(\"and also above 20!\")\n",
    "  else:\n",
    "    print(\"but not above 20.\")"
   ]
  },
  {
   "cell_type": "markdown",
   "metadata": {
    "id": "-sQQ2XYVL3Ga"
   },
   "source": [
    "if statements cannot be empty, but if you for some reason have an if statement with no content, put in the **pass** statement to avoid getting an error.\n",
    "\n"
   ]
  },
  {
   "cell_type": "code",
   "execution_count": null,
   "metadata": {
    "id": "-YYAnxF7L5Mo"
   },
   "outputs": [],
   "source": [
    "a = 33\n",
    "b = 200\n",
    "\n",
    "if b > a:\n",
    "  pass"
   ]
  },
  {
   "cell_type": "markdown",
   "metadata": {
    "id": "VE9e-myaI2z-"
   },
   "source": [
    "When you run a condition in an if statement, Python returns True or False:\n",
    "\n"
   ]
  },
  {
   "cell_type": "code",
   "execution_count": null,
   "metadata": {
    "id": "-abOcwzJI5R-"
   },
   "outputs": [],
   "source": [
    "a = 200\n",
    "b = 33\n",
    "\n",
    "if b > a:\n",
    "  print(\"b is greater than a\")\n",
    "else:\n",
    "  print(\"b is not greater than a\")"
   ]
  },
  {
   "cell_type": "code",
   "execution_count": null,
   "metadata": {
    "colab": {
     "base_uri": "https://localhost:8080/"
    },
    "executionInfo": {
     "elapsed": 11,
     "status": "ok",
     "timestamp": 1633773706918,
     "user": {
      "displayName": "מתן וצלר",
      "photoUrl": "https://lh3.googleusercontent.com/a/default-user=s64",
      "userId": "04484460307820172778"
     },
     "user_tz": -180
    },
    "id": "IYHc7jf9gj-0",
    "outputId": "d334d1f3-7376-4365-a538-db7f5a83d6ca"
   },
   "outputs": [],
   "source": [
    "t = True\n",
    "f = False\n",
    "print(type(t)) # Prints \"<type 'bool'>\""
   ]
  },
  {
   "cell_type": "code",
   "execution_count": null,
   "metadata": {
    "colab": {
     "base_uri": "https://localhost:8080/"
    },
    "executionInfo": {
     "elapsed": 11,
     "status": "ok",
     "timestamp": 1633773706919,
     "user": {
      "displayName": "מתן וצלר",
      "photoUrl": "https://lh3.googleusercontent.com/a/default-user=s64",
      "userId": "04484460307820172778"
     },
     "user_tz": -180
    },
    "id": "bYtsv7WDgj-0",
    "outputId": "c810b8d6-ab77-4d5c-cb91-566c991b4871"
   },
   "outputs": [],
   "source": [
    "print(t and f) # Logical AND;\n",
    "print(t or f)  # Logical OR;\n",
    "print(not t)   # Logical NOT;\n",
    "print(t != f)  # Logical XOR;\n",
    "print(t == f)  # Equality"
   ]
  },
  {
   "cell_type": "markdown",
   "metadata": {
    "id": "kQqug3hegj-1"
   },
   "source": [
    "## <span style=\"align: right; direction: rtl; float: right;\">Strings</span>\n",
    "\n",
    "Strings in python are surrounded by either single quotation marks, or double quotation marks.\n",
    "\n",
    "'hello' is the same as \"hello\".\n",
    "\n",
    "You can display a string literal with the print() function"
   ]
  },
  {
   "cell_type": "code",
   "execution_count": null,
   "metadata": {
    "id": "0i9_rEf7JKg_"
   },
   "outputs": [],
   "source": [
    "print(\"Hello\")\n",
    "print('Hello')"
   ]
  },
  {
   "cell_type": "markdown",
   "metadata": {
    "id": "0LBtJznqJNZz"
   },
   "source": [
    "Assigning a string to a variable is done with the variable name followed by an equal sign and the string:\n",
    "\n"
   ]
  },
  {
   "cell_type": "code",
   "execution_count": null,
   "metadata": {
    "id": "QVB2d9wXJRa1"
   },
   "outputs": [],
   "source": [
    "a = \"Hello\"\n",
    "print(a)"
   ]
  },
  {
   "cell_type": "markdown",
   "metadata": {
    "id": "_e2oM8DtJTZl"
   },
   "source": [
    "You can assign a multiline string to a variable by using three quotes:\n",
    "\n"
   ]
  },
  {
   "cell_type": "code",
   "execution_count": null,
   "metadata": {
    "id": "qz1mda3SJWEk"
   },
   "outputs": [],
   "source": [
    "a = \"\"\"Lorem ipsum dolor sit amet,\n",
    "consectetur adipiscing elit,\n",
    "sed do eiusmod tempor incididunt\n",
    "ut labore et dolore magna aliqua.\"\"\"\n",
    "print(a)"
   ]
  },
  {
   "cell_type": "code",
   "execution_count": 10,
   "metadata": {
    "colab": {
     "base_uri": "https://localhost:8080/"
    },
    "executionInfo": {
     "elapsed": 548,
     "status": "ok",
     "timestamp": 1633969197026,
     "user": {
      "displayName": "מתן וצלר",
      "photoUrl": "https://lh3.googleusercontent.com/a/default-user=s64",
      "userId": "04484460307820172778"
     },
     "user_tz": -180
    },
    "id": "M24-kYq1gj-1",
    "outputId": "931f5472-9816-45d5-ac83-e882686284e9"
   },
   "outputs": [
    {
     "name": "stdout",
     "output_type": "stream",
     "text": [
      "hello my \"best friend\"!!! world 3\n"
     ]
    }
   ],
   "source": [
    "hello = 'hello my \"best friend\"!!!'   # String literals can use single quotes\n",
    "world = \"world\"   # or double quotes; it does not matter.\n",
    "num = 3\n",
    "print(hello, world, num)"
   ]
  },
  {
   "cell_type": "code",
   "execution_count": 13,
   "metadata": {
    "colab": {
     "base_uri": "https://localhost:8080/"
    },
    "executionInfo": {
     "elapsed": 32,
     "status": "ok",
     "timestamp": 1633773707238,
     "user": {
      "displayName": "מתן וצלר",
      "photoUrl": "https://lh3.googleusercontent.com/a/default-user=s64",
      "userId": "04484460307820172778"
     },
     "user_tz": -180
    },
    "id": "jraC1bCbgj-1",
    "outputId": "42edb749-029d-4670-f9bf-9ed67a1c950c"
   },
   "outputs": [
    {
     "name": "stdout",
     "output_type": "stream",
     "text": [
      "hello my \"best friend\"!!! world 3\n"
     ]
    }
   ],
   "source": [
    "num = 3\n",
    "hw = hello + ' ' + world + ' ' + str(3)  # String concatenation\n",
    "print(hw)  # prints \"hello world\""
   ]
  },
  {
   "cell_type": "code",
   "execution_count": null,
   "metadata": {
    "colab": {
     "base_uri": "https://localhost:8080/"
    },
    "executionInfo": {
     "elapsed": 267,
     "status": "ok",
     "timestamp": 1633774604079,
     "user": {
      "displayName": "מתן וצלר",
      "photoUrl": "https://lh3.googleusercontent.com/a/default-user=s64",
      "userId": "04484460307820172778"
     },
     "user_tz": -180
    },
    "id": "gPhVR228gj-2",
    "outputId": "ef596d7b-18ce-4cb6-f49b-ab0700d6ab05"
   },
   "outputs": [],
   "source": [
    "hw12 = '%s %s %d' % (hello, world, 12)  # sprintf style string formatting\n",
    "hw13 = f'{hello} {world} 13'\n",
    "\n",
    "print(hw12)  # prints \"hello world 12\" \n",
    "print(hw13)  # prints \"hello world 13\" "
   ]
  },
  {
   "cell_type": "markdown",
   "metadata": {
    "id": "cSpOMAVcgj-2"
   },
   "source": [
    "String objects have a bunch of useful methods; for example:"
   ]
  },
  {
   "cell_type": "code",
   "execution_count": null,
   "metadata": {
    "colab": {
     "base_uri": "https://localhost:8080/"
    },
    "executionInfo": {
     "elapsed": 27,
     "status": "ok",
     "timestamp": 1633773707240,
     "user": {
      "displayName": "מתן וצלר",
      "photoUrl": "https://lh3.googleusercontent.com/a/default-user=s64",
      "userId": "04484460307820172778"
     },
     "user_tz": -180
    },
    "id": "WBE69ZpCgj-2",
    "outputId": "99852cba-6b08-4590-e181-4bdddc4fc34f"
   },
   "outputs": [],
   "source": [
    "s = \"hello\"\n",
    "print(s.capitalize()  )# Capitalize a string; prints \"Hello\"\n",
    "print(s.upper()      ) # Convert a string to uppercase; prints \"HELLO\"\n",
    "print(s.rjust(7)    )  # Right-justify a string, padding with spaces; prints \"  hello\"\n",
    "print(s.center(7)  )   # Center a string, padding with spaces; prints \" hello \"\n",
    "print(s.replace('l', '(ell)'))  # Replace all instances of one substring with another;\n",
    "                              # prints \"he(ell)(ell)o\"\n",
    "print('  world '.strip())  # Strip leading and trailing whitespace; prints \"world\""
   ]
  },
  {
   "cell_type": "markdown",
   "metadata": {
    "id": "J49lNG1OJnvg"
   },
   "source": [
    "Like many other popular programming languages, strings in Python are arrays of bytes representing unicode characters.\n",
    "\n",
    "However, Python does not have a character data type, a single character is simply a string with a length of 1.\n",
    "\n",
    "Square brackets can be used to access elements of the string."
   ]
  },
  {
   "cell_type": "code",
   "execution_count": null,
   "metadata": {
    "id": "SfEinBo8Jofj"
   },
   "outputs": [],
   "source": [
    "a = \"Hello, World!\"\n",
    "print(a[1])\n",
    "print(a[2])\n",
    "print(a[3])"
   ]
  },
  {
   "cell_type": "markdown",
   "metadata": {
    "id": "N34CUoNVJxzR"
   },
   "source": [
    "To get the length of a string, use the len() function.\n",
    "\n"
   ]
  },
  {
   "cell_type": "code",
   "execution_count": null,
   "metadata": {
    "id": "5buZSmvEJ7aN"
   },
   "outputs": [],
   "source": [
    "a = \"Hello, World!\"\n",
    "print(len(a))\n",
    "\n",
    "b = \"hey\"\n",
    "print(len(b))"
   ]
  },
  {
   "cell_type": "markdown",
   "metadata": {
    "id": "4_lBTgubKAcT"
   },
   "source": [
    "To check if a certain phrase or character is present in a string, we can use the keyword in.\n",
    "\n"
   ]
  },
  {
   "cell_type": "code",
   "execution_count": null,
   "metadata": {
    "id": "hACrSceTKDBN"
   },
   "outputs": [],
   "source": [
    "txt = \"The best things in life are free!\"\n",
    "print(\"free\" in txt)\n",
    "print(\"bloop\" in txt)"
   ]
  },
  {
   "cell_type": "markdown",
   "metadata": {
    "id": "MJlofb-aKI-Z"
   },
   "source": [
    "To check if a certain phrase or character is NOT present in a string, we can use the keyword not in.\n",
    "\n"
   ]
  },
  {
   "cell_type": "code",
   "execution_count": null,
   "metadata": {
    "id": "JOzbIr72KMU6"
   },
   "outputs": [],
   "source": [
    "txt = \"The best things in life are free!\"\n",
    "print(\"expensive\" not in txt)"
   ]
  },
  {
   "cell_type": "code",
   "execution_count": null,
   "metadata": {
    "id": "sdNv-HhBKSYs"
   },
   "outputs": [],
   "source": [
    "txt = \"The best things in life are free!\"\n",
    "if \"expensive\" not in txt:\n",
    "  print(\"No, 'expensive' is NOT present.\")\n",
    "else:\n",
    "  print(\"yeah, 'expensive' is indeed in present\")"
   ]
  },
  {
   "cell_type": "markdown",
   "metadata": {
    "id": "Oo_wHgj2gj-2"
   },
   "source": [
    "## <span style=\"align: right; direction: rtl; float: right;\">Functions</span>\n"
   ]
  },
  {
   "cell_type": "markdown",
   "metadata": {
    "id": "jPp3CzfnMi0X"
   },
   "source": [
    "A function is a block of code which only runs when it is called.\n",
    "\n",
    "You can pass data, known as parameters, into a function.\n",
    "\n",
    "A function can return data as a result."
   ]
  },
  {
   "cell_type": "markdown",
   "metadata": {
    "id": "-vS54Es8Mraq"
   },
   "source": [
    "In Python a function is defined using the **def** keyword:\n",
    "\n"
   ]
  },
  {
   "cell_type": "code",
   "execution_count": null,
   "metadata": {
    "colab": {
     "base_uri": "https://localhost:8080/"
    },
    "executionInfo": {
     "elapsed": 24,
     "status": "ok",
     "timestamp": 1633773707240,
     "user": {
      "displayName": "מתן וצלר",
      "photoUrl": "https://lh3.googleusercontent.com/a/default-user=s64",
      "userId": "04484460307820172778"
     },
     "user_tz": -180
    },
    "id": "0d1joOqegj-2",
    "outputId": "51b6de56-5ecd-472d-b579-c1f1292ed005"
   },
   "outputs": [],
   "source": [
    "def hello_world():               # Function Header\n",
    "    print(\"Hello World!\")"
   ]
  },
  {
   "cell_type": "markdown",
   "metadata": {
    "id": "qLsNBmt5Myk3"
   },
   "source": [
    "To call a function, use the function name followed by parenthesis:\n",
    "\n"
   ]
  },
  {
   "cell_type": "code",
   "execution_count": null,
   "metadata": {
    "id": "rYci0FLaMwRw"
   },
   "outputs": [],
   "source": [
    "def my_function():\n",
    "  print(\"Hello from a function\")\n",
    "\n",
    "my_function()"
   ]
  },
  {
   "cell_type": "markdown",
   "metadata": {
    "id": "iOayR8OOM1vn"
   },
   "source": [
    "Information can be passed into functions as arguments.\n",
    "\n",
    "Arguments are specified after the function name, inside the parentheses. You can add as many arguments as you want, just separate them with a comma.\n",
    "\n",
    "The following example has a function with one argument (fname). When the function is called, we pass along a first name, which is used inside the function to print the full name"
   ]
  },
  {
   "cell_type": "code",
   "execution_count": null,
   "metadata": {
    "id": "GO9Hw6EDM305"
   },
   "outputs": [],
   "source": [
    "def my_function(fname):\n",
    "  print(fname + \" is a student in this class\")\n",
    "\n",
    "my_function(\"Shira\")\n",
    "my_function(\"Yoni\")\n",
    "my_function(\"Yarden\")"
   ]
  },
  {
   "cell_type": "markdown",
   "metadata": {
    "id": "RoOyCIkEM_0Y"
   },
   "source": [
    "By default, a function must be called with the correct number of arguments. Meaning that if your function expects 2 arguments, you have to call the function with 2 arguments, not more, and not less.\n",
    "\n"
   ]
  },
  {
   "cell_type": "code",
   "execution_count": null,
   "metadata": {
    "id": "oymQuX6FNC8R"
   },
   "outputs": [],
   "source": [
    "def my_function(fname, lname):\n",
    "  print(fname + \" \" + lname)\n",
    "\n",
    "my_function(\"Ben\", \"Cohen\")"
   ]
  },
  {
   "cell_type": "markdown",
   "metadata": {
    "id": "xFkSvX-xNHYl"
   },
   "source": [
    "If you try to call the function with 1 or 3 arguments, you will get an error:\n"
   ]
  },
  {
   "cell_type": "code",
   "execution_count": null,
   "metadata": {
    "id": "qTORJSV9NJmJ"
   },
   "outputs": [],
   "source": [
    "def my_function(fname, lname):\n",
    "  print(fname + \" \" + lname)\n",
    "\n",
    "my_function(\"Emil\")"
   ]
  },
  {
   "cell_type": "markdown",
   "metadata": {
    "id": "1ORDwVJPNWso"
   },
   "source": [
    "To let a function return a value, use the return statement:\n",
    "\n"
   ]
  },
  {
   "cell_type": "code",
   "execution_count": null,
   "metadata": {
    "id": "W6ZanT7vNXaV"
   },
   "outputs": [],
   "source": [
    "def my_function(x):\n",
    "  return 5 * x\n",
    "\n",
    "print(my_function(3))\n",
    "print(my_function(5))\n",
    "print(my_function(9))"
   ]
  },
  {
   "cell_type": "code",
   "execution_count": null,
   "metadata": {
    "colab": {
     "base_uri": "https://localhost:8080/"
    },
    "executionInfo": {
     "elapsed": 270,
     "status": "ok",
     "timestamp": 1633775665765,
     "user": {
      "displayName": "מתן וצלר",
      "photoUrl": "https://lh3.googleusercontent.com/a/default-user=s64",
      "userId": "04484460307820172778"
     },
     "user_tz": -180
    },
    "id": "GuKOYiqogj-3",
    "outputId": "1461a537-29ad-4251-fcec-b76a7c2610be"
   },
   "outputs": [],
   "source": [
    "def sign(x):\n",
    "    if x > 0:\n",
    "        return 'positive'\n",
    "    elif x < 0:\n",
    "        return 'negative'\n",
    "    else:\n",
    "        return 'zero'\n",
    "\n",
    "print('1', sign(1))\n",
    "print('0', sign(0))\n",
    "print('-1', sign(-1))"
   ]
  },
  {
   "cell_type": "code",
   "execution_count": null,
   "metadata": {
    "colab": {
     "base_uri": "https://localhost:8080/"
    },
    "executionInfo": {
     "elapsed": 280,
     "status": "ok",
     "timestamp": 1633775580824,
     "user": {
      "displayName": "מתן וצלר",
      "photoUrl": "https://lh3.googleusercontent.com/a/default-user=s64",
      "userId": "04484460307820172778"
     },
     "user_tz": -180
    },
    "id": "Bxk-FMzgmszH",
    "outputId": "221b5089-ea5b-4bcb-bb65-b8810eeff0b4"
   },
   "outputs": [],
   "source": [
    "# Functions scope\n",
    "\n",
    "def function():\n",
    "  x = 3\n",
    "  print(x)\n",
    "\n",
    "print('before calling the function')\n",
    "x = 5\n",
    "print(x)\n",
    "\n",
    "print()\n",
    "\n",
    "print('when calling the function')\n",
    "function()\n",
    "\n",
    "print()\n",
    "\n",
    "print('after calling the function')\n",
    "print(x)"
   ]
  },
  {
   "cell_type": "code",
   "execution_count": 14,
   "metadata": {
    "colab": {
     "base_uri": "https://localhost:8080/"
    },
    "executionInfo": {
     "elapsed": 270,
     "status": "ok",
     "timestamp": 1633775610026,
     "user": {
      "displayName": "מתן וצלר",
      "photoUrl": "https://lh3.googleusercontent.com/a/default-user=s64",
      "userId": "04484460307820172778"
     },
     "user_tz": -180
    },
    "id": "qcwxQcGVgj-3",
    "outputId": "b27d4dfa-d206-44ee-d9cd-c85e3bd82063"
   },
   "outputs": [
    {
     "name": "stdout",
     "output_type": "stream",
     "text": [
      "Hello, Bob!\n",
      "hello, FRED\n",
      "hello, BOB\n"
     ]
    }
   ],
   "source": [
    "# We will often define functions to take optional keyword arguments, like this:\n",
    "def hello(name, loud=False):\n",
    "    if loud:\n",
    "        print('hello, %s' % name.upper())\n",
    "    else:\n",
    "        print('Hello, %s!' % name)\n",
    "\n",
    "hello('Bob')\n",
    "hello('Fred', loud=True)\n",
    "hello(loud=True, name='Bob')"
   ]
  },
  {
   "cell_type": "markdown",
   "metadata": {
    "id": "-xdmieJ5gj-3"
   },
   "source": [
    "### Containers\n",
    "Python includes several built-in container types:\n",
    "* lists\n",
    "* dictionaries\n",
    "* sets\n",
    "* tuples"
   ]
  },
  {
   "cell_type": "markdown",
   "metadata": {
    "id": "8MZ2ftl2gj-4"
   },
   "source": [
    "## Lists\n",
    "Lists are used to store multiple items in a single variable.\n",
    "\n",
    "Lists are one of 4 built-in data types in Python used to store collections of data, the other 3 are Tuple, Set, and Dictionary, all with different qualities and usage.\n",
    "\n",
    "Lists are created using square brackets:"
   ]
  },
  {
   "cell_type": "code",
   "execution_count": null,
   "metadata": {
    "id": "3RgY18Gu90Fd"
   },
   "outputs": [],
   "source": [
    "thislist = [\"apple\", \"banana\", \"cherry\"]\n",
    "print(thislist)"
   ]
  },
  {
   "cell_type": "markdown",
   "metadata": {
    "id": "5Kv1dW-z93Ir"
   },
   "source": [
    "List items are ordered, changeable, and allow duplicate values.\n",
    "\n",
    "List items are indexed, the first item has index [0], the second item has index [1] etc."
   ]
  },
  {
   "cell_type": "markdown",
   "metadata": {
    "id": "OmJumcvK93WD"
   },
   "source": [
    "### Ordered\n",
    "\n",
    "When we say that lists are ordered, it means that the items have a defined order, and that order will not change.\n",
    "\n",
    "If you add new items to a list, the new items will be placed at the end of the list."
   ]
  },
  {
   "cell_type": "markdown",
   "metadata": {
    "id": "vd4eCLUD98HY"
   },
   "source": [
    "### Changeable\n",
    "\n",
    "The list is changeable, meaning that we can change, add, and remove items in a list after it has been created.\n",
    "\n"
   ]
  },
  {
   "cell_type": "markdown",
   "metadata": {
    "id": "7feg8lc69-BE"
   },
   "source": [
    "### Allow duplicates\n",
    "Since lists are indexed, lists can have items with the same value:\n",
    "\n"
   ]
  },
  {
   "cell_type": "code",
   "execution_count": null,
   "metadata": {
    "id": "O5Q-7bEL90ki"
   },
   "outputs": [],
   "source": [
    "thislist = [\"apple\", \"banana\", \"cherry\", \"apple\", \"cherry\"]\n",
    "print(thislist)"
   ]
  },
  {
   "cell_type": "markdown",
   "metadata": {
    "id": "Z8l2UqXv-K1T"
   },
   "source": [
    "To determine how many items a list has, use the len() function:\n",
    "\n"
   ]
  },
  {
   "cell_type": "code",
   "execution_count": null,
   "metadata": {
    "id": "DC6jgnWW-NAW"
   },
   "outputs": [],
   "source": [
    "thislist = [\"apple\", \"banana\", \"cherry\"]\n",
    "print(len(thislist))"
   ]
  },
  {
   "cell_type": "markdown",
   "metadata": {
    "id": "QLGA2Xyh-Oya"
   },
   "source": [
    "List items can be of any data type:\n",
    "\n"
   ]
  },
  {
   "cell_type": "code",
   "execution_count": null,
   "metadata": {
    "id": "HNk8xAht-Rcj"
   },
   "outputs": [],
   "source": [
    "list1 = [\"apple\", \"banana\", \"cherry\"]\n",
    "list2 = [1, 5, 7, 9, 3]\n",
    "list3 = [True, False, False]\n"
   ]
  },
  {
   "cell_type": "markdown",
   "metadata": {
    "id": "t-6zHBjI-UQN"
   },
   "source": [
    "A list can contain different data types:\n",
    "\n"
   ]
  },
  {
   "cell_type": "code",
   "execution_count": null,
   "metadata": {
    "id": "RN907Fh3oyV6"
   },
   "outputs": [],
   "source": [
    "# lists can hold number\n",
    "list1 = [1, 2, 3, 4]\n",
    "\n",
    "# lists can hold strings \n",
    "list2 = ['hello', 'python', 'good']\n",
    "\n",
    "# lists can hold different types\n",
    "list3 = ['hello', 'bye', 1, 2.3]"
   ]
  },
  {
   "cell_type": "code",
   "execution_count": null,
   "metadata": {
    "colab": {
     "base_uri": "https://localhost:8080/"
    },
    "executionInfo": {
     "elapsed": 5,
     "status": "ok",
     "timestamp": 1633776176940,
     "user": {
      "displayName": "מתן וצלר",
      "photoUrl": "https://lh3.googleusercontent.com/a/default-user=s64",
      "userId": "04484460307820172778"
     },
     "user_tz": -180
    },
    "id": "-KKM8tD7pHUd",
    "outputId": "59f69a8d-d2d9-40aa-a930-23d47f752d59"
   },
   "outputs": [],
   "source": [
    "# we can interact with list items\n",
    "\n",
    "print(list1[0])\n",
    "print(list1[2])\n",
    "print(list2[1])\n",
    "print(list3[3])"
   ]
  },
  {
   "cell_type": "code",
   "execution_count": 15,
   "metadata": {
    "colab": {
     "base_uri": "https://localhost:8080/"
    },
    "executionInfo": {
     "elapsed": 395,
     "status": "ok",
     "timestamp": 1633776360079,
     "user": {
      "displayName": "מתן וצלר",
      "photoUrl": "https://lh3.googleusercontent.com/a/default-user=s64",
      "userId": "04484460307820172778"
     },
     "user_tz": -180
    },
    "id": "X9zPNLMogj-4",
    "outputId": "f6f19e96-62a7-4f4e-f726-a5bdbf866d28"
   },
   "outputs": [
    {
     "name": "stdout",
     "output_type": "stream",
     "text": [
      "[3, 1.1, 2, 'david']\n",
      "david\n",
      "2\n"
     ]
    }
   ],
   "source": [
    "xs = [3, 1.1, 2, \"david\"]   # Create a list\n",
    "\n",
    "print(xs)\n",
    "print(xs[-1])    # Negative indices count from the end of the list; prints \"david\"\n",
    "print(xs[-2])"
   ]
  },
  {
   "cell_type": "code",
   "execution_count": null,
   "metadata": {
    "colab": {
     "base_uri": "https://localhost:8080/"
    },
    "executionInfo": {
     "elapsed": 15,
     "status": "ok",
     "timestamp": 1633773707243,
     "user": {
      "displayName": "מתן וצלר",
      "photoUrl": "https://lh3.googleusercontent.com/a/default-user=s64",
      "userId": "04484460307820172778"
     },
     "user_tz": -180
    },
    "id": "b6GIvzoQgj-4",
    "outputId": "33327d73-9ac4-41aa-bd7c-0b7249f4e775"
   },
   "outputs": [],
   "source": [
    "xs[2] = 'foo'    # Lists can contain elements of different types\n",
    "print(xs)"
   ]
  },
  {
   "cell_type": "code",
   "execution_count": null,
   "metadata": {
    "colab": {
     "base_uri": "https://localhost:8080/"
    },
    "executionInfo": {
     "elapsed": 14,
     "status": "ok",
     "timestamp": 1633773707243,
     "user": {
      "displayName": "מתן וצלר",
      "photoUrl": "https://lh3.googleusercontent.com/a/default-user=s64",
      "userId": "04484460307820172778"
     },
     "user_tz": -180
    },
    "id": "_cxfOm_jgj-4",
    "outputId": "e656a460-0e2a-4519-ce97-09c2b9e5b393"
   },
   "outputs": [],
   "source": [
    "xs.append('bar') # Add a new element to the end of the list\n",
    "print(xs)  "
   ]
  },
  {
   "cell_type": "code",
   "execution_count": null,
   "metadata": {
    "colab": {
     "base_uri": "https://localhost:8080/"
    },
    "executionInfo": {
     "elapsed": 14,
     "status": "ok",
     "timestamp": 1633773707243,
     "user": {
      "displayName": "מתן וצלר",
      "photoUrl": "https://lh3.googleusercontent.com/a/default-user=s64",
      "userId": "04484460307820172778"
     },
     "user_tz": -180
    },
    "id": "hW2XRCXZgj-4",
    "outputId": "81b7d424-ac96-44c5-fb8b-6c9ad0dff820"
   },
   "outputs": [],
   "source": [
    "x = xs.pop()     # Remove and return the last element of the list\n",
    "print(x, xs) "
   ]
  },
  {
   "cell_type": "code",
   "execution_count": null,
   "metadata": {
    "colab": {
     "base_uri": "https://localhost:8080/"
    },
    "executionInfo": {
     "elapsed": 14,
     "status": "ok",
     "timestamp": 1633773707244,
     "user": {
      "displayName": "מתן וצלר",
      "photoUrl": "https://lh3.googleusercontent.com/a/default-user=s64",
      "userId": "04484460307820172778"
     },
     "user_tz": -180
    },
    "id": "7_BcGZ8Ggj-4",
    "outputId": "8834711f-8cd2-4d84-c55a-b90bb8a92663"
   },
   "outputs": [],
   "source": [
    "xs.insert(1,\"inserted\")\n",
    "print(xs)"
   ]
  },
  {
   "cell_type": "markdown",
   "metadata": {
    "id": "kjL98cmhgj-5"
   },
   "source": [
    "### Slicing\n",
    "In addition to accessing list elements one at a time, Python provides concise syntax to access sublists; this is known as slicing:"
   ]
  },
  {
   "cell_type": "code",
   "execution_count": null,
   "metadata": {
    "colab": {
     "base_uri": "https://localhost:8080/"
    },
    "executionInfo": {
     "elapsed": 13,
     "status": "ok",
     "timestamp": 1633773707244,
     "user": {
      "displayName": "מתן וצלר",
      "photoUrl": "https://lh3.googleusercontent.com/a/default-user=s64",
      "userId": "04484460307820172778"
     },
     "user_tz": -180
    },
    "id": "PJvqHkC8gj-5",
    "outputId": "86383174-434f-4181-e5a6-b0d6f141e481"
   },
   "outputs": [],
   "source": [
    "nums = list(range(5))    # range is a built-in function that creates a list of integers \n",
    "print(nums)        # Prints \"[0, 1, 2, 3, 4]\"\n",
    "print(nums[2:4])   # Get a slice from index 2 to 4 (exclusive); prints \"[2, 3]\"\n",
    "print(nums[2:])    # Get a slice from index 2 to the end; prints \"[2, 3, 4]\"\n",
    "print(nums[:2])    # Get a slice from the start to index 2 (exclusive); prints \"[0, 1]\"\n",
    "print(nums[:])     # Get a slice of the whole list; prints [\"0, 1, 2, 3, 4]\"\n",
    "print(nums[:-1])   # Slice indices can be negative; prints [\"0, 1, 2, 3]\"\n",
    "\n",
    "nums[2:4] = [8, 9] # Assign a new sublist to a slice\n",
    "print(nums)       # Prints \"[0, 1, 8, 9, 4]\""
   ]
  },
  {
   "cell_type": "markdown",
   "metadata": {
    "id": "5CYTlGClgj-5"
   },
   "source": [
    "### Loops\n",
    "You can loop over the elements of a list like this:"
   ]
  },
  {
   "cell_type": "code",
   "execution_count": null,
   "metadata": {
    "colab": {
     "base_uri": "https://localhost:8080/"
    },
    "executionInfo": {
     "elapsed": 463,
     "status": "ok",
     "timestamp": 1633773707695,
     "user": {
      "displayName": "מתן וצלר",
      "photoUrl": "https://lh3.googleusercontent.com/a/default-user=s64",
      "userId": "04484460307820172778"
     },
     "user_tz": -180
    },
    "id": "UmkLDJfbgj-5",
    "outputId": "380179ff-1e20-47aa-e547-916625581b92"
   },
   "outputs": [],
   "source": [
    "animals = ['cat', 'dog', 'monkey']\n",
    "for animal in animals:\n",
    "    print(animal)\n",
    "\n",
    "print(\"done\")"
   ]
  },
  {
   "cell_type": "code",
   "execution_count": null,
   "metadata": {
    "colab": {
     "base_uri": "https://localhost:8080/"
    },
    "executionInfo": {
     "elapsed": 270,
     "status": "ok",
     "timestamp": 1633774761090,
     "user": {
      "displayName": "מתן וצלר",
      "photoUrl": "https://lh3.googleusercontent.com/a/default-user=s64",
      "userId": "04484460307820172778"
     },
     "user_tz": -180
    },
    "id": "a8QeR5Fugj-5",
    "outputId": "5f73eb51-b1cc-41fe-bef6-805c9383be33"
   },
   "outputs": [],
   "source": [
    "# If you want access to the index of each element within the body of a loop, use the built-in `enumerate` function:\n",
    "animals = ['cat', 'dog', 'monkey']\n",
    "\n",
    "for i, animal in enumerate(animals):\n",
    "    print('#%d: %s' % (i + 1, animal))"
   ]
  },
  {
   "cell_type": "markdown",
   "metadata": {
    "id": "1IKeeq3agj-5"
   },
   "source": [
    "#### List comprehensions:\n",
    "When programming, frequently we want to transform one type of data into another. As a simple example, consider the following code that computes square numbers:"
   ]
  },
  {
   "cell_type": "code",
   "execution_count": null,
   "metadata": {
    "colab": {
     "base_uri": "https://localhost:8080/"
    },
    "executionInfo": {
     "elapsed": 270,
     "status": "ok",
     "timestamp": 1633773757725,
     "user": {
      "displayName": "מתן וצלר",
      "photoUrl": "https://lh3.googleusercontent.com/a/default-user=s64",
      "userId": "04484460307820172778"
     },
     "user_tz": -180
    },
    "id": "gbZI91g1gj-5",
    "outputId": "f6ccf524-1bdf-451f-ebe8-a6f50ca9b4d4"
   },
   "outputs": [],
   "source": [
    "nums = [0, 1, 2, 3, 4]\n",
    "squares = []\n",
    "for x in nums:\n",
    "    squares.append(x ** 2)\n",
    "\n",
    "print(squares)"
   ]
  },
  {
   "cell_type": "code",
   "execution_count": null,
   "metadata": {
    "colab": {
     "base_uri": "https://localhost:8080/"
    },
    "executionInfo": {
     "elapsed": 7,
     "status": "ok",
     "timestamp": 1633773758018,
     "user": {
      "displayName": "מתן וצלר",
      "photoUrl": "https://lh3.googleusercontent.com/a/default-user=s64",
      "userId": "04484460307820172778"
     },
     "user_tz": -180
    },
    "id": "AadImoCugj-6",
    "outputId": "ba9ed57d-8c3d-49b0-8849-15fbb5ec9562"
   },
   "outputs": [],
   "source": [
    "# You can make this code simpler using a list comprehension:\n",
    " \n",
    "squares = [x ** 2 for x in range(100)]\n",
    "print(squares) "
   ]
  },
  {
   "cell_type": "code",
   "execution_count": null,
   "metadata": {
    "colab": {
     "base_uri": "https://localhost:8080/"
    },
    "executionInfo": {
     "elapsed": 6,
     "status": "ok",
     "timestamp": 1633773758019,
     "user": {
      "displayName": "מתן וצלר",
      "photoUrl": "https://lh3.googleusercontent.com/a/default-user=s64",
      "userId": "04484460307820172778"
     },
     "user_tz": -180
    },
    "id": "DfCwaU0Sgj-6",
    "outputId": "a5c4a5dc-b06d-4050-cf7d-76f881ff7da9"
   },
   "outputs": [],
   "source": [
    "# List comprehensions can also contain conditions:\n",
    "\n",
    "nums = [0, 1, 2, 3, 4]\n",
    "even_squares = [x ** 2 for x in nums if x % 2 == 0]\n",
    "print(even_squares)"
   ]
  },
  {
   "cell_type": "markdown",
   "metadata": {
    "id": "FNsGhNKsgj-6"
   },
   "source": [
    "## Dictionaries\n",
    "Dictionaries are used to store data values in key:value pairs.\n",
    "\n",
    "A dictionary is a collection which is ordered*, changeable and does not allow duplicates."
   ]
  },
  {
   "cell_type": "markdown",
   "metadata": {
    "id": "pKY7pJch-n3g"
   },
   "source": [
    "Dictionaries are written with curly brackets, and have keys and values:\n",
    "\n"
   ]
  },
  {
   "cell_type": "code",
   "execution_count": null,
   "metadata": {
    "id": "xKsrADlS-mDB"
   },
   "outputs": [],
   "source": [
    "thisdict = {\n",
    "  \"brand\": \"Ford\",\n",
    "  \"model\": \"Mustang\",\n",
    "  \"year\": 1964\n",
    "}\n",
    "print(thisdict)"
   ]
  },
  {
   "cell_type": "markdown",
   "metadata": {
    "id": "tRpQB6v0-qkU"
   },
   "source": [
    "Dictionary items are ordered, changeable, and does not allow duplicates.\n",
    "\n",
    "Dictionary items are presented in key:value pairs, and can be referred to by using the key name."
   ]
  },
  {
   "cell_type": "code",
   "execution_count": null,
   "metadata": {
    "id": "Xj891NOP-tUI"
   },
   "outputs": [],
   "source": [
    "thisdict = {\n",
    "  \"brand\": \"Ford\",\n",
    "  \"model\": \"Mustang\",\n",
    "  \"year\": 1964\n",
    "}\n",
    "print(thisdict[\"brand\"])"
   ]
  },
  {
   "cell_type": "markdown",
   "metadata": {
    "id": "Nn9kl0J3-vUn"
   },
   "source": [
    "### Duplicates are not allowed\n",
    "\n",
    "Dictionaries cannot have two items with the same key:\n",
    "\n"
   ]
  },
  {
   "cell_type": "code",
   "execution_count": null,
   "metadata": {
    "id": "dCPpgjyd-00u"
   },
   "outputs": [],
   "source": [
    "thisdict = {\n",
    "  \"brand\": \"Ford\",\n",
    "  \"model\": \"Mustang\",\n",
    "  \"year\": 1964,\n",
    "  \"year\": 2020\n",
    "}\n",
    "print(thisdict)"
   ]
  },
  {
   "cell_type": "markdown",
   "metadata": {
    "id": "83pZ4b1K-20V"
   },
   "source": [
    "To determine how many items a dictionary has, use the len() function:\n",
    "\n"
   ]
  },
  {
   "cell_type": "code",
   "execution_count": null,
   "metadata": {
    "id": "j0J8njXM-4iC"
   },
   "outputs": [],
   "source": [
    "print(len(thisdict))\n"
   ]
  },
  {
   "cell_type": "markdown",
   "metadata": {
    "id": "jl-rFAaz-6JZ"
   },
   "source": [
    "The values in dictionary items can be of any data type:\n",
    "\n"
   ]
  },
  {
   "cell_type": "code",
   "execution_count": null,
   "metadata": {
    "id": "KyL4YYtJ-8Nx"
   },
   "outputs": [],
   "source": [
    "thisdict = {\n",
    "  \"brand\": \"Ford\",\n",
    "  \"electric\": False,\n",
    "  \"year\": 1964,\n",
    "  \"colors\": [\"red\", \"white\", \"blue\"]\n",
    "}"
   ]
  },
  {
   "cell_type": "code",
   "execution_count": null,
   "metadata": {
    "colab": {
     "base_uri": "https://localhost:8080/"
    },
    "executionInfo": {
     "elapsed": 17,
     "status": "ok",
     "timestamp": 1633773707697,
     "user": {
      "displayName": "מתן וצלר",
      "photoUrl": "https://lh3.googleusercontent.com/a/default-user=s64",
      "userId": "04484460307820172778"
     },
     "user_tz": -180
    },
    "id": "MEgOOQBzgj-6",
    "outputId": "a1404fd7-cc4f-46c2-a057-5d0d2b51ab9a"
   },
   "outputs": [],
   "source": [
    "d = {\n",
    "    'cat': 'cute',\n",
    "     'dog': 'furry'\n",
    "     }  # Create a new dictionary with some data\n",
    "print(d['cat'])    # Get an entry from a dictionary; prints \"cute\"\n",
    "print('cat' in d)  # Check if a dictionary has a given key; prints \"True\""
   ]
  },
  {
   "cell_type": "code",
   "execution_count": null,
   "metadata": {
    "colab": {
     "base_uri": "https://localhost:8080/"
    },
    "executionInfo": {
     "elapsed": 16,
     "status": "ok",
     "timestamp": 1633773707697,
     "user": {
      "displayName": "מתן וצלר",
      "photoUrl": "https://lh3.googleusercontent.com/a/default-user=s64",
      "userId": "04484460307820172778"
     },
     "user_tz": -180
    },
    "id": "7PDzPc-Tgj-6",
    "outputId": "26012b9c-e0d9-48b8-d435-08b4edfc64df"
   },
   "outputs": [],
   "source": [
    "d['fish'] = 'wet'    # Set an entry in a dictionary\n",
    "print(d['fish'])     # Prints \"wet\""
   ]
  },
  {
   "cell_type": "code",
   "execution_count": null,
   "metadata": {
    "colab": {
     "base_uri": "https://localhost:8080/"
    },
    "executionInfo": {
     "elapsed": 16,
     "status": "ok",
     "timestamp": 1633773707698,
     "user": {
      "displayName": "מתן וצלר",
      "photoUrl": "https://lh3.googleusercontent.com/a/default-user=s64",
      "userId": "04484460307820172778"
     },
     "user_tz": -180
    },
    "id": "_DpqMUQFgj-7",
    "outputId": "a25306af-ef21-4b27-e3a3-af42382b5b03"
   },
   "outputs": [],
   "source": [
    "d2=dict()\n",
    "d3={}\n",
    "print(type(d),type(d2),type(d3))"
   ]
  },
  {
   "cell_type": "code",
   "execution_count": null,
   "metadata": {
    "colab": {
     "base_uri": "https://localhost:8080/",
     "height": 164
    },
    "executionInfo": {
     "elapsed": 22,
     "status": "error",
     "timestamp": 1633773707704,
     "user": {
      "displayName": "מתן וצלר",
      "photoUrl": "https://lh3.googleusercontent.com/a/default-user=s64",
      "userId": "04484460307820172778"
     },
     "user_tz": -180
    },
    "id": "IQPHP4ifgj-7",
    "outputId": "6646c25e-5712-4422-8115-1d9c51f161c3"
   },
   "outputs": [],
   "source": [
    "print(d['monkey']) # KeyError: 'monkey' not a key of d"
   ]
  },
  {
   "cell_type": "code",
   "execution_count": null,
   "metadata": {
    "colab": {
     "base_uri": "https://localhost:8080/"
    },
    "executionInfo": {
     "elapsed": 276,
     "status": "ok",
     "timestamp": 1633773785396,
     "user": {
      "displayName": "מתן וצלר",
      "photoUrl": "https://lh3.googleusercontent.com/a/default-user=s64",
      "userId": "04484460307820172778"
     },
     "user_tz": -180
    },
    "id": "qmNsHxscgj-7",
    "outputId": "3789e4d6-cc14-462c-bc7a-1d05b9cb2f90"
   },
   "outputs": [],
   "source": [
    "print(d.get('monkey', 'N/A'))  # Get an element with a default; prints \"N/A\"\n",
    "print(d.get('fish', 'N/A') )   # Get an element with a default; prints \"wet\"\n",
    "print('------------')\n",
    "del d['fish']        # Remove an element from a dictionary\n",
    "print(d.get('fish', 'N/A')) # \"fish\" is no longer a key; prints \"N/A\""
   ]
  },
  {
   "cell_type": "code",
   "execution_count": null,
   "metadata": {
    "colab": {
     "base_uri": "https://localhost:8080/"
    },
    "executionInfo": {
     "elapsed": 265,
     "status": "ok",
     "timestamp": 1633773788579,
     "user": {
      "displayName": "מתן וצלר",
      "photoUrl": "https://lh3.googleusercontent.com/a/default-user=s64",
      "userId": "04484460307820172778"
     },
     "user_tz": -180
    },
    "id": "AeX5JLSJgj-7",
    "outputId": "5cb884e6-25b4-436b-e8b6-42ac21e12935"
   },
   "outputs": [],
   "source": [
    "d1=dict()\n",
    "names=[\"david\", \"dana\", \"irit\", \"david\", \"dana\", \"itzik\"]\n",
    "for name in names:\n",
    "    d1[name] = d1.get(name, 0) + 1\n",
    "\n",
    "print(d1)"
   ]
  },
  {
   "cell_type": "code",
   "execution_count": null,
   "metadata": {
    "colab": {
     "base_uri": "https://localhost:8080/"
    },
    "executionInfo": {
     "elapsed": 274,
     "status": "ok",
     "timestamp": 1633773792130,
     "user": {
      "displayName": "מתן וצלר",
      "photoUrl": "https://lh3.googleusercontent.com/a/default-user=s64",
      "userId": "04484460307820172778"
     },
     "user_tz": -180
    },
    "id": "BinxgzWJgj-7",
    "outputId": "f281916e-d9d2-47b8-ef46-b6a37edbd48f"
   },
   "outputs": [],
   "source": [
    "# It is easy to iterate over the keys in a dictionary:\n",
    "d2 = {'person': 2, 'cat': 4, 'spider': 8}\n",
    "for animal in d2:\n",
    "    legs = d2[animal]\n",
    "    print('A %s has %d legs' % (animal, legs))"
   ]
  },
  {
   "cell_type": "code",
   "execution_count": null,
   "metadata": {
    "colab": {
     "base_uri": "https://localhost:8080/"
    },
    "executionInfo": {
     "elapsed": 262,
     "status": "ok",
     "timestamp": 1633773794642,
     "user": {
      "displayName": "מתן וצלר",
      "photoUrl": "https://lh3.googleusercontent.com/a/default-user=s64",
      "userId": "04484460307820172778"
     },
     "user_tz": -180
    },
    "id": "4CWPA39pgj-7",
    "outputId": "6ea3432d-8cf1-4900-8411-1309880b450a"
   },
   "outputs": [],
   "source": [
    "# If you want access to keys and their corresponding values, use the 'items' method:\n",
    "d3 = {'person': 2, 'cat': 4, 'spider': 8}\n",
    "for animal, legs in d3.items():\n",
    "    print('A %s has %d legs' % (animal, legs))"
   ]
  },
  {
   "cell_type": "code",
   "execution_count": null,
   "metadata": {
    "colab": {
     "base_uri": "https://localhost:8080/"
    },
    "executionInfo": {
     "elapsed": 279,
     "status": "ok",
     "timestamp": 1633773796977,
     "user": {
      "displayName": "מתן וצלר",
      "photoUrl": "https://lh3.googleusercontent.com/a/default-user=s64",
      "userId": "04484460307820172778"
     },
     "user_tz": -180
    },
    "id": "LH1vznMMgj-8",
    "outputId": "5dff8ace-d776-4a64-cd14-2dea1d480f30"
   },
   "outputs": [],
   "source": [
    "# Dictionary comprehensions: These are similar to list comprehensions, but allow you to easily construct dictionaries. For example:\n",
    "nums = [0, 1, 2, 3, 4]\n",
    "even_num_to_square = {x: x ** 2 for x in nums if x % 2 == 0}\n",
    "print(even_num_to_square) "
   ]
  },
  {
   "cell_type": "markdown",
   "metadata": {
    "id": "BLu6Q1D4gj-8"
   },
   "source": [
    "## Sets\n",
    "Sets are used to store multiple items in a single variable.\n",
    "\n",
    "Set is one of 4 built-in data types in Python used to store collections of data, the other 3 are List, Tuple, and Dictionary, all with different qualities and usage.\n",
    "\n",
    "A set is a collection which is both unordered and unindexed.\n",
    "\n",
    "Sets are written with curly brackets."
   ]
  },
  {
   "cell_type": "code",
   "execution_count": null,
   "metadata": {
    "id": "PEzZxxBV_Y-y"
   },
   "outputs": [],
   "source": [
    "thisset = {\"apple\", \"banana\", \"cherry\"}\n",
    "print(thisset)"
   ]
  },
  {
   "cell_type": "markdown",
   "metadata": {
    "id": "z46QOFio_d0S"
   },
   "source": [
    "### Set Items\n",
    "Set items are unordered, unchangeable, and do not allow duplicate values.\n",
    "\n"
   ]
  },
  {
   "cell_type": "markdown",
   "metadata": {
    "id": "qGjIfnYi_jXz"
   },
   "source": [
    "###Unordered\n",
    "Unordered means that the items in a set do not have a defined order.\n",
    "\n",
    "Set items can appear in a different order every time you use them, and cannot be referred to by index or key."
   ]
  },
  {
   "cell_type": "markdown",
   "metadata": {
    "id": "0W0Z6_ri_o7W"
   },
   "source": [
    "### Unchangeable\n",
    "Sets are unchangeable, meaning that we cannot change the items after the set has been created.\n",
    "\n",
    "Once a set is created, you cannot change its items, but you can add new items.\n",
    "\n"
   ]
  },
  {
   "cell_type": "markdown",
   "metadata": {
    "id": "Vc4F-0jh_sIs"
   },
   "source": [
    "### Duplicates Not Allowed\n",
    "Sets cannot have two items with the same value."
   ]
  },
  {
   "cell_type": "code",
   "execution_count": null,
   "metadata": {
    "id": "lxTh4_9Q_u0H"
   },
   "outputs": [],
   "source": [
    "thisset = {\"apple\", \"banana\", \"cherry\", \"apple\"}\n",
    "\n",
    "print(thisset)"
   ]
  },
  {
   "cell_type": "markdown",
   "metadata": {
    "id": "Qp-slaZw_wwK"
   },
   "source": [
    "To determine how many items a set has, use the len() method.\n",
    "\n"
   ]
  },
  {
   "cell_type": "code",
   "execution_count": null,
   "metadata": {
    "id": "VoQ1kYQB_yh2"
   },
   "outputs": [],
   "source": [
    "thisset = {\"apple\", \"banana\", \"cherry\"}\n",
    "\n",
    "print(len(thisset))"
   ]
  },
  {
   "cell_type": "markdown",
   "metadata": {
    "id": "HLbr-q9f_0Q0"
   },
   "source": [
    "Set items can be of any data type:\n",
    "\n"
   ]
  },
  {
   "cell_type": "code",
   "execution_count": null,
   "metadata": {
    "id": "vOg6kuyp_2I3"
   },
   "outputs": [],
   "source": [
    "set1 = {\"apple\", \"banana\", \"cherry\"}\n",
    "set2 = {1, 5, 7, 9, 3}\n",
    "set3 = {True, False, False}"
   ]
  },
  {
   "cell_type": "markdown",
   "metadata": {
    "id": "R2sXPvap_4I3"
   },
   "source": [
    "A set can contain different data types:\n",
    "\n"
   ]
  },
  {
   "cell_type": "code",
   "execution_count": null,
   "metadata": {
    "id": "_-milqjP_5ri"
   },
   "outputs": [],
   "source": [
    "set1 = {\"abc\", 34, True, 40, \"male\"}\n"
   ]
  },
  {
   "cell_type": "code",
   "execution_count": null,
   "metadata": {
    "colab": {
     "base_uri": "https://localhost:8080/"
    },
    "executionInfo": {
     "elapsed": 4,
     "status": "ok",
     "timestamp": 1633773802410,
     "user": {
      "displayName": "מתן וצלר",
      "photoUrl": "https://lh3.googleusercontent.com/a/default-user=s64",
      "userId": "04484460307820172778"
     },
     "user_tz": -180
    },
    "id": "i-m_Tb9agj-8",
    "outputId": "0b6a507a-14d8-4a40-d3ba-abb22ac74db5"
   },
   "outputs": [],
   "source": [
    "animals = {'cat', 'dog'}\n",
    "print('cat' in animals)   # Check if an element is in a set; prints \"True\"\n",
    "print('fish' in animals)  # prints \"False\""
   ]
  },
  {
   "cell_type": "code",
   "execution_count": null,
   "metadata": {
    "colab": {
     "base_uri": "https://localhost:8080/"
    },
    "executionInfo": {
     "elapsed": 4,
     "status": "ok",
     "timestamp": 1633773802970,
     "user": {
      "displayName": "מתן וצלר",
      "photoUrl": "https://lh3.googleusercontent.com/a/default-user=s64",
      "userId": "04484460307820172778"
     },
     "user_tz": -180
    },
    "id": "L98wDkxfgj-8",
    "outputId": "694634f6-1b5b-4385-da82-31783f5912e7"
   },
   "outputs": [],
   "source": [
    "animals.add('fish')      # Add an element to a set\n",
    "print('fish' in animals)\n",
    "print(len(animals))       # Number of elements in a set;"
   ]
  },
  {
   "cell_type": "code",
   "execution_count": null,
   "metadata": {
    "colab": {
     "base_uri": "https://localhost:8080/"
    },
    "executionInfo": {
     "elapsed": 473,
     "status": "ok",
     "timestamp": 1633773804469,
     "user": {
      "displayName": "מתן וצלר",
      "photoUrl": "https://lh3.googleusercontent.com/a/default-user=s64",
      "userId": "04484460307820172778"
     },
     "user_tz": -180
    },
    "id": "-g5lkbExgj-8",
    "outputId": "5b87e054-b601-4211-89b7-44a914c57d90"
   },
   "outputs": [],
   "source": [
    "animals.add('cat')       # Adding an element that is already in the set does nothing\n",
    "print(len(animals))       \n",
    "animals.remove('cat')    # Remove an element from a set\n",
    "print(len(animals))"
   ]
  },
  {
   "cell_type": "code",
   "execution_count": null,
   "metadata": {
    "colab": {
     "base_uri": "https://localhost:8080/"
    },
    "executionInfo": {
     "elapsed": 274,
     "status": "ok",
     "timestamp": 1633775079433,
     "user": {
      "displayName": "מתן וצלר",
      "photoUrl": "https://lh3.googleusercontent.com/a/default-user=s64",
      "userId": "04484460307820172778"
     },
     "user_tz": -180
    },
    "id": "kaj11T8vgj-9",
    "outputId": "bc58b290-d592-4915-83ed-1a81109e5282"
   },
   "outputs": [],
   "source": [
    "# Set comprehensions: Like lists and dictionaries, we can easily construct sets using set comprehensions:\n",
    "import math\n",
    "\n",
    "sqrt_set = {int(math.sqrt(x)) for x in range(30)}\n",
    "sqrt_set.add(3)\n",
    "sqrt_set.add(12)\n",
    "\n",
    "sqrt_set"
   ]
  },
  {
   "cell_type": "markdown",
   "metadata": {
    "id": "Nm55Lp5egj-8"
   },
   "source": [
    "#### Loops\n",
    "Iterating over a set has the same syntax as iterating over a list; however since sets are unordered, you cannot make assumptions about the order in which you visit the elements of the set:"
   ]
  },
  {
   "cell_type": "code",
   "execution_count": null,
   "metadata": {
    "colab": {
     "base_uri": "https://localhost:8080/"
    },
    "executionInfo": {
     "elapsed": 6,
     "status": "ok",
     "timestamp": 1633775142097,
     "user": {
      "displayName": "מתן וצלר",
      "photoUrl": "https://lh3.googleusercontent.com/a/default-user=s64",
      "userId": "04484460307820172778"
     },
     "user_tz": -180
    },
    "id": "JT5ZCQnWgj-9",
    "outputId": "77270f73-6bdf-4d57-ec8c-5265d63b2751"
   },
   "outputs": [],
   "source": [
    "animals = {'cat', 'dog', 'fish'}\n",
    "for i, animal in enumerate(animals):\n",
    "    print('#%d: %s' % (i + 1, animal))\n",
    "# Prints \"#1: fish\", \"#2: dog\", \"#3: cat\""
   ]
  },
  {
   "cell_type": "markdown",
   "metadata": {
    "id": "ojE_LS-ggj-9"
   },
   "source": [
    "## Tuples\n",
    "A tuple is an (immutable) ordered list of values. A tuple is in many ways similar to a list; one of the most important differences is that tuples can be used as keys in dictionaries and as elements of sets, while lists cannot. Here is a trivial example:"
   ]
  },
  {
   "cell_type": "code",
   "execution_count": null,
   "metadata": {
    "colab": {
     "base_uri": "https://localhost:8080/"
    },
    "executionInfo": {
     "elapsed": 275,
     "status": "ok",
     "timestamp": 1633773854359,
     "user": {
      "displayName": "מתן וצלר",
      "photoUrl": "https://lh3.googleusercontent.com/a/default-user=s64",
      "userId": "04484460307820172778"
     },
     "user_tz": -180
    },
    "id": "g76nApT2gnIa",
    "outputId": "984419b9-3480-4b9e-88bb-85f3c2d11074"
   },
   "outputs": [],
   "source": [
    "t = (5, 6)       # Create a tuple\n",
    "print(type(t))\n",
    "print(d[t])       \n",
    "print(d[(1, 2)])"
   ]
  },
  {
   "cell_type": "code",
   "execution_count": null,
   "metadata": {
    "colab": {
     "base_uri": "https://localhost:8080/",
     "height": 164
    },
    "executionInfo": {
     "elapsed": 273,
     "status": "error",
     "timestamp": 1633775182559,
     "user": {
      "displayName": "מתן וצלר",
      "photoUrl": "https://lh3.googleusercontent.com/a/default-user=s64",
      "userId": "04484460307820172778"
     },
     "user_tz": -180
    },
    "id": "oVm-G0pOlsZ9",
    "outputId": "ec983ad0-720a-4e8d-f274-465cf694daf5"
   },
   "outputs": [],
   "source": [
    "t[0] = 2"
   ]
  },
  {
   "cell_type": "code",
   "execution_count": null,
   "metadata": {
    "colab": {
     "base_uri": "https://localhost:8080/"
    },
    "executionInfo": {
     "elapsed": 274,
     "status": "ok",
     "timestamp": 1633775239405,
     "user": {
      "displayName": "מתן וצלר",
      "photoUrl": "https://lh3.googleusercontent.com/a/default-user=s64",
      "userId": "04484460307820172778"
     },
     "user_tz": -180
    },
    "id": "s9pJfj2klzzK",
    "outputId": "b598b3b0-8f7c-4542-9992-c990570b8e57"
   },
   "outputs": [],
   "source": [
    "def get_dimensions():\n",
    "  x = 4\n",
    "  y = 5\n",
    "\n",
    "  return x, y\n",
    "\n",
    "get_dimensions()"
   ]
  },
  {
   "cell_type": "code",
   "execution_count": null,
   "metadata": {
    "colab": {
     "base_uri": "https://localhost:8080/"
    },
    "executionInfo": {
     "elapsed": 299,
     "status": "ok",
     "timestamp": 1633775276432,
     "user": {
      "displayName": "מתן וצלר",
      "photoUrl": "https://lh3.googleusercontent.com/a/default-user=s64",
      "userId": "04484460307820172778"
     },
     "user_tz": -180
    },
    "id": "2J3ApgDkl95u",
    "outputId": "c6f65a72-03dc-4461-94f8-fca44885991e"
   },
   "outputs": [],
   "source": [
    "# tuple unpacking\n",
    "\n",
    "x, y = get_dimensions()\n",
    "\n",
    "print(x)\n",
    "print(y)"
   ]
  },
  {
   "cell_type": "code",
   "execution_count": null,
   "metadata": {
    "colab": {
     "base_uri": "https://localhost:8080/"
    },
    "executionInfo": {
     "elapsed": 273,
     "status": "ok",
     "timestamp": 1633773851072,
     "user": {
      "displayName": "מתן וצלר",
      "photoUrl": "https://lh3.googleusercontent.com/a/default-user=s64",
      "userId": "04484460307820172778"
     },
     "user_tz": -180
    },
    "id": "Q4YDiZICgj-9",
    "outputId": "51dad964-3cc0-4dff-b17c-737575b68814"
   },
   "outputs": [],
   "source": [
    "d = {(x, x + 1): x for x in range(10)}  # Create a dictionary with tuple keys\n",
    "\n",
    "d"
   ]
  },
  {
   "cell_type": "markdown",
   "metadata": {
    "id": "MvBUulSXAZMz"
   },
   "source": [
    "## Loops\n"
   ]
  },
  {
   "cell_type": "markdown",
   "metadata": {
    "id": "mAZz-OurAcgS"
   },
   "source": [
    "### For Loop"
   ]
  },
  {
   "cell_type": "markdown",
   "metadata": {
    "id": "r0zCi5n1Aejo"
   },
   "source": [
    "A **for** loop is used for iterating over a sequence (that is either a list, a tuple, a dictionary, a set, or a string).\n",
    "\n",
    "This is less like the for keyword in other programming languages, and works more like an iterator method as found in other object-orientated programming languages.\n",
    "\n",
    "With the **for** loop we can execute a set of statements, once for each item in a list, tuple, set etc."
   ]
  },
  {
   "cell_type": "code",
   "execution_count": null,
   "metadata": {
    "id": "XHzEAioQAps8"
   },
   "outputs": [],
   "source": [
    "fruits = [\"apple\", \"banana\", \"cherry\"]\n",
    "for x in fruits:\n",
    "  print(x)"
   ]
  },
  {
   "cell_type": "markdown",
   "metadata": {
    "id": "IVOkfoCHAnuY"
   },
   "source": [
    "### Looping Through a String\n",
    "Even strings are iterable objects, they contain a sequence of characters:"
   ]
  },
  {
   "cell_type": "code",
   "execution_count": null,
   "metadata": {
    "id": "weour3YQAwMU"
   },
   "outputs": [],
   "source": [
    "for x in \"banana\":\n",
    "  print(x)"
   ]
  },
  {
   "cell_type": "markdown",
   "metadata": {
    "id": "LwefGVzvAvaj"
   },
   "source": [
    "### The break Statement\n",
    "With the break statement we can stop the loop before it has looped through all the items:"
   ]
  },
  {
   "cell_type": "code",
   "execution_count": null,
   "metadata": {
    "id": "BoTLFSVUA1S9"
   },
   "outputs": [],
   "source": [
    "fruits = [\"apple\", \"banana\", \"cherry\"]\n",
    "for x in fruits:\n",
    "  print(x)\n",
    "  if x == \"banana\":\n",
    "    break"
   ]
  },
  {
   "cell_type": "markdown",
   "metadata": {
    "id": "7w7E8SjYA3FX"
   },
   "source": [
    "### The continue Statement\n",
    "With the continue statement we can stop the current iteration of the loop, and continue with the next:"
   ]
  },
  {
   "cell_type": "code",
   "execution_count": null,
   "metadata": {
    "id": "mibJMWc2A8pt"
   },
   "outputs": [],
   "source": [
    "fruits = [\"apple\", \"banana\", \"cherry\"]\n",
    "for x in fruits:\n",
    "  if x == \"banana\":\n",
    "    continue\n",
    "  print(x)"
   ]
  },
  {
   "cell_type": "markdown",
   "metadata": {
    "id": "wCR5EeCVBAah"
   },
   "source": [
    "### The range() Function\n",
    "To loop through a set of code a specified number of times, we can use the **range()** function,\n",
    "The range() function returns a sequence of numbers, starting from 0 by default, and increments by 1 (by default), and ends at a specified number."
   ]
  },
  {
   "cell_type": "code",
   "execution_count": null,
   "metadata": {
    "id": "HWnepCarBG7A"
   },
   "outputs": [],
   "source": [
    "for x in range(6):\n",
    "  print(x)\n",
    "\n",
    "# Note that range(6) is not the values of 0 to 6, but the values 0 to 5."
   ]
  },
  {
   "cell_type": "markdown",
   "metadata": {
    "id": "2Cq02Np3BIsZ"
   },
   "source": [
    "The range() function defaults to 0 as a starting value, however it is possible to specify the starting value by adding a parameter: range(2, 6), which means values from 2 to 6 (but not including 6):\n",
    "\n"
   ]
  },
  {
   "cell_type": "code",
   "execution_count": null,
   "metadata": {
    "id": "BujExbB3BPbB"
   },
   "outputs": [],
   "source": [
    "for x in range(2, 6):\n",
    "  print(x)"
   ]
  },
  {
   "cell_type": "markdown",
   "metadata": {
    "id": "hB-OXh9SBR0V"
   },
   "source": [
    "The range() function defaults to increment the sequence by 1, however it is possible to specify the increment value by adding a third parameter: range(2, 30, 3):\n",
    "\n"
   ]
  },
  {
   "cell_type": "code",
   "execution_count": null,
   "metadata": {
    "id": "xUPU4M6_BTcB"
   },
   "outputs": [],
   "source": [
    "for x in range(2, 30, 3):\n",
    "  print(x)\n"
   ]
  },
  {
   "cell_type": "markdown",
   "metadata": {
    "id": "9RbcpSrjBV_U"
   },
   "source": [
    "###Else in For Loop\n",
    "\n",
    "\n",
    "The else keyword in a for loop specifies a block of code to be executed when the loop is finished:\n",
    "\n"
   ]
  },
  {
   "cell_type": "code",
   "execution_count": null,
   "metadata": {
    "id": "ojN9xVlsBXjr"
   },
   "outputs": [],
   "source": [
    "for x in range(6):\n",
    "  print(x)\n",
    "else:\n",
    "  print(\"Finally finished!\")\n",
    "\n",
    "\n",
    "# Note: The else block will NOT be executed if the loop is stopped by a break statement."
   ]
  },
  {
   "cell_type": "markdown",
   "metadata": {
    "id": "RBEyYSEQBd3s"
   },
   "source": [
    "### Nested Loops\n",
    "A nested loop is a loop inside a loop.\n",
    "\n",
    "The \"inner loop\" will be executed one time for each iteration of the \"outer loop\":"
   ]
  },
  {
   "cell_type": "code",
   "execution_count": null,
   "metadata": {
    "id": "vNoLC9KQBRDH"
   },
   "outputs": [],
   "source": [
    "adj = [\"red\", \"big\", \"tasty\"]\n",
    "fruits = [\"apple\", \"banana\", \"cherry\"]\n",
    "\n",
    "for x in adj:\n",
    "  for y in fruits:\n",
    "    print(x, y)"
   ]
  },
  {
   "cell_type": "markdown",
   "metadata": {
    "id": "W-O8o-zkBnxs"
   },
   "source": [
    "\n",
    "### The pass Statement\n",
    "for loops cannot be empty, but if you for some reason have a for loop with no content, put in the pass statement to avoid getting an error."
   ]
  },
  {
   "cell_type": "code",
   "execution_count": null,
   "metadata": {
    "id": "Qb6HdUBdBsjz"
   },
   "outputs": [],
   "source": [
    "for x in [0, 1, 2]:\n",
    "  if x == 0:\n",
    "    pass\n",
    "  print(x)"
   ]
  },
  {
   "cell_type": "markdown",
   "metadata": {
    "id": "7OB5ttrSBwQZ"
   },
   "source": [
    "## While Loops"
   ]
  },
  {
   "cell_type": "markdown",
   "metadata": {
    "id": "iNHqVkfrBx0a"
   },
   "source": [
    "With the while loop we can execute a set of statements as long as a condition is true.\n",
    "\n"
   ]
  },
  {
   "cell_type": "code",
   "execution_count": null,
   "metadata": {
    "id": "6pwoGnVfB2Mb"
   },
   "outputs": [],
   "source": [
    "i = 1\n",
    "while i < 6:\n",
    "  print(i)\n",
    "  i += 1\n",
    "\n",
    "# Note: remember to increment i, or else the loop will continue forever."
   ]
  },
  {
   "cell_type": "markdown",
   "metadata": {
    "id": "m8FnJxZrB-ST"
   },
   "source": [
    "While loops can be used with logical operations as well\n"
   ]
  },
  {
   "cell_type": "code",
   "execution_count": null,
   "metadata": {
    "id": "FzvmTBo1CHIs"
   },
   "outputs": [],
   "source": [
    "i = 1\n",
    "j = 9\n",
    "\n",
    "while i != j and/or j != 2:\n",
    "  print(i)"
   ]
  }
 ],
 "metadata": {
  "celltoolbar": "Slideshow",
  "colab": {
   "collapsed_sections": [],
   "name": "Ex01_Basic_Python.ipynb",
   "provenance": []
  },
  "kernelspec": {
   "display_name": "Python 3",
   "language": "python",
   "name": "python3"
  },
  "language_info": {
   "codemirror_mode": {
    "name": "ipython",
    "version": 3
   },
   "file_extension": ".py",
   "mimetype": "text/x-python",
   "name": "python",
   "nbconvert_exporter": "python",
   "pygments_lexer": "ipython3",
   "version": "3.8.8"
  }
 },
 "nbformat": 4,
 "nbformat_minor": 1
}
