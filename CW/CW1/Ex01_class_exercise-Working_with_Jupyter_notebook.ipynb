{
 "cells": [
  {
   "cell_type": "markdown",
   "metadata": {
    "deletable": false,
    "editable": false,
    "id": "jfGcZ2FRsgbD",
    "nbgrader": {
     "cell_type": "markdown",
     "checksum": "aaaa792a44dc8f5c3d099185744b5fdc",
     "grade": false,
     "grade_id": "cell-ef747c700fffd7f5",
     "locked": true,
     "schema_version": 3,
     "solution": false,
     "task": false
    }
   },
   "source": [
    "# Ex01 - Working with Jupyter notebook\n",
    "This goal exercise is in order to practice the use of Jupyter notebook and understand the way the coding assignments are tested."
   ]
  },
  {
   "cell_type": "markdown",
   "metadata": {
    "deletable": false,
    "editable": false,
    "id": "VC2ot18VsgbG",
    "nbgrader": {
     "cell_type": "markdown",
     "checksum": "a8725e1662f299a3408575486bbf91de",
     "grade": false,
     "grade_id": "cell-af6f24853e92f71a",
     "locked": true,
     "schema_version": 3,
     "solution": false,
     "task": false
    }
   },
   "source": [
    "## Working on the assignment, todo and not todo:\n",
    "<b><u>Todo</u></b>:<br />\n",
    "<div class=\"alert alert-success\">\n",
    "<ul><li>✔ <b> Work by yourself</b> and submit your own assignment, <b>no pairing</b> to other students</li>\n",
    "<li>✔ Test and save your assignment - <b>submit the last tested and saved version</b></li>\n",
    "<li>✔ Work on the <b>original notebook</b> of the assignment</li>\n",
    "<li>✔ submit <b>only</b> the <b>notebook (.ipynb)</b> file</li></ul>\n",
    "</div>\n",
    "<b><u>Not todo</u></b>:<br />\n",
    "<div class=\"alert alert-danger\">\n",
    "<ul><li>✘ do <b>NOT</b> submit an <b>empty assignment</b></li>\n",
    "<li>✘ do <b>NOT submit extra files</b>, <u>unless you're asked to do so</u></li>\n",
    "<li>✘ <b>Do NOT submit a .py/.txt/.rar/.zip (or any non (.ipynb) file)</b> <u>version for the notebook</u> of the assignment</li>\n",
    "<li>✘ <b>do NOT change</b> the notebook file name</li></ul>\n",
    "</div>"
   ]
  },
  {
   "cell_type": "markdown",
   "metadata": {
    "deletable": false,
    "editable": false,
    "id": "_HdhSDOMsgbI",
    "nbgrader": {
     "cell_type": "markdown",
     "checksum": "42ec1b7c18c5e6307ad594a7c654045c",
     "grade": false,
     "grade_id": "cell-03f55207b1a7e889",
     "locked": true,
     "schema_version": 3,
     "solution": false,
     "task": false
    }
   },
   "source": [
    "# Answer code cells:\n",
    "<div class=\"alert alert-info\">\n",
    "<ul><li>Put your code one line after the '<code># YOUR CODE HERE</code>' remark</li>\n",
    "<li>You must remove the '<code>raise NotImplementedError()</code>' exception raising line (which appears a line after the above remark).</li>\n",
    "<ul><li>if you do not remove this line, it will be a sign that you didn't implement that code, and we won't be able to check your work</li></ul>\n",
    "<li>Do NOT remove any other line in the notebook</li></ul>\n",
    "</div>"
   ]
  },
  {
   "cell_type": "markdown",
   "metadata": {
    "deletable": false,
    "editable": false,
    "id": "2UIUtMW-sgbI",
    "nbgrader": {
     "cell_type": "markdown",
     "checksum": "a54657738b99b8fd7511f4c8e57e4192",
     "grade": false,
     "grade_id": "cell-df3c8dd1f42fad22",
     "locked": true,
     "schema_version": 3,
     "solution": false,
     "task": false
    }
   },
   "source": [
    "### An example code cell:\n",
    "<div class=\"alert alert-info\"><code># --------------------------- (AFTER YOUR IMPLEMENTATION) RUN THIS CODE CELL  -------------------------------------\n",
    "'''\n",
    "What do you need to do?\n",
    "\n",
    "Complete the 'method_to_implement' function to do something (some explanation ...) and\n",
    "     return that value back\n",
    "'''\n",
    "def method_to_implement():\n",
    "    # YOUR CODE HERE\n",
    "    raise NotImplementedError()\n",
    "</code></div>"
   ]
  },
  {
   "cell_type": "markdown",
   "metadata": {
    "deletable": false,
    "editable": false,
    "id": "2BCQh9C1sgbJ",
    "nbgrader": {
     "cell_type": "markdown",
     "checksum": "52bf2679b35aab1dfdc4f260b9d9b89d",
     "grade": false,
     "grade_id": "cell-9f43e38c861216f0",
     "locked": true,
     "schema_version": 3,
     "solution": false,
     "task": false
    }
   },
   "source": [
    "<h3><u>Not to do</u>:</h3><br />\n",
    "<div class=\"alert alert-danger\">\n",
    "The following is <b>not good</b>, the '<code>raise NotImplementedError()</code>' line was <u>not removed</u>. <br />\n",
    "Notes:<br />\n",
    "<ul><li>Such a case will <b>cause an exception</b>, even if you implemented the function</li>\n",
    "<li>You will <b>not get any points</b> for your implementation, even if you implemented the function</li></ul>\n",
    "</div>"
   ]
  },
  {
   "cell_type": "markdown",
   "metadata": {
    "deletable": false,
    "editable": false,
    "id": "udq76Ib7sgbK",
    "nbgrader": {
     "cell_type": "markdown",
     "checksum": "7cdc988ea7edf5b696665da608467560",
     "grade": false,
     "grade_id": "cell-37eeef9e68836559",
     "locked": true,
     "schema_version": 3,
     "solution": false,
     "task": false
    }
   },
   "source": [
    "<b>Case 1 - Not good</b>:<br/>\n",
    "<div class=\"alert alert-danger\">\n",
    "<ul><li>✘ Code not Implemented</li>\n",
    "<li>✘ No returned value</li>\n",
    "<li>✘ Did not remove the '<code>raise NotImplementedError()</code>' line</li></ul>\n",
    "<code># --------------------------- (AFTER YOUR IMPLEMENTATION) RUN THIS CODE CELL  -------------------------------------\n",
    "'''\n",
    "What do you need to do?\n",
    "\n",
    "Complete the 'method_to_implement' function to do something (some explanation ...) and\n",
    "     return that value back\n",
    "'''\n",
    "def method_to_implement():\n",
    "    # YOUR CODE HERE\n",
    "    raise NotImplementedError()\n",
    "</code></div>"
   ]
  },
  {
   "cell_type": "markdown",
   "metadata": {
    "deletable": false,
    "editable": false,
    "id": "y9O7e7ipsgbK",
    "nbgrader": {
     "cell_type": "markdown",
     "checksum": "c129472923418b881fb2b129f62a23cf",
     "grade": false,
     "grade_id": "cell-39dcee7f4743e961",
     "locked": true,
     "schema_version": 3,
     "solution": false,
     "task": false
    }
   },
   "source": [
    "<b>Case 2 - Still not good</b>:<br/>\n",
    "<div class=\"alert alert-danger\">\n",
    "<ul><li>✔ Implemented code</li>\n",
    "<li>✔ returned expected value</li>\n",
    "<li>✘ Did not remove the '<code>raise NotImplementedError()</code>' line</li></ul>\n",
    "<code># --------------------------- (AFTER YOUR IMPLEMENTATION) RUN THIS CODE CELL  -------------------------------------\n",
    "'''\n",
    "What do you need to do?\n",
    "\n",
    "Complete the 'method_to_implement' function to do something (some explanation ...) and\n",
    "     return that value back\n",
    "'''\n",
    "def method_to_implement():\n",
    "    # YOUR CODE HERE\n",
    "    raise NotImplementedError()\n",
    "    implemented code ...\n",
    "    return val\n",
    "</code></div>"
   ]
  },
  {
   "cell_type": "markdown",
   "metadata": {
    "deletable": false,
    "editable": false,
    "id": "jdmxbMgKsgbL",
    "nbgrader": {
     "cell_type": "markdown",
     "checksum": "5ec2b4cf084f2963f6fc6c2b0d656f0c",
     "grade": false,
     "grade_id": "cell-5ad0f95d53c182e8",
     "locked": true,
     "schema_version": 3,
     "solution": false,
     "task": false
    }
   },
   "source": [
    "<b>Case 3 - Still not good</b>:<br/>\n",
    "<div class=\"alert alert-danger\">\n",
    "<ul><li>✔ Removed the '<code>raise NotImplementedError()</code>' line</li>\n",
    "<li>✔ Implemented code</li>\n",
    "<li>✘ No returned value, <u>though expected</u></li></ul>\n",
    "<code># --------------------------- (AFTER YOUR IMPLEMENTATION) RUN THIS CODE CELL  -------------------------------------\n",
    "'''\n",
    "What do you need to do?\n",
    "\n",
    "Complete the 'method_to_implement' function to do something (some explanation ...) and\n",
    "     return that value back\n",
    "'''\n",
    "def method_to_implement():\n",
    "    # YOUR CODE HERE\n",
    "    implemented code ...\n",
    "</code></div>"
   ]
  },
  {
   "cell_type": "markdown",
   "metadata": {
    "deletable": false,
    "editable": false,
    "id": "R2gB1dLqsgbL",
    "nbgrader": {
     "cell_type": "markdown",
     "checksum": "7525b252951373bdbde91f7066638908",
     "grade": false,
     "grade_id": "cell-29369912322e2696",
     "locked": true,
     "schema_version": 3,
     "solution": false,
     "task": false
    }
   },
   "source": [
    "<b>Case 4 - Good</b>:<br/>\n",
    "<div class=\"alert alert-success\">\n",
    "<ul><li>✔ Removed the '<code>raise NotImplementedError()</code>' line</li>\n",
    "<li>✔ Implemented code</li>\n",
    "<li>✔ returned expected value</li></ul>\n",
    "<code># --------------------------- (AFTER YOUR IMPLEMENTATION) RUN THIS CODE CELL  -------------------------------------\n",
    "'''\n",
    "What do you need to do?\n",
    "\n",
    "Complete the 'method_to_implement' function to do something (some explanation ...) and\n",
    "     return that value back\n",
    "'''\n",
    "def method_to_implement():\n",
    "    # YOUR CODE HERE\n",
    "    implemented code ...\n",
    "</code></div>"
   ]
  },
  {
   "cell_type": "markdown",
   "metadata": {
    "deletable": false,
    "editable": false,
    "id": "OJVBXoO2sgbM",
    "nbgrader": {
     "cell_type": "markdown",
     "checksum": "1e24f14fa3f06db0e3f7317299d8dd6a",
     "grade": false,
     "grade_id": "cell-6db5423f36952843",
     "locked": true,
     "schema_version": 3,
     "solution": false,
     "task": false
    }
   },
   "source": [
    "## Preceding Step - import packages\n",
    "This step is necessary in order to use external packages. <br/><br/>"
   ]
  },
  {
   "cell_type": "code",
   "execution_count": null,
   "metadata": {
    "deletable": false,
    "editable": false,
    "id": "N4ort52HsgbM",
    "nbgrader": {
     "cell_type": "code",
     "checksum": "556adfd96182af272d84eb9092f0216b",
     "grade": false,
     "grade_id": "setups_imports",
     "locked": true,
     "schema_version": 3,
     "solution": false,
     "task": false
    }
   },
   "outputs": [],
   "source": [
    "# ------------>>>>>>>> RUN THIS CODE CELL <<<<<<<<------------\n",
    "# === CELL TYPE: IMPORTS AND SETUP \n",
    "\n",
    "import os                     # for testing use only\n",
    "from datetime import datetime # for testing use only\n",
    "import pandas as pd\n",
    "import numpy as np"
   ]
  },
  {
   "cell_type": "markdown",
   "metadata": {
    "deletable": false,
    "editable": false,
    "id": "Hr0B1BM-sgbN",
    "nbgrader": {
     "cell_type": "markdown",
     "checksum": "74df8195666b487066a232a96ba60e2c",
     "grade": false,
     "grade_id": "cell-d24e800be3a2635a",
     "locked": true,
     "schema_version": 3,
     "solution": false,
     "task": false
    }
   },
   "source": [
    "<h3>Part 1 - Student information methods:</h3><br/>\n",
    "The following 2 cells consist of 2 methods which aim to validate your details.<br/>\n",
    "Please <b>make sure to implement <u>both</u> of them</b><br/><br/>\n",
    "<table align='left'>\n",
    "    <tr><td>\n",
    "        <img src=\"./images/id-card.png\" alt=\"name and id\" width=\"150\" align='left'/>\n",
    "    </td></tr>\n",
    "</table>    "
   ]
  },
  {
   "cell_type": "markdown",
   "metadata": {
    "deletable": false,
    "editable": false,
    "id": "TcyGrxVrsgbN",
    "nbgrader": {
     "cell_type": "markdown",
     "checksum": "6b1bd413c105fe05381e67b3933bf03a",
     "grade": false,
     "grade_id": "cell-ed4fb05300633921",
     "locked": true,
     "schema_version": 3,
     "solution": false,
     "task": false
    }
   },
   "source": [
    "<u>Part 1.a. Student information methods</u>:\n",
    "<u>method name</u>: <b>myName</b>\n",
    "<pre>The following is expected:\n",
    "--- the method needs to return your full name (as a string, in English)\n",
    "    For example: assume your name is John Smith, you should write:\n",
    "    return 'John Smith'\n",
    "------------\n",
    "return value:\n",
    "- your full name (as a string), in English\n",
    "---------------------\n",
    "</pre>"
   ]
  },
  {
   "cell_type": "code",
   "execution_count": 2,
   "metadata": {
    "deletable": false,
    "id": "WmleRo4msgbO",
    "nbgrader": {
     "cell_type": "code",
     "checksum": "b3f64df648b239d17add7895843b4968",
     "grade": false,
     "grade_id": "answer_1a_myName",
     "locked": false,
     "schema_version": 3,
     "solution": true,
     "task": false
    }
   },
   "outputs": [],
   "source": [
    "# 1.a.\n",
    "# ------------>>>>>>>> RUN THIS CODE CELL <<<<<<<<------------\n",
    "# --------  (run after implementation)\n",
    "# === CODE TYPE: ANSWER \n",
    "\n",
    "def myName():\n",
    "    # ADD the return statement in the LINE AFTER: '# YOUR CODE HERE'\n",
    "    # YOUR CODE HERE\n",
    "    return 'Haim'"
   ]
  },
  {
   "cell_type": "code",
   "execution_count": 4,
   "metadata": {
    "id": "IW88FxIXsgbO"
   },
   "outputs": [
    {
     "name": "stdout",
     "output_type": "stream",
     "text": [
      "Haim\n"
     ]
    }
   ],
   "source": [
    "# 1.a.\n",
    "# ------------>>>>>>>> RUN THIS CODE CELL <<<<<<<<------------\n",
    "# --------  (run after implementation)\n",
    "# === CODE TYPE: SELF TESTING\n",
    "# Use the following code to test your implementation:\n",
    "\n",
    "student_name = myName()\n",
    "# YOUR CODE HERE\n"
   ]
  },
  {
   "cell_type": "code",
   "execution_count": null,
   "metadata": {},
   "outputs": [],
   "source": []
  },
  {
   "cell_type": "code",
   "execution_count": null,
   "metadata": {
    "id": "EnPbtAoxsgbO"
   },
   "outputs": [],
   "source": [
    "# 1.a.\n",
    "# ------------>>>>>>>> RUN THIS CODE CELL <<<<<<<<------------\n",
    "# --------  (run after implementation, if used)\n",
    "# === CODE TYPE: SELF TESTING\n",
    "# Add your additional tests here if needed:\n",
    "\n",
    "# YOUR CODE HERE\n"
   ]
  },
  {
   "cell_type": "markdown",
   "metadata": {
    "deletable": false,
    "editable": false,
    "id": "IU-PKVSPsgbP",
    "nbgrader": {
     "cell_type": "markdown",
     "checksum": "2da78ea7b845be5f289c0e89437fe138",
     "grade": false,
     "grade_id": "cell-3dfa9f0b26e890b8",
     "locked": true,
     "schema_version": 3,
     "solution": false,
     "task": false
    }
   },
   "source": [
    "<u>Part 1.b. Student information methods</u>:<br/>\n",
    "<u>method name</u>: <b>myId</b><br/>\n",
    "<pre>\n",
    "The following is expected:\n",
    "--- the method needs to return your ID number (as an integer number)\n",
    "    For example: assume your ID number is 1234, you should write:\n",
    "    return 1234\n",
    "    * Note: the ID must fit your ID in Moodle. \n",
    "------------\n",
    "return value:\n",
    "- your ID number (as an integer number)\n",
    "------------\n",
    "</pre>"
   ]
  },
  {
   "cell_type": "code",
   "execution_count": null,
   "metadata": {
    "deletable": false,
    "id": "g-dA8ovCsgbP",
    "nbgrader": {
     "cell_type": "code",
     "checksum": "50aab0922b4931db9fff533c0e284178",
     "grade": false,
     "grade_id": "answer_1b_myId",
     "locked": false,
     "schema_version": 3,
     "solution": true,
     "task": false
    }
   },
   "outputs": [],
   "source": [
    "# 1.b.\n",
    "# ------------>>>>>>>> RUN THIS CODE CELL <<<<<<<<------------\n",
    "# --------  (run after implementation)\n",
    "# === CODE TYPE: ANSWER \n",
    "\n",
    "def myId():\n",
    "    # YOUR CODE HERE\n",
    "    raise NotImplementedError()"
   ]
  },
  {
   "cell_type": "code",
   "execution_count": null,
   "metadata": {
    "id": "XW7RfgQ8sgbP"
   },
   "outputs": [],
   "source": [
    "# 1.b.\n",
    "# ------------>>>>>>>> RUN THIS CODE CELL <<<<<<<<------------\n",
    "# --------  (run after implementation)\n",
    "# === CODE TYPE: SELF TESTING\n",
    "# Use the following code to test your implementation:\n",
    "\n",
    "student_id = myId()\n",
    "# YOUR CODE HERE\n"
   ]
  },
  {
   "cell_type": "code",
   "execution_count": null,
   "metadata": {
    "id": "3U66X6XesgbP"
   },
   "outputs": [],
   "source": [
    "# 1.b.\n",
    "# ------------>>>>>>>> RUN THIS CODE CELL <<<<<<<<------------\n",
    "# --------  (run after implementation, if used)\n",
    "# === CODE TYPE: SELF TESTING\n",
    "# Add your additional tests here if needed:\n",
    "\n",
    "# YOUR CODE HERE\n"
   ]
  },
  {
   "cell_type": "code",
   "execution_count": null,
   "metadata": {
    "deletable": false,
    "editable": false,
    "id": "xPTe5Vb_sgbQ",
    "nbgrader": {
     "cell_type": "code",
     "checksum": "c3dfa540eb436c56242c1968c8461afa",
     "grade": true,
     "grade_id": "test1_1-student-info",
     "locked": true,
     "points": 0.5,
     "schema_version": 3,
     "solution": false,
     "task": false
    }
   },
   "outputs": [],
   "source": [
    "# 1.\n",
    "# ------------>>>>>>>> RUN THIS CODE CELL <<<<<<<<------------\n",
    "# --------  (run only)\n",
    "# === CODE TYPE: GRADED TEST \n",
    "\n",
    "print (\"Part 1 (1.a., 1.b.) - Test 1 (... points)\")\n",
    "print (\"\\t---> Testing the implementation of 'myName' and 'myId' ...\\n\")\n",
    "\n",
    "# dataframe for output:\n",
    "dt1 = datetime.now()\n",
    "df_output = pd.DataFrame(index=['student_name','student_id'],columns=['value', 'type', 'date_time'])\n",
    "out_file_name = 'a0_jupyter_notebook_assignment_output.csv'\n",
    "\n",
    "try:\n",
    "    aName = myName()\n",
    "    aId = myId()\n",
    "except Exception as e:\n",
    "    print ('You probably have a syntax or implementation error, we got the following exception:')\n",
    "    print ('\\tError Message:',str(e))\n",
    "    print ('Try fixing your implementation')\n",
    "    raise     \n",
    "    \n",
    "assert aName is not None, 'no return student name'\n",
    "assert aId is not None, 'no return student id'\n",
    "\n",
    "df_output['value'] = [aName, aId]\n",
    "df_output['type']  = [type(aName), type(aId)]\n",
    "dt2 = datetime.now()\n",
    "df_output['date_time']  = [dt1.strftime('%Y-%m-%d %H:%M:%S'), dt2.strftime('%Y-%m-%d %H:%M:%S')]\n",
    "df_output.to_csv(out_file_name)\n",
    "print ('Output dataframe:')\n",
    "print ('-----------------')\n",
    "print (df_output)\n",
    "\n",
    "print (\"\\nGood Job!\\nYou've passed the 1st test for the implementation of 'myName' and 'myId'  :-)\")\n"
   ]
  },
  {
   "cell_type": "code",
   "execution_count": null,
   "metadata": {
    "deletable": false,
    "editable": false,
    "id": "kQ79rTXTsgbQ",
    "nbgrader": {
     "cell_type": "code",
     "checksum": "c2e9f924aa791b8266fb325b643dd2c4",
     "grade": true,
     "grade_id": "test1_2-student-info",
     "locked": true,
     "points": 0.5,
     "schema_version": 3,
     "solution": false,
     "task": false
    }
   },
   "outputs": [],
   "source": [
    "# 1.\n",
    "# ------------>>>>>>>> RUN THIS CODE CELL <<<<<<<<------------\n",
    "# --------  (run only)\n",
    "# === CODE TYPE: GRADED TEST \n",
    "\n",
    "print (\"Part 1 (1.a., 1.b.) - Test 2 (... points)\")\n",
    "print (\"\\t---> Testing the implementation of 'myName' and 'myId' ...\\n\")\n",
    "\n",
    "try:\n",
    "    aName = myName()\n",
    "    aId = myId()\n",
    "except Exception as e:\n",
    "    print ('You probably have a syntax or implementation error, we got the following exception:')\n",
    "    print ('\\tError Message:',str(e))\n",
    "    print ('Try fixing your implementation')\n",
    "    raise \n",
    "    \n",
    "assert type(aName) is str, \"name is not a string: %r\" % aName\n",
    "assert type(aId) is int, \"id is not an integer: %r\" % aId\n",
    "\n",
    "print (\"\\nGood Job!\\nYou've passed the 2nd test for the implementation of 'myName' and 'myId'  :-)\")"
   ]
  },
  {
   "cell_type": "code",
   "execution_count": null,
   "metadata": {
    "deletable": false,
    "editable": false,
    "id": "UDdZBewksgbQ",
    "nbgrader": {
     "cell_type": "code",
     "checksum": "b210ff4db7ed44fa71fbbc175c8f88de",
     "grade": false,
     "grade_id": "additional_testing",
     "locked": true,
     "schema_version": 3,
     "solution": false,
     "task": false
    }
   },
   "outputs": [],
   "source": [
    "# 1.\n",
    "# ------------>>>>>>>> RUN THIS CODE CELL <<<<<<<<------------\n",
    "# --------  (run only)\n",
    "# === CODE TYPE: INFO\n",
    "\n",
    "print (\"Part 1 (1.a., 1.b.) - Test 2 (1 point)\")\n",
    "print (\"\\t---> Testing the implementation of 'myName' and 'myId' ...\\n\")\n",
    "\n",
    "print (\"\\nGood Job!\\nAdditional testing will be done  :-)\")"
   ]
  }
 ],
 "metadata": {
  "colab": {
   "collapsed_sections": [],
   "name": "Ex01_class_exercise-Working_with_Jupyter_notebook.ipynb",
   "provenance": []
  },
  "kernelspec": {
   "display_name": "Python 3 (ipykernel)",
   "language": "python",
   "name": "python3"
  },
  "language_info": {
   "codemirror_mode": {
    "name": "ipython",
    "version": 3
   },
   "file_extension": ".py",
   "mimetype": "text/x-python",
   "name": "python",
   "nbconvert_exporter": "python",
   "pygments_lexer": "ipython3",
   "version": "3.9.7"
  }
 },
 "nbformat": 4,
 "nbformat_minor": 1
}
